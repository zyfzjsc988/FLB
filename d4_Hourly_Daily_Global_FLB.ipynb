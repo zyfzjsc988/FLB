{
 "cells": [
  {
   "cell_type": "markdown",
   "metadata": {
    "collapsed": true
   },
   "source": [
    "## windows changing to count FLB\n",
    "We need three types of FLB to check.\n",
    "- Global FLB for each game\n",
    "- Daily FLB for each game\n",
    "- Hourly FLB for each game\n",
    "\n",
    "### count by windows\n",
    "set window's width, go through whole set and group all obvers in this windows to count. Calculate the percentage of winners in this windows as this of median one.\n",
    "\n",
    "median $\\in$ $[ 0, 1 ]$"
   ]
  },
  {
   "cell_type": "code",
   "execution_count": 1,
   "metadata": {
    "ExecuteTime": {
     "end_time": "2018-07-17T21:35:48.088724Z",
     "start_time": "2018-07-17T21:35:46.446725Z"
    },
    "collapsed": true
   },
   "outputs": [],
   "source": [
    "%matplotlib inline\n",
    "import pandas as pd\n",
    "import os\n",
    "import matplotlib.pyplot as plt\n",
    "import numpy as np\n",
    "import math\n",
    "folder_path = '../../datasets/rawdata'\n",
    "prob_folder_path = '../../datasets/probability'\n",
    "rev_prob_folder_path = '../../datasets/reverse_probability'\n",
    "global_FLB_folder_path = '../../datasets/FLB/global_FLB'\n",
    "daily_FLB_folder_path = '../../datasets/FLB/daily_FLB'\n",
    "hourly_FLB_folder_path = '../../datasets/FLB/hourly_FLB'\n",
    "games = { 'baseball':'/baseball/mlb',\n",
    "         'iceball': '/iceball/nhl',\n",
    "         'soccer_champion':'/soccer/champ_league',\n",
    "         'scoccer_england':'/soccer/epl',\n",
    "         'soccer_major':'/soccer/majorleague'}\n",
    "# folder name is games, result name is games_results.csv\n",
    "\n",
    "games_list = ['baseball','iceball']\n",
    "soccer_list = ['soccer_champion','scoccer_england','soccer_major']"
   ]
  },
  {
   "cell_type": "markdown",
   "metadata": {},
   "source": [
    "## timely FLB"
   ]
  },
  {
   "cell_type": "markdown",
   "metadata": {},
   "source": [
    "编码步骤：\n",
    "- 改变时间标度\n",
    "- 统计最长时间\n",
    "- 以天为单位统计FLB （同时去除极端值） 文件名格式： game/day_1\n",
    "- 以hour为单位统计FLB （同时去除极端值） 文件名格式 game/hour_1\n",
    "- 计算标准化面积\n",
    "- 用R构建检查表。修改后的文件放到 checked_目录下。"
   ]
  },
  {
   "cell_type": "code",
   "execution_count": 11,
   "metadata": {
    "ExecuteTime": {
     "end_time": "2018-07-17T22:02:27.208581Z",
     "start_time": "2018-07-17T22:02:26.986611Z"
    },
    "collapsed": false
   },
   "outputs": [],
   "source": [
    "def change_timescale(dataframe):\n",
    "    \"\"\"\n",
    "    reverse time stamp and add day, hour\n",
    "    input: dataframe: time. odds\n",
    "    output: dataframe: time to end. odds. day to end. hour to end.\n",
    "    \"\"\"\n",
    "    dataframe.index = pd.to_datetime(dataframe.index)\n",
    "    end  = dataframe.index[-1]\n",
    "    dataframe['duration'] = [int((end - x).total_seconds()) for x in dataframe.index]\n",
    "    dataframe = dataframe.set_index('duration')\n",
    "    dataframe.sort_index(inplace=True)\n",
    "    dataframe['hour'] = [int(x/3600) for x in dataframe.index]\n",
    "    dataframe['day'] = [int(x/(60*60*24)) for x in dataframe.index]\n",
    "    duration = dataframe.index[-1]\n",
    "#     print(duration)\n",
    "    return duration, dataframe\n",
    "\n",
    "def generate_percentage_winners(count_df,windows_weight):\n",
    "    \"\"\"\n",
    "    return price-winrate\n",
    "    \"\"\"\n",
    "    perc_winnners_obv = pd.DataFrame(columns = ['price','perc_winner'])\n",
    "    medians = np.array(range(101))/100\n",
    "    total_num = len(count_df)\n",
    "    for median in medians:\n",
    "        window_low = median - windows_weight\n",
    "        window_high = median + windows_weight\n",
    "        obv_in_windows = count_df[(count_df.iloc[:,0]<=window_high) & (count_df.iloc[:,0]>=window_low)]\n",
    "        if len(obv_in_windows)< 0.05 * total_num or len(obv_in_windows) < 20:\n",
    "            continue\n",
    "        win_obv_in_windows = obv_in_windows[obv_in_windows['HOME_WIN']==True]\n",
    "        percentage_ = round(len(win_obv_in_windows)/len(obv_in_windows),3)\n",
    "#         perc_winnners_obv[median] = percentage_\n",
    "        perc_winnners_obv = perc_winnners_obv.append({'price':median,'perc_winner':percentage_},ignore_index =True)\n",
    "    perc_winnners_obv = perc_winnners_obv.sort_values(by=['price']).reset_index(drop=True)\n",
    "    return perc_winnners_obv\n",
    "    \n",
    "def accounting(dataframe):\n",
    "    \"\"\"\n",
    "    accounting normalized FLB\n",
    "    input:dataframe\n",
    "    return FLB\n",
    "    \"\"\"\n",
    "    dataframe = dataframe.set_index('price')\n",
    "    start = dataframe.index[0]\n",
    "    end = dataframe.index[-1]\n",
    "    dataframe = dataframe.reindex(np.arange(start,end,.01),method='ffill')\n",
    "    dataframe['abs_bias'] = abs(dataframe['perc_winner']-dataframe.index)\n",
    "    return dataframe['abs_bias'].sum()/((end-start)**2)*0.01"
   ]
  },
  {
   "cell_type": "markdown",
   "metadata": {},
   "source": [
    "### baseball and Ice hoke"
   ]
  },
  {
   "cell_type": "code",
   "execution_count": 8,
   "metadata": {
    "ExecuteTime": {
     "end_time": "2018-07-17T12:43:25.355771Z",
     "start_time": "2018-07-17T11:54:44.092861Z"
    },
    "collapsed": false
   },
   "outputs": [
    {
     "name": "stdout",
     "output_type": "stream",
     "text": [
      "iceball\n",
      "152 6\n"
     ]
    },
    {
     "data": {
      "text/plain": [
       "'\\n    daily FLB\\n    '"
      ]
     },
     "execution_count": 8,
     "metadata": {},
     "output_type": "execute_result"
    },
    {
     "data": {
      "text/plain": [
       "<matplotlib.axes._subplots.AxesSubplot at 0x1cba079b3c8>"
      ]
     },
     "execution_count": 8,
     "metadata": {},
     "output_type": "execute_result"
    },
    {
     "data": {
      "text/plain": [
       "'\\n    hourly FLB\\n    '"
      ]
     },
     "execution_count": 8,
     "metadata": {},
     "output_type": "execute_result"
    },
    {
     "data": {
      "text/plain": [
       "<matplotlib.axes._subplots.AxesSubplot at 0x1cba07f9c18>"
      ]
     },
     "execution_count": 8,
     "metadata": {},
     "output_type": "execute_result"
    },
    {
     "data": {
      "image/png": "[encoded data removed]",
      "text/plain": [
       "<Figure size 432x288 with 1 Axes>"
      ]
     },
     "metadata": {},
     "output_type": "display_data"
    },
    {
     "data": {
      "image/png": "[encoded data removed]",
      "text/plain": [
       "<Figure size 432x288 with 1 Axes>"
      ]
     },
     "metadata": {},
     "output_type": "display_data"
    }
   ],
   "source": [
    "windows_weight = 0.1\n",
    "for game_name in games_list[:1]:\n",
    "    results_df = pd.read_csv(folder_path + games[game_name] + '_results.csv').set_index('Unnamed: 0')\n",
    "    print(game_name)\n",
    "    duration_max = 0\n",
    "    index_list = [int(i[:-4]) for i in os.listdir(prob_folder_path + games[game_name])]\n",
    "    for index in index_list:\n",
    "        series_df = pd.read_csv(prob_folder_path + games[game_name]+'/'+str(index)+'.csv').set_index('time')\n",
    "        if len(series_df) < 2:\n",
    "            continue    \n",
    "        duration, series_df = change_timescale(series_df)\n",
    "        \n",
    "        HOME_WIN = False\n",
    "        if results_df.loc[index,'home_score']> results_df.loc[index,'away_score']:\n",
    "            HOME_WIN = True\n",
    "        series_df['HOME_WIN'] = HOME_WIN\n",
    "        \n",
    "        series_df.to_csv(rev_prob_folder_path+games[game_name]+'/'+str(index)+'.csv')\n",
    "        \n",
    "        if duration > duration_max:\n",
    "            duration_max = duration\n",
    "    hour_max = int(duration_max/60./60) #总长度\n",
    "    day_max = int(duration_max/60./60/24) # 总长度\n",
    "    print(hour_max,day_max)   \n",
    "    \n",
    "    \n",
    "    index_list = [int(i[:-4]) for i in os.listdir(rev_prob_folder_path + games[game_name])]\n",
    "    \"\"\"\n",
    "    daily FLB\n",
    "    \"\"\"\n",
    "    daily_FLB = pd.DataFrame() # to save hourly_FLB\n",
    "    for day2end in range(day_max):\n",
    "        day_countdf = pd.DataFrame() # to save hourly countdf\n",
    "        for index in index_list:\n",
    "            series_df = pd.read_csv(rev_prob_folder_path + games[game_name]+'/'+str(index)+'.csv').set_index('duration')\n",
    "            series_df = series_df[series_df['day']==day2end]\n",
    "            if len(series_df)>0:\n",
    "                day_countdf = pd.concat([day_countdf,series_df[['home','HOME_WIN']]],ignore_index=True)\n",
    "        if len(day_countdf) < 20:\n",
    "            continue\n",
    "        day_df = generate_percentage_winners(day_countdf,windows_weight)\n",
    "        \n",
    "        day_df.to_csv(daily_FLB_folder_path + '/' +game_name+'/day' + '_' +str(day2end)+'.csv')\n",
    "\n",
    "#     #     accounting hourly FLB\n",
    "        FLB = accounting(day_df)\n",
    "#         break\n",
    "        daily_FLB = daily_FLB.append({'day2end':day2end,'FLB':FLB},ignore_index =True)\n",
    "    daily_FLB.plot.scatter(x=1,y=0)\n",
    "    daily_FLB.to_csv(daily_FLB_folder_path+'/'+game_name+'.csv')\n",
    "    \n",
    "    \"\"\"\n",
    "    hourly FLB\n",
    "    \"\"\"\n",
    "    hourly_FLB = pd.DataFrame() # to save hourly_FLB\n",
    "    for hour2end in range(hour_max)[:50]:\n",
    "        hour_countdf = pd.DataFrame() # to save hourly countdf\n",
    "        for index in index_list:\n",
    "            series_df = pd.read_csv(rev_prob_folder_path + games[game_name]+'/'+str(index)+'.csv').set_index('duration')\n",
    "            series_df = series_df[series_df['hour']==hour2end]\n",
    "            if len(series_df)>0:\n",
    "                hour_countdf = pd.concat([hour_countdf,series_df[['home','HOME_WIN']]],ignore_index=True)\n",
    "        if len(hour_countdf) < 20:\n",
    "            continue\n",
    "        hour_df = generate_percentage_winners(hour_countdf,windows_weight)\n",
    "        hour_df.to_csv(hourly_FLB_folder_path + '/' +game_name+'/hour' + '_' +str(hour2end)+'.csv')\n",
    "        if len(hour_df)<2:\n",
    "            continue\n",
    "#     #     accounting hourly FLB\n",
    "        FLB = accounting(hour_df)\n",
    "#         break\n",
    "        hourly_FLB = hourly_FLB.append({'hour2end':hour2end,'FLB':FLB},ignore_index =True)\n",
    "    hourly_FLB.plot.scatter(x=1,y=0)\n",
    "    hourly_FLB.to_csv(hourly_FLB_folder_path+'/'+game_name+'.csv')"
   ]
  },
  {
   "cell_type": "code",
   "execution_count": 21,
   "metadata": {
    "ExecuteTime": {
     "end_time": "2018-07-17T18:03:50.073166Z",
     "start_time": "2018-07-17T18:03:11.309168Z"
    },
    "collapsed": false
   },
   "outputs": [
    {
     "data": {
      "text/plain": [
       "'\\nhourly FLB\\n'"
      ]
     },
     "execution_count": 21,
     "metadata": {},
     "output_type": "execute_result"
    },
    {
     "name": "stdout",
     "output_type": "stream",
     "text": [
      "0.5130612244897957\n"
     ]
    }
   ],
   "source": [
    "\"\"\"\n",
    "hourly FLB\n",
    "\"\"\"\n",
    "game_name = 'iceball'\n",
    "hour2end = 50\n",
    "hour_countdf = pd.DataFrame() # to save hourly countdf\n",
    "index_list = [int(i[:-4]) for i in os.listdir(rev_prob_folder_path + games[game_name])]\n",
    "for index in index_list:\n",
    "    series_df = pd.read_csv(rev_prob_folder_path + games[game_name]+'/'+str(index)+'.csv').set_index('duration')\n",
    "    series_df = series_df[series_df['hour']>=hour2end]\n",
    "    if len(series_df)>0:\n",
    "        hour_countdf = pd.concat([hour_countdf,series_df[['home','HOME_WIN']]],ignore_index=True)\n",
    "hour_df = generate_percentage_winners(hour_countdf,windows_weight)\n",
    "hour_df.to_csv(hourly_FLB_folder_path + '/' +game_name+'/hour' + '_' +str(hour2end)+'.csv')\n",
    "FLB = accounting(hour_df)\n",
    "print(FLB)"
   ]
  },
  {
   "cell_type": "code",
   "execution_count": 20,
   "metadata": {
    "ExecuteTime": {
     "end_time": "2018-07-17T22:06:53.177985Z",
     "start_time": "2018-07-17T22:06:52.342987Z"
    },
    "collapsed": false
   },
   "outputs": [
    {
     "data": {
      "text/plain": [
       "'\\nhourly FLB\\n'"
      ]
     },
     "execution_count": 20,
     "metadata": {},
     "output_type": "execute_result"
    },
    {
     "data": {
      "text/plain": [
       "<matplotlib.axes._subplots.AxesSubplot at 0x168265267b8>"
      ]
     },
     "execution_count": 20,
     "metadata": {},
     "output_type": "execute_result"
    },
    {
     "data": {
      "image/png": "[encoded data removed]",
      "text/plain": [
       "<Figure size 432x288 with 1 Axes>"
      ]
     },
     "metadata": {},
     "output_type": "display_data"
    }
   ],
   "source": [
    "\"\"\"\n",
    "hourly FLB\n",
    "\"\"\"\n",
    "game_name = 'baseball'\n",
    "hourly_FLB = pd.DataFrame() # to save hourly_FLB\n",
    "for hour2end in range(36):\n",
    "    hour_df = pd.read_csv(hourly_FLB_folder_path + '/' +game_name+'/hour' + '_' +str(hour2end)+'.csv').set_index('Unnamed: 0')\n",
    "    FLB = accounting(hour_df)\n",
    "    hourly_FLB = hourly_FLB.append({'hour2end':hour2end,'FLB':FLB},ignore_index =True)\n",
    "hourly_FLB.plot.scatter(x=1,y=0)\n",
    "hourly_FLB.to_csv(hourly_FLB_folder_path+'/'+game_name+'.csv')"
   ]
  },
  {
   "cell_type": "code",
   "execution_count": 30,
   "metadata": {
    "ExecuteTime": {
     "end_time": "2018-07-17T18:21:46.267080Z",
     "start_time": "2018-07-17T18:20:13.211085Z"
    },
    "collapsed": false
   },
   "outputs": [
    {
     "data": {
      "text/plain": [
       "'\\nhourly FLB\\n'"
      ]
     },
     "execution_count": 30,
     "metadata": {},
     "output_type": "execute_result"
    },
    {
     "name": "stdout",
     "output_type": "stream",
     "text": [
      "0.08528395061728421\n"
     ]
    }
   ],
   "source": [
    "\"\"\"\n",
    "hourly FLB\n",
    "\"\"\"\n",
    "game_name = 'baseball'\n",
    "hour2end = 4\n",
    "hour_countdf = pd.DataFrame() # to save hourly countdf\n",
    "index_list = [int(i[:-4]) for i in os.listdir(rev_prob_folder_path + games[game_name])]\n",
    "for index in index_list:\n",
    "    series_df = pd.read_csv(rev_prob_folder_path + games[game_name]+'/'+str(index)+'.csv').set_index('duration')\n",
    "    series_df = series_df[series_df['hour']>=hour2end]\n",
    "    if len(series_df)>0:\n",
    "        hour_countdf = pd.concat([hour_countdf,series_df[['home','HOME_WIN']]],ignore_index=True)\n",
    "hour_df = generate_percentage_winners(hour_countdf,windows_weight)\n",
    "hour_df.to_csv(daily_FLB_folder_path + '/' +game_name+'/day' + '_' +str(hour2end)+'.csv')\n",
    "FLB = accounting(hour_df)\n",
    "print(FLB)"
   ]
  },
  {
   "cell_type": "code",
   "execution_count": 22,
   "metadata": {
    "ExecuteTime": {
     "end_time": "2018-07-17T22:07:06.806459Z",
     "start_time": "2018-07-17T22:07:06.188460Z"
    },
    "collapsed": false
   },
   "outputs": [
    {
     "data": {
      "text/plain": [
       "'\\ndaily FLB\\n'"
      ]
     },
     "execution_count": 22,
     "metadata": {},
     "output_type": "execute_result"
    },
    {
     "data": {
      "text/plain": [
       "<matplotlib.axes._subplots.AxesSubplot at 0x16826473b00>"
      ]
     },
     "execution_count": 22,
     "metadata": {},
     "output_type": "execute_result"
    },
    {
     "data": {
      "image/png": "[encoded data removed]",
      "text/plain": [
       "<Figure size 432x288 with 1 Axes>"
      ]
     },
     "metadata": {},
     "output_type": "display_data"
    }
   ],
   "source": [
    "\"\"\"\n",
    "daily FLB\n",
    "\"\"\"\n",
    "game_name = 'baseball'\n",
    "hourly_FLB = pd.DataFrame() # to save hourly_FLB\n",
    "for hour2end in range(5):\n",
    "    hour_df = pd.read_csv(daily_FLB_folder_path + '/' +game_name+'/day' + '_' +str(hour2end)+'.csv').set_index('Unnamed: 0')\n",
    "    FLB = accounting(hour_df)\n",
    "    hourly_FLB = hourly_FLB.append({'day2end':hour2end,'FLB':FLB},ignore_index =True)\n",
    "hourly_FLB.plot.scatter(x=1,y=0)\n",
    "hourly_FLB.to_csv(daily_FLB_folder_path+'/'+game_name+'.csv')"
   ]
  },
  {
   "cell_type": "markdown",
   "metadata": {},
   "source": [
    "### soccer"
   ]
  },
  {
   "cell_type": "code",
   "execution_count": 3,
   "metadata": {
    "ExecuteTime": {
     "end_time": "2018-07-16T21:06:38.054169Z",
     "start_time": "2018-07-16T21:04:31.494184Z"
    },
    "collapsed": false
   },
   "outputs": [
    {
     "name": "stdout",
     "output_type": "stream",
     "text": [
      "soccer_champion\n",
      "scoccer_england\n",
      "soccer_major\n",
      "1712 71\n"
     ]
    }
   ],
   "source": [
    "duration_max = 0\n",
    "for game_name in soccer_list:\n",
    "    print(game_name)\n",
    "    results_df = pd.read_csv(folder_path + games[game_name] + '_results.csv').set_index('Unnamed: 0')\n",
    "\n",
    "    index_list = [int(i[:-4]) for i in os.listdir(prob_folder_path + games[game_name]+'_normalized')]\n",
    "    for index in index_list:\n",
    "        series_df = pd.read_csv(prob_folder_path + games[game_name]+'/'+str(index)+'.csv').set_index('time')\n",
    "        if len(series_df) < 2:\n",
    "            continue    \n",
    "        duration, series_df = change_timescale(series_df)\n",
    "        \n",
    "        HOME_WIN = False\n",
    "        if results_df.loc[index,'home_score']> results_df.loc[index,'away_score']:\n",
    "            HOME_WIN = True\n",
    "        series_df['HOME_WIN'] = HOME_WIN\n",
    "        \n",
    "        series_df.to_csv(rev_prob_folder_path+games[game_name]+'/'+str(index)+'.csv')\n",
    "        \n",
    "        if duration > duration_max:\n",
    "            duration_max = duration\n",
    "hour_max = int(duration_max/60./60) #总长度\n",
    "day_max = int(duration_max/60./60/24) # 总长度\n",
    "print(hour_max,day_max)   \n"
   ]
  },
  {
   "cell_type": "code",
   "execution_count": 5,
   "metadata": {
    "ExecuteTime": {
     "end_time": "2018-07-17T00:06:56.319229Z",
     "start_time": "2018-07-16T21:11:32.963611Z"
    },
    "collapsed": false
   },
   "outputs": [
    {
     "data": {
      "text/plain": [
       "'\\ndaily FLB\\n'"
      ]
     },
     "execution_count": 5,
     "metadata": {},
     "output_type": "execute_result"
    },
    {
     "data": {
      "text/plain": [
       "<matplotlib.axes._subplots.AxesSubplot at 0x1cba0891160>"
      ]
     },
     "execution_count": 5,
     "metadata": {},
     "output_type": "execute_result"
    },
    {
     "data": {
      "text/plain": [
       "'\\nhourly FLB\\n'"
      ]
     },
     "execution_count": 5,
     "metadata": {},
     "output_type": "execute_result"
    },
    {
     "name": "stderr",
     "output_type": "stream",
     "text": [
      "C:\\Users\\surface\\Anaconda2\\envs\\tensorflow\\lib\\site-packages\\ipykernel_launcher.py:49: RuntimeWarning: invalid value encountered in double_scalars\n"
     ]
    },
    {
     "ename": "IndexError",
     "evalue": "index 0 is out of bounds for axis 0 with size 0",
     "output_type": "error",
     "traceback": [
      "\u001b[1;31m---------------------------------------------------------------------------\u001b[0m",
      "\u001b[1;31mIndexError\u001b[0m                                Traceback (most recent call last)",
      "\u001b[1;32m<ipython-input-5-c62a8b205524>\u001b[0m in \u001b[0;36m<module>\u001b[1;34m()\u001b[0m\n\u001b[0;32m     45\u001b[0m \u001b[1;33m\u001b[0m\u001b[0m\n\u001b[0;32m     46\u001b[0m \u001b[1;31m#     #     accounting hourly FLB\u001b[0m\u001b[1;33m\u001b[0m\u001b[1;33m\u001b[0m\u001b[0m\n\u001b[1;32m---> 47\u001b[1;33m     \u001b[0mFLB\u001b[0m \u001b[1;33m=\u001b[0m \u001b[0maccounting\u001b[0m\u001b[1;33m(\u001b[0m\u001b[0mhour_df\u001b[0m\u001b[1;33m)\u001b[0m\u001b[1;33m\u001b[0m\u001b[0m\n\u001b[0m\u001b[0;32m     48\u001b[0m \u001b[1;31m#         break\u001b[0m\u001b[1;33m\u001b[0m\u001b[1;33m\u001b[0m\u001b[0m\n\u001b[0;32m     49\u001b[0m     \u001b[0mhourly_FLB\u001b[0m \u001b[1;33m=\u001b[0m \u001b[0mhourly_FLB\u001b[0m\u001b[1;33m.\u001b[0m\u001b[0mappend\u001b[0m\u001b[1;33m(\u001b[0m\u001b[1;33m{\u001b[0m\u001b[1;34m'hour2end'\u001b[0m\u001b[1;33m:\u001b[0m\u001b[0mhour2end\u001b[0m\u001b[1;33m,\u001b[0m\u001b[1;34m'FLB'\u001b[0m\u001b[1;33m:\u001b[0m\u001b[0mFLB\u001b[0m\u001b[1;33m}\u001b[0m\u001b[1;33m,\u001b[0m\u001b[0mignore_index\u001b[0m \u001b[1;33m=\u001b[0m\u001b[1;32mTrue\u001b[0m\u001b[1;33m)\u001b[0m\u001b[1;33m\u001b[0m\u001b[0m\n",
      "\u001b[1;32m<ipython-input-2-3bf92a00b2b5>\u001b[0m in \u001b[0;36maccounting\u001b[1;34m(dataframe)\u001b[0m\n\u001b[0;32m     43\u001b[0m     \"\"\"\n\u001b[0;32m     44\u001b[0m     \u001b[0mdataframe\u001b[0m \u001b[1;33m=\u001b[0m \u001b[0mdataframe\u001b[0m\u001b[1;33m.\u001b[0m\u001b[0mset_index\u001b[0m\u001b[1;33m(\u001b[0m\u001b[1;34m'price'\u001b[0m\u001b[1;33m)\u001b[0m\u001b[1;33m\u001b[0m\u001b[0m\n\u001b[1;32m---> 45\u001b[1;33m     \u001b[0mstart\u001b[0m \u001b[1;33m=\u001b[0m \u001b[0mdataframe\u001b[0m\u001b[1;33m.\u001b[0m\u001b[0mindex\u001b[0m\u001b[1;33m[\u001b[0m\u001b[1;36m0\u001b[0m\u001b[1;33m]\u001b[0m\u001b[1;33m\u001b[0m\u001b[0m\n\u001b[0m\u001b[0;32m     46\u001b[0m     \u001b[0mend\u001b[0m \u001b[1;33m=\u001b[0m \u001b[0mdataframe\u001b[0m\u001b[1;33m.\u001b[0m\u001b[0mindex\u001b[0m\u001b[1;33m[\u001b[0m\u001b[1;33m-\u001b[0m\u001b[1;36m1\u001b[0m\u001b[1;33m]\u001b[0m\u001b[1;33m\u001b[0m\u001b[0m\n\u001b[0;32m     47\u001b[0m     \u001b[0mdataframe\u001b[0m \u001b[1;33m=\u001b[0m \u001b[0mdataframe\u001b[0m\u001b[1;33m.\u001b[0m\u001b[0mreindex\u001b[0m\u001b[1;33m(\u001b[0m\u001b[0mnp\u001b[0m\u001b[1;33m.\u001b[0m\u001b[0marange\u001b[0m\u001b[1;33m(\u001b[0m\u001b[0mstart\u001b[0m\u001b[1;33m,\u001b[0m\u001b[0mend\u001b[0m\u001b[1;33m,\u001b[0m\u001b[1;36m.01\u001b[0m\u001b[1;33m)\u001b[0m\u001b[1;33m,\u001b[0m\u001b[0mmethod\u001b[0m\u001b[1;33m=\u001b[0m\u001b[1;34m'ffill'\u001b[0m\u001b[1;33m)\u001b[0m\u001b[1;33m\u001b[0m\u001b[0m\n",
      "\u001b[1;32m~\\Anaconda2\\envs\\tensorflow\\lib\\site-packages\\pandas\\core\\indexes\\base.py\u001b[0m in \u001b[0;36m__getitem__\u001b[1;34m(self, key)\u001b[0m\n\u001b[0;32m   1741\u001b[0m \u001b[1;33m\u001b[0m\u001b[0m\n\u001b[0;32m   1742\u001b[0m         \u001b[1;32mif\u001b[0m \u001b[0mis_scalar\u001b[0m\u001b[1;33m(\u001b[0m\u001b[0mkey\u001b[0m\u001b[1;33m)\u001b[0m\u001b[1;33m:\u001b[0m\u001b[1;33m\u001b[0m\u001b[0m\n\u001b[1;32m-> 1743\u001b[1;33m             \u001b[1;32mreturn\u001b[0m \u001b[0mgetitem\u001b[0m\u001b[1;33m(\u001b[0m\u001b[0mkey\u001b[0m\u001b[1;33m)\u001b[0m\u001b[1;33m\u001b[0m\u001b[0m\n\u001b[0m\u001b[0;32m   1744\u001b[0m \u001b[1;33m\u001b[0m\u001b[0m\n\u001b[0;32m   1745\u001b[0m         \u001b[1;32mif\u001b[0m \u001b[0misinstance\u001b[0m\u001b[1;33m(\u001b[0m\u001b[0mkey\u001b[0m\u001b[1;33m,\u001b[0m \u001b[0mslice\u001b[0m\u001b[1;33m)\u001b[0m\u001b[1;33m:\u001b[0m\u001b[1;33m\u001b[0m\u001b[0m\n",
      "\u001b[1;31mIndexError\u001b[0m: index 0 is out of bounds for axis 0 with size 0"
     ]
    },
    {
     "data": {
      "image/png": "[encoded data removed]",
      "text/plain": [
       "<Figure size 432x288 with 1 Axes>"
      ]
     },
     "metadata": {},
     "output_type": "display_data"
    }
   ],
   "source": [
    "windows_weight = 0.1\n",
    "\"\"\"\n",
    "daily FLB\n",
    "\"\"\"\n",
    "daily_FLB = pd.DataFrame() # to save hourly_FLB\n",
    "for day2end in range(day_max):\n",
    "    day_countdf = pd.DataFrame() # to save hourly countdf\n",
    "    for game_name in soccer_list:\n",
    "        index_list = [int(i[:-4]) for i in os.listdir(rev_prob_folder_path + games[game_name])]\n",
    "        for index in index_list:\n",
    "            series_df = pd.read_csv(rev_prob_folder_path + games[game_name]+'/'+str(index)+'.csv').set_index('duration')\n",
    "            series_df = series_df[series_df['day']==day2end]\n",
    "            if len(series_df)>0:\n",
    "                day_countdf = pd.concat([day_countdf,series_df[['home','HOME_WIN']]],ignore_index=True)\n",
    "    if len(day_countdf) < 20:\n",
    "        continue\n",
    "    day_df = generate_percentage_winners(day_countdf,windows_weight)\n",
    "\n",
    "    day_df.to_csv(daily_FLB_folder_path + '/soccer/day' + '_' +str(day2end)+'.csv')\n",
    "\n",
    "#     #     accounting hourly FLB\n",
    "    FLB = accounting(day_df)\n",
    "#         break\n",
    "    daily_FLB = daily_FLB.append({'day2end':day2end,'FLB':FLB},ignore_index =True)\n",
    "daily_FLB.plot.scatter(x=1,y=0)\n",
    "daily_FLB.to_csv(daily_FLB_folder_path+'/soccer.csv')\n",
    "\n",
    "\"\"\"\n",
    "hourly FLB\n",
    "\"\"\"\n",
    "hourly_FLB = pd.DataFrame() # to save hourly_FLB\n",
    "for hour2end in range(hour_max):\n",
    "    hour_countdf = pd.DataFrame() # to save hourly countdf\n",
    "    for game_name in soccer_list:\n",
    "        index_list = [int(i[:-4]) for i in os.listdir(rev_prob_folder_path + games[game_name])]\n",
    "        for index in index_list:\n",
    "            series_df = pd.read_csv(rev_prob_folder_path + games[game_name]+'/'+str(index)+'.csv').set_index('duration')\n",
    "            series_df = series_df[series_df['hour']==hour2end]\n",
    "            if len(series_df)>0:\n",
    "                hour_countdf = pd.concat([hour_countdf,series_df[['home','HOME_WIN']]],ignore_index=True)\n",
    "    if len(hour_countdf) < 20:\n",
    "        continue\n",
    "    hour_df = generate_percentage_winners(hour_countdf,windows_weight)\n",
    "    hour_df.to_csv(hourly_FLB_folder_path +  '/soccer/hour' + '_' +str(hour2end)+'.csv')\n",
    "\n",
    "#     #     accounting hourly FLB\n",
    "    FLB = accounting(hour_df)\n",
    "#         break\n",
    "    hourly_FLB = hourly_FLB.append({'hour2end':hour2end,'FLB':FLB},ignore_index =True)\n",
    "hourly_FLB.plot.scatter(x=1,y=0)\n",
    "hourly_FLB.to_csv(hourly_FLB_folder_path+'/soccer.csv')"
   ]
  },
  {
   "cell_type": "code",
   "execution_count": 23,
   "metadata": {
    "ExecuteTime": {
     "end_time": "2018-07-17T18:09:25.767717Z",
     "start_time": "2018-07-17T18:08:52.568713Z"
    },
    "collapsed": false
   },
   "outputs": [
    {
     "data": {
      "text/plain": [
       "'\\nhourly FLB 大于153的为一起\\n'"
      ]
     },
     "execution_count": 23,
     "metadata": {},
     "output_type": "execute_result"
    },
    {
     "name": "stdout",
     "output_type": "stream",
     "text": [
      "0.06810438074634949\n"
     ]
    }
   ],
   "source": [
    "\"\"\"\n",
    "hourly FLB 大于153的为一起\n",
    "\"\"\"\n",
    "hour2end = 153\n",
    "hour_countdf = pd.DataFrame() # to save hourly countdf\n",
    "for game_name in soccer_list:\n",
    "    index_list = [int(i[:-4]) for i in os.listdir(rev_prob_folder_path + games[game_name])]\n",
    "    for index in index_list:\n",
    "        series_df = pd.read_csv(rev_prob_folder_path + games[game_name]+'/'+str(index)+'.csv').set_index('duration')\n",
    "        series_df = series_df[series_df['hour']>=hour2end]\n",
    "        if len(series_df)>0:\n",
    "            hour_countdf = pd.concat([hour_countdf,series_df[['home','HOME_WIN']]],ignore_index=True)\n",
    "hour_df = generate_percentage_winners(hour_countdf,windows_weight)\n",
    "hour_df.to_csv(hourly_FLB_folder_path +  '/soccer/hour' + '_' +str(hour2end)+'.csv')\n",
    "FLB = accounting(hour_df)\n",
    "print(FLB)"
   ]
  },
  {
   "cell_type": "code",
   "execution_count": 23,
   "metadata": {
    "ExecuteTime": {
     "end_time": "2018-07-17T22:07:15.290268Z",
     "start_time": "2018-07-17T22:07:13.423260Z"
    },
    "collapsed": false
   },
   "outputs": [
    {
     "data": {
      "text/plain": [
       "'\\nhourly FLB\\n'"
      ]
     },
     "execution_count": 23,
     "metadata": {},
     "output_type": "execute_result"
    },
    {
     "data": {
      "text/plain": [
       "<matplotlib.axes._subplots.AxesSubplot at 0x168265bba58>"
      ]
     },
     "execution_count": 23,
     "metadata": {},
     "output_type": "execute_result"
    },
    {
     "data": {
      "image/png": "[encoded data removed]",
      "text/plain": [
       "<Figure size 432x288 with 1 Axes>"
      ]
     },
     "metadata": {},
     "output_type": "display_data"
    }
   ],
   "source": [
    "\"\"\"\n",
    "hourly FLB\n",
    "\"\"\"\n",
    "game_name = 'soccer'\n",
    "hourly_FLB = pd.DataFrame() # to save hourly_FLB\n",
    "for hour2end in range(154):\n",
    "    hour_df = pd.read_csv(hourly_FLB_folder_path + '/' +game_name+'/hour' + '_' +str(hour2end)+'.csv').set_index('Unnamed: 0')\n",
    "    FLB = accounting(hour_df)\n",
    "    hourly_FLB = hourly_FLB.append({'hour2end':hour2end,'FLB':FLB},ignore_index =True)\n",
    "hourly_FLB.plot.scatter(x=1,y=0)\n",
    "hourly_FLB.to_csv(hourly_FLB_folder_path+'/'+game_name+'.csv')"
   ]
  },
  {
   "cell_type": "code",
   "execution_count": 26,
   "metadata": {
    "ExecuteTime": {
     "end_time": "2018-07-17T18:14:51.451180Z",
     "start_time": "2018-07-17T18:14:21.518182Z"
    },
    "collapsed": false
   },
   "outputs": [
    {
     "data": {
      "text/plain": [
       "'\\ndaily FLB 大于22的为一起\\n'"
      ]
     },
     "execution_count": 26,
     "metadata": {},
     "output_type": "execute_result"
    },
    {
     "name": "stdout",
     "output_type": "stream",
     "text": [
      "0.2520108956897932\n"
     ]
    }
   ],
   "source": [
    "\"\"\"\n",
    "daily FLB 大于22的为一起\n",
    "\"\"\"\n",
    "hour2end = 22\n",
    "hour_countdf = pd.DataFrame() # to save hourly countdf\n",
    "for game_name in soccer_list:\n",
    "    index_list = [int(i[:-4]) for i in os.listdir(rev_prob_folder_path + games[game_name])]\n",
    "    for index in index_list:\n",
    "        series_df = pd.read_csv(rev_prob_folder_path + games[game_name]+'/'+str(index)+'.csv').set_index('duration')\n",
    "        series_df = series_df[series_df['day']>=hour2end]\n",
    "        if len(series_df)>0:\n",
    "            hour_countdf = pd.concat([hour_countdf,series_df[['home','HOME_WIN']]],ignore_index=True)\n",
    "hour_df = generate_percentage_winners(hour_countdf,windows_weight)\n",
    "hour_df.to_csv(daily_FLB_folder_path +  '/soccer/day' + '_' +str(hour2end)+'.csv')\n",
    "FLB = accounting(hour_df)\n",
    "print(FLB)"
   ]
  },
  {
   "cell_type": "code",
   "execution_count": 24,
   "metadata": {
    "ExecuteTime": {
     "end_time": "2018-07-17T22:07:48.711127Z",
     "start_time": "2018-07-17T22:07:48.074125Z"
    },
    "collapsed": false
   },
   "outputs": [
    {
     "data": {
      "text/plain": [
       "'\\nhourly FLB\\n'"
      ]
     },
     "execution_count": 24,
     "metadata": {},
     "output_type": "execute_result"
    },
    {
     "data": {
      "text/plain": [
       "<matplotlib.axes._subplots.AxesSubplot at 0x168262bab70>"
      ]
     },
     "execution_count": 24,
     "metadata": {},
     "output_type": "execute_result"
    },
    {
     "data": {
      "image/png": "[encoded data removed]",
      "text/plain": [
       "<Figure size 432x288 with 1 Axes>"
      ]
     },
     "metadata": {},
     "output_type": "display_data"
    }
   ],
   "source": [
    "\"\"\"\n",
    "hourly FLB\n",
    "\"\"\"\n",
    "game_name = 'soccer'\n",
    "hourly_FLB = pd.DataFrame() # to save hourly_FLB\n",
    "for hour2end in range(23):\n",
    "    hour_df = pd.read_csv(daily_FLB_folder_path + '/' +game_name+'/day' + '_' +str(hour2end)+'.csv').set_index('Unnamed: 0')\n",
    "    FLB = accounting(hour_df)\n",
    "    hourly_FLB = hourly_FLB.append({'day2end':hour2end,'FLB':FLB},ignore_index =True)\n",
    "hourly_FLB.plot.scatter(x=1,y=0)\n",
    "hourly_FLB.to_csv(daily_FLB_folder_path+'/'+game_name+'.csv')"
   ]
  }
 ],
 "metadata": {
  "kernelspec": {
   "display_name": "Python 3",
   "language": "python",
   "name": "python3"
  },
  "language_info": {
   "codemirror_mode": {
    "name": "ipython",
    "version": 3
   },
   "file_extension": ".py",
   "mimetype": "text/x-python",
   "name": "python",
   "nbconvert_exporter": "python",
   "pygments_lexer": "ipython3",
   "version": "3.5.4"
  },
  "varInspector": {
   "cols": {
    "lenName": 16,
    "lenType": 16,
    "lenVar": 40
   },
   "kernels_config": {
    "python": {
     "delete_cmd_postfix": "",
     "delete_cmd_prefix": "del ",
     "library": "var_list.py",
     "varRefreshCmd": "print(var_dic_list())"
    },
    "r": {
     "delete_cmd_postfix": ") ",
     "delete_cmd_prefix": "rm(",
     "library": "var_list.r",
     "varRefreshCmd": "cat(var_dic_list()) "
    }
   },
   "types_to_exclude": [
    "module",
    "function",
    "builtin_function_or_method",
    "instance",
    "_Feature"
   ],
   "window_display": false
  }
 },
 "nbformat": 4,
 "nbformat_minor": 2
}
