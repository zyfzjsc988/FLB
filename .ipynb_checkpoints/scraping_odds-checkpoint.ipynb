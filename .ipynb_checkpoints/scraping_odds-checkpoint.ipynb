{
 "cells": [
  {
   "cell_type": "markdown",
   "metadata": {},
   "source": [
    "# Scraping odds\n",
    "## soccer: MAJOR LEAGUE, CHAMPIONS LEAGUE, EPL\n",
    "## basketball: NBA, WNBA\n",
    "## baseball: MLB\n",
    "## football: NFL\n",
    "## iceball: NHL"
   ]
  },
  {
   "cell_type": "code",
   "execution_count": 21,
   "metadata": {
    "collapsed": true
   },
   "outputs": [],
   "source": [
    "from bs4 import BeautifulSoup\n",
    "from urllib import request\n",
    "import requests\n",
    "import json\n",
    "import pandas as pd\n",
    "import datetime\n",
    "import time\n",
    "from tqdm import tqdm  "
   ]
  },
  {
   "cell_type": "code",
   "execution_count": 31,
   "metadata": {
    "collapsed": true
   },
   "outputs": [],
   "source": [
    "proxies = {\n",
    "\"http\": \"121.193.143.249:80\"\n",
    "}\n",
    "def str2time(string):\n",
    "    # 10/30/13 10:58:16 AM\n",
    "    format_ = '%m/%d/%y %I:%M:%S %p'\n",
    "    date = datetime.datetime.strptime(string,format_)\n",
    "    str_ = date.strftime(\"%Y-%m-%d %H:%M:%S\")\n",
    "    return str_"
   ]
  },
  {
   "cell_type": "markdown",
   "metadata": {},
   "source": [
    "## soccer: MAJOR LEAGUE"
   ]
  },
  {
   "cell_type": "code",
   "execution_count": 8,
   "metadata": {
    "collapsed": false
   },
   "outputs": [],
   "source": [
    "df = pd.read_csv(\"../../datasets/soccer/majorleague_results.csv\").set_index('Unnamed: 0')\n",
    "events_ids = df.index.tolist()"
   ]
  },
  {
   "cell_type": "code",
   "execution_count": 40,
   "metadata": {
    "collapsed": false
   },
   "outputs": [
    {
     "name": "stderr",
     "output_type": "stream",
     "text": [
      "  0%|                                                                                         | 0/1832 [00:00<?, ?it/s]C:\\Users\\surface\\Anaconda2\\envs\\tensorflow\\lib\\site-packages\\bs4\\__init__.py:181: UserWarning: No parser was explicitly specified, so I'm using the best available HTML parser for this system (\"lxml\"). This usually isn't a problem, but if you run this code on another system, or in a different virtual environment, it may use a different parser and behave differently.\n",
      "\n",
      "The code that caused this warning is on line 193 of the file C:\\Users\\surface\\Anaconda2\\envs\\tensorflow\\lib\\runpy.py. To get rid of this warning, change code that looks like this:\n",
      "\n",
      " BeautifulSoup(YOUR_MARKUP})\n",
      "\n",
      "to this:\n",
      "\n",
      " BeautifulSoup(YOUR_MARKUP, \"lxml\")\n",
      "\n",
      "  markup_type=markup_type))\n",
      "100%|████████████████████████████████████████████████████████████████████████████| 1832/1832 [1:13:10<00:00,  2.40s/it]\n"
     ]
    }
   ],
   "source": [
    "for events_id in tqdm(events_ids):\n",
    "    url = 'https://www.oddsshark.com/soccer/mls/odds/line-history/'+ str(events_id)\n",
    "    #         proxy\n",
    "    req = requests.get(url, proxies=proxies)\n",
    "    soup = BeautifulSoup(req.text)\n",
    "    odata = soup.find_all('table',{'class':'base-table'})\n",
    "#     odict = {}\n",
    "    max_num = 0\n",
    "    for data in odata:\n",
    "        booker = data.find('a').get_text()\n",
    "        content = data.find_all('td')\n",
    "        if len(content) < max_num:\n",
    "            continue\n",
    "        else:\n",
    "            max_num = len(content) \n",
    "            if max_num < 3:\n",
    "                continue\n",
    "        oodict = {}\n",
    "        for i in range(int(len(content)/5)):\n",
    "            date = str2time(content[i*5].get_text())\n",
    "            home = content[i*5+1].find('span').get_text()\n",
    "            away = content[i*5+2].find('span').get_text()\n",
    "            draw = content[i*5+3].find('span').get_text()\n",
    "            if home!=\"\" and away!=\"\" and draw!=\"\":\n",
    "                oodict[date] = {'home':home,'away':away,'draw':draw}\n",
    "                \n",
    "        df = pd.DataFrame.from_dict(oodict, orient='index').rename(index=str, \n",
    "                                                               columns={0: \"away\",\n",
    "                                                                        1: \"draw\",\n",
    "                                                                        2: \"home\"})\n",
    "        df.to_csv(\"../../datasets/soccer/majorleague/%s.csv\" % (events_id))"
   ]
  },
  {
   "cell_type": "markdown",
   "metadata": {
    "collapsed": true
   },
   "source": [
    "## soccer:  CHAMPIONS LEAGUE"
   ]
  },
  {
   "cell_type": "code",
   "execution_count": 41,
   "metadata": {
    "collapsed": false
   },
   "outputs": [
    {
     "name": "stderr",
     "output_type": "stream",
     "text": [
      "  0%|                                                                                          | 0/649 [00:00<?, ?it/s]C:\\Users\\surface\\Anaconda2\\envs\\tensorflow\\lib\\site-packages\\bs4\\__init__.py:181: UserWarning: No parser was explicitly specified, so I'm using the best available HTML parser for this system (\"lxml\"). This usually isn't a problem, but if you run this code on another system, or in a different virtual environment, it may use a different parser and behave differently.\n",
      "\n",
      "The code that caused this warning is on line 193 of the file C:\\Users\\surface\\Anaconda2\\envs\\tensorflow\\lib\\runpy.py. To get rid of this warning, change code that looks like this:\n",
      "\n",
      " BeautifulSoup(YOUR_MARKUP})\n",
      "\n",
      "to this:\n",
      "\n",
      " BeautifulSoup(YOUR_MARKUP, \"lxml\")\n",
      "\n",
      "  markup_type=markup_type))\n",
      "100%|██████████████████████████████████████████████████████████████████████████████| 649/649 [1:00:25<00:00,  5.59s/it]\n"
     ]
    }
   ],
   "source": [
    "df = pd.read_csv(\"../../datasets/soccer/champ_league_results.csv\").set_index('Unnamed: 0')\n",
    "events_ids = df.index.tolist()\n",
    "for events_id in tqdm(events_ids):\n",
    "    url = 'https://www.oddsshark.com/soccer/champions-league/odds/line-history/'+ str(events_id)\n",
    "    #         proxy\n",
    "    req = requests.get(url, proxies=proxies)\n",
    "    soup = BeautifulSoup(req.text)\n",
    "    odata = soup.find_all('table',{'class':'base-table'})\n",
    "#     odict = {}\n",
    "    max_num = 0\n",
    "    for data in odata:\n",
    "        booker = data.find('a').get_text()\n",
    "        content = data.find_all('td')\n",
    "        if len(content) < max_num:\n",
    "            continue\n",
    "        else:\n",
    "            max_num = len(content) \n",
    "            if max_num < 3:\n",
    "                continue\n",
    "        oodict = {}\n",
    "        for i in range(int(len(content)/5)):\n",
    "            date = str2time(content[i*5].get_text())\n",
    "            home = content[i*5+1].find('span').get_text()\n",
    "            away = content[i*5+2].find('span').get_text()\n",
    "            draw = content[i*5+3].find('span').get_text()\n",
    "            if home!=\"\" and away!=\"\" and draw!=\"\":\n",
    "                oodict[date] = {'home':home,'away':away,'draw':draw}\n",
    "                \n",
    "        df = pd.DataFrame.from_dict(oodict, orient='index').rename(index=str, \n",
    "                                                               columns={0: \"away\",\n",
    "                                                                        1: \"draw\",\n",
    "                                                                        2: \"home\"})\n",
    "        df.to_csv(\"../../datasets/soccer/champ_league/%s.csv\" % (events_id))"
   ]
  },
  {
   "cell_type": "markdown",
   "metadata": {},
   "source": [
    "## soccer:  EPL"
   ]
  },
  {
   "cell_type": "code",
   "execution_count": 42,
   "metadata": {
    "collapsed": false
   },
   "outputs": [
    {
     "name": "stderr",
     "output_type": "stream",
     "text": [
      "  0%|                                                                                         | 0/1983 [00:00<?, ?it/s]C:\\Users\\surface\\Anaconda2\\envs\\tensorflow\\lib\\site-packages\\bs4\\__init__.py:181: UserWarning: No parser was explicitly specified, so I'm using the best available HTML parser for this system (\"lxml\"). This usually isn't a problem, but if you run this code on another system, or in a different virtual environment, it may use a different parser and behave differently.\n",
      "\n",
      "The code that caused this warning is on line 193 of the file C:\\Users\\surface\\Anaconda2\\envs\\tensorflow\\lib\\runpy.py. To get rid of this warning, change code that looks like this:\n",
      "\n",
      " BeautifulSoup(YOUR_MARKUP})\n",
      "\n",
      "to this:\n",
      "\n",
      " BeautifulSoup(YOUR_MARKUP, \"lxml\")\n",
      "\n",
      "  markup_type=markup_type))\n",
      "100%|████████████████████████████████████████████████████████████████████████████| 1983/1983 [2:20:35<00:00,  4.25s/it]\n"
     ]
    }
   ],
   "source": [
    "df = pd.read_csv(\"../../datasets/soccer/epl_results.csv\").set_index('Unnamed: 0')\n",
    "events_ids = df.index.tolist()\n",
    "for events_id in tqdm(events_ids):\n",
    "    url = 'https://www.oddsshark.com/soccer/epl/odds/line-history/'+ str(events_id)\n",
    "    #         proxy\n",
    "    req = requests.get(url, proxies=proxies)\n",
    "    soup = BeautifulSoup(req.text)\n",
    "    odata = soup.find_all('table',{'class':'base-table'})\n",
    "#     odict = {}\n",
    "    max_num = 0\n",
    "    for data in odata:\n",
    "        booker = data.find('a').get_text()\n",
    "        content = data.find_all('td')\n",
    "        if len(content) < max_num:\n",
    "            continue\n",
    "        else:\n",
    "            max_num = len(content) \n",
    "            if max_num < 3:\n",
    "                continue\n",
    "        oodict = {}\n",
    "        for i in range(int(len(content)/5)):\n",
    "            date = str2time(content[i*5].get_text())\n",
    "            home = content[i*5+1].find('span').get_text()\n",
    "            away = content[i*5+2].find('span').get_text()\n",
    "            draw = content[i*5+3].find('span').get_text()\n",
    "            if home!=\"\" and away!=\"\" and draw!=\"\":\n",
    "                oodict[date] = {'home':home,'away':away,'draw':draw}\n",
    "                \n",
    "        df = pd.DataFrame.from_dict(oodict, orient='index').rename(index=str, \n",
    "                                                               columns={0: \"away\",\n",
    "                                                                        1: \"draw\",\n",
    "                                                                        2: \"home\"})\n",
    "        df.to_csv(\"../../datasets/soccer/epl/%s.csv\" % (events_id))"
   ]
  },
  {
   "cell_type": "markdown",
   "metadata": {},
   "source": [
    "## basketball: NBA"
   ]
  },
  {
   "cell_type": "code",
   "execution_count": null,
   "metadata": {
    "collapsed": false
   },
   "outputs": [
    {
     "name": "stderr",
     "output_type": "stream",
     "text": [
      "  0%|                                                                                         | 0/7058 [00:00<?, ?it/s]C:\\Users\\surface\\Anaconda2\\envs\\tensorflow\\lib\\site-packages\\bs4\\__init__.py:181: UserWarning: No parser was explicitly specified, so I'm using the best available HTML parser for this system (\"lxml\"). This usually isn't a problem, but if you run this code on another system, or in a different virtual environment, it may use a different parser and behave differently.\n",
      "\n",
      "The code that caused this warning is on line 193 of the file C:\\Users\\surface\\Anaconda2\\envs\\tensorflow\\lib\\runpy.py. To get rid of this warning, change code that looks like this:\n",
      "\n",
      " BeautifulSoup(YOUR_MARKUP})\n",
      "\n",
      "to this:\n",
      "\n",
      " BeautifulSoup(YOUR_MARKUP, \"lxml\")\n",
      "\n",
      "  markup_type=markup_type))\n",
      " 10%|███████▉                                                                     | 732/7058 [27:40<3:59:07,  2.27s/it]"
     ]
    }
   ],
   "source": [
    "df = pd.read_csv(\"../../datasets/basketball/nba_results.csv\").set_index('Unnamed: 0')\n",
    "events_ids = df.index.tolist()\n",
    "for events_id in tqdm(events_ids):\n",
    "    url = 'https://www.oddsshark.com/nba/odds/line-history/'+ str(events_id)\n",
    "    #         proxy\n",
    "    req = requests.get(url, proxies=proxies)\n",
    "    soup = BeautifulSoup(req.text)\n",
    "    odata = soup.find_all('table',{'class':'base-table'})\n",
    "#     odict = {}\n",
    "    max_num = 0\n",
    "    for data in odata:\n",
    "        booker = data.find('a').get_text()\n",
    "        content = data.find_all('td')\n",
    "        if len(content) < max_num:\n",
    "            continue\n",
    "        else:\n",
    "            max_num = len(content) \n",
    "            if max_num < 3:\n",
    "                continue\n",
    "        oodict = {}\n",
    "        for i in range(int(len(content)/3)):\n",
    "            date = str2time(content[i*3].get_text())\n",
    "            home = content[i*3+1].find_all('span')[1].get_text()\n",
    "            if home!=\"\":\n",
    "                oodict[date] = {'home':home}\n",
    "                \n",
    "        df = pd.DataFrame.from_dict(oodict, orient='index').rename(index=str, \n",
    "                                                               columns={0: \"home\"})\n",
    "        df.to_csv(\"../../datasets/basketball/nba/%s.csv\" % (events_id))"
   ]
  },
  {
   "cell_type": "markdown",
   "metadata": {},
   "source": [
    "## baseball: MLB"
   ]
  },
  {
   "cell_type": "code",
   "execution_count": null,
   "metadata": {
    "collapsed": false
   },
   "outputs": [],
   "source": [
    "df = pd.read_csv(\"../../datasets/baseball/mlb_results.csv\").set_index('Unnamed: 0')\n",
    "events_ids = df.index.tolist()\n",
    "for events_id in tqdm(events_ids):\n",
    "    url = 'https://www.oddsshark.com/mlb/odds/line-history/'+ str(events_id)\n",
    "    #         proxy\n",
    "    req = requests.get(url, proxies=proxies)\n",
    "    soup = BeautifulSoup(req.text)\n",
    "    odata = soup.find_all('table',{'class':'base-table'})\n",
    "#     odict = {}\n",
    "    max_num = 0\n",
    "    for data in odata:\n",
    "        booker = data.find('a').get_text()\n",
    "        content = data.find_all('td')\n",
    "        if len(content) < max_num:\n",
    "            continue\n",
    "        else:\n",
    "            max_num = len(content) \n",
    "            if max_num < 3:\n",
    "                continue\n",
    "        oodict = {}\n",
    "        for i in range(int(len(content)/3)):\n",
    "            date = str2time(content[i*3].get_text())\n",
    "            home = content[i*3+1].find('span').get_text()\n",
    "            if home!=\"\":\n",
    "                oodict[date] = {'home':home}\n",
    "                \n",
    "        df = pd.DataFrame.from_dict(oodict, orient='index').rename(index=str, \n",
    "                                                               columns={0: \"home\"})\n",
    "        df.to_csv(\"../../datasets/baseball/mlb/%s.csv\" % (events_id))"
   ]
  },
  {
   "cell_type": "markdown",
   "metadata": {},
   "source": [
    "## football: NFL"
   ]
  },
  {
   "cell_type": "code",
   "execution_count": null,
   "metadata": {
    "collapsed": false
   },
   "outputs": [],
   "source": [
    "df = pd.read_csv(\"../../datasets/football/nfl_results.csv\").set_index('Unnamed: 0')\n",
    "events_ids = df.index.tolist()\n",
    "for events_id in tqdm(events_ids):\n",
    "    url = 'https://www.oddsshark.com/nfl/odds/line-history/'+ str(events_id)\n",
    "    #         proxy\n",
    "    req = requests.get(url, proxies=proxies)\n",
    "    soup = BeautifulSoup(req.text)\n",
    "    odata = soup.find_all('table',{'class':'base-table'})\n",
    "#     odict = {}\n",
    "    max_num = 0\n",
    "    for data in odata:\n",
    "        booker = data.find('a').get_text()\n",
    "        content = data.find_all('td')\n",
    "        if len(content) < max_num:\n",
    "            continue\n",
    "        else:\n",
    "            max_num = len(content) \n",
    "            if max_num < 3:\n",
    "                continue\n",
    "        oodict = {}\n",
    "        for i in range(int(len(content)/3)):\n",
    "            date = str2time(content[i*3].get_text())\n",
    "            home = content[i*3+1].find_all('span')[1].get_text()\n",
    "            if home!=\"\":\n",
    "                oodict[date] = {'home':home}\n",
    "                \n",
    "        df = pd.DataFrame.from_dict(oodict, orient='index').rename(index=str, \n",
    "                                                               columns={0: \"home\"})\n",
    "        df.to_csv(\"../../datasets/football/nfl/%s.csv\" % (events_id))"
   ]
  },
  {
   "cell_type": "markdown",
   "metadata": {},
   "source": [
    "## iceball: NHL"
   ]
  },
  {
   "cell_type": "code",
   "execution_count": null,
   "metadata": {
    "collapsed": false
   },
   "outputs": [],
   "source": [
    "df = pd.read_csv(\"../../datasets/iceball/nhl_results.csv\").set_index('Unnamed: 0')\n",
    "events_ids = df.index.tolist()\n",
    "for events_id in tqdm(events_ids):\n",
    "    url = 'https://www.oddsshark.com/nhl/odds/line-history/'+ str(events_id)\n",
    "    #         proxy\n",
    "    req = requests.get(url, proxies=proxies)\n",
    "    soup = BeautifulSoup(req.text)\n",
    "    odata = soup.find_all('table',{'class':'base-table'})\n",
    "#     odict = {}\n",
    "    max_num = 0\n",
    "    for data in odata:\n",
    "        booker = data.find('a').get_text()\n",
    "        content = data.find_all('td')\n",
    "        if len(content) < max_num:\n",
    "            continue\n",
    "        else:\n",
    "            max_num = len(content) \n",
    "            if max_num < 3:\n",
    "                continue\n",
    "        oodict = {}\n",
    "        for i in range(int(len(content)/3)):\n",
    "            date = str2time(content[i*3].get_text())\n",
    "            home = content[i*3+1].find('span').get_text()\n",
    "            if home!=\"\":\n",
    "                oodict[date] = {'home':home}\n",
    "                \n",
    "        df = pd.DataFrame.from_dict(oodict, orient='index').rename(index=str, \n",
    "                                                               columns={0: \"home\"})\n",
    "        df.to_csv(\"../../datasets/iceball/nhl/%s.csv\" % (events_id))"
   ]
  },
  {
   "cell_type": "code",
   "execution_count": null,
   "metadata": {
    "collapsed": true
   },
   "outputs": [],
   "source": []
  }
 ],
 "metadata": {
  "kernelspec": {
   "display_name": "Python 3",
   "language": "python",
   "name": "python3"
  },
  "language_info": {
   "codemirror_mode": {
    "name": "ipython",
    "version": 3
   },
   "file_extension": ".py",
   "mimetype": "text/x-python",
   "name": "python",
   "nbconvert_exporter": "python",
   "pygments_lexer": "ipython3",
   "version": "3.5.4"
  }
 },
 "nbformat": 4,
 "nbformat_minor": 0
}
