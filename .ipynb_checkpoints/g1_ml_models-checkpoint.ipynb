{
 "cells": [
  {
   "cell_type": "markdown",
   "metadata": {},
   "source": [
    "## 1. prepare"
   ]
  },
  {
   "cell_type": "code",
   "execution_count": 2,
   "metadata": {
    "ExecuteTime": {
     "end_time": "2018-08-07T14:29:01.305882Z",
     "start_time": "2018-08-07T14:29:00.753821Z"
    },
    "collapsed": true
   },
   "outputs": [],
   "source": [
    "import pandas as pd\n",
    "import os\n",
    "import numpy as np\n",
    "# train data\n",
    "summary_folder_path = '../../datasets/train_data/summary'\n",
    "mining_folder_path = '../../datasets/train_data/data_mining'\n",
    "games = { 'baseball':'/baseball/mlb',\n",
    "         'iceball': '/iceball/nhl',\n",
    "         'soccer_champion':'/soccer/champ_league',\n",
    "         'scoccer_england':'/soccer/epl',\n",
    "         'soccer_major':'/soccer/majorleague'}\n",
    "# folder name is games, result name is games_results.csv\n",
    "\n",
    "games_list = ['baseball','iceball']\n",
    "soccer_list = ['soccer_champion','scoccer_england','soccer_major']\n",
    "\n",
    "soccer_features_name = ['maximum', 'minimum', 'ave', 'ave_normalized', \n",
    "            'start', 'start_normalized', 'end', 'end_normalized', 'start2end',\n",
    "            'start2end_normalized', 'start2max', 'start2max_normalized', 'start2min', 'start2min_normalized', \n",
    "            'std', 'no_price', 'length', \n",
    "            'up_num', 'down_num', 'up_rate', 'down_rate', 'duration', \n",
    "            'bias_max', 'bias_min', 'bias_ave', 'bias_st', 'draw_odds','away_odds']\n",
    "\n",
    "games_features_name = ['maximum', 'minimum', 'ave', 'ave_normalized', \n",
    "            'start', 'start_normalized', 'end', 'end_normalized', 'start2end',\n",
    "            'start2end_normalized', 'start2max', 'start2max_normalized', 'start2min', 'start2min_normalized', \n",
    "            'std', 'no_price', 'length', \n",
    "            'up_num', 'down_num', 'up_rate', 'down_rate', 'duration', \n",
    "            'bias_max', 'bias_min', 'bias_ave', 'bias_st']"
   ]
  },
  {
   "cell_type": "markdown",
   "metadata": {},
   "source": [
    "## 2. models\n",
    "logistic regression,\n",
    "SVM,\n",
    "KNN, \n",
    "Naive Bayes,\n",
    "DT,\n",
    "RF,\n",
    "AdaBoost,\n",
    "Gradient tree boosting,\n",
    "ANN"
   ]
  },
  {
   "cell_type": "code",
   "execution_count": 62,
   "metadata": {
    "ExecuteTime": {
     "end_time": "2018-08-07T19:07:19.337480Z",
     "start_time": "2018-08-07T19:07:19.287480Z"
    },
    "collapsed": false
   },
   "outputs": [
    {
     "data": {
      "text/plain": [
       "'\\ninput: \\ntraining: matrix of features, target: two or three target\\nvalidate: matrix of features, target: two or three target\\n\\noutput: \\nacc, auc, or others\\n'"
      ]
     },
     "execution_count": 62,
     "metadata": {},
     "output_type": "execute_result"
    }
   ],
   "source": [
    "from sklearn import datasets\n",
    "from sklearn import svm\n",
    "from sklearn.model_selection import cross_val_score\n",
    "from sklearn.neighbors import KNeighborsClassifier\n",
    "from sklearn.linear_model import LogisticRegression\n",
    "from sklearn import preprocessing\n",
    "from sklearn.pipeline import make_pipeline\n",
    "\n",
    "\"\"\"\n",
    "input: \n",
    "training: matrix of features, target: two or three target\n",
    "validate: matrix of features, target: two or three target\n",
    "\n",
    "output: \n",
    "acc, auc, or others\n",
    "\"\"\"\n",
    "\n",
    "#  train ml models\n",
    "# input: features and labels\n",
    "# output: all acc\n",
    "def predict_soccer_result(features, label):\n",
    "    acc_dic = {}\n",
    "#     knn\n",
    "    knn = make_pipeline(preprocessing.StandardScaler(), KNeighborsClassifier(n_neighbors=60))\n",
    "    acc_dic['knn'] = cross_val_score(knn, features, label, cv=5).max()\n",
    "#     logistic regression\n",
    "    logreg = make_pipeline(preprocessing.StandardScaler(), LogisticRegression(C=0.3))\n",
    "    acc_dic['logistic_regression'] = cross_val_score(logreg, features, label, cv=5).max()\n",
    "    \n",
    "    \n",
    "    \n",
    "    return acc_dic\n",
    "    \n",
    "\n",
    "\n",
    "\n"
   ]
  },
  {
   "cell_type": "markdown",
   "metadata": {},
   "source": [
    "## 3. data"
   ]
  },
  {
   "cell_type": "code",
   "execution_count": 44,
   "metadata": {
    "ExecuteTime": {
     "end_time": "2018-08-07T18:47:26.309573Z",
     "start_time": "2018-08-07T18:47:24.823572Z"
    },
    "collapsed": false
   },
   "outputs": [
    {
     "name": "stderr",
     "output_type": "stream",
     "text": [
      "C:\\Users\\surface\\Anaconda2\\envs\\tensorflow\\lib\\site-packages\\ipykernel_launcher.py:10: SettingWithCopyWarning: \n",
      "A value is trying to be set on a copy of a slice from a DataFrame.\n",
      "Try using .loc[row_indexer,col_indexer] = value instead\n",
      "\n",
      "See the caveats in the documentation: http://pandas.pydata.org/pandas-docs/stable/indexing.html#indexing-view-versus-copy\n",
      "  # Remove the CWD from sys.path while we load stuff.\n"
     ]
    }
   ],
   "source": [
    "# soccer\n",
    "game_name = 'soccer'\n",
    "\n",
    "unbiased = pd.read_csv(mining_folder_path+'/'+game_name+'_unbiased.csv').iloc[:,1:].fillna(0)\n",
    "hourly_corrected = pd.read_csv(mining_folder_path+'/'+game_name+'_hourly_corrected.csv').iloc[:,1:].fillna(0)\n",
    "daily_corrected = pd.read_csv(mining_folder_path+'/'+game_name+'_daily_corrected.csv').iloc[:,1:].fillna(0)\n",
    "global_corrected = pd.read_csv(mining_folder_path+'/'+game_name+'_global_corrected.csv').iloc[:,1:].fillna(0)\n",
    "# all target home, draw , away\n",
    "target = unbiased[['home','draw','away']]\n",
    "target['target'] = (target['home']+target['draw']*2+target['away']*3).apply(int)\n"
   ]
  },
  {
   "cell_type": "code",
   "execution_count": 65,
   "metadata": {
    "ExecuteTime": {
     "end_time": "2018-08-07T19:11:51.255600Z",
     "start_time": "2018-08-07T19:11:22.749595Z"
    },
    "collapsed": false
   },
   "outputs": [
    {
     "data": {
      "text/html": [
       "<div>\n",
       "<style scoped>\n",
       "    .dataframe tbody tr th:only-of-type {\n",
       "        vertical-align: middle;\n",
       "    }\n",
       "\n",
       "    .dataframe tbody tr th {\n",
       "        vertical-align: top;\n",
       "    }\n",
       "\n",
       "    .dataframe thead th {\n",
       "        text-align: right;\n",
       "    }\n",
       "</style>\n",
       "<table border=\"1\" class=\"dataframe\">\n",
       "  <thead>\n",
       "    <tr style=\"text-align: right;\">\n",
       "      <th></th>\n",
       "      <th>knn</th>\n",
       "      <th>logistic_regression</th>\n",
       "    </tr>\n",
       "  </thead>\n",
       "  <tbody>\n",
       "    <tr>\n",
       "      <th>unbiased</th>\n",
       "      <td>0.660465</td>\n",
       "      <td>0.683721</td>\n",
       "    </tr>\n",
       "    <tr>\n",
       "      <th>hourly_corrected</th>\n",
       "      <td>0.667442</td>\n",
       "      <td>0.667442</td>\n",
       "    </tr>\n",
       "    <tr>\n",
       "      <th>daily_corrected</th>\n",
       "      <td>0.673256</td>\n",
       "      <td>0.666279</td>\n",
       "    </tr>\n",
       "    <tr>\n",
       "      <th>global_corrected</th>\n",
       "      <td>0.677907</td>\n",
       "      <td>0.674419</td>\n",
       "    </tr>\n",
       "  </tbody>\n",
       "</table>\n",
       "</div>"
      ],
      "text/plain": [
       "                       knn  logistic_regression\n",
       "unbiased          0.660465             0.683721\n",
       "hourly_corrected  0.667442             0.667442\n",
       "daily_corrected   0.673256             0.666279\n",
       "global_corrected  0.677907             0.674419"
      ]
     },
     "execution_count": 65,
     "metadata": {},
     "output_type": "execute_result"
    }
   ],
   "source": [
    "def summary(sec_name):\n",
    "    results = pd.DataFrame()\n",
    "    pred = pd.Series(predict_soccer_result(unbiased[sec_name].values, labels))\n",
    "    pred.name = 'unbiased'\n",
    "    results = results.append(pred)\n",
    "\n",
    "    pred = pd.Series(predict_soccer_result(hourly_corrected[sec_name].values, labels))\n",
    "    pred.name = 'hourly_corrected'\n",
    "    results = results.append(pred)\n",
    "\n",
    "    pred = pd.Series(predict_soccer_result(daily_corrected[sec_name].values, labels))\n",
    "    pred.name = 'daily_corrected'\n",
    "    results = results.append(pred)\n",
    "\n",
    "    pred = pd.Series(predict_soccer_result(global_corrected[sec_name].values, labels))\n",
    "    pred.name = 'global_corrected'\n",
    "    results = results.append(pred)\n",
    "    return results\n",
    "\n",
    "# risk analysis\n",
    "# high risk index / low risk index\n",
    "\n",
    "\n",
    "labels = target['home'].apply(int).values\n",
    "# sec1\n",
    "print('sec1 to predict:')\n",
    "sec1_name = [i+'_1' for i in soccer_features_name]\n",
    "results_1 = summary(sec1_name)\n",
    "results_1\n",
    "\n",
    "# sec2\n",
    "print('sec2 to predict:')\n",
    "sec1_name = [i+'_2' for i in soccer_features_name]\n",
    "results_1 = summary(sec1_name)\n",
    "results_1\n",
    "\n",
    "# sec3\n",
    "print('sec3 to predict:')\n",
    "sec1_name = [i+'_3' for i in soccer_features_name]\n",
    "results_1 = summary(sec1_name)\n",
    "results_1\n",
    "\n",
    "# all\n",
    "print('all to predict:')\n",
    "sec1_name = [i+'_all' for i in soccer_features_name]\n",
    "results_1 = summary(sec1_name)\n",
    "results_1\n",
    "\n",
    "\n",
    "all_features =[]\n",
    "all_features.extend([i+'_1' for i in soccer_features_name])\n",
    "all_features.extend([i+'_2' for i in soccer_features_name])\n",
    "all_features.extend([i+'_3' for i in soccer_features_name])\n",
    "all_features.extend([i+'_all' for i in soccer_features_name])\n",
    "results_1 = summary(all_features)\n",
    "results_1\n",
    "# sec2_name = [i+'_2' for i in soccer_features_name]\n",
    "# sec2 = unbiased[sec2_name]\n",
    "# sec3_name = [i+'_3' for i in soccer_features_name]\n",
    "# all_name = [i+'_all' for i in soccer_features_name]\n",
    "# sec1_name.extend(sec2_name).extend(sec3_name).extend(all_name)\n",
    "# ftrs = unbiased[sec1_name]\n",
    "# predict_result(ftrs,target)"
   ]
  },
  {
   "cell_type": "code",
   "execution_count": 34,
   "metadata": {
    "ExecuteTime": {
     "end_time": "2018-08-07T14:41:08.484742Z",
     "start_time": "2018-08-07T14:41:06.952740Z"
    },
    "collapsed": false
   },
   "outputs": [
    {
     "data": {
      "text/plain": [
       "0.568059419891729"
      ]
     },
     "execution_count": 34,
     "metadata": {},
     "output_type": "execute_result"
    },
    {
     "data": {
      "text/plain": [
       "0.5764426242553865"
      ]
     },
     "execution_count": 34,
     "metadata": {},
     "output_type": "execute_result"
    }
   ],
   "source": [
    "\n",
    "sec1_name = [i+'_3' for i in soccer_features_name]\n",
    "features = np.around(unbiased[sec1_name].values,3)\n",
    "tar = target['home'].apply(int).values\n",
    "\n"
   ]
  },
  {
   "cell_type": "code",
   "execution_count": 56,
   "metadata": {
    "ExecuteTime": {
     "end_time": "2018-08-07T18:59:47.605294Z",
     "start_time": "2018-08-07T18:58:40.549273Z"
    },
    "collapsed": false
   },
   "outputs": [
    {
     "name": "stdout",
     "output_type": "stream",
     "text": [
      "1   0.6311476972729917\n",
      "2   0.6278899919872386\n",
      "3   0.6302172015565091\n",
      "4   0.6285876695612191\n",
      "5   0.6264924779311437\n",
      "6   0.6253283316840184\n",
      "7   0.6274248782324695\n",
      "8   0.627891349429915\n",
      "9   0.6264949170366503\n",
      "10   0.6260289879327701\n",
      "11   0.6260281744768845\n",
      "12   0.6262612747099847\n",
      "13   0.6257958870685947\n",
      "14   0.6264965426862712\n",
      "15   0.6264968140485914\n",
      "16   0.626030613582391\n",
      "17   0.6264973561421568\n",
      "18   0.6260314264072013\n",
      "19   0.6257985975364214\n",
      "20   0.6262650693649421\n",
      "21   0.626963015145867\n",
      "22   0.6267304570063322\n",
      "23   0.6260311563070314\n",
      "24   0.6257969718868005\n",
      "25   0.6257975139803659\n",
      "26   0.6255638716537002\n",
      "27   0.6248653844102852\n",
      "28   0.6248653844102852\n",
      "29   0.6253313135141654\n",
      "30   0.6248651130479649\n",
      "31   0.6248645709543996\n",
      "32   0.6250971290939343\n",
      "33   0.6250965870003691\n",
      "34   0.6241644574302885\n",
      "35   0.6243975576633887\n",
      "36   0.6246303865341687\n",
      "37   0.6246303865341687\n",
      "38   0.6243972863010684\n",
      "39   0.6246303865341687\n",
      "40   0.6243972863010684\n",
      "41   0.6248634867672689\n",
      "42   0.6248634867672689\n",
      "43   0.6241641860679682\n",
      "44   0.6246303865341687\n",
      "45   0.6246303865341687\n",
      "46   0.6248634867672689\n",
      "47   0.6248634867672689\n",
      "48   0.6253280609527733\n",
      "49   0.6255611611858735\n",
      "50   0.6253280609527733\n",
      "51   0.6253280609527733\n",
      "52   0.6255611611858735\n",
      "53   0.6257937193254083\n",
      "54   0.6264924779311437\n",
      "55   0.6264924779311437\n",
      "56   0.6264927486623888\n",
      "57   0.6264927486623888\n",
      "58   0.6264927486623888\n",
      "59   0.6262596484292885\n",
      "60   0.6260270902897537\n",
      "61   0.6262596484292885\n",
      "62   0.6260270902897537\n",
      "63   0.6260270902897537\n",
      "64   0.6257939900566535\n",
      "65   0.6262596484292885\n",
      "66   0.6262596484292885\n",
      "67   0.6267258488954891\n",
      "68   0.6262599191605338\n",
      "69   0.6262604612540992\n",
      "70   0.6262604612540992\n",
      "71   0.6267255775331689\n",
      "72   0.6269592198598344\n",
      "73   0.6267261196267342\n",
      "74   0.6267261196267342\n",
      "75   0.626958677766269\n",
      "76   0.6267261196267342\n",
      "77   0.6262599191605338\n",
      "78   0.6267261196267342\n",
      "79   0.6271917779993693\n",
      "80   0.6267255775331688\n",
      "81   0.6267261196267342\n",
      "82   0.6264935614871993\n",
      "83   0.6271917779993693\n",
      "84   0.6269592198598344\n",
      "85   0.6267261196267342\n",
      "86   0.6269592198598344\n",
      "87   0.6267261196267342\n",
      "88   0.6269592198598344\n",
      "89   0.6269592198598344\n",
      "90   0.6274251489637146\n",
      "91   0.6267261196267342\n",
      "92   0.6271925908241798\n",
      "93   0.6269589484975141\n",
      "94   0.6269589484975141\n",
      "95   0.6271925908241798\n",
      "96   0.6276579778344946\n",
      "97   0.6276579778344946\n",
      "98   0.6276579778344946\n",
      "99   0.6278908067052746\n"
     ]
    }
   ],
   "source": [
    "\n",
    "sec1_name = [i+'_1' for i in soccer_features_name]\n",
    "for i in range(1,100):\n",
    "    knn = make_pipeline(preprocessing.StandardScaler(), LogisticRegression(penalty ='l1',C=i/100.))\n",
    "    score = cross_val_score(knn, unbiased[sec1_name].values, labels, cv=5).mean()\n",
    "    print(i, ' ', score)"
   ]
  },
  {
   "cell_type": "code",
   "execution_count": null,
   "metadata": {
    "collapsed": true
   },
   "outputs": [],
   "source": []
  }
 ],
 "metadata": {
  "kernelspec": {
   "display_name": "Python 3",
   "language": "python",
   "name": "python3"
  },
  "language_info": {
   "codemirror_mode": {
    "name": "ipython",
    "version": 3
   },
   "file_extension": ".py",
   "mimetype": "text/x-python",
   "name": "python",
   "nbconvert_exporter": "python",
   "pygments_lexer": "ipython3",
   "version": "3.5.4"
  },
  "varInspector": {
   "cols": {
    "lenName": 16,
    "lenType": 16,
    "lenVar": 40
   },
   "kernels_config": {
    "python": {
     "delete_cmd_postfix": "",
     "delete_cmd_prefix": "del ",
     "library": "var_list.py",
     "varRefreshCmd": "print(var_dic_list())"
    },
    "r": {
     "delete_cmd_postfix": ") ",
     "delete_cmd_prefix": "rm(",
     "library": "var_list.r",
     "varRefreshCmd": "cat(var_dic_list()) "
    }
   },
   "position": {
    "height": "379px",
    "left": "718.267px",
    "right": "20px",
    "top": "122px",
    "width": "350px"
   },
   "types_to_exclude": [
    "module",
    "function",
    "builtin_function_or_method",
    "instance",
    "_Feature"
   ],
   "window_display": false
  }
 },
 "nbformat": 4,
 "nbformat_minor": 2
}
