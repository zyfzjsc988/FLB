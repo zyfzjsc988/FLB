{
 "cells": [
  {
   "cell_type": "code",
   "execution_count": 1,
   "metadata": {
    "collapsed": true
   },
   "outputs": [],
   "source": [
    "import pandas as pd\n",
    "import os"
   ]
  },
  {
   "cell_type": "code",
   "execution_count": 2,
   "metadata": {
    "collapsed": true
   },
   "outputs": [],
   "source": [
    "folder_path = '../../datasets/rawdata'\n",
    "prob_folder_path = '../../datasets/probability'\n",
    "folders = ['/baseball/mlb','/basketball/nba','/football/nfl','/iceball/nhl','/soccer/champ_league',\n",
    "           '/soccer/epl','/soccer/majorleague']"
   ]
  },
  {
   "cell_type": "code",
   "execution_count": 3,
   "metadata": {
    "collapsed": false
   },
   "outputs": [],
   "source": [
    "# return direction\n",
    "def dir_odds_series(folder_path):\n",
    "    return [folder_path +'/'+file for file in os.listdir(folder_path)]"
   ]
  },
  {
   "cell_type": "markdown",
   "metadata": {},
   "source": [
    "## change odds to Probability\n",
    "### Moneyline odds: represented as -120 or +140 etc. \n",
    "### to  Implied Probability\n",
    "For 'minus' moneyline odds $-(minus)/(-(minus)+100)$ Implied probability = (- (-120) / ((- (-120)) + 100) \n",
    "\n",
    "For 'plus' moneyline odds, $ 100/(plus+100) $ Implied probability = 100 / (180 + 100)"
   ]
  },
  {
   "cell_type": "code",
   "execution_count": 16,
   "metadata": {
    "collapsed": true
   },
   "outputs": [],
   "source": [
    "def moneyline_to_probability(odds):\n",
    "    if odds=='Ev':\n",
    "        return 1.0\n",
    "    if type(odds)!=int:\n",
    "        return 0.5\n",
    "    \n",
    "    if odds >= 0:\n",
    "        return float(100)/(odds+100)\n",
    "    else:\n",
    "        return float(-odds)/(-odds+100)\n",
    "def to_prob_csv(rawpath,probpath):\n",
    "    test_csv = pd.read_csv(rawpath).set_index('Unnamed: 0')\n",
    "    test_csv.index.name = 'time'\n",
    "    test_csv = test_csv.applymap(moneyline_to_probability)\n",
    "    test_csv.to_csv(probpath)"
   ]
  },
  {
   "cell_type": "code",
   "execution_count": 17,
   "metadata": {
    "collapsed": false
   },
   "outputs": [],
   "source": [
    "\"\"\"\n",
    "change to probability main\n",
    "\"\"\"\n",
    "for folder in folders:\n",
    "#   create new folder dir\n",
    "#     os.makedirs(prob_folder_path + folder)\n",
    "#   change\n",
    "    for raw in dir_odds_series(folder_path+folder):\n",
    "        to_prob_csv(raw,prob_folder_path + raw[22:])"
   ]
  },
  {
   "cell_type": "code",
   "execution_count": null,
   "metadata": {
    "collapsed": true
   },
   "outputs": [],
   "source": []
  }
 ],
 "metadata": {
  "kernelspec": {
   "display_name": "Python 3",
   "language": "python",
   "name": "python3"
  },
  "language_info": {
   "codemirror_mode": {
    "name": "ipython",
    "version": 3
   },
   "file_extension": ".py",
   "mimetype": "text/x-python",
   "name": "python",
   "nbconvert_exporter": "python",
   "pygments_lexer": "ipython3",
   "version": "3.5.4"
  }
 },
 "nbformat": 4,
 "nbformat_minor": 0
}
