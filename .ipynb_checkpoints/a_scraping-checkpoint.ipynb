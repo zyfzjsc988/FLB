{
 "cells": [
  {
   "cell_type": "markdown",
   "metadata": {},
   "source": [
    "# Scraping score\n",
    "## soccer: MAJOR LEAGUE, CHAMPIONS LEAGUE, EPL\n",
    "## basketball: NBA, WNBA\n",
    "## baseball: MLB\n",
    "## football: NFL\n",
    "## iceball: NHL"
   ]
  },
  {
   "cell_type": "code",
   "execution_count": 44,
   "metadata": {
    "collapsed": false
   },
   "outputs": [],
   "source": [
    "from bs4 import BeautifulSoup\n",
    "from urllib import request\n",
    "import requests\n",
    "import json\n",
    "import pandas as pd\n",
    "import datetime\n",
    "import time\n",
    "from tqdm import tqdm  "
   ]
  },
  {
   "cell_type": "code",
   "execution_count": 17,
   "metadata": {
    "collapsed": true
   },
   "outputs": [],
   "source": [
    "# 此处插入日期生成器 2013-2-1 到 2018-5-30\n",
    "numdays = 1900\n",
    "startdate = datetime.date(2013,2,1)\n",
    "date_list = [(startdate + datetime.timedelta(days=x)).isoformat() for x in range(0, numdays)]"
   ]
  },
  {
   "cell_type": "markdown",
   "metadata": {},
   "source": [
    "## Soccer score\n",
    "### MAJOR LEAGUE mls"
   ]
  },
  {
   "cell_type": "code",
   "execution_count": 77,
   "metadata": {
    "collapsed": false
   },
   "outputs": [],
   "source": [
    "## soccer request\n",
    "def add_newevents():\n",
    "    events_dic = {}\n",
    "    for date in tqdm(date_list):\n",
    "#         url\n",
    "        url = 'https://io.oddsshark.com/scores/mls/'+ date\n",
    "#         headers\n",
    "        headers = {\n",
    "        'User-Agent': 'Mozilla/5.0 (Windows NT 10.0; Win64; x64) AppleWebKit/537.36 (KHTML, like Gecko) Chrome/65.0.3325.181 Safari/537.36',\n",
    "        'Authorization': 'io.oddsshark.com',\n",
    "        'Path': '/scores/mls/'+ date,\n",
    "        'Referer': 'https://www.oddsshark.com/soccer/mls/scores',\n",
    "        'Connection': 'keep-alive'\n",
    "        }\n",
    "#         proxy\n",
    "        proxies = {\n",
    "        \"http\": \"121.193.143.249:80\"\n",
    "        }\n",
    "        req = requests.get(url, headers=headers, proxies=proxies)\n",
    "        jdata = req.json()\n",
    "\n",
    "        for data in jdata:\n",
    "            if type(data)!= dict:\n",
    "                continue\n",
    "            event_id = int(data['event_id'])\n",
    "            event_date = data['event_date']\n",
    "\n",
    "            if data.get('home_name'):\n",
    "                home_display_name = data['home_name']     \n",
    "            elif data.get('home_display_name'):\n",
    "                home_display_name = data['home_display_name']\n",
    "            else:\n",
    "                continue\n",
    "            home_score = data['home_score']\n",
    "\n",
    "            if data.get('away_name'):\n",
    "                away_display_name = data['away_name']\n",
    "            elif data.get('away_display_name'):  \n",
    "                away_display_name = data['away_display_name']\n",
    "            else:\n",
    "                continue\n",
    "            away_score = data['away_score']\n",
    "            if events_dic.get(event_id):\n",
    "                events_dic.pop(event_id)\n",
    "            events_dic[event_id] = [event_date,home_display_name,home_score,away_display_name,away_score]\n",
    "            \n",
    "    return events_dic"
   ]
  },
  {
   "cell_type": "code",
   "execution_count": 78,
   "metadata": {
    "collapsed": false
   },
   "outputs": [
    {
     "name": "stderr",
     "output_type": "stream",
     "text": [
      "100%|██████████████████████████████████████████████████████████████████████████████| 1900/1900 [34:47<00:00,  1.10s/it]\n"
     ]
    }
   ],
   "source": [
    "events = add_newevents()\n",
    "\n",
    "# columns=['event_date', 'home_name', 'home_score', 'away_name','away_score']\n",
    "df = pd.DataFrame.from_dict(events, orient='index').rename(index=str, \n",
    "                                                               columns={0: \"event_date\",\n",
    "                                                                        1: \"home_name\",\n",
    "                                                                        2: \"home_score\",\n",
    "                                                                        3: \"away_name\",\n",
    "                                                                        4: \"away_score\"})"
   ]
  },
  {
   "cell_type": "code",
   "execution_count": 79,
   "metadata": {
    "collapsed": false
   },
   "outputs": [],
   "source": [
    "df.to_csv(\"../../datasets/soccer/majorleague_results.csv\")"
   ]
  },
  {
   "cell_type": "markdown",
   "metadata": {},
   "source": [
    "## Soccer score\n",
    "### CHAMPIONS LEAGUE champ_league"
   ]
  },
  {
   "cell_type": "code",
   "execution_count": 81,
   "metadata": {
    "collapsed": false
   },
   "outputs": [
    {
     "name": "stderr",
     "output_type": "stream",
     "text": [
      "100%|██████████████████████████████████████████████████████████████████████████████| 1900/1900 [31:54<00:00,  1.01s/it]\n"
     ]
    }
   ],
   "source": [
    "events_dic = {}\n",
    "for date in tqdm(date_list):\n",
    "#         url\n",
    "    url = 'https://io.oddsshark.com/scores/champ_league/'+ date\n",
    "#         headers\n",
    "    headers = {\n",
    "    'User-Agent': 'Mozilla/5.0 (Windows NT 10.0; Win64; x64) AppleWebKit/537.36 (KHTML, like Gecko) Chrome/65.0.3325.181 Safari/537.36',\n",
    "    'Authorization': 'io.oddsshark.com',\n",
    "    'Path': '/scores/champ_league/'+ date,\n",
    "    'Referer': 'https://www.oddsshark.com/soccer/champ_league/scores',\n",
    "    'Connection': 'keep-alive'\n",
    "    }\n",
    "#         proxy\n",
    "    proxies = {\n",
    "    \"http\": \"121.193.143.249:80\"\n",
    "    }\n",
    "    req = requests.get(url, headers=headers, proxies=proxies)\n",
    "    jdata = req.json()\n",
    "\n",
    "    for data in jdata:\n",
    "        if type(data)!= dict:\n",
    "            continue\n",
    "        event_id = int(data['event_id'])\n",
    "        event_date = data['event_date']\n",
    "\n",
    "        if data.get('home_name'):\n",
    "            home_display_name = data['home_name']     \n",
    "        elif data.get('home_display_name'):\n",
    "            home_display_name = data['home_display_name']\n",
    "        else:\n",
    "            continue\n",
    "        home_score = data['home_score']\n",
    "\n",
    "        if data.get('away_name'):\n",
    "            away_display_name = data['away_name']\n",
    "        elif data.get('away_display_name'):  \n",
    "            away_display_name = data['away_display_name']\n",
    "        else:\n",
    "            continue\n",
    "        away_score = data['away_score']\n",
    "        if events_dic.get(event_id):\n",
    "            events_dic.pop(event_id)\n",
    "        events_dic[event_id] = [event_date,home_display_name,home_score,away_display_name,away_score]\n",
    "df = pd.DataFrame.from_dict(events_dic, orient='index').rename(index=str, \n",
    "                                                               columns={0: \"event_date\",\n",
    "                                                                        1: \"home_name\",\n",
    "                                                                        2: \"home_score\",\n",
    "                                                                        3: \"away_name\",\n",
    "                                                                        4: \"away_score\"})\n",
    "df.to_csv(\"../../datasets/soccer/champ_league_results.csv\")"
   ]
  },
  {
   "cell_type": "markdown",
   "metadata": {},
   "source": [
    "## Soccer score\n",
    "### EPL epl"
   ]
  },
  {
   "cell_type": "code",
   "execution_count": 82,
   "metadata": {
    "collapsed": false
   },
   "outputs": [
    {
     "name": "stderr",
     "output_type": "stream",
     "text": [
      "100%|██████████████████████████████████████████████████████████████████████████████| 1900/1900 [31:45<00:00,  1.00s/it]\n"
     ]
    }
   ],
   "source": [
    "events_dic = {}\n",
    "for date in tqdm(date_list):\n",
    "#         url\n",
    "    url = 'https://io.oddsshark.com/scores/epl/'+ date\n",
    "#         headers\n",
    "    headers = {\n",
    "    'User-Agent': 'Mozilla/5.0 (Windows NT 10.0; Win64; x64) AppleWebKit/537.36 (KHTML, like Gecko) Chrome/65.0.3325.181 Safari/537.36',\n",
    "    'Authorization': 'io.oddsshark.com',\n",
    "    'Path': '/scores/epl/'+ date,\n",
    "    'Referer': 'https://www.oddsshark.com/soccer/epl/scores',\n",
    "    'Connection': 'keep-alive'\n",
    "    }\n",
    "#         proxy\n",
    "    proxies = {\n",
    "    \"http\": \"121.193.143.249:80\"\n",
    "    }\n",
    "    req = requests.get(url, headers=headers, proxies=proxies)\n",
    "    jdata = req.json()\n",
    "\n",
    "    for data in jdata:\n",
    "        if type(data)!= dict:\n",
    "            continue\n",
    "        event_id = int(data['event_id'])\n",
    "        event_date = data['event_date']\n",
    "\n",
    "        if data.get('home_name'):\n",
    "            home_display_name = data['home_name']     \n",
    "        elif data.get('home_display_name'):\n",
    "            home_display_name = data['home_display_name']\n",
    "        else:\n",
    "            continue\n",
    "        home_score = data['home_score']\n",
    "\n",
    "        if data.get('away_name'):\n",
    "            away_display_name = data['away_name']\n",
    "        elif data.get('away_display_name'):  \n",
    "            away_display_name = data['away_display_name']\n",
    "        else:\n",
    "            continue\n",
    "        away_score = data['away_score']\n",
    "        if events_dic.get(event_id):\n",
    "            events_dic.pop(event_id)\n",
    "        events_dic[event_id] = [event_date,home_display_name,home_score,away_display_name,away_score]\n",
    "df = pd.DataFrame.from_dict(events_dic, orient='index').rename(index=str, \n",
    "                                                               columns={0: \"event_date\",\n",
    "                                                                        1: \"home_name\",\n",
    "                                                                        2: \"home_score\",\n",
    "                                                                        3: \"away_name\",\n",
    "                                                                        4: \"away_score\"})\n",
    "df.to_csv(\"../../datasets/soccer/epl_results.csv\")"
   ]
  },
  {
   "cell_type": "markdown",
   "metadata": {},
   "source": [
    "## basketball: NBA, WNBA"
   ]
  },
  {
   "cell_type": "code",
   "execution_count": 88,
   "metadata": {
    "collapsed": false
   },
   "outputs": [
    {
     "name": "stderr",
     "output_type": "stream",
     "text": [
      "100%|██████████████████████████████████████████████████████████████████████████████| 1900/1900 [42:56<00:00,  1.36s/it]\n"
     ]
    }
   ],
   "source": [
    "events_dic = {}\n",
    "for date in tqdm(date_list):\n",
    "#         url\n",
    "    url = 'https://io.oddsshark.com/scores/nba/'+ date\n",
    "#         headers\n",
    "    headers = {\n",
    "    'User-Agent': 'Mozilla/5.0 (Windows NT 10.0; Win64; x64) AppleWebKit/537.36 (KHTML, like Gecko) Chrome/65.0.3325.181 Safari/537.36',\n",
    "    'Authorization': 'io.oddsshark.com',\n",
    "    'Path': '/scores/epl/'+ date,\n",
    "    'Referer': 'https://www.oddsshark.com/nba/scores',\n",
    "    'Connection': 'keep-alive'\n",
    "    }\n",
    "#         proxy\n",
    "    proxies = {\n",
    "    \"http\": \"121.193.143.249:80\"\n",
    "    }\n",
    "    req = requests.get(url, headers=headers, proxies=proxies)\n",
    "    jdata = req.json()\n",
    "\n",
    "    for data in jdata:\n",
    "        if type(data)!= dict:\n",
    "            continue\n",
    "        event_id = int(data['event_id'])\n",
    "        event_date = data['event_date']\n",
    "\n",
    "        if data.get('home_name'):\n",
    "            home_display_name = data['home_name']     \n",
    "        elif data.get('home_team_id'):\n",
    "            home_display_name = data['home_team_id']\n",
    "        else:\n",
    "            continue\n",
    "        home_score = data['home_score']\n",
    "\n",
    "        if data.get('away_name'):\n",
    "            away_display_name = data['away_name']\n",
    "        elif data.get('away_team_id'):  \n",
    "            away_display_name = data['away_team_id']\n",
    "        else:\n",
    "            continue\n",
    "        away_score = data['away_score']\n",
    "        if events_dic.get(event_id):\n",
    "            events_dic.pop(event_id)\n",
    "        events_dic[event_id] = [event_date,home_display_name,home_score,away_display_name,away_score]\n",
    "df = pd.DataFrame.from_dict(events_dic, orient='index').rename(index=str, \n",
    "                                                               columns={0: \"event_date\",\n",
    "                                                                        1: \"home_name\",\n",
    "                                                                        2: \"home_score\",\n",
    "                                                                        3: \"away_name\",\n",
    "                                                                        4: \"away_score\"})\n",
    "df.to_csv(\"../../datasets/basketball/nba_results.csv\")"
   ]
  },
  {
   "cell_type": "markdown",
   "metadata": {},
   "source": [
    "## baseball: MLB mlb"
   ]
  },
  {
   "cell_type": "code",
   "execution_count": 83,
   "metadata": {
    "collapsed": false
   },
   "outputs": [
    {
     "name": "stderr",
     "output_type": "stream",
     "text": [
      "100%|██████████████████████████████████████████████████████████████████████████████| 1900/1900 [48:14<00:00,  1.52s/it]\n"
     ]
    }
   ],
   "source": [
    "events_dic = {}\n",
    "for date in tqdm(date_list):\n",
    "#         url\n",
    "    url = 'https://io.oddsshark.com/scores/mlb/'+ date\n",
    "#         headers\n",
    "    headers = {\n",
    "    'User-Agent': 'Mozilla/5.0 (Windows NT 10.0; Win64; x64) AppleWebKit/537.36 (KHTML, like Gecko) Chrome/65.0.3325.181 Safari/537.36',\n",
    "    'Authorization': 'io.oddsshark.com',\n",
    "    'Path': '/scores/mlb/'+ date,\n",
    "    'Referer': 'https://www.oddsshark.com/mlb/scores',\n",
    "    'Connection': 'keep-alive'\n",
    "    }\n",
    "#         proxy\n",
    "    proxies = {\n",
    "    \"http\": \"121.193.143.249:80\"\n",
    "    }\n",
    "    req = requests.get(url, headers=headers, proxies=proxies)\n",
    "    jdata = req.json()\n",
    "\n",
    "    for data in jdata:\n",
    "        if type(data)!= dict:\n",
    "            continue\n",
    "        event_id = int(data['event_id'])\n",
    "        event_date = data['event_date']\n",
    "\n",
    "        if data.get('home_name'):\n",
    "            home_display_name = data['home_name']     \n",
    "        elif data.get('home_team_id'):\n",
    "            home_display_name = data['home_team_id']\n",
    "        else:\n",
    "            continue\n",
    "        home_score = data['home_score']\n",
    "\n",
    "        if data.get('away_name'):\n",
    "            away_display_name = data['away_name']\n",
    "        elif data.get('away_team_id'):  \n",
    "            away_display_name = data['away_team_id']\n",
    "        else:\n",
    "            continue\n",
    "        away_score = data['away_score']\n",
    "        if events_dic.get(event_id):\n",
    "            events_dic.pop(event_id)\n",
    "        events_dic[event_id] = [event_date,home_display_name,home_score,away_display_name,away_score]\n",
    "df = pd.DataFrame.from_dict(events_dic, orient='index').rename(index=str, \n",
    "                                                               columns={0: \"event_date\",\n",
    "                                                                        1: \"home_name\",\n",
    "                                                                        2: \"home_score\",\n",
    "                                                                        3: \"away_name\",\n",
    "                                                                        4: \"away_score\"})\n",
    "df.to_csv(\"../../datasets/baseball/mlb_results.csv\")"
   ]
  },
  {
   "cell_type": "markdown",
   "metadata": {},
   "source": [
    "## football: NFL"
   ]
  },
  {
   "cell_type": "code",
   "execution_count": 86,
   "metadata": {
    "collapsed": false
   },
   "outputs": [
    {
     "name": "stderr",
     "output_type": "stream",
     "text": [
      "100%|██████████████████████████████████████████████████████████████████████████████████| 26/26 [00:34<00:00,  1.31s/it]\n",
      "100%|██████████████████████████████████████████████████████████████████████████████████| 26/26 [00:38<00:00,  1.49s/it]\n",
      "100%|██████████████████████████████████████████████████████████████████████████████████| 26/26 [00:38<00:00,  1.47s/it]\n"
     ]
    }
   ],
   "source": [
    "time_period = ['p0','p1','p2','p3','p4','1','2','3','4','5','6','7','8','9','10','11','12','13',\n",
    "             '14','15','16','17','w','d','c','s']\n",
    "years = ['2015','2016','2017']\n",
    "events_dic = {}\n",
    "for year in years:\n",
    "    for tp in tqdm(time_period):\n",
    "    #         url\n",
    "        url = 'https://io.oddsshark.com/scores/football/nfl/'+ year + '/' + tp\n",
    "    #         headers\n",
    "        headers = {\n",
    "        'User-Agent': 'Mozilla/5.0 (Windows NT 10.0; Win64; x64) AppleWebKit/537.36 (KHTML, like Gecko) Chrome/65.0.3325.181 Safari/537.36',\n",
    "        'Authorization': 'io.oddsshark.com',\n",
    "        'Path': '/scores/football/nfl/'+ year + '/' + tp,\n",
    "        'Referer': 'https://www.oddsshark.com/nfl/scores',\n",
    "        'Connection': 'keep-alive'\n",
    "        }\n",
    "    #         proxy\n",
    "        proxies = {\n",
    "        \"http\": \"121.193.143.249:80\"\n",
    "        }\n",
    "        req = requests.get(url, headers=headers, proxies=proxies)\n",
    "        jdata = req.json()\n",
    "\n",
    "        for data in jdata:\n",
    "            if type(data)!= dict:\n",
    "                continue\n",
    "            event_id = int(data['event_id'])\n",
    "            event_date = data['event_date']\n",
    "\n",
    "            if data.get('home_name'):\n",
    "                home_display_name = data['home_name']     \n",
    "            elif data.get('home_nick_name'):\n",
    "                home_display_name = data['home_nick_name']\n",
    "            else:\n",
    "                continue\n",
    "            home_score = data['home_score']\n",
    "\n",
    "            if data.get('away_name'):\n",
    "                away_display_name = data['away_name']\n",
    "            elif data.get('away_nick_name'):  \n",
    "                away_display_name = data['away_nick_name']\n",
    "            else:\n",
    "                continue\n",
    "            away_score = data['away_score']\n",
    "            if events_dic.get(event_id):\n",
    "                events_dic.pop(event_id)\n",
    "            events_dic[event_id] = [event_date,home_display_name,home_score,away_display_name,away_score]\n",
    "df = pd.DataFrame.from_dict(events_dic, orient='index').rename(index=str, \n",
    "                                                               columns={0: \"event_date\",\n",
    "                                                                        1: \"home_name\",\n",
    "                                                                        2: \"home_score\",\n",
    "                                                                        3: \"away_name\",\n",
    "                                                                        4: \"away_score\"})\n",
    "df.to_csv(\"../../datasets/football/nfl_results.csv\")"
   ]
  },
  {
   "cell_type": "markdown",
   "metadata": {},
   "source": [
    "## iceball: NHL"
   ]
  },
  {
   "cell_type": "code",
   "execution_count": 87,
   "metadata": {
    "collapsed": false
   },
   "outputs": [
    {
     "name": "stderr",
     "output_type": "stream",
     "text": [
      "100%|██████████████████████████████████████████████████████████████████████████████| 1900/1900 [44:37<00:00,  1.41s/it]\n"
     ]
    }
   ],
   "source": [
    "events_dic = {}\n",
    "for date in tqdm(date_list):\n",
    "#         url\n",
    "    url = 'https://io.oddsshark.com/scores/nhl/'+ date\n",
    "#         headers\n",
    "    headers = {\n",
    "    'User-Agent': 'Mozilla/5.0 (Windows NT 10.0; Win64; x64) AppleWebKit/537.36 (KHTML, like Gecko) Chrome/65.0.3325.181 Safari/537.36',\n",
    "    'Authorization': 'io.oddsshark.com',\n",
    "    'Path': '/scores/nhl/'+ date,\n",
    "    'Referer': 'https://www.oddsshark.com/nhl/scores',\n",
    "    'Connection': 'keep-alive'\n",
    "    }\n",
    "#         proxy\n",
    "    proxies = {\n",
    "    \"http\": \"121.193.143.249:80\"\n",
    "    }\n",
    "    req = requests.get(url, headers=headers, proxies=proxies)\n",
    "    jdata = req.json()\n",
    "\n",
    "    for data in jdata:\n",
    "        if type(data)!= dict:\n",
    "            continue\n",
    "        event_id = int(data['event_id'])\n",
    "        event_date = data['event_date']\n",
    "\n",
    "        if data.get('home_name'):\n",
    "            home_display_name = data['home_name']     \n",
    "        elif data.get('home_team_id'):\n",
    "            home_display_name = data['home_team_id']\n",
    "        else:\n",
    "            continue\n",
    "        home_score = data['home_score']\n",
    "\n",
    "        if data.get('away_name'):\n",
    "            away_display_name = data['away_name']\n",
    "        elif data.get('away_team_id'):  \n",
    "            away_display_name = data['away_team_id']\n",
    "        else:\n",
    "            continue\n",
    "        away_score = data['away_score']\n",
    "        if events_dic.get(event_id):\n",
    "            events_dic.pop(event_id)\n",
    "        events_dic[event_id] = [event_date,home_display_name,home_score,away_display_name,away_score]\n",
    "df = pd.DataFrame.from_dict(events_dic, orient='index').rename(index=str, \n",
    "                                                               columns={0: \"event_date\",\n",
    "                                                                        1: \"home_name\",\n",
    "                                                                        2: \"home_score\",\n",
    "                                                                        3: \"away_name\",\n",
    "                                                                        4: \"away_score\"})\n",
    "df.to_csv(\"../../datasets/iceball/nhl_results.csv\")"
   ]
  },
  {
   "cell_type": "code",
   "execution_count": null,
   "metadata": {
    "collapsed": true
   },
   "outputs": [],
   "source": []
  }
 ],
 "metadata": {
  "kernelspec": {
   "display_name": "Python 3",
   "language": "python",
   "name": "python3"
  },
  "language_info": {
   "codemirror_mode": {
    "name": "ipython",
    "version": 3
   },
   "file_extension": ".py",
   "mimetype": "text/x-python",
   "name": "python",
   "nbconvert_exporter": "python",
   "pygments_lexer": "ipython3",
   "version": "3.5.4"
  }
 },
 "nbformat": 4,
 "nbformat_minor": 0
}
