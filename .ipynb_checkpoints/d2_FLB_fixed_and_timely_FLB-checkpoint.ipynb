{
 "cells": [
  {
   "cell_type": "markdown",
   "metadata": {
    "collapsed": true
   },
   "source": [
    "## windows changing to count FLB\n",
    "We need three types of FLB to check.\n",
    "- Global FLB for each game\n",
    "- Daily FLB for each game\n",
    "- Hourly FLB for each game\n",
    "\n",
    "### count by windows\n",
    "set window's width, go through whole set and group all obvers in this windows to count. Calculate the percentage of winners in this windows as this of median one.\n",
    "\n",
    "median $\\in$ $[ 0, 1 ]$"
   ]
  },
  {
   "cell_type": "code",
   "execution_count": 1,
   "metadata": {
    "ExecuteTime": {
     "end_time": "2018-07-04T13:30:15.431811Z",
     "start_time": "2018-07-04T13:30:12.131559Z"
    },
    "collapsed": true
   },
   "outputs": [],
   "source": [
    "%matplotlib inline\n",
    "import pandas as pd\n",
    "import os\n",
    "import matplotlib.pyplot as plt\n",
    "import numpy as np\n",
    "\n",
    "folder_path = '../../datasets/rawdata'\n",
    "prob_folder_path = '../../datasets/probability'\n",
    "global_FLB_folder_path = '../../datasets/FLB/global_FLB'\n",
    "daily_FLB_folder_path = '../../datasets/FLB/daily_FLB'\n",
    "hourly_FLB_folder_path = '../../datasets/FLB/hourly_FLB'\n",
    "games = { 'baseball':'/baseball/mlb',\n",
    "         'iceball': '/iceball/nhl',\n",
    "         'soccer_champion':'/soccer/champ_league',\n",
    "         'scoccer_england':'/soccer/epl',\n",
    "         'soccer_major':'/soccer/majorleague'}\n",
    "# folder name is games, result name is games_results.csv\n",
    "\n",
    "games_list = ['baseball','iceball',\n",
    "              'soccer_champion','scoccer_england','soccer_major',\n",
    "              'soccer',\n",
    "              'soccer_home','soccer_away','soccer_draw']"
   ]
  },
  {
   "cell_type": "code",
   "execution_count": 27,
   "metadata": {
    "ExecuteTime": {
     "end_time": "2018-07-04T13:52:09.399322Z",
     "start_time": "2018-07-04T13:52:09.359319Z"
    },
    "collapsed": true
   },
   "outputs": [],
   "source": [
    "def generate_percentage_winners(count_df,windows_weight,left,right):\n",
    "    perc_winnners_obv = pd.DataFrame(columns = ['price','perc_winner'])\n",
    "    medians = np.array(range(101))/100\n",
    "    \n",
    "    for median in medians:\n",
    "        window_low = median - windows_weight\n",
    "        window_high = median + windows_weight\n",
    "        obv_in_windows = count_df[(count_df.iloc[:,0]<=window_high) & (count_df.iloc[:,0]>=window_low)]\n",
    "        win_obv_in_windows = obv_in_windows[obv_in_windows['HOME_WIN']==True]\n",
    "        if len(obv_in_windows) < 1:\n",
    "            continue\n",
    "        percentage_ = round(len(win_obv_in_windows)/len(obv_in_windows),3)\n",
    "#         perc_winnners_obv[median] = percentage_\n",
    "        perc_winnners_obv = perc_winnners_obv.append({'price':median,'perc_winner':percentage_},ignore_index =True)\n",
    "    perc_winnners_obv = perc_winnners_obv.loc[left:right]\n",
    "    perc_winnners_obv = perc_winnners_obv.append({'price':0.0,'perc_winner':0.0},ignore_index =True)\n",
    "    perc_winnners_obv = perc_winnners_obv.append({'price':1.0,'perc_winner':1},ignore_index =True)\n",
    "    perc_winnners_obv = perc_winnners_obv.sort_values(by=['price']).reset_index(drop=True)\n",
    "    return perc_winnners_obv"
   ]
  },
  {
   "cell_type": "markdown",
   "metadata": {},
   "source": [
    "### iceball"
   ]
  },
  {
   "cell_type": "code",
   "execution_count": 75,
   "metadata": {
    "ExecuteTime": {
     "end_time": "2018-07-03T16:49:40.805108Z",
     "start_time": "2018-07-03T16:49:40.335124Z"
    },
    "collapsed": false
   },
   "outputs": [
    {
     "data": {
      "image/png": "[encoded data removed]",
      "text/plain": [
       "<Figure size 432x288 with 1 Axes>"
      ]
     },
     "metadata": {},
     "output_type": "display_data"
    }
   ],
   "source": [
    "# check histogram\n",
    "bins_num=20\n",
    "game_name = 'iceball'\n",
    "count_df = pd.read_csv(FLB_folder_path+'/summary/'+game_name+'.csv').set_index('Unnamed: 0')\n",
    "\n",
    "counts, middiam, objs = plt.hist(count_df.iloc[:,0],range=(0,1),bins=bins_num)\n",
    "win_counts, middiam, objs = plt.hist(count_df[count_df['HOME_WIN']==True].iloc[:,0],range=(0,1),bins=bins_num)\n",
    "# the percentage of winners\n",
    "perc_winners = win_counts/(counts+1e-8)\n",
    "time_period = (middiam[1]-middiam[0])/2\n",
    "probabilities = [i + time_period for i in middiam[:-1]]"
   ]
  },
  {
   "cell_type": "code",
   "execution_count": 79,
   "metadata": {
    "ExecuteTime": {
     "end_time": "2018-07-03T16:52:19.216348Z",
     "start_time": "2018-07-03T16:52:17.933348Z"
    },
    "collapsed": false
   },
   "outputs": [
    {
     "data": {
      "text/plain": [
       "<matplotlib.axes._subplots.AxesSubplot at 0x21a80d88080>"
      ]
     },
     "execution_count": 79,
     "metadata": {},
     "output_type": "execute_result"
    },
    {
     "data": {
      "text/plain": [
       "[<matplotlib.lines.Line2D at 0x21a81a5f048>]"
      ]
     },
     "execution_count": 79,
     "metadata": {},
     "output_type": "execute_result"
    },
    {
     "data": {
      "image/png": "[encoded data removed]",
      "text/plain": [
       "<Figure size 432x288 with 1 Axes>"
      ]
     },
     "metadata": {},
     "output_type": "display_data"
    }
   ],
   "source": [
    "windows_weight = 0.1\n",
    "for game_name in [ 'iceball']:\n",
    "# for game_name in [ 'soccer_home','soccer_away','soccer_draw']:\n",
    "    count_df = pd.read_csv(FLB_folder_path+'/summary/'+game_name+'.csv').set_index('Unnamed: 0')\n",
    "    perc_ = generate_percentage_winners(count_df,windows_weight,20,66)\n",
    "    perc_.plot.scatter(x=0,y=1)\n",
    "    plt.plot([0,1])\n",
    "    perc_.to_csv(FLB_folder_path+'/'+game_name+'_fixed.csv',index=False)"
   ]
  },
  {
   "cell_type": "markdown",
   "metadata": {},
   "source": [
    "### baseball"
   ]
  },
  {
   "cell_type": "code",
   "execution_count": 32,
   "metadata": {
    "ExecuteTime": {
     "end_time": "2018-07-03T16:17:29.554795Z",
     "start_time": "2018-07-03T16:17:28.999731Z"
    },
    "collapsed": false
   },
   "outputs": [
    {
     "data": {
      "image/png": "[encoded data removed]",
      "text/plain": [
       "<Figure size 432x288 with 1 Axes>"
      ]
     },
     "metadata": {},
     "output_type": "display_data"
    }
   ],
   "source": [
    "# check histogram\n",
    "bins_num=20\n",
    "game_name = 'baseball'\n",
    "count_df = pd.read_csv(FLB_folder_path+'/summary/'+game_name+'.csv').set_index('Unnamed: 0')\n",
    "\n",
    "counts, middiam, objs = plt.hist(count_df.iloc[:,0],range=(0,1),bins=bins_num)\n",
    "win_counts, middiam, objs = plt.hist(count_df[count_df['HOME_WIN']==True].iloc[:,0],range=(0,1),bins=bins_num)\n",
    "# the percentage of winners\n",
    "perc_winners = win_counts/(counts+1e-8)\n",
    "time_period = (middiam[1]-middiam[0])/2\n",
    "probabilities = [i + time_period for i in middiam[:-1]]"
   ]
  },
  {
   "cell_type": "code",
   "execution_count": 3,
   "metadata": {
    "ExecuteTime": {
     "end_time": "2018-07-04T13:30:23.806735Z",
     "start_time": "2018-07-04T13:30:21.994950Z"
    },
    "collapsed": false
   },
   "outputs": [
    {
     "data": {
      "text/plain": [
       "<matplotlib.axes._subplots.AxesSubplot at 0x1dc6481a630>"
      ]
     },
     "execution_count": 3,
     "metadata": {},
     "output_type": "execute_result"
    },
    {
     "data": {
      "text/plain": [
       "[<matplotlib.lines.Line2D at 0x1dc64808828>]"
      ]
     },
     "execution_count": 3,
     "metadata": {},
     "output_type": "execute_result"
    },
    {
     "data": {
      "image/png": "[encoded data removed]",
      "text/plain": [
       "<Figure size 432x288 with 1 Axes>"
      ]
     },
     "metadata": {},
     "output_type": "display_data"
    }
   ],
   "source": [
    "windows_weight = 0.1\n",
    "for game_name in [ 'baseball']:\n",
    "# for game_name in [ 'soccer_home','soccer_away','soccer_draw']:\n",
    "    count_df = pd.read_csv(FLB_folder_path+'/summary/'+game_name+'.csv').set_index('Unnamed: 0')\n",
    "    perc_ = generate_percentage_winners(count_df,windows_weight,0,100)\n",
    "    perc_.plot.scatter(x=0,y=1)\n",
    "    plt.plot([0,1])\n",
    "    perc_.to_csv(FLB_folder_path+'/'+game_name+'_fixed.csv',index=False)"
   ]
  },
  {
   "cell_type": "markdown",
   "metadata": {},
   "source": [
    "### soccer"
   ]
  },
  {
   "cell_type": "code",
   "execution_count": 45,
   "metadata": {
    "ExecuteTime": {
     "end_time": "2018-07-03T16:21:59.595514Z",
     "start_time": "2018-07-03T16:21:56.817516Z"
    },
    "collapsed": false
   },
   "outputs": [
    {
     "data": {
      "image/png": "[encoded data removed]",
      "text/plain": [
       "<Figure size 432x288 with 1 Axes>"
      ]
     },
     "metadata": {},
     "output_type": "display_data"
    }
   ],
   "source": [
    "# check histogram\n",
    "bins_num=20\n",
    "game_name = 'soccer'\n",
    "count_df = pd.read_csv(FLB_folder_path+'/summary/'+game_name+'.csv').set_index('Unnamed: 0')\n",
    "\n",
    "counts, middiam, objs = plt.hist(count_df.iloc[:,0],range=(0,1),bins=bins_num)\n",
    "win_counts, middiam, objs = plt.hist(count_df[count_df['HOME_WIN']==True].iloc[:,0],range=(0,1),bins=bins_num)\n",
    "# the percentage of winners\n",
    "perc_winners = win_counts/(counts+1e-8)\n",
    "time_period = (middiam[1]-middiam[0])/2\n",
    "probabilities = [i + time_period for i in middiam[:-1]]"
   ]
  },
  {
   "cell_type": "code",
   "execution_count": 82,
   "metadata": {
    "ExecuteTime": {
     "end_time": "2018-07-03T16:52:47.712690Z",
     "start_time": "2018-07-03T16:52:37.472703Z"
    },
    "collapsed": false,
    "scrolled": true
   },
   "outputs": [
    {
     "data": {
      "text/plain": [
       "<matplotlib.axes._subplots.AxesSubplot at 0x21a812b2978>"
      ]
     },
     "execution_count": 82,
     "metadata": {},
     "output_type": "execute_result"
    },
    {
     "data": {
      "text/plain": [
       "[<matplotlib.lines.Line2D at 0x21a812b22b0>]"
      ]
     },
     "execution_count": 82,
     "metadata": {},
     "output_type": "execute_result"
    },
    {
     "data": {
      "image/png": "[encoded data removed]",
      "text/plain": [
       "<Figure size 432x288 with 1 Axes>"
      ]
     },
     "metadata": {},
     "output_type": "display_data"
    }
   ],
   "source": [
    "windows_weight = 0.05\n",
    "for game_name in [ 'soccer']:\n",
    "# for game_name in [ 'soccer_home','soccer_away','soccer_draw']:\n",
    "    count_df = pd.read_csv(FLB_folder_path+'/summary/'+game_name+'.csv').set_index('Unnamed: 0')\n",
    "    perc_ = generate_percentage_winners(count_df,windows_weight,0,100)\n",
    "    perc_.plot.scatter(x=0,y=1)\n",
    "    plt.plot([0,1])\n",
    "    perc_.to_csv(FLB_folder_path+'/'+game_name+'_fixed.csv',index=False)"
   ]
  },
  {
   "cell_type": "markdown",
   "metadata": {},
   "source": [
    "### soccer home"
   ]
  },
  {
   "cell_type": "code",
   "execution_count": 48,
   "metadata": {
    "ExecuteTime": {
     "end_time": "2018-07-03T16:26:55.392282Z",
     "start_time": "2018-07-03T16:26:54.293280Z"
    },
    "collapsed": false
   },
   "outputs": [
    {
     "data": {
      "image/png": "[encoded data removed]",
      "text/plain": [
       "<Figure size 432x288 with 1 Axes>"
      ]
     },
     "metadata": {},
     "output_type": "display_data"
    }
   ],
   "source": [
    "# check histogram\n",
    "bins_num=20\n",
    "game_name = 'soccer_home'\n",
    "count_df = pd.read_csv(FLB_folder_path+'/summary/'+game_name+'.csv').set_index('Unnamed: 0')\n",
    "\n",
    "counts, middiam, objs = plt.hist(count_df.iloc[:,0],range=(0,1),bins=bins_num)\n",
    "win_counts, middiam, objs = plt.hist(count_df[count_df['HOME_WIN']==True].iloc[:,0],range=(0,1),bins=bins_num)\n",
    "# the percentage of winners\n",
    "perc_winners = win_counts/(counts+1e-8)\n",
    "time_period = (middiam[1]-middiam[0])/2\n",
    "probabilities = [i + time_period for i in middiam[:-1]]"
   ]
  },
  {
   "cell_type": "code",
   "execution_count": 83,
   "metadata": {
    "ExecuteTime": {
     "end_time": "2018-07-03T16:52:52.911694Z",
     "start_time": "2018-07-03T16:52:47.810697Z"
    },
    "collapsed": false
   },
   "outputs": [
    {
     "data": {
      "text/plain": [
       "<matplotlib.axes._subplots.AxesSubplot at 0x21a812d1828>"
      ]
     },
     "execution_count": 83,
     "metadata": {},
     "output_type": "execute_result"
    },
    {
     "data": {
      "text/plain": [
       "[<matplotlib.lines.Line2D at 0x21a812cbd30>]"
      ]
     },
     "execution_count": 83,
     "metadata": {},
     "output_type": "execute_result"
    },
    {
     "data": {
      "image/png": "[encoded data removed]",
      "text/plain": [
       "<Figure size 432x288 with 1 Axes>"
      ]
     },
     "metadata": {},
     "output_type": "display_data"
    }
   ],
   "source": [
    "windows_weight = 0.05\n",
    "for game_name in [ 'soccer_home']:\n",
    "# for game_name in [ 'soccer_home','soccer_away','soccer_draw']:\n",
    "    count_df = pd.read_csv(FLB_folder_path+'/summary/'+game_name+'.csv').set_index('Unnamed: 0')\n",
    "    perc_ = generate_percentage_winners(count_df,windows_weight,0,100)\n",
    "    perc_.plot.scatter(x=0,y=1)\n",
    "    plt.plot([0,1])\n",
    "    perc_.to_csv(FLB_folder_path+'/'+game_name+'_fixed.csv',index=False)"
   ]
  },
  {
   "cell_type": "markdown",
   "metadata": {},
   "source": [
    "### soccer away"
   ]
  },
  {
   "cell_type": "code",
   "execution_count": 55,
   "metadata": {
    "ExecuteTime": {
     "end_time": "2018-07-03T16:30:38.455006Z",
     "start_time": "2018-07-03T16:30:37.055015Z"
    },
    "collapsed": false
   },
   "outputs": [
    {
     "data": {
      "image/png": "[encoded data removed]",
      "text/plain": [
       "<Figure size 432x288 with 1 Axes>"
      ]
     },
     "metadata": {},
     "output_type": "display_data"
    }
   ],
   "source": [
    "# check histogram\n",
    "bins_num=20\n",
    "game_name = 'soccer_away'\n",
    "count_df = pd.read_csv(FLB_folder_path+'/summary/'+game_name+'.csv').set_index('Unnamed: 0')\n",
    "\n",
    "counts, middiam, objs = plt.hist(count_df.iloc[:,0],range=(0,1),bins=bins_num)\n",
    "win_counts, middiam, objs = plt.hist(count_df[count_df['HOME_WIN']==True].iloc[:,0],range=(0,1),bins=bins_num)\n",
    "# the percentage of winners\n",
    "perc_winners = win_counts/(counts+1e-8)\n",
    "time_period = (middiam[1]-middiam[0])/2\n",
    "probabilities = [i + time_period for i in middiam[:-1]]"
   ]
  },
  {
   "cell_type": "code",
   "execution_count": 84,
   "metadata": {
    "ExecuteTime": {
     "end_time": "2018-07-03T16:52:57.326694Z",
     "start_time": "2018-07-03T16:52:53.028705Z"
    },
    "collapsed": false
   },
   "outputs": [
    {
     "data": {
      "text/plain": [
       "<matplotlib.axes._subplots.AxesSubplot at 0x21a81e361d0>"
      ]
     },
     "execution_count": 84,
     "metadata": {},
     "output_type": "execute_result"
    },
    {
     "data": {
      "text/plain": [
       "[<matplotlib.lines.Line2D at 0x21a81e3c2e8>]"
      ]
     },
     "execution_count": 84,
     "metadata": {},
     "output_type": "execute_result"
    },
    {
     "data": {
      "image/png": "[encoded data removed]",
      "text/plain": [
       "<Figure size 432x288 with 1 Axes>"
      ]
     },
     "metadata": {},
     "output_type": "display_data"
    }
   ],
   "source": [
    "windows_weight = 0.05\n",
    "for game_name in [ 'soccer_away']:\n",
    "# for game_name in [ 'soccer_home','soccer_away','soccer_draw']:\n",
    "    count_df = pd.read_csv(FLB_folder_path+'/summary/'+game_name+'.csv').set_index('Unnamed: 0')\n",
    "    perc_ = generate_percentage_winners(count_df,windows_weight,0,85)\n",
    "    perc_.plot.scatter(x=0,y=1)\n",
    "    plt.plot([0,1])\n",
    "    perc_.to_csv(FLB_folder_path+'/'+game_name+'_fixed.csv',index=False)"
   ]
  },
  {
   "cell_type": "markdown",
   "metadata": {},
   "source": [
    "### soccer draw"
   ]
  },
  {
   "cell_type": "code",
   "execution_count": 59,
   "metadata": {
    "ExecuteTime": {
     "end_time": "2018-07-03T16:32:55.824075Z",
     "start_time": "2018-07-03T16:32:54.457084Z"
    },
    "collapsed": false
   },
   "outputs": [
    {
     "data": {
      "image/png": "[encoded data removed]",
      "text/plain": [
       "<Figure size 432x288 with 1 Axes>"
      ]
     },
     "metadata": {},
     "output_type": "display_data"
    }
   ],
   "source": [
    "# check histogram\n",
    "bins_num=20\n",
    "game_name = 'soccer_draw'\n",
    "count_df = pd.read_csv(FLB_folder_path+'/summary/'+game_name+'.csv').set_index('Unnamed: 0')\n",
    "\n",
    "counts, middiam, objs = plt.hist(count_df.iloc[:,0],range=(0,1),bins=bins_num)\n",
    "win_counts, middiam, objs = plt.hist(count_df[count_df['HOME_WIN']==True].iloc[:,0],range=(0,1),bins=bins_num)\n",
    "# the percentage of winners\n",
    "perc_winners = win_counts/(counts+1e-8)\n",
    "time_period = (middiam[1]-middiam[0])/2\n",
    "probabilities = [i + time_period for i in middiam[:-1]]"
   ]
  },
  {
   "cell_type": "code",
   "execution_count": 87,
   "metadata": {
    "ExecuteTime": {
     "end_time": "2018-07-03T17:03:58.510318Z",
     "start_time": "2018-07-03T17:03:55.486314Z"
    },
    "collapsed": false
   },
   "outputs": [
    {
     "data": {
      "text/plain": [
       "<matplotlib.axes._subplots.AxesSubplot at 0x21a81f186a0>"
      ]
     },
     "execution_count": 87,
     "metadata": {},
     "output_type": "execute_result"
    },
    {
     "data": {
      "text/plain": [
       "[<matplotlib.lines.Line2D at 0x21a81f15e10>]"
      ]
     },
     "execution_count": 87,
     "metadata": {},
     "output_type": "execute_result"
    },
    {
     "data": {
      "image/png": "[encoded data removed]",
      "text/plain": [
       "<Figure size 432x288 with 1 Axes>"
      ]
     },
     "metadata": {},
     "output_type": "display_data"
    }
   ],
   "source": [
    "windows_weight = 0.05\n",
    "for game_name in [ 'soccer_draw']:\n",
    "# for game_name in [ 'soccer_home','soccer_away','soccer_draw']:\n",
    "    count_df = pd.read_csv(FLB_folder_path+'/summary/'+game_name+'.csv').set_index('Unnamed: 0')\n",
    "    perc_ = generate_percentage_winners(count_df,windows_weight,0,55).iloc[:-1,:]\n",
    "    perc_.plot.scatter(x=0,y=1)\n",
    "    plt.plot([0,1])\n",
    "    perc_.to_csv(FLB_folder_path+'/'+game_name+'_fixed.csv',index=False)"
   ]
  },
  {
   "cell_type": "markdown",
   "metadata": {},
   "source": [
    "## timely FLB"
   ]
  },
  {
   "cell_type": "markdown",
   "metadata": {},
   "source": [
    "### baseball"
   ]
  },
  {
   "cell_type": "code",
   "execution_count": 54,
   "metadata": {
    "ExecuteTime": {
     "end_time": "2018-07-04T14:01:52.720881Z",
     "start_time": "2018-07-04T14:01:52.678885Z"
    },
    "collapsed": true
   },
   "outputs": [],
   "source": [
    "def generate_percentage_winners(count_df,windows_weight,left,right):\n",
    "    perc_winnners_obv = pd.DataFrame(columns = ['price','perc_winner'])\n",
    "    medians = np.array(range(101))/100\n",
    "    \n",
    "    for median in medians:\n",
    "        window_low = median - windows_weight\n",
    "        window_high = median + windows_weight\n",
    "        obv_in_windows = count_df[(count_df.iloc[:,0]<=window_high) & (count_df.iloc[:,0]>=window_low)]\n",
    "        win_obv_in_windows = obv_in_windows[obv_in_windows['HOME_WIN']==True]\n",
    "        if len(obv_in_windows) < 1:\n",
    "            continue\n",
    "        percentage_ = round(len(win_obv_in_windows)/len(obv_in_windows),3)\n",
    "#         perc_winnners_obv[median] = percentage_\n",
    "        perc_winnners_obv = perc_winnners_obv.append({'price':median,'perc_winner':percentage_},ignore_index =True)\n",
    "    perc_winnners_obv = perc_winnners_obv.loc[left:right]\n",
    "    perc_winnners_obv = perc_winnners_obv.append({'price':0.0,'perc_winner':0.0},ignore_index =True)\n",
    "    perc_winnners_obv = perc_winnners_obv.append({'price':1.0,'perc_winner':1.0},ignore_index =True)\n",
    "    perc_winnners_obv = perc_winnners_obv.sort_values(by=['price']).reset_index(drop=True)\n",
    "    return perc_winnners_obv"
   ]
  },
  {
   "cell_type": "code",
   "execution_count": 72,
   "metadata": {
    "ExecuteTime": {
     "end_time": "2018-07-04T14:23:33.416364Z",
     "start_time": "2018-07-04T14:23:31.719384Z"
    },
    "collapsed": false
   },
   "outputs": [
    {
     "data": {
      "text/plain": [
       "<matplotlib.axes._subplots.AxesSubplot at 0x1dc67c02550>"
      ]
     },
     "execution_count": 72,
     "metadata": {},
     "output_type": "execute_result"
    },
    {
     "data": {
      "text/plain": [
       "[<matplotlib.lines.Line2D at 0x1dc67d16e80>]"
      ]
     },
     "execution_count": 72,
     "metadata": {},
     "output_type": "execute_result"
    },
    {
     "data": {
      "text/html": [
       "<div>\n",
       "<style scoped>\n",
       "    .dataframe tbody tr th:only-of-type {\n",
       "        vertical-align: middle;\n",
       "    }\n",
       "\n",
       "    .dataframe tbody tr th {\n",
       "        vertical-align: top;\n",
       "    }\n",
       "\n",
       "    .dataframe thead th {\n",
       "        text-align: right;\n",
       "    }\n",
       "</style>\n",
       "<table border=\"1\" class=\"dataframe\">\n",
       "  <thead>\n",
       "    <tr style=\"text-align: right;\">\n",
       "      <th></th>\n",
       "      <th>price</th>\n",
       "      <th>perc_winner</th>\n",
       "    </tr>\n",
       "  </thead>\n",
       "  <tbody>\n",
       "    <tr>\n",
       "      <th>0</th>\n",
       "      <td>0.00</td>\n",
       "      <td>0.000</td>\n",
       "    </tr>\n",
       "    <tr>\n",
       "      <th>1</th>\n",
       "      <td>0.35</td>\n",
       "      <td>0.402</td>\n",
       "    </tr>\n",
       "    <tr>\n",
       "      <th>2</th>\n",
       "      <td>0.36</td>\n",
       "      <td>0.408</td>\n",
       "    </tr>\n",
       "    <tr>\n",
       "      <th>3</th>\n",
       "      <td>0.37</td>\n",
       "      <td>0.420</td>\n",
       "    </tr>\n",
       "    <tr>\n",
       "      <th>4</th>\n",
       "      <td>0.38</td>\n",
       "      <td>0.426</td>\n",
       "    </tr>\n",
       "    <tr>\n",
       "      <th>5</th>\n",
       "      <td>0.39</td>\n",
       "      <td>0.434</td>\n",
       "    </tr>\n",
       "    <tr>\n",
       "      <th>6</th>\n",
       "      <td>0.40</td>\n",
       "      <td>0.448</td>\n",
       "    </tr>\n",
       "    <tr>\n",
       "      <th>7</th>\n",
       "      <td>0.41</td>\n",
       "      <td>0.451</td>\n",
       "    </tr>\n",
       "    <tr>\n",
       "      <th>8</th>\n",
       "      <td>0.42</td>\n",
       "      <td>0.458</td>\n",
       "    </tr>\n",
       "    <tr>\n",
       "      <th>9</th>\n",
       "      <td>0.43</td>\n",
       "      <td>0.465</td>\n",
       "    </tr>\n",
       "    <tr>\n",
       "      <th>10</th>\n",
       "      <td>0.44</td>\n",
       "      <td>0.474</td>\n",
       "    </tr>\n",
       "    <tr>\n",
       "      <th>11</th>\n",
       "      <td>0.45</td>\n",
       "      <td>0.482</td>\n",
       "    </tr>\n",
       "    <tr>\n",
       "      <th>12</th>\n",
       "      <td>0.46</td>\n",
       "      <td>0.487</td>\n",
       "    </tr>\n",
       "    <tr>\n",
       "      <th>13</th>\n",
       "      <td>0.47</td>\n",
       "      <td>0.492</td>\n",
       "    </tr>\n",
       "    <tr>\n",
       "      <th>14</th>\n",
       "      <td>0.48</td>\n",
       "      <td>0.499</td>\n",
       "    </tr>\n",
       "    <tr>\n",
       "      <th>15</th>\n",
       "      <td>0.49</td>\n",
       "      <td>0.505</td>\n",
       "    </tr>\n",
       "    <tr>\n",
       "      <th>16</th>\n",
       "      <td>0.50</td>\n",
       "      <td>0.511</td>\n",
       "    </tr>\n",
       "    <tr>\n",
       "      <th>17</th>\n",
       "      <td>0.51</td>\n",
       "      <td>0.517</td>\n",
       "    </tr>\n",
       "    <tr>\n",
       "      <th>18</th>\n",
       "      <td>0.52</td>\n",
       "      <td>0.524</td>\n",
       "    </tr>\n",
       "    <tr>\n",
       "      <th>19</th>\n",
       "      <td>0.53</td>\n",
       "      <td>0.529</td>\n",
       "    </tr>\n",
       "    <tr>\n",
       "      <th>20</th>\n",
       "      <td>0.54</td>\n",
       "      <td>0.534</td>\n",
       "    </tr>\n",
       "    <tr>\n",
       "      <th>21</th>\n",
       "      <td>0.55</td>\n",
       "      <td>0.540</td>\n",
       "    </tr>\n",
       "    <tr>\n",
       "      <th>22</th>\n",
       "      <td>0.56</td>\n",
       "      <td>0.545</td>\n",
       "    </tr>\n",
       "    <tr>\n",
       "      <th>23</th>\n",
       "      <td>0.57</td>\n",
       "      <td>0.549</td>\n",
       "    </tr>\n",
       "    <tr>\n",
       "      <th>24</th>\n",
       "      <td>0.58</td>\n",
       "      <td>0.555</td>\n",
       "    </tr>\n",
       "    <tr>\n",
       "      <th>25</th>\n",
       "      <td>0.59</td>\n",
       "      <td>0.560</td>\n",
       "    </tr>\n",
       "    <tr>\n",
       "      <th>26</th>\n",
       "      <td>0.60</td>\n",
       "      <td>0.564</td>\n",
       "    </tr>\n",
       "    <tr>\n",
       "      <th>27</th>\n",
       "      <td>0.61</td>\n",
       "      <td>0.568</td>\n",
       "    </tr>\n",
       "    <tr>\n",
       "      <th>28</th>\n",
       "      <td>0.62</td>\n",
       "      <td>0.573</td>\n",
       "    </tr>\n",
       "    <tr>\n",
       "      <th>29</th>\n",
       "      <td>0.63</td>\n",
       "      <td>0.577</td>\n",
       "    </tr>\n",
       "    <tr>\n",
       "      <th>30</th>\n",
       "      <td>0.64</td>\n",
       "      <td>0.582</td>\n",
       "    </tr>\n",
       "    <tr>\n",
       "      <th>31</th>\n",
       "      <td>0.65</td>\n",
       "      <td>0.587</td>\n",
       "    </tr>\n",
       "    <tr>\n",
       "      <th>32</th>\n",
       "      <td>0.66</td>\n",
       "      <td>0.594</td>\n",
       "    </tr>\n",
       "    <tr>\n",
       "      <th>33</th>\n",
       "      <td>0.67</td>\n",
       "      <td>0.599</td>\n",
       "    </tr>\n",
       "    <tr>\n",
       "      <th>34</th>\n",
       "      <td>0.68</td>\n",
       "      <td>0.604</td>\n",
       "    </tr>\n",
       "    <tr>\n",
       "      <th>35</th>\n",
       "      <td>0.69</td>\n",
       "      <td>0.610</td>\n",
       "    </tr>\n",
       "    <tr>\n",
       "      <th>36</th>\n",
       "      <td>0.70</td>\n",
       "      <td>0.619</td>\n",
       "    </tr>\n",
       "    <tr>\n",
       "      <th>37</th>\n",
       "      <td>0.71</td>\n",
       "      <td>0.630</td>\n",
       "    </tr>\n",
       "    <tr>\n",
       "      <th>38</th>\n",
       "      <td>0.72</td>\n",
       "      <td>0.635</td>\n",
       "    </tr>\n",
       "    <tr>\n",
       "      <th>39</th>\n",
       "      <td>0.73</td>\n",
       "      <td>0.646</td>\n",
       "    </tr>\n",
       "    <tr>\n",
       "      <th>40</th>\n",
       "      <td>0.74</td>\n",
       "      <td>0.655</td>\n",
       "    </tr>\n",
       "    <tr>\n",
       "      <th>41</th>\n",
       "      <td>0.75</td>\n",
       "      <td>0.665</td>\n",
       "    </tr>\n",
       "    <tr>\n",
       "      <th>42</th>\n",
       "      <td>1.00</td>\n",
       "      <td>1.000</td>\n",
       "    </tr>\n",
       "  </tbody>\n",
       "</table>\n",
       "</div>"
      ],
      "text/plain": [
       "    price  perc_winner\n",
       "0    0.00        0.000\n",
       "1    0.35        0.402\n",
       "2    0.36        0.408\n",
       "3    0.37        0.420\n",
       "4    0.38        0.426\n",
       "5    0.39        0.434\n",
       "6    0.40        0.448\n",
       "7    0.41        0.451\n",
       "8    0.42        0.458\n",
       "9    0.43        0.465\n",
       "10   0.44        0.474\n",
       "11   0.45        0.482\n",
       "12   0.46        0.487\n",
       "13   0.47        0.492\n",
       "14   0.48        0.499\n",
       "15   0.49        0.505\n",
       "16   0.50        0.511\n",
       "17   0.51        0.517\n",
       "18   0.52        0.524\n",
       "19   0.53        0.529\n",
       "20   0.54        0.534\n",
       "21   0.55        0.540\n",
       "22   0.56        0.545\n",
       "23   0.57        0.549\n",
       "24   0.58        0.555\n",
       "25   0.59        0.560\n",
       "26   0.60        0.564\n",
       "27   0.61        0.568\n",
       "28   0.62        0.573\n",
       "29   0.63        0.577\n",
       "30   0.64        0.582\n",
       "31   0.65        0.587\n",
       "32   0.66        0.594\n",
       "33   0.67        0.599\n",
       "34   0.68        0.604\n",
       "35   0.69        0.610\n",
       "36   0.70        0.619\n",
       "37   0.71        0.630\n",
       "38   0.72        0.635\n",
       "39   0.73        0.646\n",
       "40   0.74        0.655\n",
       "41   0.75        0.665\n",
       "42   1.00        1.000"
      ]
     },
     "execution_count": 72,
     "metadata": {},
     "output_type": "execute_result"
    },
    {
     "data": {
      "image/png": "[encoded data removed]",
      "text/plain": [
       "<Figure size 432x288 with 1 Axes>"
      ]
     },
     "metadata": {},
     "output_type": "display_data"
    },
    {
     "data": {
      "image/png": "[encoded data removed]",
      "text/plain": [
       "<Figure size 432x288 with 1 Axes>"
      ]
     },
     "metadata": {},
     "output_type": "display_data"
    }
   ],
   "source": [
    "# check histogram\n",
    "# 三等份点 12370 ,40196  max=463870\n",
    "windows_weight = 0.1\n",
    "\n",
    "bins_num=5\n",
    "game_name = 'baseball'\n",
    "count_df = pd.read_csv(FLB_folder_path+'/summary/'+game_name+'_with_duration.csv').sort_values(by='duration')\n",
    "split_list = np.array_split(range(len(count_df)),bins_num)\n",
    "\n",
    "# b = split_list[0]\n",
    "# df = count_df[b[0]:b[-1]]\n",
    "# perc_ = generate_percentage_winners(df,windows_weight,0,101)\n",
    "# perc_\n",
    "# perc_.plot.scatter(x=0,y=1)\n",
    "# plt.plot([0,1])\n",
    "# perc_.to_csv(FLB_folder_path+'/timely/'+game_name+'_5_0.csv',index=False)\n",
    "\n",
    "# b = split_list[1]\n",
    "# df = count_df[b[0]:b[-1]]\n",
    "# perc_ = generate_percentage_winners(df,windows_weight,0,76)\n",
    "# perc_\n",
    "# perc_.plot.scatter(x=0,y=1)\n",
    "# plt.plot([0,1])\n",
    "# perc_.to_csv(FLB_folder_path+'/timely/'+game_name+'_5_1.csv',index=False)\n",
    "\n",
    "# b = split_list[2]\n",
    "# df = count_df[b[0]:b[-1]]\n",
    "# perc_ = generate_percentage_winners(df,windows_weight,0,101)\n",
    "# perc_.plot.scatter(x=0,y=1)\n",
    "# perc_\n",
    "# plt.plot([0,1])\n",
    "# perc_.to_csv(FLB_folder_path+'/timely/'+game_name+'_5_2.csv',index=False)\n",
    "\n",
    "b = split_list[3]\n",
    "df = count_df[b[0]:b[-1]]\n",
    "counts, middiam, objs = plt.hist(df.iloc[:,0],bins=50)\n",
    "perc_ = generate_percentage_winners(df,windows_weight,20,60)\n",
    "perc_.plot.scatter(x=0,y=1)\n",
    "plt.plot([0,1])\n",
    "perc_\n",
    "perc_.to_csv(FLB_folder_path+'/timely/'+game_name+'_5_3.csv',index=False)\n",
    "\n",
    "# b = split_list[4]\n",
    "# df = count_df[b[0]:b[-1]]\n",
    "# perc_ = generate_percentage_winners(df,windows_weight,0,101).iloc[:-1,:]\n",
    "# perc_.plot.scatter(x=0,y=1)\n",
    "# plt.plot([0,1])\n",
    "# perc_.to_csv(FLB_folder_path+'/timely/'+game_name+'_5_4.csv',index=False)"
   ]
  },
  {
   "cell_type": "markdown",
   "metadata": {},
   "source": [
    "### iceball "
   ]
  },
  {
   "cell_type": "code",
   "execution_count": 117,
   "metadata": {
    "ExecuteTime": {
     "end_time": "2018-07-03T19:32:39.994995Z",
     "start_time": "2018-07-03T19:32:39.423970Z"
    },
    "collapsed": false
   },
   "outputs": [
    {
     "data": {
      "text/html": [
       "<div>\n",
       "<style scoped>\n",
       "    .dataframe tbody tr th:only-of-type {\n",
       "        vertical-align: middle;\n",
       "    }\n",
       "\n",
       "    .dataframe tbody tr th {\n",
       "        vertical-align: top;\n",
       "    }\n",
       "\n",
       "    .dataframe thead th {\n",
       "        text-align: right;\n",
       "    }\n",
       "</style>\n",
       "<table border=\"1\" class=\"dataframe\">\n",
       "  <thead>\n",
       "    <tr style=\"text-align: right;\">\n",
       "      <th></th>\n",
       "      <th>home</th>\n",
       "      <th>HOME_WIN</th>\n",
       "      <th>duration</th>\n",
       "    </tr>\n",
       "  </thead>\n",
       "  <tbody>\n",
       "    <tr>\n",
       "      <th>202464</th>\n",
       "      <td>0.601594</td>\n",
       "      <td>False</td>\n",
       "      <td>45668.0</td>\n",
       "    </tr>\n",
       "    <tr>\n",
       "      <th>23668</th>\n",
       "      <td>0.682540</td>\n",
       "      <td>False</td>\n",
       "      <td>45668.0</td>\n",
       "    </tr>\n",
       "    <tr>\n",
       "      <th>205683</th>\n",
       "      <td>0.595142</td>\n",
       "      <td>True</td>\n",
       "      <td>45669.0</td>\n",
       "    </tr>\n",
       "    <tr>\n",
       "      <th>106824</th>\n",
       "      <td>0.604743</td>\n",
       "      <td>True</td>\n",
       "      <td>45669.0</td>\n",
       "    </tr>\n",
       "    <tr>\n",
       "      <th>105310</th>\n",
       "      <td>0.495050</td>\n",
       "      <td>False</td>\n",
       "      <td>45670.0</td>\n",
       "    </tr>\n",
       "  </tbody>\n",
       "</table>\n",
       "</div>"
      ],
      "text/plain": [
       "            home  HOME_WIN  duration\n",
       "202464  0.601594     False   45668.0\n",
       "23668   0.682540     False   45668.0\n",
       "205683  0.595142      True   45669.0\n",
       "106824  0.604743      True   45669.0\n",
       "105310  0.495050     False   45670.0"
      ]
     },
     "execution_count": 117,
     "metadata": {},
     "output_type": "execute_result"
    },
    {
     "data": {
      "image/png": "[encoded data removed]",
      "text/plain": [
       "<Figure size 432x288 with 1 Axes>"
      ]
     },
     "metadata": {},
     "output_type": "display_data"
    }
   ],
   "source": [
    "# check histogram\n",
    "# 三等份点 18153,45670.0  max=549887.0\n",
    "bins_num=50\n",
    "game_name = 'iceball'\n",
    "count_df = pd.read_csv(FLB_folder_path+'/summary/'+game_name+'_with_duration.csv')\n",
    "counts, middiam, objs = plt.hist(count_df.loc[:,'duration'],bins=bins_num)"
   ]
  },
  {
   "cell_type": "markdown",
   "metadata": {},
   "source": [
    "### soccer_home"
   ]
  },
  {
   "cell_type": "code",
   "execution_count": 118,
   "metadata": {
    "ExecuteTime": {
     "end_time": "2018-07-03T19:32:50.562231Z",
     "start_time": "2018-07-03T19:32:48.763228Z"
    },
    "collapsed": false
   },
   "outputs": [
    {
     "data": {
      "text/html": [
       "<div>\n",
       "<style scoped>\n",
       "    .dataframe tbody tr th:only-of-type {\n",
       "        vertical-align: middle;\n",
       "    }\n",
       "\n",
       "    .dataframe tbody tr th {\n",
       "        vertical-align: top;\n",
       "    }\n",
       "\n",
       "    .dataframe thead th {\n",
       "        text-align: right;\n",
       "    }\n",
       "</style>\n",
       "<table border=\"1\" class=\"dataframe\">\n",
       "  <thead>\n",
       "    <tr style=\"text-align: right;\">\n",
       "      <th></th>\n",
       "      <th>Unnamed: 0</th>\n",
       "      <th>home</th>\n",
       "      <th>HOME_WIN</th>\n",
       "      <th>duration</th>\n",
       "    </tr>\n",
       "  </thead>\n",
       "  <tbody>\n",
       "    <tr>\n",
       "      <th>363947</th>\n",
       "      <td>363947</td>\n",
       "      <td>0.740933</td>\n",
       "      <td>True</td>\n",
       "      <td>177390.0</td>\n",
       "    </tr>\n",
       "    <tr>\n",
       "      <th>381637</th>\n",
       "      <td>381637</td>\n",
       "      <td>0.393701</td>\n",
       "      <td>False</td>\n",
       "      <td>177390.0</td>\n",
       "    </tr>\n",
       "    <tr>\n",
       "      <th>361713</th>\n",
       "      <td>361713</td>\n",
       "      <td>0.480769</td>\n",
       "      <td>True</td>\n",
       "      <td>177390.0</td>\n",
       "    </tr>\n",
       "    <tr>\n",
       "      <th>778822</th>\n",
       "      <td>778822</td>\n",
       "      <td>0.609375</td>\n",
       "      <td>True</td>\n",
       "      <td>177390.0</td>\n",
       "    </tr>\n",
       "    <tr>\n",
       "      <th>738825</th>\n",
       "      <td>738825</td>\n",
       "      <td>0.526066</td>\n",
       "      <td>True</td>\n",
       "      <td>177390.0</td>\n",
       "    </tr>\n",
       "  </tbody>\n",
       "</table>\n",
       "</div>"
      ],
      "text/plain": [
       "        Unnamed: 0      home  HOME_WIN  duration\n",
       "363947      363947  0.740933      True  177390.0\n",
       "381637      381637  0.393701     False  177390.0\n",
       "361713      361713  0.480769      True  177390.0\n",
       "778822      778822  0.609375      True  177390.0\n",
       "738825      738825  0.526066      True  177390.0"
      ]
     },
     "execution_count": 118,
     "metadata": {},
     "output_type": "execute_result"
    },
    {
     "data": {
      "image/png": "[encoded data removed]",
      "text/plain": [
       "<Figure size 432x288 with 1 Axes>"
      ]
     },
     "metadata": {},
     "output_type": "display_data"
    }
   ],
   "source": [
    "# check histogram\n",
    "# 三等份点 75254 ,177390.0 max = 6163328.0\n",
    "bins_num=50\n",
    "game_name = 'soccer_home'\n",
    "count_df = pd.read_csv(FLB_folder_path+'/summary/'+game_name+'_with_duration.csv')\n",
    "counts, middiam, objs = plt.hist(count_df.loc[:,'duration'],bins=bins_num)"
   ]
  },
  {
   "cell_type": "code",
   "execution_count": null,
   "metadata": {
    "collapsed": true
   },
   "outputs": [],
   "source": []
  }
 ],
 "metadata": {
  "kernelspec": {
   "display_name": "Python 3",
   "language": "python",
   "name": "python3"
  },
  "language_info": {
   "codemirror_mode": {
    "name": "ipython",
    "version": 3
   },
   "file_extension": ".py",
   "mimetype": "text/x-python",
   "name": "python",
   "nbconvert_exporter": "python",
   "pygments_lexer": "ipython3",
   "version": "3.5.4"
  },
  "varInspector": {
   "cols": {
    "lenName": 16,
    "lenType": 16,
    "lenVar": 40
   },
   "kernels_config": {
    "python": {
     "delete_cmd_postfix": "",
     "delete_cmd_prefix": "del ",
     "library": "var_list.py",
     "varRefreshCmd": "print(var_dic_list())"
    },
    "r": {
     "delete_cmd_postfix": ") ",
     "delete_cmd_prefix": "rm(",
     "library": "var_list.r",
     "varRefreshCmd": "cat(var_dic_list()) "
    }
   },
   "types_to_exclude": [
    "module",
    "function",
    "builtin_function_or_method",
    "instance",
    "_Feature"
   ],
   "window_display": false
  }
 },
 "nbformat": 4,
 "nbformat_minor": 2
}
