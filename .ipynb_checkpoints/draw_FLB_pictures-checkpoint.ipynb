{
 "cells": [
  {
   "cell_type": "markdown",
   "metadata": {},
   "source": [
    "## try the FLB picture before resample"
   ]
  },
  {
   "cell_type": "code",
   "execution_count": 2,
   "metadata": {
    "collapsed": true
   },
   "outputs": [],
   "source": [
    "import pandas as pd\n",
    "import os\n",
    "folder_path = '../../datasets/rawdata'\n",
    "prob_folder_path = '../../datasets/probability'\n",
    "resam_folder_path = '../../datasets/resample_by_min'\n",
    "games = { 'baseball':'/baseball/mlb','basketball':'/basketball/nba','football':'/football/nfl',\n",
    "            'iceball': '/iceball/nhl','soccer_champion':'/soccer/champ_league','scoccer_england':'/soccer/epl',\n",
    "            'soccer_major':'/soccer/majorleague'}\n",
    "# folder name is games, result name is games_results.csv"
   ]
  },
  {
   "cell_type": "code",
   "execution_count": 77,
   "metadata": {
    "collapsed": false
   },
   "outputs": [
    {
     "data": {
      "text/plain": [
       "<matplotlib.axes._subplots.AxesSubplot at 0x274f25af6a0>"
      ]
     },
     "execution_count": 77,
     "metadata": {},
     "output_type": "execute_result"
    },
    {
     "data": {
      "image/png": "[encoded data removed]",
      "text/plain": [
       "<Figure size 432x288 with 1 Axes>"
      ]
     },
     "metadata": {},
     "output_type": "display_data"
    }
   ],
   "source": [
    "no_float = 2\n",
    "game_name = 'baseball'\n",
    "results_df = pd.read_csv(folder_path + games[game_name] + '_results.csv').set_index('Unnamed: 0')\n",
    "# count No. win\n",
    "count_df = pd.DataFrame()\n",
    "index_list = [int(i[:-4]) for i in os.listdir(prob_folder_path + games[game_name])]\n",
    "for index in index_list:\n",
    "    # iter line get index find series and give result\n",
    "    HOME_WIN = False\n",
    "    if results_df.loc[index,'home_score']> results_df.loc[index,'away_score']:\n",
    "        HOME_WIN = True\n",
    "    series_df = pd.read_csv(prob_folder_path + games[game_name]+'/'+str(index)+'.csv').set_index('time') \\\n",
    "                .applymap(lambda x :round(x,no_float))\n",
    "    series_df['HOME_WIN'] = HOME_WIN\n",
    "    count_df = pd.concat([count_df,series_df],ignore_index=True)\n",
    "\n",
    "# groupby count\n",
    "win_no = count_df.groupby(['home']).sum().rename(index=str, columns={\"HOME_WIN\": \"WIN_NO\"})\n",
    "total_no = count_df.groupby(['home']).count().rename(index=str, columns={\"HOME_WIN\": \"TOTAL_NO\"})\n",
    "no_df = win_no.join(total_no)\n",
    "no_df['win_rate'] = no_df['WIN_NO'] / no_df['TOTAL_NO']\n",
    "no_df = no_df.reset_index().applymap(lambda x: float(x))\n",
    "no_df.plot.scatter(x='home',y='win_rate',c='DarkBlue')"
   ]
  },
  {
   "cell_type": "markdown",
   "metadata": {},
   "source": [
    "## only use last value"
   ]
  },
  {
   "cell_type": "code",
   "execution_count": 78,
   "metadata": {
    "collapsed": false
   },
   "outputs": [
    {
     "data": {
      "text/plain": [
       "<matplotlib.axes._subplots.AxesSubplot at 0x205a035deb8>"
      ]
     },
     "execution_count": 78,
     "metadata": {},
     "output_type": "execute_result"
    },
    {
     "data": {
      "image/png": "[encoded data removed]",
      "text/plain": [
       "<Figure size 432x288 with 1 Axes>"
      ]
     },
     "metadata": {},
     "output_type": "display_data"
    }
   ],
   "source": [
    "no_float = 2\n",
    "game_name = 'soccer_major'\n",
    "results_df = pd.read_csv(folder_path + games[game_name] + '_results.csv').set_index('Unnamed: 0')\n",
    "\n",
    "# count No. win\n",
    "\n",
    "index_list = [int(i[:-4]) for i in os.listdir(prob_folder_path + games[game_name])]\n",
    "\n",
    "columns_list = pd.read_csv(prob_folder_path + games[game_name]+'/'+str(index_list[0])+'.csv').set_index('time') \\\n",
    "                .columns.tolist()\n",
    "count_df = pd.DataFrame(columns=columns_list)\n",
    "for index in index_list:\n",
    "    series_df = pd.read_csv(prob_folder_path + games[game_name]+'/'+str(index)+'.csv').set_index('time') \n",
    "    if len(series_df) < 1:\n",
    "        continue\n",
    "    count_df.loc[index] = series_df.iloc[-1,:].apply(lambda x :round(x,no_float))\n",
    "    count_df.loc[index,'volumns'] = volumns = len(series_df)\n",
    "results_df = results_df.join(count_df,how='right')\n",
    "\n",
    "for contact in columns_list[2:3]:\n",
    "    if contact == 'home':\n",
    "        for index in results_df.index.tolist():\n",
    "            HOME_WIN = 0\n",
    "            if results_df.loc[index,'home_score']> results_df.loc[index,'away_score']:\n",
    "                HOME_WIN = 1\n",
    "            results_df.loc[index,'HOME_WIN'] = HOME_WIN * results_df.loc[index,'volumns']\n",
    "        # groupby count\n",
    "        count_df = results_df[['home','HOME_WIN','volumns']]\n",
    "        win_no = count_df.groupby(['home']).sum().rename(index=str, columns={\"HOME_WIN\": \"WIN_NO\"})\n",
    "#         total_no = count_df.groupby(['home']).count().rename(index=str, columns={\"HOME_WIN\": \"TOTAL_NO\"})\n",
    "        win_no['win_rate'] = win_no['WIN_NO'] / win_no['volumns']\n",
    "        win_no = win_no.reset_index().applymap(lambda x: float(x))\n",
    "win_no.plot.scatter(x='home',y='win_rate',c='DarkBlue')"
   ]
  },
  {
   "cell_type": "markdown",
   "metadata": {},
   "source": [
    "上文中的缺陷： 数据量太少，home away equal 分开。"
   ]
  }
 ],
 "metadata": {
  "kernelspec": {
   "display_name": "Python 3",
   "language": "python",
   "name": "python3"
  },
  "language_info": {
   "codemirror_mode": {
    "name": "ipython",
    "version": 3
   },
   "file_extension": ".py",
   "mimetype": "text/x-python",
   "name": "python",
   "nbconvert_exporter": "python",
   "pygments_lexer": "ipython3",
   "version": "3.5.4"
  }
 },
 "nbformat": 4,
 "nbformat_minor": 0
}
