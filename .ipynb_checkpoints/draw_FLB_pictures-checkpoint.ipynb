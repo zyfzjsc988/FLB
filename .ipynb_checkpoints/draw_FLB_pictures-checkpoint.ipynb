{
 "cells": [
  {
   "cell_type": "markdown",
   "metadata": {},
   "source": [
    "## try the FLB picture before resample"
   ]
  },
  {
   "cell_type": "code",
   "execution_count": 2,
   "metadata": {
    "collapsed": false
   },
   "outputs": [],
   "source": [
    "import pandas as pd\n",
    "import os\n",
    "import matplotlib.pyplot as plt\n",
    "folder_path = '../../datasets/rawdata'\n",
    "prob_folder_path = '../../datasets/probability'\n",
    "FLB_folder_path = '../../datasets/FLB'\n",
    "resam_folder_path = '../../datasets/resample_by_min'\n",
    "games = { 'baseball':'/baseball/mlb','basketball':'/basketball/nba','football':'/football/nfl',\n",
    "            'iceball': '/iceball/nhl','soccer_champion':'/soccer/champ_league','scoccer_england':'/soccer/epl',\n",
    "            'soccer_major':'/soccer/majorleague'}\n",
    "# folder name is games, result name is games_results.csv\n",
    "\n",
    "games_list = ['baseball','basketball','football','iceball']\n",
    "soccer_list = ['soccer_champion','scoccer_england','soccer_major']"
   ]
  },
  {
   "cell_type": "markdown",
   "metadata": {},
   "source": [
    "### summary probability and results"
   ]
  },
  {
   "cell_type": "code",
   "execution_count": 44,
   "metadata": {
    "collapsed": false
   },
   "outputs": [
    {
     "name": "stdout",
     "output_type": "stream",
     "text": [
      "baseball\n",
      "basketball\n",
      "football\n",
      "iceball\n"
     ]
    }
   ],
   "source": [
    "#  other games\n",
    "for game_name in games_list:\n",
    "    print(game_name)\n",
    "    results_df = pd.read_csv(folder_path + games[game_name] + '_results.csv').set_index('Unnamed: 0')\n",
    "    # count No. win\n",
    "    count_df = pd.DataFrame()\n",
    "    index_list = [int(i[:-4]) for i in os.listdir(prob_folder_path + games[game_name])]\n",
    "    for index in index_list:\n",
    "        # iter line get index find series and give result\n",
    "        HOME_WIN = False\n",
    "        if results_df.loc[index,'home_score']> results_df.loc[index,'away_score']:\n",
    "            HOME_WIN = True\n",
    "        series_df = pd.read_csv(prob_folder_path + games[game_name]+'/'+str(index)+'.csv').set_index('time')\n",
    "        series_df.loc[:,'home'] = [series_df.iloc[-1,-1] for i in range(len(series_df))]\n",
    "        series_df['HOME_WIN'] = HOME_WIN\n",
    "        count_df = pd.concat([count_df,series_df],ignore_index=True)\n",
    "    count_df.to_csv(FLB_folder_path+'/summary/'+game_name+'.csv')"
   ]
  },
  {
   "cell_type": "code",
   "execution_count": 53,
   "metadata": {
    "collapsed": false
   },
   "outputs": [
    {
     "name": "stdout",
     "output_type": "stream",
     "text": [
      "soccer_champion\n",
      "scoccer_england\n",
      "soccer_major\n",
      "soccer_champion\n",
      "scoccer_england\n",
      "soccer_major\n",
      "soccer_champion\n",
      "scoccer_england\n",
      "soccer_major\n"
     ]
    }
   ],
   "source": [
    "# soccer\n",
    "for odds_type in ['home','away','draw']:\n",
    "    count_df = pd.DataFrame()\n",
    "    for game_name in soccer_list:\n",
    "        print(game_name)\n",
    "        results_df = pd.read_csv(folder_path + games[game_name] + '_results.csv').set_index('Unnamed: 0')\n",
    "        # count No. win\n",
    "        index_list = [int(i[:-4]) for i in os.listdir(prob_folder_path + games[game_name])]\n",
    "        \n",
    "        if odds_type == 'home':\n",
    "            for index in index_list:\n",
    "                # iter line get index find series and give result\n",
    "                HOME_WIN = False\n",
    "                if results_df.loc[index,'home_score']> results_df.loc[index,'away_score']:\n",
    "                    HOME_WIN = True\n",
    "                series_df = pd.read_csv(prob_folder_path + games[game_name]+'/'+str(index)+'.csv').set_index('time')\n",
    "                series_df.loc[:,'home'] = [series_df.loc[series_df.index[-1],'home'] for i in range(len(series_df))]\n",
    "                series_df['HOME_WIN'] = HOME_WIN\n",
    "                count_df = pd.concat([count_df,series_df[['home','HOME_WIN']]],ignore_index=True)\n",
    "                \n",
    "        if odds_type == 'away':\n",
    "            for index in index_list:\n",
    "                # iter line get index find series and give result\n",
    "                HOME_WIN = False\n",
    "                if results_df.loc[index,'home_score']< results_df.loc[index,'away_score']:\n",
    "                    HOME_WIN = True\n",
    "                series_df = pd.read_csv(prob_folder_path + games[game_name]+'/'+str(index)+'.csv').set_index('time')\n",
    "                series_df.loc[:,'away'] = [series_df.loc[series_df.index[-1],'away'] for i in range(len(series_df))]\n",
    "                series_df['HOME_WIN'] = HOME_WIN\n",
    "                count_df = pd.concat([count_df,series_df[['away','HOME_WIN']]],ignore_index=True)\n",
    "                \n",
    "                \n",
    "        if odds_type == 'draw':\n",
    "            for index in index_list:\n",
    "                # iter line get index find series and give result\n",
    "                HOME_WIN = False\n",
    "                if results_df.loc[index,'home_score'] == results_df.loc[index,'away_score']:\n",
    "                    HOME_WIN = True\n",
    "                series_df = pd.read_csv(prob_folder_path + games[game_name]+'/'+str(index)+'.csv').set_index('time')\n",
    "                series_df.loc[:,'draw'] = [series_df.loc[series_df.index[-1],'draw'] for i in range(len(series_df))]\n",
    "                series_df['HOME_WIN'] = HOME_WIN\n",
    "                count_df = pd.concat([count_df,series_df[['draw','HOME_WIN']]],ignore_index=True)\n",
    "                \n",
    "    count_df.to_csv(FLB_folder_path+'/summary/soccer_'+odds_type+'.csv')"
   ]
  },
  {
   "cell_type": "code",
   "execution_count": 57,
   "metadata": {
    "collapsed": false
   },
   "outputs": [],
   "source": [
    "# soccer all\n",
    "count_df = pd.DataFrame()\n",
    "for odds_type in ['home','away','draw']:\n",
    "    df = pd.read_csv(FLB_folder_path+'/summary/soccer_'+odds_type+'.csv').set_index('Unnamed: 0')\n",
    "    if odds_type == 'away':\n",
    "        df = df.rename(index=str,columns={'away':'home'})\n",
    "    if odds_type == 'draw':\n",
    "        df = df.rename(index=str,columns={'draw':'home'})    \n",
    "    count_df = pd.concat([count_df,df],ignore_index=True)\n",
    "count_df.to_csv(FLB_folder_path+'/summary/soccer.csv')   "
   ]
  },
  {
   "cell_type": "code",
   "execution_count": null,
   "metadata": {
    "collapsed": false
   },
   "outputs": [
    {
     "name": "stdout",
     "output_type": "stream",
     "text": [
      "soccer_champion\n",
      "scoccer_england\n",
      "soccer_major\n"
     ]
    }
   ],
   "source": [
    "# soccer by games\n",
    "for game_name in soccer_list:\n",
    "    count_df = pd.DataFrame()\n",
    "    print(game_name)\n",
    "    for odds_type in ['home','away','draw']:\n",
    "        results_df = pd.read_csv(folder_path + games[game_name] + '_results.csv').set_index('Unnamed: 0')\n",
    "        # count No. win\n",
    "        index_list = [int(i[:-4]) for i in os.listdir(prob_folder_path + games[game_name])]\n",
    "        \n",
    "        if odds_type == 'home':\n",
    "            for index in index_list:\n",
    "                # iter line get index find series and give result\n",
    "                HOME_WIN = False\n",
    "                if results_df.loc[index,'home_score']> results_df.loc[index,'away_score']:\n",
    "                    HOME_WIN = True\n",
    "                series_df = pd.read_csv(prob_folder_path + games[game_name]+'/'+str(index)+'.csv').set_index('time')\n",
    "                series_df.loc[:,'home'] = [series_df.loc[series_df.index[-1],'home'] for i in range(len(series_df))]\n",
    "                series_df['HOME_WIN'] = HOME_WIN\n",
    "                count_df = pd.concat([count_df,series_df[['home','HOME_WIN']]],ignore_index=True)\n",
    "                \n",
    "        if odds_type == 'away':\n",
    "            for index in index_list:\n",
    "                # iter line get index find series and give result\n",
    "                HOME_WIN = False\n",
    "                if results_df.loc[index,'home_score']< results_df.loc[index,'away_score']:\n",
    "                    HOME_WIN = True\n",
    "                series_df = pd.read_csv(prob_folder_path + games[game_name]+'/'+str(index)+'.csv').set_index('time')\n",
    "                series_df.loc[:,'away'] = [series_df.loc[series_df.index[-1],'away'] for i in range(len(series_df))]\n",
    "                series_df['HOME_WIN'] = HOME_WIN\n",
    "                count_df = pd.concat([count_df,\n",
    "                                      series_df[['away','HOME_WIN']].rename(index=str,\n",
    "                                                                            columns={'away':'home'})],ignore_index=True)\n",
    "                \n",
    "                \n",
    "        if odds_type == 'draw':\n",
    "            for index in index_list:\n",
    "                # iter line get index find series and give result\n",
    "                HOME_WIN = False\n",
    "                if results_df.loc[index,'home_score'] == results_df.loc[index,'away_score']:\n",
    "                    HOME_WIN = True\n",
    "                series_df = pd.read_csv(prob_folder_path + games[game_name]+'/'+str(index)+'.csv').set_index('time')\n",
    "                series_df.loc[:,'draw'] = [series_df.loc[series_df.index[-1],'draw'] for i in range(len(series_df))]\n",
    "                series_df['HOME_WIN'] = HOME_WIN\n",
    "                count_df = pd.concat([count_df,\n",
    "                                      series_df[['draw','HOME_WIN']].rename(index=str,\n",
    "                                                                            columns={'draw':'home'})],ignore_index=True)\n",
    "                \n",
    "    count_df.to_csv(FLB_folder_path+'/summary/'+game_name+'.csv')"
   ]
  },
  {
   "cell_type": "markdown",
   "metadata": {},
   "source": [
    "### Using hist to draw scatter"
   ]
  },
  {
   "cell_type": "code",
   "execution_count": 42,
   "metadata": {
    "collapsed": false
   },
   "outputs": [
    {
     "data": {
      "image/png": "[encoded data removed]",
      "text/plain": [
       "<Figure size 432x288 with 1 Axes>"
      ]
     },
     "metadata": {},
     "output_type": "display_data"
    }
   ],
   "source": [
    "count_df = pd.read_csv(FLB_folder_path+'/summary/'+game_name+'.csv').set_index('Unnamed: 0')\n",
    "bins_num=100\n",
    "counts, middiam, objs = plt.hist(count_df['home'],range=(0,1),bins=bins_num)\n",
    "win_counts, middiam, objs = plt.hist(count_df[count_df['HOME_WIN']==True]['home'],range=(0,1),bins=bins_num)\n",
    "\n",
    "# plt.scatter(x=middiam[:100],y=win_counts/counts)"
   ]
  },
  {
   "cell_type": "code",
   "execution_count": 43,
   "metadata": {
    "collapsed": false
   },
   "outputs": [
    {
     "name": "stderr",
     "output_type": "stream",
     "text": [
      "C:\\Users\\surface\\Anaconda2\\envs\\tensorflow\\lib\\site-packages\\ipykernel_launcher.py:1: RuntimeWarning: invalid value encountered in true_divide\n",
      "  \"\"\"Entry point for launching an IPython kernel.\n"
     ]
    },
    {
     "data": {
      "text/plain": [
       "<matplotlib.collections.PathCollection at 0x23bd2150518>"
      ]
     },
     "execution_count": 43,
     "metadata": {},
     "output_type": "execute_result"
    },
    {
     "data": {
      "image/png": "[encoded data removed]",
      "text/plain": [
       "<Figure size 432x288 with 1 Axes>"
      ]
     },
     "metadata": {},
     "output_type": "display_data"
    }
   ],
   "source": [
    "plt.scatter(x=middiam[:100],y=win_counts/counts)"
   ]
  },
  {
   "cell_type": "code",
   "execution_count": null,
   "metadata": {
    "collapsed": true
   },
   "outputs": [],
   "source": []
  },
  {
   "cell_type": "code",
   "execution_count": null,
   "metadata": {
    "collapsed": true
   },
   "outputs": [],
   "source": []
  },
  {
   "cell_type": "code",
   "execution_count": null,
   "metadata": {
    "collapsed": true
   },
   "outputs": [],
   "source": []
  },
  {
   "cell_type": "code",
   "execution_count": null,
   "metadata": {
    "collapsed": true
   },
   "outputs": [],
   "source": []
  },
  {
   "cell_type": "markdown",
   "metadata": {},
   "source": [
    "## only use last value\n",
    "### 使用最终odds ： 假设参与该赌局的所有人的平均结果。"
   ]
  },
  {
   "cell_type": "markdown",
   "metadata": {},
   "source": [
    "### count by games except soccer"
   ]
  },
  {
   "cell_type": "code",
   "execution_count": 14,
   "metadata": {
    "collapsed": false
   },
   "outputs": [
    {
     "name": "stdout",
     "output_type": "stream",
     "text": [
      "Object `matplotlib.axes._subplots.AxesSubplot` not found.\n"
     ]
    },
    {
     "data": {
      "image/png": "[encoded data removed]",
      "text/plain": [
       "<Figure size 432x288 with 1 Axes>"
      ]
     },
     "metadata": {},
     "output_type": "display_data"
    },
    {
     "data": {
      "image/png": "[encoded data removed]",
      "text/plain": [
       "<Figure size 432x288 with 4 Axes>"
      ]
     },
     "metadata": {},
     "output_type": "display_data"
    }
   ],
   "source": [
    "# only have home odds series\n",
    "no_float = 3\n",
    "game_name = 'baseball'\n",
    "results_df = pd.read_csv(folder_path + games[game_name] + '_results.csv').set_index('Unnamed: 0')\n",
    "count_df = pd.DataFrame(columns=['home'])\n",
    "index_list = [int(i[:-4]) for i in os.listdir(prob_folder_path + games[game_name])]\n",
    "\n",
    "for index in index_list[:10]:\n",
    "    series_df = pd.read_csv(prob_folder_path + games[game_name]+'/'+str(index)+'.csv').set_index('time') \n",
    "    if len(series_df) < 1:\n",
    "        continue\n",
    "    count_df.loc[index] = series_df.iloc[-1,:].apply(lambda x :round(x,no_float))\n",
    "    count_df.loc[index,'volumns'] = len(series_df)\n",
    "results_df = results_df.join(count_df,how='right')\n",
    "\n",
    "\n",
    "for index in results_df.index.tolist():\n",
    "    HOME_WIN = 0\n",
    "    if results_df.loc[index,'home_score']> results_df.loc[index,'away_score']:\n",
    "        HOME_WIN = 1\n",
    "    results_df.loc[index,'HOME_WIN'] = HOME_WIN * results_df.loc[index,'volumns']\n",
    "# groupby count\n",
    "count_df = results_df[['home','HOME_WIN','volumns']]\n",
    "win_no = count_df.groupby(['home']).sum().rename(index=str, columns={\"HOME_WIN\": \"WIN_NO\"})\n",
    "win_no['win_rate'] = win_no['WIN_NO'] / win_no['volumns']\n",
    "win_no = win_no.reset_index().applymap(lambda x: float(x))\n",
    "win_no.plot.scatter(x='home',y='win_rate',c='DarkBlue')\n",
    "hist = count_df.hist(bins=3)\n"
   ]
  },
  {
   "cell_type": "markdown",
   "metadata": {},
   "source": [
    "### count by games : soccer (three leagues)"
   ]
  },
  {
   "cell_type": "code",
   "execution_count": null,
   "metadata": {
    "collapsed": true
   },
   "outputs": [],
   "source": [
    "no_float = 2\n",
    "game_name = 'baseball'\n",
    "results_df = pd.read_csv(folder_path + games[game_name] + '_results.csv').set_index('Unnamed: 0')\n",
    "\n",
    "# count No. win\n",
    "\n",
    "index_list = [int(i[:-4]) for i in os.listdir(prob_folder_path + games[game_name])]\n",
    "\n",
    "columns_list = pd.read_csv(prob_folder_path + games[game_name]+'/'+str(index_list[0])+'.csv').set_index('time') \\\n",
    "                .columns.tolist()\n",
    "count_df = pd.DataFrame(columns=columns_list)\n",
    "for index in index_list:\n",
    "    series_df = pd.read_csv(prob_folder_path + games[game_name]+'/'+str(index)+'.csv').set_index('time') \n",
    "    if len(series_df) < 1:\n",
    "        continue\n",
    "    count_df.loc[index] = series_df.iloc[-1,:].apply(lambda x :round(x,no_float))\n",
    "    count_df.loc[index,'volumns'] = volumns = len(series_df)\n",
    "results_df = results_df.join(count_df,how='right')\n",
    "\n",
    "for contact in columns_list:\n",
    "    if contact == 'home':\n",
    "        for index in results_df.index.tolist():\n",
    "            HOME_WIN = 0\n",
    "            if results_df.loc[index,'home_score']> results_df.loc[index,'away_score']:\n",
    "                HOME_WIN = 1\n",
    "            results_df.loc[index,'HOME_WIN'] = HOME_WIN * results_df.loc[index,'volumns']\n",
    "        # groupby count\n",
    "        count_df = results_df[['home','HOME_WIN','volumns']]\n",
    "        win_no = count_df.groupby(['home']).sum().rename(index=str, columns={\"HOME_WIN\": \"WIN_NO\"})\n",
    "#         total_no = count_df.groupby(['home']).count().rename(index=str, columns={\"HOME_WIN\": \"TOTAL_NO\"})\n",
    "        win_no['win_rate'] = win_no['WIN_NO'] / win_no['volumns']\n",
    "        win_no = win_no.reset_index().applymap(lambda x: float(x))\n",
    "win_no.plot.scatter(x='home',y='win_rate',c='DarkBlue')"
   ]
  },
  {
   "cell_type": "markdown",
   "metadata": {},
   "source": [
    "上文中的缺陷： 数据量太少，home away equal 分开。"
   ]
  }
 ],
 "metadata": {
  "kernelspec": {
   "display_name": "Python 3",
   "language": "python",
   "name": "python3"
  },
  "language_info": {
   "codemirror_mode": {
    "name": "ipython",
    "version": 3
   },
   "file_extension": ".py",
   "mimetype": "text/x-python",
   "name": "python",
   "nbconvert_exporter": "python",
   "pygments_lexer": "ipython3",
   "version": "3.5.4"
  }
 },
 "nbformat": 4,
 "nbformat_minor": 0
}
