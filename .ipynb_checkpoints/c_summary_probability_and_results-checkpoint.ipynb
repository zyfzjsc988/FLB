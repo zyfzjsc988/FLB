{
 "cells": [
  {
   "cell_type": "markdown",
   "metadata": {},
   "source": [
    "### summary probability and results"
   ]
  },
  {
   "cell_type": "code",
   "execution_count": 1,
   "metadata": {
    "collapsed": false
   },
   "outputs": [],
   "source": [
    "import pandas as pd\n",
    "import os\n",
    "import matplotlib.pyplot as plt\n",
    "folder_path = '../../datasets/rawdata'\n",
    "prob_folder_path = '../../datasets/probability'\n",
    "FLB_folder_path = '../../datasets/FLB'\n",
    "resam_folder_path = '../../datasets/resample_by_min'\n",
    "games = { 'baseball':'/baseball/mlb','basketball':'/basketball/nba','football':'/football/nfl',\n",
    "            'iceball': '/iceball/nhl','soccer_champion':'/soccer/champ_league','scoccer_england':'/soccer/epl',\n",
    "            'soccer_major':'/soccer/majorleague'}\n",
    "# folder name is games, result name is games_results.csv\n",
    "\n",
    "games_list = ['baseball','basketball','football','iceball']\n",
    "soccer_list = ['soccer_champion','scoccer_england','soccer_major']"
   ]
  },
  {
   "cell_type": "code",
   "execution_count": 44,
   "metadata": {
    "collapsed": false
   },
   "outputs": [
    {
     "name": "stdout",
     "output_type": "stream",
     "text": [
      "baseball\n",
      "basketball\n",
      "football\n",
      "iceball\n"
     ]
    }
   ],
   "source": [
    "#  other games\n",
    "for game_name in games_list:\n",
    "    print(game_name)\n",
    "    results_df = pd.read_csv(folder_path + games[game_name] + '_results.csv').set_index('Unnamed: 0')\n",
    "    # count No. win\n",
    "    count_df = pd.DataFrame()\n",
    "    index_list = [int(i[:-4]) for i in os.listdir(prob_folder_path + games[game_name])]\n",
    "    for index in index_list:\n",
    "        # iter line get index find series and give result\n",
    "        HOME_WIN = False\n",
    "        if results_df.loc[index,'home_score']> results_df.loc[index,'away_score']:\n",
    "            HOME_WIN = True\n",
    "        series_df = pd.read_csv(prob_folder_path + games[game_name]+'/'+str(index)+'.csv').set_index('time')\n",
    "        series_df.loc[:,'home'] = [series_df.iloc[-1,-1] for i in range(len(series_df))]\n",
    "        series_df['HOME_WIN'] = HOME_WIN\n",
    "        count_df = pd.concat([count_df,series_df],ignore_index=True)\n",
    "    count_df.to_csv(FLB_folder_path+'/summary/'+game_name+'.csv')"
   ]
  },
  {
   "cell_type": "code",
   "execution_count": 53,
   "metadata": {
    "collapsed": false
   },
   "outputs": [
    {
     "name": "stdout",
     "output_type": "stream",
     "text": [
      "soccer_champion\n",
      "scoccer_england\n",
      "soccer_major\n",
      "soccer_champion\n",
      "scoccer_england\n",
      "soccer_major\n",
      "soccer_champion\n",
      "scoccer_england\n",
      "soccer_major\n"
     ]
    }
   ],
   "source": [
    "# soccer\n",
    "for odds_type in ['home','away','draw']:\n",
    "    count_df = pd.DataFrame()\n",
    "    for game_name in soccer_list:\n",
    "        print(game_name)\n",
    "        results_df = pd.read_csv(folder_path + games[game_name] + '_results.csv').set_index('Unnamed: 0')\n",
    "        # count No. win\n",
    "        index_list = [int(i[:-4]) for i in os.listdir(prob_folder_path + games[game_name])]\n",
    "        \n",
    "        if odds_type == 'home':\n",
    "            for index in index_list:\n",
    "                # iter line get index find series and give result\n",
    "                HOME_WIN = False\n",
    "                if results_df.loc[index,'home_score']> results_df.loc[index,'away_score']:\n",
    "                    HOME_WIN = True\n",
    "                series_df = pd.read_csv(prob_folder_path + games[game_name]+'/'+str(index)+'.csv').set_index('time')\n",
    "                series_df.loc[:,'home'] = [series_df.loc[series_df.index[-1],'home'] for i in range(len(series_df))]\n",
    "                series_df['HOME_WIN'] = HOME_WIN\n",
    "                count_df = pd.concat([count_df,series_df[['home','HOME_WIN']]],ignore_index=True)\n",
    "                \n",
    "        if odds_type == 'away':\n",
    "            for index in index_list:\n",
    "                # iter line get index find series and give result\n",
    "                HOME_WIN = False\n",
    "                if results_df.loc[index,'home_score']< results_df.loc[index,'away_score']:\n",
    "                    HOME_WIN = True\n",
    "                series_df = pd.read_csv(prob_folder_path + games[game_name]+'/'+str(index)+'.csv').set_index('time')\n",
    "                series_df.loc[:,'away'] = [series_df.loc[series_df.index[-1],'away'] for i in range(len(series_df))]\n",
    "                series_df['HOME_WIN'] = HOME_WIN\n",
    "                count_df = pd.concat([count_df,series_df[['away','HOME_WIN']]],ignore_index=True)\n",
    "                \n",
    "                \n",
    "        if odds_type == 'draw':\n",
    "            for index in index_list:\n",
    "                # iter line get index find series and give result\n",
    "                HOME_WIN = False\n",
    "                if results_df.loc[index,'home_score'] == results_df.loc[index,'away_score']:\n",
    "                    HOME_WIN = True\n",
    "                series_df = pd.read_csv(prob_folder_path + games[game_name]+'/'+str(index)+'.csv').set_index('time')\n",
    "                series_df.loc[:,'draw'] = [series_df.loc[series_df.index[-1],'draw'] for i in range(len(series_df))]\n",
    "                series_df['HOME_WIN'] = HOME_WIN\n",
    "                count_df = pd.concat([count_df,series_df[['draw','HOME_WIN']]],ignore_index=True)\n",
    "                \n",
    "    count_df.to_csv(FLB_folder_path+'/summary/soccer_'+odds_type+'.csv')"
   ]
  },
  {
   "cell_type": "code",
   "execution_count": 57,
   "metadata": {
    "collapsed": false
   },
   "outputs": [],
   "source": [
    "# soccer all\n",
    "count_df = pd.DataFrame()\n",
    "for odds_type in ['home','away','draw']:\n",
    "    df = pd.read_csv(FLB_folder_path+'/summary/soccer_'+odds_type+'.csv').set_index('Unnamed: 0')\n",
    "    if odds_type == 'away':\n",
    "        df = df.rename(index=str,columns={'away':'home'})\n",
    "    if odds_type == 'draw':\n",
    "        df = df.rename(index=str,columns={'draw':'home'})    \n",
    "    count_df = pd.concat([count_df,df],ignore_index=True)\n",
    "count_df.to_csv(FLB_folder_path+'/summary/soccer.csv')   "
   ]
  },
  {
   "cell_type": "code",
   "execution_count": 59,
   "metadata": {
    "collapsed": false
   },
   "outputs": [
    {
     "name": "stdout",
     "output_type": "stream",
     "text": [
      "soccer_champion\n",
      "scoccer_england\n",
      "soccer_major\n"
     ]
    }
   ],
   "source": [
    "# soccer by games\n",
    "for game_name in soccer_list:\n",
    "    count_df = pd.DataFrame()\n",
    "    print(game_name)\n",
    "    for odds_type in ['home','away','draw']:\n",
    "        results_df = pd.read_csv(folder_path + games[game_name] + '_results.csv').set_index('Unnamed: 0')\n",
    "        # count No. win\n",
    "        index_list = [int(i[:-4]) for i in os.listdir(prob_folder_path + games[game_name])]\n",
    "        \n",
    "        if odds_type == 'home':\n",
    "            for index in index_list:\n",
    "                # iter line get index find series and give result\n",
    "                HOME_WIN = False\n",
    "                if results_df.loc[index,'home_score']> results_df.loc[index,'away_score']:\n",
    "                    HOME_WIN = True\n",
    "                series_df = pd.read_csv(prob_folder_path + games[game_name]+'/'+str(index)+'.csv').set_index('time')\n",
    "                series_df.loc[:,'home'] = [series_df.loc[series_df.index[-1],'home'] for i in range(len(series_df))]\n",
    "                series_df['HOME_WIN'] = HOME_WIN\n",
    "                count_df = pd.concat([count_df,series_df[['home','HOME_WIN']]],ignore_index=True)\n",
    "                \n",
    "        if odds_type == 'away':\n",
    "            for index in index_list:\n",
    "                # iter line get index find series and give result\n",
    "                HOME_WIN = False\n",
    "                if results_df.loc[index,'home_score']< results_df.loc[index,'away_score']:\n",
    "                    HOME_WIN = True\n",
    "                series_df = pd.read_csv(prob_folder_path + games[game_name]+'/'+str(index)+'.csv').set_index('time')\n",
    "                series_df.loc[:,'away'] = [series_df.loc[series_df.index[-1],'away'] for i in range(len(series_df))]\n",
    "                series_df['HOME_WIN'] = HOME_WIN\n",
    "                count_df = pd.concat([count_df,\n",
    "                                      series_df[['away','HOME_WIN']].rename(index=str,\n",
    "                                                                            columns={'away':'home'})],ignore_index=True)\n",
    "                \n",
    "                \n",
    "        if odds_type == 'draw':\n",
    "            for index in index_list:\n",
    "                # iter line get index find series and give result\n",
    "                HOME_WIN = False\n",
    "                if results_df.loc[index,'home_score'] == results_df.loc[index,'away_score']:\n",
    "                    HOME_WIN = True\n",
    "                series_df = pd.read_csv(prob_folder_path + games[game_name]+'/'+str(index)+'.csv').set_index('time')\n",
    "                series_df.loc[:,'draw'] = [series_df.loc[series_df.index[-1],'draw'] for i in range(len(series_df))]\n",
    "                series_df['HOME_WIN'] = HOME_WIN\n",
    "                count_df = pd.concat([count_df,\n",
    "                                      series_df[['draw','HOME_WIN']].rename(index=str,\n",
    "                                                                            columns={'draw':'home'})],ignore_index=True)\n",
    "                \n",
    "    count_df.to_csv(FLB_folder_path+'/summary/'+game_name+'.csv')"
   ]
  }
 ],
 "metadata": {
  "kernelspec": {
   "display_name": "Python 3",
   "language": "python",
   "name": "python3"
  },
  "language_info": {
   "codemirror_mode": {
    "name": "ipython",
    "version": 3
   },
   "file_extension": ".py",
   "mimetype": "text/x-python",
   "name": "python",
   "nbconvert_exporter": "python",
   "pygments_lexer": "ipython3",
   "version": "3.5.4"
  }
 },
 "nbformat": 4,
 "nbformat_minor": 0
}
