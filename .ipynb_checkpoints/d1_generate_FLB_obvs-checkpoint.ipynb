{
 "cells": [
  {
   "cell_type": "markdown",
   "metadata": {},
   "source": [
    "### Using hist to group probability"
   ]
  },
  {
   "cell_type": "code",
   "execution_count": 1,
   "metadata": {
    "ExecuteTime": {
     "end_time": "2018-07-03T14:04:42.347964Z",
     "start_time": "2018-07-03T14:04:40.215953Z"
    },
    "collapsed": true
   },
   "outputs": [],
   "source": [
    "import pandas as pd\n",
    "import os\n",
    "import matplotlib.pyplot as plt\n",
    "import numpy as np\n",
    "from sklearn.linear_model import Ridge\n",
    "from sklearn.preprocessing import PolynomialFeatures\n",
    "from sklearn.pipeline import make_pipeline\n",
    "from scipy.interpolate import Rbf\n",
    "folder_path = '../../datasets/rawdata'\n",
    "prob_folder_path = '../../datasets/probability'\n",
    "FLB_folder_path = '../../datasets/FLB'\n",
    "resam_folder_path = '../../datasets/resample_by_min'\n",
    "games = { 'baseball':'/baseball/mlb','basketball':'/basketball/nba','football':'/football/nfl',\n",
    "            'iceball': '/iceball/nhl','soccer_champion':'/soccer/champ_league','scoccer_england':'/soccer/epl',\n",
    "            'soccer_major':'/soccer/majorleague'}\n",
    "# folder name is games, result name is games_results.csv\n",
    "\n",
    "games_list = ['baseball','iceball',\n",
    "              'soccer_champion','scoccer_england','soccer_major',\n",
    "              'soccer',\n",
    "              'soccer_home','soccer_away','soccer_draw']"
   ]
  },
  {
   "cell_type": "code",
   "execution_count": 62,
   "metadata": {
    "ExecuteTime": {
     "end_time": "2018-07-03T14:39:08.161736Z",
     "start_time": "2018-07-03T14:39:07.626733Z"
    },
    "collapsed": false
   },
   "outputs": [
    {
     "data": {
      "image/png": "[encoded data removed]",
      "text/plain": [
       "<Figure size 432x288 with 1 Axes>"
      ]
     },
     "metadata": {},
     "output_type": "display_data"
    }
   ],
   "source": [
    "# choose bin and load\n",
    "bins_num=20\n",
    "game_name = 'baseball'\n",
    "count_df = pd.read_csv(FLB_folder_path+'/summary/'+game_name+'.csv').set_index('Unnamed: 0')\n",
    "\n",
    "counts, middiam, objs = plt.hist(count_df.iloc[:,0],range=(0,1),bins=bins_num)\n",
    "win_counts, middiam, objs = plt.hist(count_df[count_df['HOME_WIN']==True].iloc[:,0],range=(0,1),bins=bins_num)\n",
    "# the percentage of winners\n",
    "perc_winners = win_counts/(counts+1e-8)+0.003\n",
    "time_period = (middiam[1]-middiam[0])/2\n",
    "probabilities = [i + time_period for i in middiam[:-1]]\n"
   ]
  },
  {
   "cell_type": "code",
   "execution_count": 63,
   "metadata": {
    "ExecuteTime": {
     "end_time": "2018-07-03T14:39:08.301732Z",
     "start_time": "2018-07-03T14:39:08.292731Z"
    },
    "collapsed": false
   },
   "outputs": [
    {
     "data": {
      "text/plain": [
       "array([4.9000e+01, 2.5500e+02, 1.5100e+02, 1.7900e+02, 1.6100e+02,\n",
       "       4.6700e+02, 2.1480e+03, 9.8240e+03, 2.6533e+04, 4.3872e+04,\n",
       "       7.1619e+04, 7.7110e+04, 5.1750e+04, 1.8436e+04, 5.8050e+03,\n",
       "       9.6800e+02, 1.5800e+02, 7.8000e+01, 9.8000e+01, 1.0500e+02])"
      ]
     },
     "execution_count": 63,
     "metadata": {},
     "output_type": "execute_result"
    }
   ],
   "source": [
    "counts"
   ]
  },
  {
   "cell_type": "code",
   "execution_count": 64,
   "metadata": {
    "ExecuteTime": {
     "end_time": "2018-07-03T14:39:09.205730Z",
     "start_time": "2018-07-03T14:39:08.866755Z"
    },
    "collapsed": false,
    "scrolled": true
   },
   "outputs": [
    {
     "data": {
      "text/plain": [
       "Pipeline(memory=None,\n",
       "     steps=[('polynomialfeatures', PolynomialFeatures(degree=20, include_bias=True, interaction_only=False)), ('ridge', Ridge(alpha=0.01, copy_X=True, fit_intercept=True, max_iter=None,\n",
       "   normalize=False, random_state=None, solver='auto', tol=0.001))])"
      ]
     },
     "execution_count": 64,
     "metadata": {},
     "output_type": "execute_result"
    },
    {
     "data": {
      "text/plain": [
       "Pipeline(memory=None,\n",
       "     steps=[('polynomialfeatures', PolynomialFeatures(degree=25, include_bias=True, interaction_only=False)), ('ridge', Ridge(alpha=0.01, copy_X=True, fit_intercept=True, max_iter=None,\n",
       "   normalize=False, random_state=None, solver='auto', tol=0.001))])"
      ]
     },
     "execution_count": 64,
     "metadata": {},
     "output_type": "execute_result"
    },
    {
     "data": {
      "text/plain": [
       "Pipeline(memory=None,\n",
       "     steps=[('polynomialfeatures', PolynomialFeatures(degree=30, include_bias=True, interaction_only=False)), ('ridge', Ridge(alpha=0.01, copy_X=True, fit_intercept=True, max_iter=None,\n",
       "   normalize=False, random_state=None, solver='auto', tol=0.001))])"
      ]
     },
     "execution_count": 64,
     "metadata": {},
     "output_type": "execute_result"
    },
    {
     "name": "stderr",
     "output_type": "stream",
     "text": [
      "C:\\Users\\surface\\Anaconda2\\envs\\tensorflow\\lib\\site-packages\\matplotlib\\cbook\\deprecation.py:107: MatplotlibDeprecationWarning: Adding an axes using the same arguments as a previous axes currently reuses the earlier instance.  In a future version, a new instance will always be created and returned.  Meanwhile, this warning can be suppressed, and the future behavior ensured, by passing a unique label to each axes instance.\n",
      "  warnings.warn(message, mplDeprecation, stacklevel=1)\n"
     ]
    },
    {
     "data": {
      "image/png": "[encoded data removed]",
      "text/plain": [
       "<Figure size 432x288 with 1 Axes>"
      ]
     },
     "metadata": {},
     "output_type": "display_data"
    }
   ],
   "source": [
    "nonsample_list = [i for i in range(len(counts)) if counts[i]<3]\n",
    "mtc = np.append(np.delete(np.array([probabilities,perc_winners]), nonsample_list, 1),[[0,1],[0,1]],axis=1)\n",
    "\n",
    "# non-linear\n",
    "x = mtc[0,:]\n",
    "y = mtc[1,:]\n",
    "colors = ['teal', 'yellowgreen', 'gold']\n",
    "\n",
    "g = plt.scatter(x,y, color='navy', s=30, marker='o', label=\"training points\")\n",
    "x_plot = np.linspace(0, 1, 1000)\n",
    "X = x[:, np.newaxis]\n",
    "X_plot = x_plot[:, np.newaxis]\n",
    "g = plt.plot([0,1], [0,1], color='k', linewidth=1)\n",
    "for count, degree in enumerate([20, 25, 30]):\n",
    "    model = make_pipeline(PolynomialFeatures(degree), Ridge(alpha=0.01))\n",
    "    model.fit(X,y)\n",
    "    y_plot = model.predict(X_plot)\n",
    "    g = plt.plot(X_plot, y_plot, color=colors[count], linewidth=2,\n",
    "             label=\"degree %d\" % degree)\n",
    "g = plt.legend(loc='upper left')\n",
    "g = plt.ylim(0,1)\n",
    "g = plt.xlim(0,1)\n",
    "g = plt.axes().set_aspect('equal')\n",
    "plt.show()"
   ]
  },
  {
   "cell_type": "code",
   "execution_count": 14,
   "metadata": {
    "ExecuteTime": {
     "end_time": "2018-07-03T14:08:21.217892Z",
     "start_time": "2018-07-03T14:08:20.949895Z"
    },
    "collapsed": false
   },
   "outputs": [
    {
     "data": {
      "text/plain": [
       "<matplotlib.collections.PathCollection at 0x1aa04aaeb70>"
      ]
     },
     "execution_count": 14,
     "metadata": {},
     "output_type": "execute_result"
    },
    {
     "data": {
      "text/plain": [
       "[<matplotlib.lines.Line2D at 0x1aa0423ccc0>]"
      ]
     },
     "execution_count": 14,
     "metadata": {},
     "output_type": "execute_result"
    },
    {
     "data": {
      "text/plain": [
       "[<matplotlib.lines.Line2D at 0x1aa04aaef60>]"
      ]
     },
     "execution_count": 14,
     "metadata": {},
     "output_type": "execute_result"
    },
    {
     "data": {
      "text/plain": [
       "(0, 1)"
      ]
     },
     "execution_count": 14,
     "metadata": {},
     "output_type": "execute_result"
    },
    {
     "data": {
      "text/plain": [
       "(0, 1)"
      ]
     },
     "execution_count": 14,
     "metadata": {},
     "output_type": "execute_result"
    },
    {
     "name": "stderr",
     "output_type": "stream",
     "text": [
      "C:\\Users\\surface\\Anaconda2\\envs\\tensorflow\\lib\\site-packages\\matplotlib\\cbook\\deprecation.py:107: MatplotlibDeprecationWarning: Adding an axes using the same arguments as a previous axes currently reuses the earlier instance.  In a future version, a new instance will always be created and returned.  Meanwhile, this warning can be suppressed, and the future behavior ensured, by passing a unique label to each axes instance.\n",
      "  warnings.warn(message, mplDeprecation, stacklevel=1)\n"
     ]
    },
    {
     "data": {
      "image/png": "[encoded data removed]",
      "text/plain": [
       "<Figure size 432x288 with 1 Axes>"
      ]
     },
     "metadata": {},
     "output_type": "display_data"
    }
   ],
   "source": [
    "# smooth\n",
    "smoothy = Rbf(x, y,function='linear',epsilon =0.4,smooth=0.2)\n",
    "power_smooth = smoothy(x_plot)\n",
    "plt.scatter(x,y, color='navy', s=30, marker='o', label=\"training points\")\n",
    "plt.plot([0,1], [0,1], color='k', linewidth=1)\n",
    "plt.plot(x_plot,power_smooth) \n",
    "plt.ylim(0,1)\n",
    "plt.xlim(0,1)\n",
    "plt.axes().set_aspect('equal')\n",
    "plt.show()  "
   ]
  },
  {
   "cell_type": "markdown",
   "metadata": {},
   "source": [
    "# count by windows\n",
    "set window's width, go through whole set and group all obvers in this windows to count. Calculate the percentage of winners in this windows as this of median one.\n",
    "\n",
    "median $\\in$ $[ 0, 1 ]$"
   ]
  },
  {
   "cell_type": "code",
   "execution_count": 49,
   "metadata": {
    "ExecuteTime": {
     "end_time": "2018-07-03T14:29:50.089108Z",
     "start_time": "2018-07-03T14:29:50.059104Z"
    },
    "collapsed": false
   },
   "outputs": [],
   "source": [
    "def generate_percentage_winners(count_df,windows_weight):\n",
    "    perc_winnners_obv = pd.DataFrame(columns = ['price','perc_winner'])\n",
    "    medians = np.array(range(101))/100\n",
    "#     perc_winnners_obv = perc_winnners_obv.append({'price':0.0,'perc_winner':0.0},ignore_index =True)\n",
    "    for median in medians:\n",
    "        window_low = median - windows_weight\n",
    "        window_high = median + windows_weight\n",
    "        obv_in_windows = count_df[(count_df.iloc[:,0]<=window_high) & (count_df.iloc[:,0]>=window_low)]\n",
    "        win_obv_in_windows = obv_in_windows[obv_in_windows['HOME_WIN']==True]\n",
    "        if len(obv_in_windows) < 1:\n",
    "            continue\n",
    "        percentage_ = round(len(win_obv_in_windows)/len(obv_in_windows),3)\n",
    "#         perc_winnners_obv[median] = percentage_\n",
    "        perc_winnners_obv = perc_winnners_obv.append({'price':median,'perc_winner':percentage_},ignore_index =True)\n",
    "#     perc_winnners_obv = perc_winnners_obv.append({'price':1.0,'perc_winner':1.0},ignore_index =True)\n",
    "    return perc_winnners_obv"
   ]
  },
  {
   "cell_type": "code",
   "execution_count": 56,
   "metadata": {
    "ExecuteTime": {
     "end_time": "2018-07-03T14:33:04.011225Z",
     "start_time": "2018-07-03T14:33:02.908160Z"
    },
    "collapsed": false
   },
   "outputs": [],
   "source": [
    "windows_weight = 0.05\n",
    "for game_name in [ 'baseball']:\n",
    "# for game_name in [ 'soccer_home','soccer_away','soccer_draw']:\n",
    "    count_df = pd.read_csv(FLB_folder_path+'/summary/'+game_name+'.csv').set_index('Unnamed: 0')\n",
    "    perc_ = generate_percentage_winners(count_df,windows_weight)\n",
    "#     perc_.to_csv(FLB_folder_path+'/'+game_name+'_'+str(windows_weight)+'_.csv',index=False)"
   ]
  },
  {
   "cell_type": "code",
   "execution_count": 65,
   "metadata": {
    "ExecuteTime": {
     "end_time": "2018-07-03T14:39:46.875948Z",
     "start_time": "2018-07-03T14:39:46.629963Z"
    },
    "collapsed": false
   },
   "outputs": [
    {
     "data": {
      "text/plain": [
       "<matplotlib.axes._subplots.AxesSubplot at 0x1aa04a46358>"
      ]
     },
     "execution_count": 65,
     "metadata": {},
     "output_type": "execute_result"
    },
    {
     "ename": "AttributeError",
     "evalue": "module 'matplotlib.pyplot' has no attribute 'line'",
     "output_type": "error",
     "traceback": [
      "\u001b[1;31m---------------------------------------------------------------------------\u001b[0m",
      "\u001b[1;31mAttributeError\u001b[0m                            Traceback (most recent call last)",
      "\u001b[1;32m<ipython-input-65-7c22f2039ab6>\u001b[0m in \u001b[0;36m<module>\u001b[1;34m()\u001b[0m\n\u001b[0;32m      1\u001b[0m \u001b[0mperc_\u001b[0m\u001b[1;33m.\u001b[0m\u001b[0mplot\u001b[0m\u001b[1;33m.\u001b[0m\u001b[0mscatter\u001b[0m\u001b[1;33m(\u001b[0m\u001b[0mx\u001b[0m\u001b[1;33m=\u001b[0m\u001b[1;36m0\u001b[0m\u001b[1;33m,\u001b[0m\u001b[0my\u001b[0m\u001b[1;33m=\u001b[0m\u001b[1;36m1\u001b[0m\u001b[1;33m)\u001b[0m\u001b[1;33m\u001b[0m\u001b[0m\n\u001b[1;32m----> 2\u001b[1;33m \u001b[0mplt\u001b[0m\u001b[1;33m.\u001b[0m\u001b[0mline\u001b[0m\u001b[1;33m(\u001b[0m\u001b[1;33m[\u001b[0m\u001b[1;36m0\u001b[0m\u001b[1;33m,\u001b[0m\u001b[1;36m0\u001b[0m\u001b[1;33m]\u001b[0m\u001b[1;33m,\u001b[0m\u001b[1;33m[\u001b[0m\u001b[1;36m1\u001b[0m\u001b[1;33m,\u001b[0m\u001b[1;36m1\u001b[0m\u001b[1;33m]\u001b[0m\u001b[1;33m)\u001b[0m\u001b[1;33m\u001b[0m\u001b[0m\n\u001b[0m",
      "\u001b[1;31mAttributeError\u001b[0m: module 'matplotlib.pyplot' has no attribute 'line'"
     ]
    },
    {
     "data": {
      "image/png": "[encoded data removed]",
      "text/plain": [
       "<Figure size 432x288 with 1 Axes>"
      ]
     },
     "metadata": {},
     "output_type": "display_data"
    }
   ],
   "source": [
    "perc_.plot.scatter(x=0,y=1)"
   ]
  },
  {
   "cell_type": "code",
   "execution_count": 59,
   "metadata": {
    "ExecuteTime": {
     "end_time": "2018-07-03T14:37:11.756704Z",
     "start_time": "2018-07-03T14:37:11.542715Z"
    },
    "collapsed": false
   },
   "outputs": [
    {
     "data": {
      "text/plain": [
       "<matplotlib.axes._subplots.AxesSubplot at 0x1aa03c5d940>"
      ]
     },
     "execution_count": 59,
     "metadata": {},
     "output_type": "execute_result"
    },
    {
     "data": {
      "image/png": "[encoded data removed]",
      "text/plain": [
       "<Figure size 432x288 with 1 Axes>"
      ]
     },
     "metadata": {},
     "output_type": "display_data"
    }
   ],
   "source": [
    "\n",
    "baseb = pd.read_csv(FLB_folder_path+'/'+game_name+'_'+str(windows_weight)+'_.csv')\n",
    "baseb.plot.scatter(x=0,y=1)"
   ]
  },
  {
   "cell_type": "code",
   "execution_count": 61,
   "metadata": {
    "ExecuteTime": {
     "end_time": "2018-07-03T14:38:49.031185Z",
     "start_time": "2018-07-03T14:38:49.022179Z"
    },
    "collapsed": false
   },
   "outputs": [
    {
     "data": {
      "text/plain": [
       "price          0.500\n",
       "perc_winner    0.497\n",
       "Name: 50, dtype: float64"
      ]
     },
     "execution_count": 61,
     "metadata": {},
     "output_type": "execute_result"
    }
   ],
   "source": [
    "perc_.iloc[50,:]"
   ]
  },
  {
   "cell_type": "code",
   "execution_count": null,
   "metadata": {
    "collapsed": true
   },
   "outputs": [],
   "source": []
  }
 ],
 "metadata": {
  "kernelspec": {
   "display_name": "Python 3",
   "language": "python",
   "name": "python3"
  },
  "language_info": {
   "codemirror_mode": {
    "name": "ipython",
    "version": 3
   },
   "file_extension": ".py",
   "mimetype": "text/x-python",
   "name": "python",
   "nbconvert_exporter": "python",
   "pygments_lexer": "ipython3",
   "version": "3.5.4"
  },
  "varInspector": {
   "cols": {
    "lenName": 16,
    "lenType": 16,
    "lenVar": 40
   },
   "kernels_config": {
    "python": {
     "delete_cmd_postfix": "",
     "delete_cmd_prefix": "del ",
     "library": "var_list.py",
     "varRefreshCmd": "print(var_dic_list())"
    },
    "r": {
     "delete_cmd_postfix": ") ",
     "delete_cmd_prefix": "rm(",
     "library": "var_list.r",
     "varRefreshCmd": "cat(var_dic_list()) "
    }
   },
   "types_to_exclude": [
    "module",
    "function",
    "builtin_function_or_method",
    "instance",
    "_Feature"
   ],
   "window_display": false
  }
 },
 "nbformat": 4,
 "nbformat_minor": 0
}
