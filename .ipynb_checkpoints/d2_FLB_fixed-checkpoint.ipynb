{
 "cells": [
  {
   "cell_type": "markdown",
   "metadata": {
    "collapsed": true
   },
   "source": [
    "## windows changing to count FLB\n",
    "We need two types of FLB to check.\n",
    "- Fixed FLB for each game\n",
    "- timely FLB for each game\n",
    "\n",
    "### count by windows\n",
    "set window's width, go through whole set and group all obvers in this windows to count. Calculate the percentage of winners in this windows as this of median one.\n",
    "\n",
    "median $\\in$ $[ 0, 1 ]$"
   ]
  },
  {
   "cell_type": "code",
   "execution_count": 30,
   "metadata": {
    "ExecuteTime": {
     "end_time": "2018-07-03T15:23:25.455120Z",
     "start_time": "2018-07-03T15:23:25.428113Z"
    },
    "collapsed": true
   },
   "outputs": [],
   "source": [
    "%matplotlib inline\n",
    "import pandas as pd\n",
    "import os\n",
    "import matplotlib.pyplot as plt\n",
    "import numpy as np\n",
    "from sklearn.linear_model import Ridge\n",
    "from sklearn.preprocessing import PolynomialFeatures\n",
    "from sklearn.pipeline import make_pipeline\n",
    "from scipy.interpolate import Rbf\n",
    "folder_path = '../../datasets/rawdata'\n",
    "prob_folder_path = '../../datasets/probability'\n",
    "FLB_folder_path = '../../datasets/FLB'\n",
    "resam_folder_path = '../../datasets/resample_by_min'\n",
    "games = { 'baseball':'/baseball/mlb','basketball':'/basketball/nba','football':'/football/nfl',\n",
    "            'iceball': '/iceball/nhl','soccer_champion':'/soccer/champ_league','scoccer_england':'/soccer/epl',\n",
    "            'soccer_major':'/soccer/majorleague'}\n",
    "# folder name is games, result name is games_results.csv\n",
    "\n",
    "games_list = ['baseball','iceball',\n",
    "              'soccer_champion','scoccer_england','soccer_major',\n",
    "              'soccer',\n",
    "              'soccer_home','soccer_away','soccer_draw']"
   ]
  },
  {
   "cell_type": "code",
   "execution_count": 28,
   "metadata": {
    "ExecuteTime": {
     "end_time": "2018-07-03T15:22:51.838876Z",
     "start_time": "2018-07-03T15:22:51.799872Z"
    },
    "collapsed": true
   },
   "outputs": [],
   "source": [
    "def generate_percentage_winners(count_df,windows_weight,left,right):\n",
    "    perc_winnners_obv = pd.DataFrame(columns = ['price','perc_winner'])\n",
    "    medians = np.array(range(101))/100\n",
    "    \n",
    "    for median in medians:\n",
    "        window_low = median - windows_weight\n",
    "        window_high = median + windows_weight\n",
    "        obv_in_windows = count_df[(count_df.iloc[:,0]<=window_high) & (count_df.iloc[:,0]>=window_low)]\n",
    "        win_obv_in_windows = obv_in_windows[obv_in_windows['HOME_WIN']==True]\n",
    "        if len(obv_in_windows) < 1:\n",
    "            continue\n",
    "        percentage_ = round(len(win_obv_in_windows)/len(obv_in_windows),3)\n",
    "#         perc_winnners_obv[median] = percentage_\n",
    "        perc_winnners_obv = perc_winnners_obv.append({'price':median,'perc_winner':percentage_},ignore_index =True)\n",
    "    perc_winnners_obv = perc_winnners_obv.loc[left:right]\n",
    "    perc_winnners_obv = perc_winnners_obv.append({'price':0.0,'perc_winner':0.0},ignore_index =True)\n",
    "    perc_winnners_obv = perc_winnners_obv.append({'price':1.0,'perc_winner':1.0},ignore_index =True)\n",
    "    return perc_winnners_obv"
   ]
  },
  {
   "cell_type": "code",
   "execution_count": 19,
   "metadata": {
    "ExecuteTime": {
     "end_time": "2018-07-03T15:14:43.068987Z",
     "start_time": "2018-07-03T15:14:42.588998Z"
    },
    "collapsed": false
   },
   "outputs": [
    {
     "data": {
      "image/png": "[encoded data removed]",
      "text/plain": [
       "<Figure size 432x288 with 1 Axes>"
      ]
     },
     "metadata": {},
     "output_type": "display_data"
    }
   ],
   "source": [
    "# check histogram\n",
    "bins_num=20\n",
    "game_name = 'iceball'\n",
    "count_df = pd.read_csv(FLB_folder_path+'/summary/'+game_name+'.csv').set_index('Unnamed: 0')\n",
    "\n",
    "counts, middiam, objs = plt.hist(count_df.iloc[:,0],range=(0,1),bins=bins_num)\n",
    "win_counts, middiam, objs = plt.hist(count_df[count_df['HOME_WIN']==True].iloc[:,0],range=(0,1),bins=bins_num)\n",
    "# the percentage of winners\n",
    "perc_winners = win_counts/(counts+1e-8)\n",
    "time_period = (middiam[1]-middiam[0])/2\n",
    "probabilities = [i + time_period for i in middiam[:-1]]"
   ]
  },
  {
   "cell_type": "code",
   "execution_count": 29,
   "metadata": {
    "ExecuteTime": {
     "end_time": "2018-07-03T15:22:53.377403Z",
     "start_time": "2018-07-03T15:22:52.113874Z"
    },
    "collapsed": false
   },
   "outputs": [
    {
     "data": {
      "text/plain": [
       "<matplotlib.axes._subplots.AxesSubplot at 0x21adf36c390>"
      ]
     },
     "execution_count": 29,
     "metadata": {},
     "output_type": "execute_result"
    },
    {
     "data": {
      "text/plain": [
       "[<matplotlib.lines.Line2D at 0x21adf36c160>]"
      ]
     },
     "execution_count": 29,
     "metadata": {},
     "output_type": "execute_result"
    },
    {
     "data": {
      "image/png": "[encoded data removed]",
      "text/plain": [
       "<Figure size 432x288 with 1 Axes>"
      ]
     },
     "metadata": {},
     "output_type": "display_data"
    }
   ],
   "source": [
    "windows_weight = 0.1\n",
    "for game_name in [ 'iceball']:\n",
    "# for game_name in [ 'soccer_home','soccer_away','soccer_draw']:\n",
    "    count_df = pd.read_csv(FLB_folder_path+'/summary/'+game_name+'.csv').set_index('Unnamed: 0')\n",
    "    perc_ = generate_percentage_winners(count_df,windows_weight,20,66)\n",
    "    perc_.plot.scatter(x=0,y=1)\n",
    "    plt.plot([0,1])\n",
    "#     perc_.to_csv(FLB_folder_path+'/'+game_name+'_'+str(windows_weight)+'_.csv',index=False)"
   ]
  },
  {
   "cell_type": "code",
   "execution_count": null,
   "metadata": {
    "collapsed": true
   },
   "outputs": [],
   "source": []
  }
 ],
 "metadata": {
  "kernelspec": {
   "display_name": "Python 3",
   "language": "python",
   "name": "python3"
  },
  "language_info": {
   "codemirror_mode": {
    "name": "ipython",
    "version": 3
   },
   "file_extension": ".py",
   "mimetype": "text/x-python",
   "name": "python",
   "nbconvert_exporter": "python",
   "pygments_lexer": "ipython3",
   "version": "3.5.4"
  },
  "varInspector": {
   "cols": {
    "lenName": 16,
    "lenType": 16,
    "lenVar": 40
   },
   "kernels_config": {
    "python": {
     "delete_cmd_postfix": "",
     "delete_cmd_prefix": "del ",
     "library": "var_list.py",
     "varRefreshCmd": "print(var_dic_list())"
    },
    "r": {
     "delete_cmd_postfix": ") ",
     "delete_cmd_prefix": "rm(",
     "library": "var_list.r",
     "varRefreshCmd": "cat(var_dic_list()) "
    }
   },
   "types_to_exclude": [
    "module",
    "function",
    "builtin_function_or_method",
    "instance",
    "_Feature"
   ],
   "window_display": false
  }
 },
 "nbformat": 4,
 "nbformat_minor": 2
}
