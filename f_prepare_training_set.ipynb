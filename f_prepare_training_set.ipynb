{
 "cells": [
  {
   "cell_type": "markdown",
   "metadata": {},
   "source": [
    "# merge data as one csv for each training"
   ]
  },
  {
   "cell_type": "markdown",
   "metadata": {},
   "source": [
    "## 1. duration = all"
   ]
  },
  {
   "cell_type": "code",
   "execution_count": 4,
   "metadata": {
    "ExecuteTime": {
     "end_time": "2018-08-08T20:23:42.859361Z",
     "start_time": "2018-08-08T20:23:41.435365Z"
    },
    "collapsed": true
   },
   "outputs": [],
   "source": [
    "import pandas as pd\n",
    "import os\n",
    "import numpy as np\n",
    "# train data\n",
    "summary_folder_path = '../../datasets/train_data/summary'\n",
    "\n",
    "games = { 'baseball':'/baseball/mlb',\n",
    "         'iceball': '/iceball/nhl',\n",
    "         'soccer_champion':'/soccer/champ_league',\n",
    "         'scoccer_england':'/soccer/epl',\n",
    "         'soccer_major':'/soccer/majorleague'}\n",
    "# folder name is games, result name is games_results.csv\n",
    "\n",
    "games_list = ['baseball','iceball']\n",
    "soccer_list = ['soccer_champion','scoccer_england','soccer_major']"
   ]
  },
  {
   "cell_type": "code",
   "execution_count": 23,
   "metadata": {
    "ExecuteTime": {
     "end_time": "2018-07-21T18:59:28.317700Z",
     "start_time": "2018-07-21T18:54:14.124375Z"
    },
    "collapsed": false
   },
   "outputs": [
    {
     "name": "stdout",
     "output_type": "stream",
     "text": [
      "baseball\n"
     ]
    },
    {
     "data": {
      "text/plain": [
       "RangeIndex(start=0, stop=12061, step=1, name='index')"
      ]
     },
     "execution_count": 23,
     "metadata": {},
     "output_type": "execute_result"
    },
    {
     "name": "stdout",
     "output_type": "stream",
     "text": [
      "iceball\n"
     ]
    },
    {
     "data": {
      "text/plain": [
       "RangeIndex(start=0, stop=6949, step=1, name='index')"
      ]
     },
     "execution_count": 23,
     "metadata": {},
     "output_type": "execute_result"
    }
   ],
   "source": [
    "for game_name in games_list:\n",
    "    training_df = pd.DataFrame()\n",
    "    print(game_name)\n",
    "    index_list = [i[:-4] for i in os.listdir(summary_folder_path + games[game_name])]\n",
    "    for index in index_list:\n",
    "        series_df = pd.read_csv(summary_folder_path + games[game_name]+'/'+str(index)+'.csv').set_index('duration')\n",
    "        uncorrected = \" \".join(map(str, round(series_df['home'],5)))\n",
    "        global_corrected = \" \".join(map(str, round(series_df['global_corrected'],5)))\n",
    "        hourly_corrected = \" \".join(map(str, round(series_df['hourly_corrected'],5)))\n",
    "        daily_corrected = \" \".join(map(str, round(series_df['daily_corrected'],5)))\n",
    "        win = series_df.loc[0,'HOME_WIN']\n",
    "        training_df = training_df.append({'no':str(index),\n",
    "                            'game':game_name,\n",
    "                            'uncorrected':uncorrected,\n",
    "                            'global_corrected': global_corrected,\n",
    "                            'hourly_corrected':hourly_corrected,\n",
    "                            'daily_corrected':daily_corrected,\n",
    "                            'win' : win},ignore_index=True)\n",
    "        \n",
    "#         break\n",
    "    training_df.index.rename('index')\n",
    "    training_df.to_csv('../../datasets/train_data/'+game_name+'.csv')"
   ]
  },
  {
   "cell_type": "code",
   "execution_count": 25,
   "metadata": {
    "ExecuteTime": {
     "end_time": "2018-07-21T19:12:24.365421Z",
     "start_time": "2018-07-21T19:10:08.239765Z"
    },
    "collapsed": false
   },
   "outputs": [
    {
     "name": "stdout",
     "output_type": "stream",
     "text": [
      "soccer_champion\n",
      "scoccer_england\n",
      "soccer_major\n"
     ]
    },
    {
     "data": {
      "text/plain": [
       "RangeIndex(start=0, stop=4295, step=1, name='index')"
      ]
     },
     "execution_count": 25,
     "metadata": {},
     "output_type": "execute_result"
    }
   ],
   "source": [
    "training_df = pd.DataFrame()\n",
    "for game_name in soccer_list:   \n",
    "    print(game_name)\n",
    "    index_list = [i[:-4] for i in os.listdir(summary_folder_path + games[game_name])]\n",
    "    for index in index_list:\n",
    "        series_df = pd.read_csv(summary_folder_path + games[game_name]+'/'+str(index)+'.csv').set_index('duration')\n",
    "        uncorrected = \" \".join(map(str, round(series_df['home'],5)))\n",
    "        global_corrected = \" \".join(map(str, round(series_df['global_corrected'],5)))\n",
    "        hourly_corrected = \" \".join(map(str, round(series_df['hourly_corrected'],5)))\n",
    "        daily_corrected = \" \".join(map(str, round(series_df['daily_corrected'],5)))\n",
    "        win = series_df.loc[0,'HOME_WIN']\n",
    "        training_df = training_df.append({'no':str(index),\n",
    "                            'game':game_name,\n",
    "                            'uncorrected':uncorrected,\n",
    "                            'global_corrected': global_corrected,\n",
    "                            'hourly_corrected':hourly_corrected,\n",
    "                            'daily_corrected':daily_corrected,\n",
    "                            'win' : win},ignore_index=True)\n",
    "        \n",
    "training_df.index.rename('index')\n",
    "training_df.to_csv('../../datasets/train_data/soccer.csv')"
   ]
  },
  {
   "cell_type": "markdown",
   "metadata": {},
   "source": [
    "## 2.  separated by day"
   ]
  },
  {
   "cell_type": "code",
   "execution_count": 5,
   "metadata": {
    "ExecuteTime": {
     "end_time": "2018-08-08T20:23:49.127277Z",
     "start_time": "2018-08-08T20:23:49.120278Z"
    },
    "collapsed": true
   },
   "outputs": [],
   "source": [
    "summary_folder_path = '../../datasets/train_data/summary'\n",
    "mining_folder_path = '../../datasets/train_data/data_mining'\n",
    "result_folder_path = '../../datasets/rawdata'\n",
    "result_path = '../../datasets/results'"
   ]
  },
  {
   "cell_type": "code",
   "execution_count": 6,
   "metadata": {
    "ExecuteTime": {
     "end_time": "2018-08-08T20:23:49.703277Z",
     "start_time": "2018-08-08T20:23:49.693280Z"
    },
    "collapsed": true
   },
   "outputs": [],
   "source": [
    "def direction_find(x):\n",
    "    if x>0:\n",
    "        return 1\n",
    "    elif x==0:\n",
    "        return 0\n",
    "    else:\n",
    "        return -1"
   ]
  },
  {
   "cell_type": "code",
   "execution_count": 21,
   "metadata": {
    "ExecuteTime": {
     "end_time": "2018-08-08T20:48:42.909885Z",
     "start_time": "2018-08-08T20:43:25.732298Z"
    },
    "collapsed": false
   },
   "outputs": [
    {
     "name": "stdout",
     "output_type": "stream",
     "text": [
      "soccer_champion\n",
      "scoccer_england\n",
      "soccer_major\n"
     ]
    }
   ],
   "source": [
    "def get_series(sec1,sec2,sec3,series_df,series_name):\n",
    "    dic = {'sec1':\" \".join(map(str, round(sec1[series_name],5))),\n",
    "           'sec2':\" \".join(map(str, round(sec2[series_name],5))),\n",
    "           'sec3':\" \".join(map(str, round(sec3[series_name],5))),\n",
    "           'all':\" \".join(map(str, round(series_df[series_name],5)))}\n",
    "    \n",
    "    return dic\n",
    "\n",
    "unbiased = pd.DataFrame()\n",
    "hourly_corrected = pd.DataFrame()\n",
    "daily_corrected = pd.DataFrame()\n",
    "global_corrected = pd.DataFrame()\n",
    "\n",
    "for game_name in soccer_list:\n",
    "    print(game_name)\n",
    "    results = pd.read_csv(result_folder_path+games[game_name]+'_results.csv').set_index('Unnamed: 0')\n",
    "    index_list = [i[:-4] for i in os.listdir(summary_folder_path + games[game_name])]\n",
    "    for index in index_list:\n",
    "        series_df = pd.read_csv(summary_folder_path + games[game_name]+'/'+str(index)+'.csv')\n",
    "        \n",
    "        # sec 3\n",
    "        sec3 = series_df[series_df['duration']<= int(series_df.iloc[-1,0]/3)] # sec 3\n",
    "        # sec 2\n",
    "        sec2 = series_df[(series_df['duration']<= int(series_df.iloc[-1,0]/3*2)) \\\n",
    "                  & (series_df['duration']> int(series_df.iloc[-1,0]/3)) ] #sec 2\n",
    "        # sec 1\n",
    "        sec1 = series_df[series_df['duration']> int(series_df.iloc[-1,0]/3*2)] # sec 1   \n",
    "        if (len(sec1) < 1) or (len(sec2) < 1) or (len(sec3) < 1):\n",
    "            continue\n",
    "#         target1: result\n",
    "        index = int(index)\n",
    "        if results.loc[index,'home_score'] ==  results.loc[index,'away_score'] :\n",
    "            win = {'draw':1,'home':0,'away':0}\n",
    "        elif results.loc[index,'home_score'] >  results.loc[index,'away_score'] :\n",
    "            win = {'draw':0,'home':1,'away':0}\n",
    "        else:\n",
    "            win = {'draw':0,'home':0,'away':1}\n",
    "#        target2: price\n",
    "        sec2_price = sec2.loc[sec2.index.tolist()[0],'home']\n",
    "        sec3_price = sec3.loc[sec3.index.tolist()[0],'home']\n",
    "        price = {'end_2':sec2_price,\n",
    "                 'end_3':sec3_price}\n",
    "#        target3: direction\n",
    "        sec1_price = sec1.loc[sec1.index.tolist()[0],'home']\n",
    "        direction = {'direction_2':direction_find(sec2_price-sec1_price),\n",
    "                     'direction_3':direction_find(sec3_price-sec2_price)}\n",
    "\n",
    "        unbiased_series = get_series(sec1,sec2,sec3,series_df,'home')\n",
    "        hourly_corrected_series = get_series(sec1,sec2,sec3,series_df,'hourly_corrected')\n",
    "        daily_corrected_series = get_series(sec1,sec2,sec3,series_df,'daily_corrected')\n",
    "        global_corrected_series = get_series(sec1,sec2,sec3,series_df,'global_corrected')\n",
    "        \n",
    "        features = {**unbiased_series,**win,**price,**direction}\n",
    "        unbiased = unbiased.append(features, ignore_index=True)\n",
    "        features = {**hourly_corrected_series,**win,**price,**direction}\n",
    "        hourly_corrected = hourly_corrected.append(features, ignore_index=True)\n",
    "        features = {**daily_corrected_series,**win,**price,**direction}\n",
    "        daily_corrected = daily_corrected.append(features, ignore_index=True)\n",
    "        features = {**global_corrected_series,**win,**price,**direction}\n",
    "        global_corrected = global_corrected.append(features, ignore_index=True)\n",
    "unbiased.to_csv('../../datasets/train_data/series/soccer_unbiased.csv',index=False)\n",
    "hourly_corrected.to_csv('../../datasets/train_data/series/soccer_hourly_corrected.csv',index=False)\n",
    "daily_corrected.to_csv('../../datasets/train_data/series/soccer_daily_corrected.csv',index=False)\n",
    "global_corrected.to_csv('../../datasets/train_data/series/soccer_global_corrected.csv',index=False)"
   ]
  },
  {
   "cell_type": "code",
   "execution_count": 22,
   "metadata": {
    "ExecuteTime": {
     "end_time": "2018-08-08T21:22:31.608722Z",
     "start_time": "2018-08-08T20:48:44.319898Z"
    },
    "collapsed": false
   },
   "outputs": [
    {
     "name": "stdout",
     "output_type": "stream",
     "text": [
      "baseball\n",
      "iceball\n"
     ]
    }
   ],
   "source": [
    "for game_name in games_list:\n",
    "    print(game_name)\n",
    "    unbiased = pd.DataFrame()\n",
    "    hourly_corrected = pd.DataFrame()\n",
    "    daily_corrected = pd.DataFrame()\n",
    "    global_corrected = pd.DataFrame()\n",
    "    results = pd.read_csv(result_folder_path+games[game_name]+'_results.csv').set_index('Unnamed: 0')\n",
    "    index_list = [i[:-4] for i in os.listdir(summary_folder_path + games[game_name])]\n",
    "    for index in index_list:\n",
    "        series_df = pd.read_csv(summary_folder_path + games[game_name]+'/'+str(index)+'.csv')\n",
    "        \n",
    "        # sec 3\n",
    "        sec3 = series_df[series_df['duration']<= int(series_df.iloc[-1,0]/3)] # sec 3\n",
    "        # sec 2\n",
    "        sec2 = series_df[(series_df['duration']<= int(series_df.iloc[-1,0]/3*2)) \\\n",
    "                  & (series_df['duration']> int(series_df.iloc[-1,0]/3)) ] #sec 2\n",
    "        # sec 1\n",
    "        sec1 = series_df[series_df['duration']> int(series_df.iloc[-1,0]/3*2)] # sec 1   \n",
    "        if (len(sec1) < 1) or (len(sec2) < 1) or (len(sec3) < 1):\n",
    "            continue\n",
    "#         target1: result\n",
    "        index = int(index)\n",
    "        if results.loc[index,'home_score'] ==  results.loc[index,'away_score'] :\n",
    "            win = {'draw':1,'home':0,'away':0}\n",
    "        elif results.loc[index,'home_score'] >  results.loc[index,'away_score'] :\n",
    "            win = {'draw':0,'home':1,'away':0}\n",
    "        else:\n",
    "            win = {'draw':0,'home':0,'away':1}\n",
    "#        target2: price\n",
    "        sec2_price = sec2.loc[sec2.index.tolist()[0],'home']\n",
    "        sec3_price = sec3.loc[sec3.index.tolist()[0],'home']\n",
    "        price = {'end_2':sec2_price,\n",
    "                 'end_3':sec3_price}\n",
    "#        target3: direction\n",
    "        sec1_price = sec1.loc[sec1.index.tolist()[0],'home']\n",
    "        direction = {'direction_2':direction_find(sec2_price-sec1_price),\n",
    "                     'direction_3':direction_find(sec3_price-sec2_price)}\n",
    "\n",
    "        unbiased_series = get_series(sec1,sec2,sec3,series_df,'home')\n",
    "        hourly_corrected_series = get_series(sec1,sec2,sec3,series_df,'hourly_corrected')\n",
    "        daily_corrected_series = get_series(sec1,sec2,sec3,series_df,'daily_corrected')\n",
    "        global_corrected_series = get_series(sec1,sec2,sec3,series_df,'global_corrected')\n",
    "        \n",
    "        features = {**unbiased_series,**win,**price,**direction}\n",
    "        unbiased = unbiased.append(features, ignore_index=True)\n",
    "        features = {**hourly_corrected_series,**win,**price,**direction}\n",
    "        hourly_corrected = hourly_corrected.append(features, ignore_index=True)\n",
    "        features = {**daily_corrected_series,**win,**price,**direction}\n",
    "        daily_corrected = daily_corrected.append(features, ignore_index=True)\n",
    "        features = {**global_corrected_series,**win,**price,**direction}\n",
    "        global_corrected = global_corrected.append(features, ignore_index=True)\n",
    "    unbiased.to_csv('../../datasets/train_data/series/'+game_name+'_unbiased.csv',index=False)\n",
    "    hourly_corrected.to_csv('../../datasets/train_data/series/'+game_name+'_hourly_corrected.csv',index=False)\n",
    "    daily_corrected.to_csv('../../datasets/train_data/series/'+game_name+'_daily_corrected.csv',index=False)\n",
    "    global_corrected.to_csv('../../datasets/train_data/series/'+game_name+'_global_corrected.csv',index=False)"
   ]
  },
  {
   "cell_type": "code",
   "execution_count": null,
   "metadata": {
    "collapsed": true
   },
   "outputs": [],
   "source": []
  }
 ],
 "metadata": {
  "kernelspec": {
   "display_name": "Python 3",
   "language": "python",
   "name": "python3"
  },
  "language_info": {
   "codemirror_mode": {
    "name": "ipython",
    "version": 3
   },
   "file_extension": ".py",
   "mimetype": "text/x-python",
   "name": "python",
   "nbconvert_exporter": "python",
   "pygments_lexer": "ipython3",
   "version": "3.5.4"
  },
  "varInspector": {
   "cols": {
    "lenName": 16,
    "lenType": 16,
    "lenVar": 40
   },
   "kernels_config": {
    "python": {
     "delete_cmd_postfix": "",
     "delete_cmd_prefix": "del ",
     "library": "var_list.py",
     "varRefreshCmd": "print(var_dic_list())"
    },
    "r": {
     "delete_cmd_postfix": ") ",
     "delete_cmd_prefix": "rm(",
     "library": "var_list.r",
     "varRefreshCmd": "cat(var_dic_list()) "
    }
   },
   "types_to_exclude": [
    "module",
    "function",
    "builtin_function_or_method",
    "instance",
    "_Feature"
   ],
   "window_display": false
  }
 },
 "nbformat": 4,
 "nbformat_minor": 2
}
