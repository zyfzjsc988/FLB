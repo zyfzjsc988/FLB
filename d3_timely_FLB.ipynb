{
 "cells": [
  {
   "cell_type": "markdown",
   "metadata": {},
   "source": [
    "## windows changing to count FLB\n",
    "We need two types of FLB to check.\n",
    "- Fixed FLB for each game\n",
    "- timely FLB for each game\n",
    "\n",
    "### timely\n"
   ]
  },
  {
   "cell_type": "code",
   "execution_count": 3,
   "metadata": {
    "ExecuteTime": {
     "end_time": "2018-07-03T17:31:46.840556Z",
     "start_time": "2018-07-03T17:31:46.815568Z"
    },
    "collapsed": true
   },
   "outputs": [],
   "source": [
    "%matplotlib inline\n",
    "import pandas as pd\n",
    "import os\n",
    "import matplotlib.pyplot as plt\n",
    "import numpy as np\n",
    "from sklearn.linear_model import Ridge\n",
    "from sklearn.preprocessing import PolynomialFeatures\n",
    "from sklearn.pipeline import make_pipeline\n",
    "from scipy.interpolate import Rbf\n",
    "folder_path = '../../datasets/rawdata'\n",
    "prob_folder_path = '../../datasets/probability'\n",
    "FLB_folder_path = '../../datasets/FLB'\n",
    "resam_folder_path = '../../datasets/resample_by_min'\n",
    "games = { 'baseball':'/baseball/mlb','basketball':'/basketball/nba','football':'/football/nfl',\n",
    "            'iceball': '/iceball/nhl','soccer_champion':'/soccer/champ_league','scoccer_england':'/soccer/epl',\n",
    "            'soccer_major':'/soccer/majorleague'}\n",
    "# folder name is games, result name is games_results.csv\n",
    "\n",
    "games_list = ['baseball','iceball',\n",
    "              'soccer_champion','scoccer_england','soccer_major',\n",
    "              'soccer',\n",
    "              'soccer_home','soccer_away','soccer_draw']"
   ]
  },
  {
   "cell_type": "code",
   "execution_count": 4,
   "metadata": {
    "ExecuteTime": {
     "end_time": "2018-07-03T17:31:49.853527Z",
     "start_time": "2018-07-03T17:31:49.816525Z"
    },
    "collapsed": true
   },
   "outputs": [],
   "source": [
    "def generate_percentage_winners(count_df,windows_weight,left,right):\n",
    "    perc_winnners_obv = pd.DataFrame(columns = ['price','perc_winner'])\n",
    "    medians = np.array(range(101))/100\n",
    "    \n",
    "    for median in medians:\n",
    "        window_low = median - windows_weight\n",
    "        window_high = median + windows_weight\n",
    "        obv_in_windows = count_df[(count_df.iloc[:,0]<=window_high) & (count_df.iloc[:,0]>=window_low)]\n",
    "        win_obv_in_windows = obv_in_windows[obv_in_windows['HOME_WIN']==True]\n",
    "        if len(obv_in_windows) < 1:\n",
    "            continue\n",
    "        percentage_ = round(len(win_obv_in_windows)/len(obv_in_windows),3)\n",
    "#         perc_winnners_obv[median] = percentage_\n",
    "        perc_winnners_obv = perc_winnners_obv.append({'price':median,'perc_winner':percentage_},ignore_index =True)\n",
    "    perc_winnners_obv = perc_winnners_obv.loc[left:right]\n",
    "    perc_winnners_obv = perc_winnners_obv.append({'price':0.0,'perc_winner':0.0},ignore_index =True)\n",
    "    perc_winnners_obv = perc_winnners_obv.append({'price':1.0,'perc_winner':1.0},ignore_index =True)\n",
    "    perc_winnners_obv = perc_winnners_obv.sort_values(by=['price']).reset_index(drop=True)\n",
    "    return perc_winnners_obv"
   ]
  },
  {
   "cell_type": "code",
   "execution_count": null,
   "metadata": {
    "collapsed": true
   },
   "outputs": [],
   "source": []
  }
 ],
 "metadata": {
  "kernelspec": {
   "display_name": "Python 3",
   "language": "python",
   "name": "python3"
  },
  "language_info": {
   "codemirror_mode": {
    "name": "ipython",
    "version": 3
   },
   "file_extension": ".py",
   "mimetype": "text/x-python",
   "name": "python",
   "nbconvert_exporter": "python",
   "pygments_lexer": "ipython3",
   "version": "3.5.4"
  },
  "varInspector": {
   "cols": {
    "lenName": 16,
    "lenType": 16,
    "lenVar": 40
   },
   "kernels_config": {
    "python": {
     "delete_cmd_postfix": "",
     "delete_cmd_prefix": "del ",
     "library": "var_list.py",
     "varRefreshCmd": "print(var_dic_list())"
    },
    "r": {
     "delete_cmd_postfix": ") ",
     "delete_cmd_prefix": "rm(",
     "library": "var_list.r",
     "varRefreshCmd": "cat(var_dic_list()) "
    }
   },
   "types_to_exclude": [
    "module",
    "function",
    "builtin_function_or_method",
    "instance",
    "_Feature"
   ],
   "window_display": false
  }
 },
 "nbformat": 4,
 "nbformat_minor": 2
}
