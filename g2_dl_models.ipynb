{
 "cells": [
  {
   "cell_type": "code",
   "execution_count": 22,
   "metadata": {
    "ExecuteTime": {
     "end_time": "2018-08-08T21:31:58.020457Z",
     "start_time": "2018-08-08T21:31:58.003453Z"
    },
    "collapsed": true
   },
   "outputs": [],
   "source": [
    "import pandas as pd\n",
    "import numpy as np\n",
    "\n",
    "from keras.preprocessing import sequence\n",
    "\n",
    "# train data\n",
    "training_data_path = '../../datasets/train_data/series/'\n",
    "result_path = '../../datasets/results/'\n",
    "def series_features(series,maxlen=20):\n",
    "    sec1 = series.apply(lambda x :[int(float(i)*100000) for i in x.split(' ')]).tolist()\n",
    "    return sequence.pad_sequences(sec1, maxlen=maxlen)\n",
    "\n",
    "series_names = ['unbiased','hourly_corrected','daily_corrected','global_corrected']\n",
    "maxlen = 20"
   ]
  },
  {
   "cell_type": "code",
   "execution_count": 99,
   "metadata": {
    "ExecuteTime": {
     "end_time": "2018-08-08T22:57:23.030585Z",
     "start_time": "2018-08-08T22:57:22.354584Z"
    },
    "collapsed": false
   },
   "outputs": [],
   "source": [
    "np.random.seed(1337)  # for reproducibility\n",
    "\n",
    "from keras.datasets import mnist\n",
    "from keras.utils import np_utils\n",
    "from keras.layers import Dense, Embedding,Flatten\n",
    "from keras.layers import LSTM\n",
    "from keras.optimizers import Adam\n",
    "\n",
    "def LSTM_regression(X,y,val_rate=0.3):\n",
    "    LR = 0.01\n",
    "    length_val = int(len(y)*0.3)\n",
    "\n",
    "    X_train, y_train = X[length_val:,:],y[length_val:]\n",
    "    X_test, y_test =X[:length_val,:],y[:length_val]\n",
    "\n",
    "    X_train = np.reshape(X_train, (X_train.shape[0],1, X_train.shape[1]))\n",
    "    X_test = np.reshape(X_test, (X_test.shape[0],1, X_test.shape[1]))\n",
    "    print(X_train.shape)\n",
    "    # build RNN model\n",
    "    model = Sequential()\n",
    "    model.add(LSTM(input_dim=20,\n",
    "                   output_dim=50,return_sequences=True))\n",
    "    model.add(Flatten())\n",
    "    model.add(Dense(output_dim=1))\n",
    "    # optimizer\n",
    "    model.compile(optimizer='rmsprop',\n",
    "                  loss='mean_squared_error')\n",
    "\n",
    "    # training\n",
    "    model.fit(X_train, y_train,nb_epoch=3,validation_data=(X_test, y_test))\n",
    "    score = model.evaluate(X_test, y_test)\n",
    "\n",
    "    print('test cost: ', score)\n",
    "    return score\n",
    "\n",
    "\n",
    "\n",
    "\n",
    "\n",
    "def LSTM_classifer(X,y,val_rate=0.3):\n",
    "    LR = 0.01\n",
    "    length_val = int(len(y)*0.3)\n",
    "    num_classes = len(set(y))\n",
    "\n",
    "    X_train, y_train = X[length_val:,:],y[length_val:]\n",
    "    X_test, y_test =X[:length_val,:],y[:length_val]\n",
    "    \n",
    "    # data pre-processing\n",
    "    y_train = np_utils.to_categorical(y_train, num_classes=num_classes)\n",
    "    y_test = np_utils.to_categorical(y_test, num_classes=num_classes)\n",
    "\n",
    "    # build RNN model\n",
    "    model = Sequential()\n",
    "\n",
    "    # RNN cell\n",
    "\n",
    "\n",
    "    model.add(Embedding(100000, 128))\n",
    "\n",
    "    model.add(LSTM(128, dropout=0.6, recurrent_dropout=0.2))\n",
    "    # model.add(LSTM(128))\n",
    "    model.add(Dense(num_classes, activation='softmax'))\n",
    "\n",
    "    # optimizer\n",
    "    model.compile(optimizer=Adam(LR),\n",
    "                  loss='categorical_crossentropy',\n",
    "                  metrics=['accuracy'])\n",
    "\n",
    "    # training\n",
    "    model.fit(X_train, y_train,nb_epoch=3,validation_data=(X_test, y_test))\n",
    "    score, acc = model.evaluate(X_test, y_test)\n",
    "\n",
    "    print('test cost: ', score, 'test accuracy: ', acc)\n",
    "    return acc"
   ]
  },
  {
   "cell_type": "code",
   "execution_count": null,
   "metadata": {
    "ExecuteTime": {
     "start_time": "2018-08-08T22:57:56.209Z"
    },
    "collapsed": false
   },
   "outputs": [
    {
     "name": "stderr",
     "output_type": "stream",
     "text": [
      "C:\\Users\\surface\\Anaconda2\\envs\\tensorflow\\lib\\site-packages\\ipykernel_launcher.py:70: UserWarning: The `nb_epoch` argument in `fit` has been renamed `epochs`.\n"
     ]
    },
    {
     "name": "stdout",
     "output_type": "stream",
     "text": [
      "Train on 2693 samples, validate on 1153 samples\n",
      "Epoch 1/3\n",
      "2693/2693 [==============================] - 38s 14ms/step - loss: 0.6943 - acc: 0.5258 - val_loss: 0.7499 - val_acc: 0.5273\n",
      "Epoch 2/3\n",
      "2693/2693 [==============================] - 33s 12ms/step - loss: 0.6644 - acc: 0.6064 - val_loss: 0.6889 - val_acc: 0.5993\n",
      "Epoch 3/3\n",
      "2176/2693 [=======================>......] - ETA: 7s - loss: 0.6628 - acc: 0.6227"
     ]
    }
   ],
   "source": [
    "game_name = 'soccer'\n",
    "df = pd.DataFrame()\n",
    "dic = {}\n",
    "for series_name in series_names:\n",
    "    series_df = pd.read_csv(training_data_path+game_name+'_'+series_name+'.csv')\n",
    "    sec1 = series_features(series_df['sec1'],maxlen=maxlen)\n",
    "    sec2 = series_features(series_df['sec2'],maxlen=maxlen)\n",
    "    sec3 = series_features(series_df['sec3'],maxlen=maxlen)\n",
    "    \n",
    "    dic['sec1_home_win'] = LSTM_classifer(sec1,series_df['home'].apply(int).values,val_rate=0.3)\n",
    "    dic['sec2_home_win'] = LSTM_classifer(sec2,series_df['home'].apply(int).values,val_rate=0.3)\n",
    "    dic['sec3_home_win'] = LSTM_classifer(sec3,series_df['home'].apply(int).values,val_rate=0.3)\n",
    "    dic['sec1_direction'] = LSTM_classifer(sec1,series_df['direction_2'].apply(int).values,val_rate=0.3)\n",
    "    dic['sec2_direction'] = LSTM_classifer(sec2,series_df['direction_3'].apply(int).values,val_rate=0.3)\n",
    "    pred = pd.Series(dic) \n",
    "    pred.name = series_name\n",
    "    df = df.append(pred)\n",
    "df.to_csv(result_path+'soccer_rnn.csv')"
   ]
  },
  {
   "cell_type": "code",
   "execution_count": null,
   "metadata": {
    "collapsed": true
   },
   "outputs": [],
   "source": []
  }
 ],
 "metadata": {
  "kernelspec": {
   "display_name": "Python 3",
   "language": "python",
   "name": "python3"
  },
  "language_info": {
   "codemirror_mode": {
    "name": "ipython",
    "version": 3
   },
   "file_extension": ".py",
   "mimetype": "text/x-python",
   "name": "python",
   "nbconvert_exporter": "python",
   "pygments_lexer": "ipython3",
   "version": "3.5.4"
  },
  "varInspector": {
   "cols": {
    "lenName": 16,
    "lenType": 16,
    "lenVar": 40
   },
   "kernels_config": {
    "python": {
     "delete_cmd_postfix": "",
     "delete_cmd_prefix": "del ",
     "library": "var_list.py",
     "varRefreshCmd": "print(var_dic_list())"
    },
    "r": {
     "delete_cmd_postfix": ") ",
     "delete_cmd_prefix": "rm(",
     "library": "var_list.r",
     "varRefreshCmd": "cat(var_dic_list()) "
    }
   },
   "types_to_exclude": [
    "module",
    "function",
    "builtin_function_or_method",
    "instance",
    "_Feature"
   ],
   "window_display": false
  }
 },
 "nbformat": 4,
 "nbformat_minor": 2
}
