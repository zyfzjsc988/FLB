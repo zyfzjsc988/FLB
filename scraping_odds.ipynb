{
 "cells": [
  {
   "cell_type": "code",
   "execution_count": 1,
   "metadata": {
    "collapsed": true
   },
   "outputs": [],
   "source": [
    "from bs4 import BeautifulSoup\n",
    "from urllib import request\n",
    "import requests\n",
    "import json\n",
    "import pandas as pd\n",
    "import datetime\n",
    "import time"
   ]
  },
  {
   "cell_type": "code",
   "execution_count": 2,
   "metadata": {
    "collapsed": true
   },
   "outputs": [],
   "source": [
    "url = 'https://www.oddsshark.com/soccer/mls/odds/line-history/953912'\n",
    "req = request.Request(url)\n",
    "page1 = request.urlopen(req).read()\n",
    "page1 = page1.decode('utf-8')"
   ]
  },
  {
   "cell_type": "code",
   "execution_count": null,
   "metadata": {
    "collapsed": true
   },
   "outputs": [],
   "source": [
    "url = 'https://www.oddsshark.com/soccer/mls/odds/line-history/953912'\n",
    "req = request.Request(url)\n",
    "page1 = request.urlopen(req).read()\n",
    "page1 = page1.decode('utf-8')"
   ]
  },
  {
   "cell_type": "code",
   "execution_count": 3,
   "metadata": {
    "collapsed": false
   },
   "outputs": [
    {
     "name": "stderr",
     "output_type": "stream",
     "text": [
      "C:\\Users\\surface\\Anaconda2\\envs\\tensorflow\\lib\\site-packages\\bs4\\__init__.py:181: UserWarning: No parser was explicitly specified, so I'm using the best available HTML parser for this system (\"lxml\"). This usually isn't a problem, but if you run this code on another system, or in a different virtual environment, it may use a different parser and behave differently.\n",
      "\n",
      "The code that caused this warning is on line 193 of the file C:\\Users\\surface\\Anaconda2\\envs\\tensorflow\\lib\\runpy.py. To get rid of this warning, change code that looks like this:\n",
      "\n",
      " BeautifulSoup(YOUR_MARKUP})\n",
      "\n",
      "to this:\n",
      "\n",
      " BeautifulSoup(YOUR_MARKUP, \"lxml\")\n",
      "\n",
      "  markup_type=markup_type))\n"
     ]
    },
    {
     "name": "stdout",
     "output_type": "stream",
     "text": [
      "Bet365\n",
      "{'05/28/18 4:57:54 AM': {'away': '+145', 'draw': '+240', 'home': '+175'}, '05/30/18 4:11:49 PM': {'away': '+150', 'draw': '+250', 'home': '+162'}, '05/30/18 3:30:13 PM': {'away': '+150', 'draw': '+250', 'home': '+162'}, '05/30/18 3:35:31 PM': {'away': '+150', 'draw': '+250', 'home': '+162'}, '05/29/18 8:34:20 AM': {'away': '+160', 'draw': '+250', 'home': '+180'}, '05/30/18 6:52:51 PM': {'away': '+162', 'draw': '+250', 'home': '+150'}, '05/28/18 4:29:00 PM': {'away': '+138', 'draw': '+240', 'home': '+188'}, '05/30/18 4:16:57 PM': {'away': '+150', 'draw': '+250', 'home': '+162'}, '05/30/18 6:39:09 PM': {'away': '+140', 'draw': '+250', 'home': '+175'}, '05/29/18 7:20:51 PM': {'away': '+150', 'draw': '+250', 'home': '+162'}, '05/30/18 6:39:10 PM': {'away': '+162', 'draw': '+250', 'home': '+175'}, '05/29/18 9:22:40 AM': {'away': '+160', 'draw': '+250', 'home': '+160'}, '05/30/18 4:49:04 PM': {'away': '+140', 'draw': '+250', 'home': '+175'}, '05/29/18 12:44:15 PM': {'away': '+160', 'draw': '+250', 'home': '+160'}, '05/28/18 3:15:24 AM': {'away': '+160', 'draw': '+240', 'home': '+160'}, '05/30/18 5:25:57 PM': {'away': '+140', 'draw': '+250', 'home': '+175'}}\n",
      "\n",
      "BetOnline\n",
      "{'05/30/18 3:20:52 AM': {'away': '+153', 'draw': '+225', 'home': '+166'}, '05/30/18 1:28:28 PM': {'away': '+152', 'draw': '+225', 'home': '+167'}, '05/29/18 9:16:36 AM': {'away': '+159', 'draw': '+220', 'home': '+164'}, '05/30/18 7:03:19 PM': {'away': '+173', 'draw': '+215', 'home': '+153'}, '05/30/18 1:23:46 AM': {'away': '+154', 'draw': '+225', 'home': '+164'}, '05/28/18 11:59:17 AM': {'away': '+152', 'draw': '+220', 'home': '+171'}, '05/30/18 12:52:11 AM': {'away': '+153', 'draw': '+225', 'home': '+166'}, '05/30/18 8:34:55 AM': {'away': '+153', 'draw': '+225', 'home': '+165'}, '05/30/18 10:22:58 AM': {'away': '+156', 'draw': '+225', 'home': '+165'}, '05/30/18 12:03:32 PM': {'away': '+154', 'draw': '+225', 'home': '+164'}, '05/29/18 3:36:02 PM': {'away': '+155', 'draw': '+220', 'home': '+165'}, '05/30/18 6:52:45 PM': {'away': '+170', 'draw': '+215', 'home': '+155'}, '05/29/18 11:29:39 AM': {'away': '+157', 'draw': '+220', 'home': '+165'}, '05/28/18 4:24:27 PM': {'away': '+139', 'draw': '+220', 'home': '+186'}, '05/30/18 9:40:35 AM': {'away': '+152', 'draw': '+225', 'home': '+167'}, '05/30/18 12:19:27 PM': {'away': '+152', 'draw': '+225', 'home': '+167'}, '05/30/18 6:47:27 PM': {'away': '+137', 'draw': '+220', 'home': '+189'}, '05/28/18 9:55:06 PM': {'away': '+138', 'draw': '+225', 'home': '+185'}, '05/30/18 9:17:04 AM': {'away': '+153', 'draw': '+225', 'home': '+165'}, '05/29/18 6:20:00 PM': {'away': '+153', 'draw': '+225', 'home': '+166'}, '05/30/18 4:45:41 PM': {'away': '+147', 'draw': '+225', 'home': '+174'}, '05/30/18 11:31:41 AM': {'away': '+152', 'draw': '+225', 'home': '+167'}, '05/30/18 4:50:59 PM': {'away': '+153', 'draw': '+225', 'home': '+170'}, '05/30/18 6:42:09 PM': {'away': '+137', 'draw': '+220', 'home': '+193'}, '05/28/18 6:47:33 AM': {'away': '+146', 'draw': '+220', 'home': '+177'}, '05/30/18 12:30:00 PM': {'away': '+154', 'draw': '+225', 'home': '+165'}, '05/30/18 5:28:02 PM': {'away': '+151', 'draw': '+220', 'home': '+171'}, '05/30/18 12:51:13 PM': {'away': '+154', 'draw': '+220', 'home': '+166'}, '05/30/18 8:13:50 AM': {'away': '+154', 'draw': '+225', 'home': '+164'}, '05/30/18 2:05:40 PM': {'away': '+154', 'draw': '+225', 'home': '+166'}, '05/30/18 4:40:27 PM': {'away': '+147', 'draw': '+225', 'home': '+171'}, '05/30/18 6:05:05 PM': {'away': '+148', 'draw': '+220', 'home': '+171'}, '05/28/18 4:40:09 PM': {'away': '+133', 'draw': '+225', 'home': '+190'}, '05/30/18 5:33:20 PM': {'away': '+152', 'draw': '+220', 'home': '+171'}, '05/30/18 4:19:05 PM': {'away': '+153', 'draw': '+220', 'home': '+167'}, '05/30/18 3:20:42 PM': {'away': '+154', 'draw': '+220', 'home': '+168'}, '05/30/18 7:13:55 PM': {'away': '+178', 'draw': '+220', 'home': '+147'}, '05/29/18 12:43:07 PM': {'away': '+156', 'draw': '+220', 'home': '+164'}, '05/30/18 7:03:20 PM': {'away': '+173', 'draw': '+215', 'home': '+150'}, '05/30/18 5:06:53 PM': {'away': '+153', 'draw': '+220', 'home': '+167'}, '05/30/18 6:15:37 PM': {'away': '+147', 'draw': '+220', 'home': '+176'}, '05/30/18 1:17:53 PM': {'away': '+150', 'draw': '+225', 'home': '+170'}, '05/28/18 4:29:34 PM': {'away': '+140', 'draw': '+225', 'home': '+181'}, '05/30/18 6:53:46 AM': {'away': '+153', 'draw': '+225', 'home': '+166'}, '05/30/18 11:47:36 AM': {'away': '+155', 'draw': '+225', 'home': '+164'}, '05/29/18 10:31:04 AM': {'away': '+157', 'draw': '+220', 'home': '+161'}, '05/29/18 4:28:32 AM': {'away': '+139', 'draw': '+220', 'home': '+186'}, '05/30/18 5:33:51 AM': {'away': '+158', 'draw': '+225', 'home': '+160'}, '05/30/18 1:08:03 AM': {'away': '+156', 'draw': '+225', 'home': '+163'}, '05/29/18 7:40:27 AM': {'away': '+146', 'draw': '+220', 'home': '+177'}, '05/30/18 3:31:18 PM': {'away': '+154', 'draw': '+225', 'home': '+166'}, '05/30/18 11:21:07 AM': {'away': '+156', 'draw': '+225', 'home': '+163'}, '05/30/18 11:58:12 AM': {'away': '+157', 'draw': '+225', 'home': '+161'}, '05/30/18 12:24:45 PM': {'away': '+154', 'draw': '+225', 'home': '+164'}, '05/29/18 9:43:12 PM': {'away': '+147', 'draw': '+225', 'home': '+173'}, '05/30/18 1:02:46 AM': {'away': '+153', 'draw': '+225', 'home': '+166'}, '05/30/18 5:12:09 PM': {'away': '+150', 'draw': '+225', 'home': '+170'}, '05/30/18 6:58:02 PM': {'away': '+170', 'draw': '+220', 'home': '+153'}, '05/30/18 5:23:18 AM': {'away': '+156', 'draw': '+225', 'home': '+163'}, '05/30/18 10:17:40 AM': {'away': '+151', 'draw': '+225', 'home': '+168'}, '05/30/18 6:36:51 PM': {'away': '+147', 'draw': '+220', 'home': '+177'}, '05/30/18 1:07:18 PM': {'away': '+151', 'draw': '+225', 'home': '+168'}, '05/30/18 11:52:54 AM': {'away': '+152', 'draw': '+225', 'home': '+167'}, '05/29/18 10:19:48 PM': {'away': '+152', 'draw': '+225', 'home': '+167'}, '05/30/18 1:01:48 PM': {'away': '+152', 'draw': '+225', 'home': '+167'}, '05/30/18 5:54:32 PM': {'away': '+151', 'draw': '+220', 'home': '+171'}, '05/30/18 12:41:36 AM': {'away': '+153', 'draw': '+225', 'home': '+165'}, '05/30/18 3:36:37 PM': {'away': '+152', 'draw': '+225', 'home': '+167'}, '05/30/18 6:06:13 AM': {'away': '+156', 'draw': '+225', 'home': '+163'}, '05/30/18 2:43:13 PM': {'away': '+154', 'draw': '+220', 'home': '+166'}, '05/30/18 9:11:46 AM': {'away': '+152', 'draw': '+225', 'home': '+167'}, '05/30/18 7:08:37 PM': {'away': '+178', 'draw': '+220', 'home': '+149'}, '05/28/18 8:15:06 AM': {'away': '+152', 'draw': '+220', 'home': '+178'}, '05/30/18 7:09:39 AM': {'away': '+154', 'draw': '+225', 'home': '+163'}}\n",
      "\n",
      "Betway\n",
      "{'05/30/18 6:44:34 PM': {'away': '+125', 'draw': '+250', 'home': '+170'}, '05/30/18 3:39:50 PM': {'away': '+138', 'draw': '+240', 'home': '+160'}, '05/29/18 7:43:14 AM': {'away': '+130', 'draw': '+240', 'home': '+170'}, '05/30/18 6:56:04 PM': {'away': '+150', 'draw': '+260', 'home': '+138'}, '05/28/18 8:01:49 AM': {'away': '+138', 'draw': '+250', 'home': '+140'}, '05/27/18 12:00:22 PM': {'away': '+150', 'draw': '+230', 'home': '+150'}, '05/30/18 6:16:11 PM': {'away': '+138', 'draw': '+240', 'home': '+160'}, '05/28/18 8:07:32 AM': {'away': '+138', 'draw': '+240', 'home': '+160'}, '05/28/18 4:27:19 PM': {'away': '+130', 'draw': '+250', 'home': '+162'}, '05/29/18 9:17:52 AM': {'away': '+150', 'draw': '+230', 'home': '+150'}, '05/30/18 5:36:30 PM': {'away': '+138', 'draw': '+250', 'home': '+150'}, '05/28/18 5:39:52 AM': {'away': '+138', 'draw': '+240', 'home': '+160'}, '05/30/18 6:50:29 PM': {'away': '+138', 'draw': '+240', 'home': '+160'}, '05/29/18 5:51:12 AM': {'away': '+125', 'draw': '+240', 'home': '+175'}}\n",
      "\n",
      "MyBookie\n",
      "{'05/28/18 4:40:21 PM': {'away': '+141', 'draw': '+261', 'home': '+183'}, '05/30/18 1:13:08 AM': {'away': '+155', 'draw': '+260', 'home': '+166'}, '05/30/18 6:04:44 PM': {'away': '+150', 'draw': '+264', 'home': '+171'}, '05/30/18 8:07:25 AM': {'away': '+157', 'draw': '+262', 'home': '+163'}, '05/30/18 2:48:26 PM': {'away': '+154', 'draw': '+265', 'home': '+164'}, '05/30/18 10:58:24 AM': {'away': '+156', 'draw': '+266', 'home': '+163'}, '05/30/18 9:30:25 AM': {'away': '+157', 'draw': '+265', 'home': '+161'}, '05/29/18 4:09:20 AM': {'away': '+139', 'draw': '+261', 'home': '+186'}, '05/29/18 6:02:52 AM': {'away': '+140', 'draw': '+261', 'home': '+185'}, '05/30/18 12:20:33 PM': {'away': '+156', 'draw': '+264', 'home': '+162'}, '05/29/18 3:58:25 AM': {'away': '+139', 'draw': '+261', 'home': '+185'}, '05/30/18 12:02:14 AM': {'away': '+155', 'draw': '+258', 'home': '+167'}, '05/30/18 1:42:43 PM': {'away': '+155', 'draw': '+265', 'home': '+164'}, '05/29/18 12:45:04 PM': {'away': '+161', 'draw': '+257', 'home': '+163'}, '05/28/18 8:22:26 PM': {'away': '+139', 'draw': '+261', 'home': '+183'}, '05/28/18 4:34:55 PM': {'away': '+141', 'draw': '+261', 'home': '+182'}, '05/30/18 5:47:58 PM': {'away': '+152', 'draw': '+264', 'home': '+168'}, '05/29/18 5:55:00 PM': {'away': '+154', 'draw': '+258', 'home': '+167'}, '05/30/18 12:48:01 PM': {'away': '+156', 'draw': '+264', 'home': '+162'}, '05/30/18 3:45:35 PM': {'away': '+152', 'draw': '+265', 'home': '+167'}, '05/30/18 5:59:14 PM': {'away': '+150', 'draw': '+264', 'home': '+170'}, '05/29/18 7:41:52 AM': {'away': '+144', 'draw': '+261', 'home': '+180'}, '05/30/18 7:01:09 PM': {'away': '+164', 'draw': '+267', 'home': '+158'}, '05/29/18 2:56:28 PM': {'away': '+155', 'draw': '+257', 'home': '+167'}, '05/30/18 5:36:43 PM': {'away': '+152', 'draw': '+264', 'home': '+167'}, '05/28/18 8:10:38 AM': {'away': '+147', 'draw': '+257', 'home': '+177'}, '05/30/18 5:07:02 AM': {'away': '+158', 'draw': '+261', 'home': '+166'}, '05/30/18 7:51:03 AM': {'away': '+157', 'draw': '+261', 'home': '+164'}, '05/30/18 6:16:07 PM': {'away': '+148', 'draw': '+264', 'home': '+174'}, '05/29/18 4:31:10 AM': {'away': '+138', 'draw': '+261', 'home': '+184'}, '05/30/18 3:17:52 AM': {'away': '+156', 'draw': '+261', 'home': '+166'}, '05/30/18 10:30:51 AM': {'away': '+157', 'draw': '+264', 'home': '+161'}, '05/29/18 5:51:57 AM': {'away': '+140', 'draw': '+261', 'home': '+192'}, '05/28/18 4:29:13 PM': {'away': '+144', 'draw': '+261', 'home': '+180'}, '05/28/18 1:52:29 PM': {'away': '+144', 'draw': '+261', 'home': '+171'}, '05/29/18 9:19:18 AM': {'away': '+161', 'draw': '+258', 'home': '+169'}, '05/29/18 3:07:25 PM': {'away': '+156', 'draw': '+259', 'home': '+167'}, '05/29/18 9:24:45 AM': {'away': '+161', 'draw': '+257', 'home': '+163'}, '05/30/18 11:25:47 AM': {'away': '+156', 'draw': '+264', 'home': '+163'}, '05/30/18 12:26:07 PM': {'away': '+156', 'draw': '+265', 'home': '+162'}, '05/29/18 4:25:42 AM': {'away': '+139', 'draw': '+261', 'home': '+185'}, '05/29/18 3:47:30 AM': {'away': '+139', 'draw': '+261', 'home': '+184'}, '05/28/18 10:22:50 AM': {'away': '+149', 'draw': '+260', 'home': '+175'}, '05/29/18 11:39:16 AM': {'away': '+161', 'draw': '+257', 'home': '+163'}, '05/30/18 7:12:23 PM': {'away': '+167', 'draw': '+271', 'home': '+151'}, '05/30/18 12:51:16 AM': {'away': '+155', 'draw': '+259', 'home': '+167'}, '05/29/18 9:24:44 AM': {'away': '+161', 'draw': '+257', 'home': '+169'}, '05/29/18 7:23:34 AM': {'away': '+144', 'draw': '+261', 'home': '+184'}, '05/30/18 6:21:45 PM': {'away': '+148', 'draw': '+264', 'home': '+175'}, '05/29/18 1:23:21 PM': {'away': '+156', 'draw': '+258', 'home': '+167'}, '05/29/18 11:17:22 AM': {'away': '+160', 'draw': '+256', 'home': '+163'}, '05/30/18 6:44:18 PM': {'away': '+140', 'draw': '+265', 'home': '+182'}, '05/30/18 4:18:47 PM': {'away': '+152', 'draw': '+266', 'home': '+166'}, '05/30/18 5:34:11 AM': {'away': '+158', 'draw': '+261', 'home': '+164'}, '05/30/18 3:39:58 PM': {'away': '+154', 'draw': '+263', 'home': '+166'}, '05/30/18 4:02:16 PM': {'away': '+152', 'draw': '+265', 'home': '+166'}, '05/28/18 12:06:48 PM': {'away': '+149', 'draw': '+260', 'home': '+174'}, '05/28/18 7:54:16 AM': {'away': '+147', 'draw': '+257', 'home': '+177'}, '05/30/18 5:53:38 PM': {'away': '+150', 'draw': '+263', 'home': '+170'}, '05/30/18 6:27:21 PM': {'away': '+140', 'draw': '+263', 'home': '+174'}, '05/28/18 6:59:21 AM': {'away': '+149', 'draw': '+246', 'home': '+180'}, '05/29/18 8:34:29 PM': {'away': '+155', 'draw': '+259', 'home': '+167'}, '05/30/18 5:50:31 AM': {'away': '+156', 'draw': '+261', 'home': '+164'}, '05/29/18 7:52:31 AM': {'away': '+145', 'draw': '+260', 'home': '+178'}, '05/30/18 2:28:58 AM': {'away': '+155', 'draw': '+261', 'home': '+166'}, '05/28/18 6:09:50 PM': {'away': '+141', 'draw': '+261', 'home': '+184'}, '05/28/18 12:34:29 PM': {'away': '+149', 'draw': '+264', 'home': '+171'}, '05/28/18 1:19:52 PM': {'away': '+149', 'draw': '+263', 'home': '+168'}, '05/28/18 12:17:56 PM': {'away': '+150', 'draw': '+262', 'home': '+171'}, '05/29/18 7:23:30 PM': {'away': '+153', 'draw': '+259', 'home': '+169'}, '05/28/18 8:05:13 AM': {'away': '+157', 'draw': '+256', 'home': '+169'}, '05/30/18 5:19:46 PM': {'away': '+152', 'draw': '+266', 'home': '+167'}, '05/30/18 6:49:53 PM': {'away': '+139', 'draw': '+266', 'home': '+182'}, '05/29/18 6:06:16 PM': {'away': '+154', 'draw': '+258', 'home': '+169'}, '05/29/18 11:33:49 AM': {'away': '+160', 'draw': '+255', 'home': '+163'}, '05/30/18 7:06:46 PM': {'away': '+164', 'draw': '+268', 'home': '+154'}, '05/30/18 10:36:34 AM': {'away': '+157', 'draw': '+265', 'home': '+161'}, '05/30/18 8:13:55 AM': {'away': '+157', 'draw': '+262', 'home': '+162'}, '05/30/18 4:40:47 PM': {'away': '+151', 'draw': '+265', 'home': '+166'}, '05/30/18 11:03:54 AM': {'away': '+156', 'draw': '+265', 'home': '+163'}, '05/30/18 6:55:32 PM': {'away': '+164', 'draw': '+265', 'home': '+164'}}\n",
      "\n",
      "Caesars\n",
      "{'05/30/18 1:27:05 PM': {'away': '+150', 'draw': '+255', 'home': '+160'}, '05/30/18 10:22:40 AM': {'away': '+150', 'draw': '+255', 'home': '+160'}, '05/30/18 6:24:25 PM': {'away': '+140', 'draw': '+265', 'home': '+165'}, '05/30/18 5:53:00 PM': {'away': '+140', 'draw': '+255', 'home': '+160'}, '05/29/18 7:55:18 PM': {'away': '+150', 'draw': '+255', 'home': '+165'}, '05/30/18 7:03:18 PM': {'away': '+140', 'draw': '+280', 'home': '+160'}}\n",
      "\n",
      "Station\n",
      "{'05/28/18 5:35:22 PM': {'away': '+135', 'draw': '+235', 'home': '+145'}}\n",
      "\n",
      "Westgate\n",
      "{'05/30/18 6:40:23 PM': {'away': '+135', 'draw': '+260', 'home': '+185'}, '05/28/18 1:27:11 PM': {'away': '+150', 'draw': '+260', 'home': '+165'}, '05/30/18 5:36:59 PM': {'away': '+150', 'draw': '+260', 'home': '+160'}, '05/30/18 1:19:43 PM': {'away': '+150', 'draw': '+270', 'home': '+155'}, '05/30/18 9:32:47 AM': {'away': '+150', 'draw': '+270', 'home': '+155'}, '05/30/18 7:11:37 PM': {'away': '+160', 'draw': '+265', 'home': '+150'}, '05/30/18 6:48:07 PM': {'away': '+160', 'draw': '+260', 'home': '+180'}}\n",
      "\n",
      "Wynn\n",
      "{'05/28/18 6:58:34 PM': {'away': '+135', 'draw': '+245', 'home': '+165'}}\n",
      "\n"
     ]
    }
   ],
   "source": [
    "soup = BeautifulSoup(page1)\n",
    "odata = soup.find_all('table',{'class':'base-table'})\n",
    "# odata = json.loads(page1)\n",
    "\n",
    "odict = {}\n",
    "for data in odata:\n",
    "#     soup = BeautifulSoup(data)\n",
    "    booker = data.find('a').get_text()\n",
    "    content = data.find_all('td')\n",
    "    oodict = {}\n",
    "    for i in range(int(len(content)/5)):\n",
    "#         此处加一个换时间的\n",
    "        date = content[i*5].get_text()\n",
    "        home = content[i*5+1].find('span').get_text()\n",
    "        away = content[i*5+2].find('span').get_text()\n",
    "        draw = content[i*5+3].find('span').get_text()\n",
    "        if home!=\"\" and away!=\"\" and draw!=\"\":\n",
    "            oodict[date] = {'home':home,'away':away,'draw':draw}\n",
    "    odict[booker] = oodict\n",
    "\n",
    "    print(booker)\n",
    "    print(oodict)\n",
    "    print()\n",
    "    \n",
    "    "
   ]
  },
  {
   "cell_type": "code",
   "execution_count": null,
   "metadata": {
    "collapsed": true
   },
   "outputs": [],
   "source": []
  }
 ],
 "metadata": {
  "kernelspec": {
   "display_name": "Python 3",
   "language": "python",
   "name": "python3"
  },
  "language_info": {
   "codemirror_mode": {
    "name": "ipython",
    "version": 3
   },
   "file_extension": ".py",
   "mimetype": "text/x-python",
   "name": "python",
   "nbconvert_exporter": "python",
   "pygments_lexer": "ipython3",
   "version": "3.5.4"
  }
 },
 "nbformat": 4,
 "nbformat_minor": 0
}
