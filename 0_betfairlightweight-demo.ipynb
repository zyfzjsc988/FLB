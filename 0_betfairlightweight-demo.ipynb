{
 "cells": [
  {
   "cell_type": "code",
   "execution_count": 1,
   "metadata": {
    "collapsed": false
   },
   "outputs": [
    {
     "data": {
      "text/plain": [
       "<LoginResource>"
      ]
     },
     "execution_count": 1,
     "metadata": {},
     "output_type": "execute_result"
    }
   ],
   "source": [
    "import os\n",
    "import logging\n",
    "\n",
    "import betfairlightweight\n",
    "from betfairlightweight import filters\n",
    "\"\"\"\n",
    "Historic is the API endpoint that can be used to\n",
    "download data betfair provide.\n",
    "https://historicdata.betfair.com/#/apidocs\n",
    "\"\"\"\n",
    "\n",
    "# setup logging\n",
    "logging.basicConfig(level=logging.INFO)  # change to DEBUG to see log all updates\n",
    "\n",
    "# create trading instance\n",
    "username = 'zyfzjsc988@outlook.com'\n",
    "password = 'Zyfzjsc976485'\n",
    "appKey = 'mKX7TpfmdWZcVsC2'\n",
    "trading = betfairlightweight.APIClient(username,password,appKey)\n",
    "trading.login()"
   ]
  },
  {
   "cell_type": "code",
   "execution_count": 5,
   "metadata": {
    "collapsed": false
   },
   "outputs": [
    {
     "name": "stdout",
     "output_type": "stream",
     "text": [
      "Help on method list_event_types in module betfairlightweight.endpoints.betting:\n",
      "\n",
      "list_event_types(filter={}, locale=None, session=None, lightweight=None) method of betfairlightweight.endpoints.betting.Betting instance\n",
      "    Returns a list of Event Types (i.e. Sports) associated with the markets\n",
      "    selected by the MarketFilter.\n",
      "    \n",
      "    :param dict filter: The filter to select desired markets\n",
      "    :param str locale: The language used for the response\n",
      "    :param requests.session session: Requests session object\n",
      "    :param bool lightweight: If True will return dict not a resource\n",
      "    \n",
      "    :rtype: list[resources.EventTypeResult]\n",
      "\n"
     ]
    }
   ],
   "source": [
    "help(trading.betting.list_event_types)"
   ]
  },
  {
   "cell_type": "code",
   "execution_count": 23,
   "metadata": {
    "collapsed": false
   },
   "outputs": [
    {
     "name": "stdout",
     "output_type": "stream",
     "text": [
      "[<EventTypeResult>]\n",
      "7 Horse Racing 834\n",
      "1 market catalogues returned\n",
      "1.142692872 6f Hcap 2018-04-16 15:20:00\n",
      "8933282 Mobsta 0.0\n",
      "14057064 Glory of Paris 0.0\n",
      "11284729 Poets Princess 0.0\n",
      "11180357 Bahamian Dollar 0.0\n",
      "5930708 Clear Spring 0.0\n",
      "6510280 Blaine 0.0\n",
      "552412 Tawny Port 0.0\n",
      "10248397 Giant Spark 0.0\n",
      "8913505 Titan Goddess 0.0\n",
      "7809561 Cincuenta Pasos 0.0\n",
      "8866663 Major Pusey 0.0\n",
      "11110178 Nightingale Valley 0.0\n",
      "1.142692872 True OPEN 938476.03\n",
      "8933282 ACTIVE 0.0\n",
      "[<betfairlightweight.resources.bettingresources.PriceSize object at 0x000001F2C7C80048>, <betfairlightweight.resources.bettingresources.PriceSize object at 0x000001F2C7C80748>, <betfairlightweight.resources.bettingresources.PriceSize object at 0x000001F2C7C80978>] [<betfairlightweight.resources.bettingresources.PriceSize object at 0x000001F2C7C96400>, <betfairlightweight.resources.bettingresources.PriceSize object at 0x000001F2C7C96CF8>, <betfairlightweight.resources.bettingresources.PriceSize object at 0x000001F2C7C96DA0>]\n",
      "14057064 ACTIVE 0.0\n",
      "[<betfairlightweight.resources.bettingresources.PriceSize object at 0x000001F2C7C96D30>, <betfairlightweight.resources.bettingresources.PriceSize object at 0x000001F2C7C96630>, <betfairlightweight.resources.bettingresources.PriceSize object at 0x000001F2C7C96D68>] [<betfairlightweight.resources.bettingresources.PriceSize object at 0x000001F2C7C96390>, <betfairlightweight.resources.bettingresources.PriceSize object at 0x000001F2C7C96F98>, <betfairlightweight.resources.bettingresources.PriceSize object at 0x000001F2C7CA6320>]\n",
      "11284729 ACTIVE 0.0\n",
      "[<betfairlightweight.resources.bettingresources.PriceSize object at 0x000001F2C7CA6358>, <betfairlightweight.resources.bettingresources.PriceSize object at 0x000001F2C7CA6588>, <betfairlightweight.resources.bettingresources.PriceSize object at 0x000001F2C7CA61D0>] [<betfairlightweight.resources.bettingresources.PriceSize object at 0x000001F2C7CA65F8>, <betfairlightweight.resources.bettingresources.PriceSize object at 0x000001F2C7CA65C0>, <betfairlightweight.resources.bettingresources.PriceSize object at 0x000001F2C7CA62B0>]\n",
      "11180357 ACTIVE 0.0\n",
      "[<betfairlightweight.resources.bettingresources.PriceSize object at 0x000001F2C7CA6438>, <betfairlightweight.resources.bettingresources.PriceSize object at 0x000001F2C7CA6278>, <betfairlightweight.resources.bettingresources.PriceSize object at 0x000001F2C7CA6240>] [<betfairlightweight.resources.bettingresources.PriceSize object at 0x000001F2C7CA6048>, <betfairlightweight.resources.bettingresources.PriceSize object at 0x000001F2C7CA6710>, <betfairlightweight.resources.bettingresources.PriceSize object at 0x000001F2C7CA6748>]\n",
      "5930708 ACTIVE 0.0\n",
      "[<betfairlightweight.resources.bettingresources.PriceSize object at 0x000001F2C7CA67B8>, <betfairlightweight.resources.bettingresources.PriceSize object at 0x000001F2C7CA67F0>, <betfairlightweight.resources.bettingresources.PriceSize object at 0x000001F2C7CA6828>] [<betfairlightweight.resources.bettingresources.PriceSize object at 0x000001F2C7CA6860>, <betfairlightweight.resources.bettingresources.PriceSize object at 0x000001F2C7CA6898>]\n",
      "6510280 ACTIVE 0.0\n",
      "[<betfairlightweight.resources.bettingresources.PriceSize object at 0x000001F2C7CA6940>, <betfairlightweight.resources.bettingresources.PriceSize object at 0x000001F2C7CA6978>, <betfairlightweight.resources.bettingresources.PriceSize object at 0x000001F2C7CA69B0>] [<betfairlightweight.resources.bettingresources.PriceSize object at 0x000001F2C7CA69E8>]\n",
      "552412 ACTIVE 0.0\n",
      "[<betfairlightweight.resources.bettingresources.PriceSize object at 0x000001F2C7CA6A90>, <betfairlightweight.resources.bettingresources.PriceSize object at 0x000001F2C7CA6AC8>, <betfairlightweight.resources.bettingresources.PriceSize object at 0x000001F2C7CA6B00>] [<betfairlightweight.resources.bettingresources.PriceSize object at 0x000001F2C7CA6B38>, <betfairlightweight.resources.bettingresources.PriceSize object at 0x000001F2C7CA6B70>, <betfairlightweight.resources.bettingresources.PriceSize object at 0x000001F2C7CA6BA8>]\n",
      "10248397 ACTIVE 0.0\n",
      "[<betfairlightweight.resources.bettingresources.PriceSize object at 0x000001F2C7CA6C50>, <betfairlightweight.resources.bettingresources.PriceSize object at 0x000001F2C7CA6C88>, <betfairlightweight.resources.bettingresources.PriceSize object at 0x000001F2C7CA6CC0>] [<betfairlightweight.resources.bettingresources.PriceSize object at 0x000001F2C7CA6CF8>, <betfairlightweight.resources.bettingresources.PriceSize object at 0x000001F2C7CA6D30>, <betfairlightweight.resources.bettingresources.PriceSize object at 0x000001F2C7CA6D68>]\n",
      "8913505 ACTIVE 0.0\n",
      "[<betfairlightweight.resources.bettingresources.PriceSize object at 0x000001F2C7CA6E10>, <betfairlightweight.resources.bettingresources.PriceSize object at 0x000001F2C7CA6E48>, <betfairlightweight.resources.bettingresources.PriceSize object at 0x000001F2C7CA6E80>] [<betfairlightweight.resources.bettingresources.PriceSize object at 0x000001F2C7CA6EB8>, <betfairlightweight.resources.bettingresources.PriceSize object at 0x000001F2C7CA6EF0>]\n",
      "7809561 ACTIVE 0.0\n",
      "[<betfairlightweight.resources.bettingresources.PriceSize object at 0x000001F2C7CA6F98>, <betfairlightweight.resources.bettingresources.PriceSize object at 0x000001F2C7CA6FD0>, <betfairlightweight.resources.bettingresources.PriceSize object at 0x000001F2C7CA2048>] [<betfairlightweight.resources.bettingresources.PriceSize object at 0x000001F2C7CA2080>]\n",
      "8866663 REMOVED None\n",
      "[] []\n",
      "11110178 REMOVED None\n",
      "[] []\n"
     ]
    }
   ],
   "source": [
    "# make event type request to find horse racing event type\n",
    "horse_racing_event_type_id = trading.betting.list_event_types(\n",
    "    filter=filters.market_filter(\n",
    "        text_query='Horse Racing'\n",
    "    )\n",
    ")\n",
    "\n",
    "# returns one result\n",
    "print(horse_racing_event_type_id)\n",
    "\n",
    "for event_type in horse_racing_event_type_id:\n",
    "    # prints id, name and market count\n",
    "    print(\n",
    "        event_type.event_type.id, event_type.event_type.name, event_type.market_count\n",
    "    )\n",
    "    horse_racing_id = event_type.event_type.id\n",
    "\n",
    "    # list all horse racing market catalogues\n",
    "    market_catalogues = trading.betting.list_market_catalogue(\n",
    "        filter=filters.market_filter(\n",
    "            event_type_ids=[horse_racing_id],  # filter on just horse racing\n",
    "            market_countries=['GB'],  # filter on just GB countries\n",
    "            market_type_codes=['WIN'],  # filter on just WIN market types\n",
    "        ),\n",
    "        market_projection=['MARKET_START_TIME', 'RUNNER_DESCRIPTION'],  # runner description required\n",
    "        max_results=1\n",
    "    )\n",
    "\n",
    "    print('%s market catalogues returned' % len(market_catalogues))\n",
    "\n",
    "    for market_catalogue in market_catalogues:\n",
    "        # prints market id, market name and market start time\n",
    "        print(\n",
    "            market_catalogue.market_id, market_catalogue.market_name, market_catalogue.market_start_time\n",
    "        )\n",
    "\n",
    "        for runner in market_catalogue.runners:\n",
    "            # prints runner id, runner name and handicap\n",
    "            print(runner.selection_id, runner.runner_name, runner.handicap)\n",
    "\n",
    "        # market book request\n",
    "        market_books = trading.betting.list_market_book(\n",
    "            market_ids=[market_catalogue.market_id],\n",
    "            price_projection=filters.price_projection(\n",
    "                price_data=filters.price_data(\n",
    "                    ex_all_offers=True\n",
    "                )\n",
    "            )\n",
    "        )\n",
    "\n",
    "        for market_book in market_books:\n",
    "            # prints market id, inplay?, status and total matched\n",
    "            print(\n",
    "                market_book.market_id, market_book.inplay, market_book.status, market_book.total_matched\n",
    "            )\n",
    "\n",
    "            for runner in market_book.runners:\n",
    "                # prints selection id, status and total matched\n",
    "                print(\n",
    "                    runner.selection_id, runner.status, runner.total_matched\n",
    "                )\n",
    "\n",
    "                available_to_back = runner.ex.available_to_back\n",
    "                available_to_lay = runner.ex.available_to_lay\n",
    "                print(\n",
    "                    available_to_back, available_to_lay\n",
    "                )\n"
   ]
  },
  {
   "cell_type": "code",
   "execution_count": 13,
   "metadata": {
    "collapsed": false
   },
   "outputs": [
    {
     "name": "stdout",
     "output_type": "stream",
     "text": [
      "Help on method list_market_catalogue in module betfairlightweight.endpoints.betting:\n",
      "\n",
      "list_market_catalogue(filter={}, market_projection=None, sort=None, max_results=1, locale=None, session=None, lightweight=None) method of betfairlightweight.endpoints.betting.Betting instance\n",
      "    Returns a list of information about published (ACTIVE/SUSPENDED) markets\n",
      "    that does not change (or changes very rarely).\n",
      "    \n",
      "    :param dict filter: The filter to select desired markets\n",
      "    :param list market_projection: The type and amount of data returned about the market\n",
      "    :param str sort: The order of the results\n",
      "    :param int max_results: Limit on the total number of results returned, must be greater\n",
      "    than 0 and less than or equal to 10000\n",
      "    :param str locale: The language used for the response\n",
      "    :param requests.session session: Requests session object\n",
      "    :param bool lightweight: If True will return dict not a resource\n",
      "    \n",
      "    :rtype: list[resources.MarketCatalogue]\n",
      "\n"
     ]
    }
   ],
   "source": [
    "help(trading.betting.list_market_catalogue)"
   ]
  },
  {
   "cell_type": "code",
   "execution_count": 22,
   "metadata": {
    "collapsed": false
   },
   "outputs": [
    {
     "name": "stdout",
     "output_type": "stream",
     "text": [
      "None\n"
     ]
    }
   ],
   "source": [
    "races = trading.scores.list_race_details(meeting_ids=[28145900])\n",
    "for race in races:\n",
    "    print(race.last_updated   )"
   ]
  },
  {
   "cell_type": "markdown",
   "metadata": {},
   "source": [
    "### get all my data"
   ]
  },
  {
   "cell_type": "code",
   "execution_count": 4,
   "metadata": {
    "collapsed": false
   },
   "outputs": [
    {
     "name": "stdout",
     "output_type": "stream",
     "text": [
      "<class 'list'>\n",
      "{'sport': 'Golf', 'plan': 'Basic Plan', 'forDate': '2017-01-01T00:00:00', 'purchaseItemId': 11761}\n",
      "{'sport': 'Golf', 'plan': 'Basic Plan', 'forDate': '2017-02-01T00:00:00', 'purchaseItemId': 11761}\n",
      "{'sport': 'Golf', 'plan': 'Basic Plan', 'forDate': '2017-03-01T00:00:00', 'purchaseItemId': 11761}\n",
      "{'sport': 'Golf', 'plan': 'Basic Plan', 'forDate': '2017-04-01T00:00:00', 'purchaseItemId': 11761}\n",
      "{'sport': 'Golf', 'plan': 'Basic Plan', 'forDate': '2017-05-01T00:00:00', 'purchaseItemId': 11761}\n",
      "{'sport': 'Golf', 'plan': 'Basic Plan', 'forDate': '2017-06-01T00:00:00', 'purchaseItemId': 11761}\n",
      "{'sport': 'Golf', 'plan': 'Basic Plan', 'forDate': '2017-07-01T00:00:00', 'purchaseItemId': 11761}\n",
      "{'sport': 'Golf', 'plan': 'Basic Plan', 'forDate': '2017-08-01T00:00:00', 'purchaseItemId': 11761}\n",
      "{'sport': 'Golf', 'plan': 'Basic Plan', 'forDate': '2017-09-01T00:00:00', 'purchaseItemId': 11761}\n",
      "{'sport': 'Golf', 'plan': 'Basic Plan', 'forDate': '2017-10-01T00:00:00', 'purchaseItemId': 11761}\n",
      "{'sport': 'Golf', 'plan': 'Basic Plan', 'forDate': '2017-11-01T00:00:00', 'purchaseItemId': 11761}\n",
      "{'sport': 'Golf', 'plan': 'Basic Plan', 'forDate': '2017-12-01T00:00:00', 'purchaseItemId': 11761}\n",
      "{'sport': 'Golf', 'plan': 'Basic Plan', 'forDate': '2018-01-01T00:00:00', 'purchaseItemId': 11761}\n",
      "{'sport': 'Golf', 'plan': 'Basic Plan', 'forDate': '2018-02-01T00:00:00', 'purchaseItemId': 11761}\n",
      "{'sport': 'Golf', 'plan': 'Basic Plan', 'forDate': '2018-03-01T00:00:00', 'purchaseItemId': 11761}\n",
      "{'sport': 'Horse Racing', 'plan': 'Basic Plan', 'forDate': '2017-01-01T00:00:00', 'purchaseItemId': 11762}\n",
      "{'sport': 'Horse Racing', 'plan': 'Basic Plan', 'forDate': '2017-02-01T00:00:00', 'purchaseItemId': 11762}\n",
      "{'sport': 'Horse Racing', 'plan': 'Basic Plan', 'forDate': '2017-03-01T00:00:00', 'purchaseItemId': 11762}\n",
      "{'sport': 'Horse Racing', 'plan': 'Basic Plan', 'forDate': '2017-04-01T00:00:00', 'purchaseItemId': 11762}\n",
      "{'sport': 'Horse Racing', 'plan': 'Basic Plan', 'forDate': '2017-05-01T00:00:00', 'purchaseItemId': 11762}\n",
      "{'sport': 'Horse Racing', 'plan': 'Basic Plan', 'forDate': '2017-06-01T00:00:00', 'purchaseItemId': 11762}\n",
      "{'sport': 'Horse Racing', 'plan': 'Basic Plan', 'forDate': '2017-07-01T00:00:00', 'purchaseItemId': 11762}\n",
      "{'sport': 'Horse Racing', 'plan': 'Basic Plan', 'forDate': '2017-08-01T00:00:00', 'purchaseItemId': 11762}\n",
      "{'sport': 'Horse Racing', 'plan': 'Basic Plan', 'forDate': '2017-09-01T00:00:00', 'purchaseItemId': 11762}\n",
      "{'sport': 'Horse Racing', 'plan': 'Basic Plan', 'forDate': '2017-10-01T00:00:00', 'purchaseItemId': 11762}\n",
      "{'sport': 'Horse Racing', 'plan': 'Basic Plan', 'forDate': '2017-11-01T00:00:00', 'purchaseItemId': 11762}\n",
      "{'sport': 'Horse Racing', 'plan': 'Basic Plan', 'forDate': '2017-12-01T00:00:00', 'purchaseItemId': 11762}\n",
      "{'sport': 'Horse Racing', 'plan': 'Basic Plan', 'forDate': '2018-01-01T00:00:00', 'purchaseItemId': 11762}\n",
      "{'sport': 'Horse Racing', 'plan': 'Basic Plan', 'forDate': '2018-02-01T00:00:00', 'purchaseItemId': 11762}\n",
      "{'sport': 'Horse Racing', 'plan': 'Basic Plan', 'forDate': '2018-03-01T00:00:00', 'purchaseItemId': 11762}\n",
      "{'sport': 'Soccer', 'plan': 'Basic Plan', 'forDate': '2017-01-01T00:00:00', 'purchaseItemId': 11763}\n",
      "{'sport': 'Soccer', 'plan': 'Basic Plan', 'forDate': '2017-02-01T00:00:00', 'purchaseItemId': 11763}\n",
      "{'sport': 'Soccer', 'plan': 'Basic Plan', 'forDate': '2017-03-01T00:00:00', 'purchaseItemId': 11763}\n",
      "{'sport': 'Soccer', 'plan': 'Basic Plan', 'forDate': '2017-04-01T00:00:00', 'purchaseItemId': 11763}\n",
      "{'sport': 'Soccer', 'plan': 'Basic Plan', 'forDate': '2017-05-01T00:00:00', 'purchaseItemId': 11763}\n",
      "{'sport': 'Soccer', 'plan': 'Basic Plan', 'forDate': '2017-06-01T00:00:00', 'purchaseItemId': 11763}\n",
      "{'sport': 'Soccer', 'plan': 'Basic Plan', 'forDate': '2017-07-01T00:00:00', 'purchaseItemId': 11763}\n",
      "{'sport': 'Soccer', 'plan': 'Basic Plan', 'forDate': '2017-08-01T00:00:00', 'purchaseItemId': 11763}\n",
      "{'sport': 'Soccer', 'plan': 'Basic Plan', 'forDate': '2017-09-01T00:00:00', 'purchaseItemId': 11763}\n",
      "{'sport': 'Soccer', 'plan': 'Basic Plan', 'forDate': '2017-10-01T00:00:00', 'purchaseItemId': 11763}\n",
      "{'sport': 'Soccer', 'plan': 'Basic Plan', 'forDate': '2017-11-01T00:00:00', 'purchaseItemId': 11763}\n",
      "{'sport': 'Soccer', 'plan': 'Basic Plan', 'forDate': '2017-12-01T00:00:00', 'purchaseItemId': 11763}\n",
      "{'sport': 'Soccer', 'plan': 'Basic Plan', 'forDate': '2018-01-01T00:00:00', 'purchaseItemId': 11763}\n",
      "{'sport': 'Soccer', 'plan': 'Basic Plan', 'forDate': '2018-02-01T00:00:00', 'purchaseItemId': 11763}\n",
      "{'sport': 'Soccer', 'plan': 'Basic Plan', 'forDate': '2018-03-01T00:00:00', 'purchaseItemId': 11763}\n",
      "{'sport': 'Tennis', 'plan': 'Basic Plan', 'forDate': '2017-01-01T00:00:00', 'purchaseItemId': 11764}\n",
      "{'sport': 'Tennis', 'plan': 'Basic Plan', 'forDate': '2017-02-01T00:00:00', 'purchaseItemId': 11764}\n",
      "{'sport': 'Tennis', 'plan': 'Basic Plan', 'forDate': '2017-03-01T00:00:00', 'purchaseItemId': 11764}\n",
      "{'sport': 'Tennis', 'plan': 'Basic Plan', 'forDate': '2017-04-01T00:00:00', 'purchaseItemId': 11764}\n",
      "{'sport': 'Tennis', 'plan': 'Basic Plan', 'forDate': '2017-05-01T00:00:00', 'purchaseItemId': 11764}\n",
      "{'sport': 'Tennis', 'plan': 'Basic Plan', 'forDate': '2017-06-01T00:00:00', 'purchaseItemId': 11764}\n",
      "{'sport': 'Tennis', 'plan': 'Basic Plan', 'forDate': '2017-07-01T00:00:00', 'purchaseItemId': 11764}\n",
      "{'sport': 'Tennis', 'plan': 'Basic Plan', 'forDate': '2017-08-01T00:00:00', 'purchaseItemId': 11764}\n",
      "{'sport': 'Tennis', 'plan': 'Basic Plan', 'forDate': '2017-09-01T00:00:00', 'purchaseItemId': 11764}\n",
      "{'sport': 'Tennis', 'plan': 'Basic Plan', 'forDate': '2017-10-01T00:00:00', 'purchaseItemId': 11764}\n",
      "{'sport': 'Tennis', 'plan': 'Basic Plan', 'forDate': '2017-11-01T00:00:00', 'purchaseItemId': 11764}\n",
      "{'sport': 'Tennis', 'plan': 'Basic Plan', 'forDate': '2017-12-01T00:00:00', 'purchaseItemId': 11764}\n",
      "{'sport': 'Tennis', 'plan': 'Basic Plan', 'forDate': '2018-01-01T00:00:00', 'purchaseItemId': 11764}\n",
      "{'sport': 'Tennis', 'plan': 'Basic Plan', 'forDate': '2018-02-01T00:00:00', 'purchaseItemId': 11764}\n",
      "{'sport': 'Tennis', 'plan': 'Basic Plan', 'forDate': '2018-03-01T00:00:00', 'purchaseItemId': 11764}\n"
     ]
    }
   ],
   "source": [
    "# get my data\n",
    "my_data = trading.historic.get_my_data()\n",
    "for i in my_data:\n",
    "    print(i)"
   ]
  },
  {
   "cell_type": "markdown",
   "metadata": {},
   "source": [
    "### get collection options (allows filtering)"
   ]
  },
  {
   "cell_type": "code",
   "execution_count": 20,
   "metadata": {
    "collapsed": false
   },
   "outputs": [
    {
     "name": "stdout",
     "output_type": "stream",
     "text": [
      "{'countriesCollection': [{'count': 428, 'name': 'CL'},\n",
      "                         {'count': 135, 'name': 'JP'},\n",
      "                         {'count': 257, 'name': 'AE'},\n",
      "                         {'count': 352, 'name': 'FR'},\n",
      "                         {'count': 243, 'name': 'MY'},\n",
      "                         {'count': 1482, 'name': 'null'},\n",
      "                         {'count': 424, 'name': 'AR'},\n",
      "                         {'count': 1609, 'name': 'MX'},\n",
      "                         {'count': 163, 'name': 'PL'},\n",
      "                         {'count': 279, 'name': 'BR'},\n",
      "                         {'count': 30, 'name': 'AU'},\n",
      "                         {'count': 423, 'name': 'CA'},\n",
      "                         {'count': 1231, 'name': 'CN'},\n",
      "                         {'count': 7217, 'name': 'US'}],\n",
      " 'fileTypeCollection': [{'count': 2317, 'name': 'E'},\n",
      "                        {'count': 11956, 'name': 'M'}],\n",
      " 'marketTypesCollection': [{'count': 3118, 'name': 'SET_WINNER'},\n",
      "                           {'count': 471, 'name': 'TIE_BREAK'},\n",
      "                           {'count': 467, 'name': 'PLAYER_A_WIN_A_SET'},\n",
      "                           {'count': 3528, 'name': 'MATCH_ODDS'},\n",
      "                           {'count': 467, 'name': 'PLAYER_B_WIN_A_SET'},\n",
      "                           {'count': 467, 'name': 'NUMBER_OF_SETS'},\n",
      "                           {'count': 468, 'name': 'HANDICAP'},\n",
      "                           {'count': 2317, 'name': 'null'},\n",
      "                           {'count': 467, 'name': 'SET_CORRECT_SCORE'},\n",
      "                           {'count': 1562, 'name': 'SET_BETTING'},\n",
      "                           {'count': 463, 'name': 'TOTAL_GAMES'},\n",
      "                           {'count': 7, 'name': 'TOURNAMENT_WINNER'},\n",
      "                           {'count': 471, 'name': '6-0_SET'}]}\n"
     ]
    }
   ],
   "source": [
    "# Tennis\n",
    "import pprint\n",
    "collection_options = trading.historic.get_collection_options(\"Tennis\", \"Basic Plan\", 1, 3, 2017, 31, 3, 2017)\n",
    "pprint.pprint(collection_options)"
   ]
  },
  {
   "cell_type": "code",
   "execution_count": 8,
   "metadata": {
    "collapsed": false
   },
   "outputs": [
    {
     "name": "stdout",
     "output_type": "stream",
     "text": [
      "{'countriesCollection': [{'count': 365, 'name': 'FR'},\n",
      "                         {'count': 84, 'name': 'CH'},\n",
      "                         {'count': 24, 'name': 'CZ'},\n",
      "                         {'count': 24, 'name': 'CN'},\n",
      "                         {'count': 48, 'name': 'CM'},\n",
      "                         {'count': 141, 'name': 'RU'},\n",
      "                         {'count': 24, 'name': 'EC'},\n",
      "                         {'count': 48, 'name': 'IN'},\n",
      "                         {'count': 205, 'name': 'HU'},\n",
      "                         {'count': 48, 'name': 'MA'},\n",
      "                         {'count': 24, 'name': 'TN'},\n",
      "                         {'count': 610, 'name': 'GB'},\n",
      "                         {'count': 96, 'name': 'MY'},\n",
      "                         {'count': 24, 'name': 'EE'},\n",
      "                         {'count': 411, 'name': 'ES'},\n",
      "                         {'count': 24, 'name': 'US'},\n",
      "                         {'count': 24, 'name': 'KR'},\n",
      "                         {'count': 24, 'name': 'MK'},\n",
      "                         {'count': 72, 'name': 'NL'},\n",
      "                         {'count': 48, 'name': 'HR'},\n",
      "                         {'count': 169, 'name': 'IT'},\n",
      "                         {'count': 24, 'name': 'JP'},\n",
      "                         {'count': 72, 'name': 'PT'},\n",
      "                         {'count': 26, 'name': 'VE'},\n",
      "                         {'count': 10, 'name': 'BO'},\n",
      "                         {'count': 14, 'name': 'UY'},\n",
      "                         {'count': 72, 'name': 'BG'},\n",
      "                         {'count': 24, 'name': 'CS'},\n",
      "                         {'count': 24, 'name': 'EG'},\n",
      "                         {'count': 24, 'name': 'BE'},\n",
      "                         {'count': 300, 'name': 'BR'},\n",
      "                         {'count': 24, 'name': 'SK'},\n",
      "                         {'count': 174, 'name': 'MX'},\n",
      "                         {'count': 204, 'name': 'null'},\n",
      "                         {'count': 107, 'name': 'CO'},\n",
      "                         {'count': 24, 'name': 'HN'},\n",
      "                         {'count': 72, 'name': 'IL'},\n",
      "                         {'count': 48, 'name': 'PL'},\n",
      "                         {'count': 284, 'name': 'DE'},\n",
      "                         {'count': 51, 'name': 'FI'},\n",
      "                         {'count': 84, 'name': 'TR'},\n",
      "                         {'count': 60, 'name': 'GR'},\n",
      "                         {'count': 72, 'name': 'HK'},\n",
      "                         {'count': 18, 'name': 'CL'},\n",
      "                         {'count': 24, 'name': 'RO'},\n",
      "                         {'count': 43, 'name': 'DK'},\n",
      "                         {'count': 72, 'name': 'VN'}],\n",
      " 'fileTypeCollection': [{'count': 151, 'name': 'E'},\n",
      "                        {'count': 4337, 'name': 'M'}],\n",
      " 'marketTypesCollection': [{'count': 141, 'name': 'ASIAN_HANDICAP'},\n",
      "                           {'count': 1, 'name': 'DAILY_GOALS'},\n",
      "                           {'count': 2, 'name': 'METHOD_OF_VICTORY'},\n",
      "                           {'count': 178, 'name': 'OVER_UNDER_35'},\n",
      "                           {'count': 7, 'name': 'CORNER_ODDS'},\n",
      "                           {'count': 23, 'name': 'ODD_OR_EVEN'},\n",
      "                           {'count': 170, 'name': 'OVER_UNDER_65'},\n",
      "                           {'count': 141, 'name': 'TEAM_B_1'},\n",
      "                           {'count': 11, 'name': 'TEAM_B_3'},\n",
      "                           {'count': 24, 'name': 'ET_OU_GOALS_15'},\n",
      "                           {'count': 185, 'name': 'OVER_UNDER_15'},\n",
      "                           {'count': 23, 'name': 'ET_CORRECT_SCORE'},\n",
      "                           {'count': 24, 'name': 'ET_OU_GOALS_05'},\n",
      "                           {'count': 12, 'name': 'TO_SCORE_BOTH_HALVES'},\n",
      "                           {'count': 163, 'name': 'HALF_TIME'},\n",
      "                           {'count': 6, 'name': 'HALF_WITH_MOST_GOALS'},\n",
      "                           {'count': 7, 'name': 'MATCH_ODDS_AND_OU_25'},\n",
      "                           {'count': 7, 'name': 'OVER_UNDER_105_CORNR'},\n",
      "                           {'count': 141, 'name': 'OVER_UNDER_75'},\n",
      "                           {'count': 6, 'name': 'CORNER_MATCH_BET'},\n",
      "                           {'count': 175, 'name': 'CORRECT_SCORE'},\n",
      "                           {'count': 141, 'name': 'DOUBLE_CHANCE'},\n",
      "                           {'count': 1, 'name': 'ET_OU_GOALS_35'},\n",
      "                           {'count': 1, 'name': 'TEAM_B_OVER_UNDER_25'},\n",
      "                           {'count': 153, 'name': 'BOTH_TEAMS_TO_SCORE'},\n",
      "                           {'count': 5, 'name': 'SHOWN_A_CARD'},\n",
      "                           {'count': 23, 'name': 'EXTRA_TIME'},\n",
      "                           {'count': 32, 'name': 'FIRST_GOAL_ODDS'},\n",
      "                           {'count': 181, 'name': 'OVER_UNDER_25'},\n",
      "                           {'count': 170, 'name': 'OVER_UNDER_55'},\n",
      "                           {'count': 1, 'name': 'ET_BTTS'},\n",
      "                           {'count': 1, 'name': 'FIRST_HALF_TEAM_A_1'},\n",
      "                           {'count': 31, 'name': 'TEAM_A_WIN_TO_NIL'},\n",
      "                           {'count': 52, 'name': 'CLEAN_SHEET'},\n",
      "                           {'count': 181, 'name': 'MATCH_ODDS'},\n",
      "                           {'count': 1, 'name': 'MATCH_ODDS_AND_OU_35'},\n",
      "                           {'count': 11, 'name': 'TEAM_B_2'},\n",
      "                           {'count': 1, 'name': 'TEAM_B_OVER_UNDER_05'},\n",
      "                           {'count': 6, 'name': 'WINCAST'},\n",
      "                           {'count': 141, 'name': 'HALF_TIME_FULL_TIME'},\n",
      "                           {'count': 23, 'name': 'TO_QUALIFY'},\n",
      "                           {'count': 29, 'name': 'TOTAL_GOALS'},\n",
      "                           {'count': 11, 'name': 'ANYTIME_SCORE'},\n",
      "                           {'count': 1, 'name': 'ET_FH_OU_GOALS_15'},\n",
      "                           {'count': 1, 'name': 'TEAM_A_OVER_UNDER_05'},\n",
      "                           {'count': 1, 'name': 'FIRST_HALF_TEAM_B_1'},\n",
      "                           {'count': 190, 'name': 'OVER_UNDER_05'},\n",
      "                           {'count': 141, 'name': 'DRAW_NO_BET'},\n",
      "                           {'count': 1, 'name': 'ET_OU_GOALS_25'},\n",
      "                           {'count': 12, 'name': 'MATCH_ODDS_AND_BTTS'},\n",
      "                           {'count': 6, 'name': 'TO_SCORE_HATTRICK'},\n",
      "                           {'count': 163, 'name': 'HALF_TIME_SCORE'},\n",
      "                           {'count': 177, 'name': 'OVER_UNDER_45'},\n",
      "                           {'count': 49, 'name': 'WIN_BOTH_HALVES'},\n",
      "                           {'count': 14, 'name': 'CORRECT_SCORE2'},\n",
      "                           {'count': 1, 'name': 'ET_HALF_TIME'},\n",
      "                           {'count': 12, 'name': 'TEAM_TOTAL_GOALS'},\n",
      "                           {'count': 6, 'name': 'FIRST_GOAL_SCORER'},\n",
      "                           {'count': 9, 'name': 'HAT_TRICKED_SCORED'},\n",
      "                           {'count': 141, 'name': 'OVER_UNDER_85'},\n",
      "                           {'count': 32, 'name': 'TEAM_B_WIN_TO_NIL'},\n",
      "                           {'count': 157, 'name': 'FIRST_HALF_GOALS_05'},\n",
      "                           {'count': 6, 'name': 'WINNING_MARGIN'},\n",
      "                           {'count': 10, 'name': 'SENDING_OFF'},\n",
      "                           {'count': 157, 'name': 'FIRST_HALF_GOALS_25'},\n",
      "                           {'count': 157, 'name': 'null'},\n",
      "                           {'count': 6, 'name': 'TO_SCORE'},\n",
      "                           {'count': 5, 'name': 'TO_SCORE_2_OR_MORE'},\n",
      "                           {'count': 6, 'name': 'SCORE_CAST'},\n",
      "                           {'count': 141, 'name': 'TEAM_A_1'},\n",
      "                           {'count': 11, 'name': 'TEAM_A_3'},\n",
      "                           {'count': 7, 'name': 'BOOKING_ODDS'},\n",
      "                           {'count': 1, 'name': 'TEAM_A_OVER_UNDER_25'},\n",
      "                           {'count': 3, 'name': 'OVER_UNDER_45_CARDS'},\n",
      "                           {'count': 6, 'name': 'OVER_UNDER_85_CORNR'},\n",
      "                           {'count': 1, 'name': 'TEAM_B_OVER_UNDER_15'},\n",
      "                           {'count': 1, 'name': 'ET_FH_OU_GOALS_05'},\n",
      "                           {'count': 157, 'name': 'FIRST_HALF_GOALS_15'},\n",
      "                           {'count': 6, 'name': 'OVER_UNDER_135_CORNR'},\n",
      "                           {'count': 12, 'name': 'PENALTY_TAKEN'},\n",
      "                           {'count': 26, 'name': 'ET_NEXT_GOAL'},\n",
      "                           {'count': 11, 'name': 'TEAM_A_2'},\n",
      "                           {'count': 1, 'name': 'TEAM_A_OVER_UNDER_15'}]}\n"
     ]
    }
   ],
   "source": [
    "# Soccer\n",
    "collection_options = trading.historic.get_collection_options(\"Soccer\", \"Basic Plan\", 1, 3, 2017, 1, 3, 2017)\n",
    "pprint.pprint(collection_options)"
   ]
  },
  {
   "cell_type": "code",
   "execution_count": 11,
   "metadata": {
    "collapsed": false
   },
   "outputs": [
    {
     "name": "stdout",
     "output_type": "stream",
     "text": [
      "{'countriesCollection': [{'count': 151, 'name': 'AU'},\n",
      "                         {'count': 10, 'name': 'CL'},\n",
      "                         {'count': 9, 'name': 'DE'},\n",
      "                         {'count': 17, 'name': 'FR'},\n",
      "                         {'count': 181, 'name': 'GB'},\n",
      "                         {'count': 2, 'name': 'HK'},\n",
      "                         {'count': 110, 'name': 'IN'},\n",
      "                         {'count': 13, 'name': 'NZ'},\n",
      "                         {'count': 109, 'name': 'US'},\n",
      "                         {'count': 19, 'name': 'ZA'}],\n",
      " 'fileTypeCollection': [{'count': 46, 'name': 'E'},\n",
      "                        {'count': 575, 'name': 'M'}],\n",
      " 'marketTypesCollection': [{'count': 1, 'name': 'DAILY_WIN_DIST'},\n",
      "                           {'count': 23, 'name': 'EACH_WAY'},\n",
      "                           {'count': 8, 'name': 'FORECAST'},\n",
      "                           {'count': 25, 'name': 'MATCH_BET'},\n",
      "                           {'count': 46, 'name': 'null'},\n",
      "                           {'count': 110, 'name': 'OTHER_PLACE'},\n",
      "                           {'count': 168, 'name': 'PLACE'},\n",
      "                           {'count': 3, 'name': 'RACE_WIN_DIST'},\n",
      "                           {'count': 15, 'name': 'REV_FORECAST'},\n",
      "                           {'count': 220, 'name': 'WIN'},\n",
      "                           {'count': 2, 'name': 'WITHOUT_FAV'}]}\n"
     ]
    }
   ],
   "source": [
    "# Horse Racing\n",
    "collection_options = trading.historic.get_collection_options(\"Horse Racing\", \"Basic Plan\", 1, 3, 2017, 1, 3, 2017)\n",
    "pprint.pprint(collection_options)"
   ]
  },
  {
   "cell_type": "markdown",
   "metadata": {},
   "source": [
    "### get advance basket data size"
   ]
  },
  {
   "cell_type": "code",
   "execution_count": 10,
   "metadata": {
    "collapsed": false
   },
   "outputs": [
    {
     "name": "stdout",
     "output_type": "stream",
     "text": [
      "{'fileCount': 23088, 'totalSizeMB': 60}\n"
     ]
    }
   ],
   "source": [
    "basket_size = trading.historic.get_data_size(\"Horse Racing\", \"Basic Plan\", 1, 3, 2017, 31, 3, 2017)\n",
    "print(basket_size)"
   ]
  },
  {
   "cell_type": "markdown",
   "metadata": {},
   "source": [
    "### get file list\n",
    "### download the files\n",
    "#### Horse Racing"
   ]
  },
  {
   "cell_type": "code",
   "execution_count": 6,
   "metadata": {
    "collapsed": false
   },
   "outputs": [
    {
     "name": "stdout",
     "output_type": "stream",
     "text": [
      "['/data/xds/historic/BASIC/28132632/1.130015761.bz2', '/data/xds/historic/BASIC/28132634/1.130015916.bz2']\n"
     ]
    }
   ],
   "source": [
    "file_list = trading.historic.get_file_list(\n",
    "    \"Horse Racing\", \"Basic Plan\", 1, 3, 2017, 10, 3, 2017,  market_types_collection=['WIN'],\n",
    "    countries_collection=['GB'], file_type_collection=['M'])\n",
    "for file in file_list[:1]:\n",
    "    download = trading.historic.download_file(file_path=file,store_directory=\"../datasets/betfair/HorseRacing\")"
   ]
  },
  {
   "cell_type": "code",
   "execution_count": 26,
   "metadata": {
    "collapsed": false
   },
   "outputs": [],
   "source": [
    "import bz2\n",
    "import json\n",
    "import glob\n",
    "arr = glob.glob(\"../datasets/betfair/HorseRacing/*.bz2\")\n",
    "for name in arr:\n",
    "    with bz2.BZ2File(name, 'rb') as bz:\n",
    "        ss = bz.read()\n",
    "        bz2_str = ss.decode('utf8').split(\"\\n\")[:-1]\n",
    "    for s in bz2_str:\n",
    "        read_data = json.loads(s)\n",
    "        print(read_data)"
   ]
  },
  {
   "cell_type": "code",
   "execution_count": null,
   "metadata": {
    "collapsed": true
   },
   "outputs": [],
   "source": []
  },
  {
   "cell_type": "code",
   "execution_count": 28,
   "metadata": {
    "collapsed": true
   },
   "outputs": [],
   "source": [
    "file_list = trading.historic.get_file_list(\n",
    "    \"Soccer\", \"Basic Plan\", 1, 3, 2017, 31, 3, 2017,  market_types_collection=['MATCH_ODDS'],\n",
    "    countries_collection=['GB'], file_type_collection=['M'])\n",
    "for file in file_list[:3]:\n",
    "    download = trading.historic.download_file(file_path=file,store_directory=\"../datasets/betfair/Soccer\")"
   ]
  },
  {
   "cell_type": "code",
   "execution_count": 29,
   "metadata": {
    "collapsed": false
   },
   "outputs": [
    {
     "name": "stdout",
     "output_type": "stream",
     "text": [
      "{'mc': [{'marketDefinition': {'marketTime': '2017-03-04T15:00:00.000Z', 'version': 1573492775, 'regulators': ['MR_INT'], 'countryCode': 'GB', 'openDate': '2017-03-04T15:00:00.000Z', 'eventName': 'FC Utd Manchester v Kidderminster', 'name': 'Match Odds', 'turnInPlayEnabled': False, 'suspendTime': '2017-03-04T15:00:00.000Z', 'persistenceEnabled': True, 'runnersVoidable': False, 'status': 'OPEN', 'complete': True, 'inPlay': False, 'betDelay': 0, 'bettingType': 'ODDS', 'runners': [{'status': 'ACTIVE', 'id': 6742984, 'sortPriority': 1, 'name': 'FC Utd Manchester'}, {'status': 'ACTIVE', 'id': 18560, 'sortPriority': 2, 'name': 'Kidderminster'}, {'status': 'ACTIVE', 'id': 58805, 'sortPriority': 3, 'name': 'The Draw'}], 'numberOfWinners': 1, 'discountAllowed': True, 'bspMarket': False, 'numberOfActiveRunners': 3, 'timezone': 'Europe/London', 'eventTypeId': '1', 'marketType': 'MATCH_ODDS', 'eventId': '28125500', 'bspReconciled': False, 'crossMatching': False, 'marketBaseRate': 5.0}, 'id': '1.129909558'}], 'pt': 1488409846212, 'clk': '3967136957', 'op': 'mcm'}\n",
      "{'mc': [{'marketDefinition': {'marketTime': '2017-03-04T15:00:00.000Z', 'version': 1573492775, 'regulators': ['MR_INT'], 'countryCode': 'GB', 'openDate': '2017-03-04T15:00:00.000Z', 'eventName': 'FC Utd Manchester v Kidderminster', 'name': 'Match Odds', 'turnInPlayEnabled': False, 'suspendTime': '2017-03-04T15:00:00.000Z', 'persistenceEnabled': True, 'runnersVoidable': False, 'status': 'OPEN', 'complete': True, 'inPlay': False, 'betDelay': 0, 'bettingType': 'ODDS', 'runners': [{'status': 'ACTIVE', 'id': 6742984, 'sortPriority': 1, 'name': 'FC Utd Manchester'}, {'status': 'ACTIVE', 'id': 18560, 'sortPriority': 2, 'name': 'Kidderminster'}, {'status': 'ACTIVE', 'id': 58805, 'sortPriority': 3, 'name': 'The Draw'}], 'numberOfWinners': 1, 'discountAllowed': True, 'bspMarket': False, 'numberOfActiveRunners': 3, 'timezone': 'Europe/London', 'eventTypeId': '1', 'marketType': 'MATCH_ODDS', 'eventId': '28125500', 'bspReconciled': False, 'crossMatching': True, 'marketBaseRate': 5.0}, 'id': '1.129909558'}], 'pt': 1488524522628, 'clk': '3973142660', 'op': 'mcm'}\n",
      "{'mc': [{'marketDefinition': {'marketTime': '2017-03-04T15:00:00.000Z', 'version': 1575935271, 'regulators': ['MR_INT'], 'countryCode': 'GB', 'openDate': '2017-03-04T15:00:00.000Z', 'eventName': 'FC Utd Manchester v Kidderminster', 'name': 'Match Odds', 'turnInPlayEnabled': False, 'suspendTime': '2017-03-04T15:00:00.000Z', 'persistenceEnabled': True, 'runnersVoidable': False, 'status': 'SUSPENDED', 'complete': True, 'inPlay': False, 'betDelay': 0, 'bettingType': 'ODDS', 'runners': [{'status': 'ACTIVE', 'id': 6742984, 'sortPriority': 1, 'name': 'FC Utd Manchester'}, {'status': 'ACTIVE', 'id': 18560, 'sortPriority': 2, 'name': 'Kidderminster'}, {'status': 'ACTIVE', 'id': 58805, 'sortPriority': 3, 'name': 'The Draw'}], 'numberOfWinners': 1, 'discountAllowed': True, 'bspMarket': False, 'numberOfActiveRunners': 3, 'timezone': 'Europe/London', 'eventTypeId': '1', 'marketType': 'MATCH_ODDS', 'eventId': '28125500', 'bspReconciled': False, 'crossMatching': True, 'marketBaseRate': 5.0}, 'id': '1.129909558', 'rc': [{'ltp': 3.7, 'id': 58805}, {'ltp': 1.98, 'id': 18560}, {'ltp': 3.95, 'id': 6742984}]}], 'pt': 1488640383443, 'clk': '3984948820', 'op': 'mcm'}\n",
      "{'mc': [{'marketDefinition': {'marketTime': '2017-03-04T15:00:00.000Z', 'settledTime': '2017-03-04T18:07:45.000Z', 'version': 1576573558, 'regulators': ['MR_INT'], 'countryCode': 'GB', 'openDate': '2017-03-04T15:00:00.000Z', 'eventName': 'FC Utd Manchester v Kidderminster', 'name': 'Match Odds', 'turnInPlayEnabled': False, 'suspendTime': '2017-03-04T15:00:00.000Z', 'persistenceEnabled': True, 'runnersVoidable': False, 'status': 'CLOSED', 'complete': True, 'inPlay': False, 'betDelay': 0, 'bettingType': 'ODDS', 'runners': [{'status': 'WINNER', 'id': 6742984, 'sortPriority': 1, 'name': 'FC Utd Manchester'}, {'status': 'LOSER', 'id': 18560, 'sortPriority': 2, 'name': 'Kidderminster'}, {'status': 'LOSER', 'id': 58805, 'sortPriority': 3, 'name': 'The Draw'}], 'numberOfWinners': 1, 'discountAllowed': True, 'bspMarket': False, 'numberOfActiveRunners': 0, 'timezone': 'Europe/London', 'eventTypeId': '1', 'marketType': 'MATCH_ODDS', 'eventId': '28125500', 'bspReconciled': False, 'crossMatching': False, 'marketBaseRate': 5.0}, 'id': '1.129909558'}], 'pt': 1488650868498, 'clk': '3985736220', 'op': 'mcm'}\n",
      "{'mc': [{'marketDefinition': {'marketTime': '2017-03-18T15:00:00.000Z', 'version': 1588637840, 'regulators': ['MR_INT'], 'countryCode': 'GB', 'openDate': '2017-03-18T15:00:00.000Z', 'eventName': 'Blyth Spartans v Skelmersdale Utd', 'name': 'Match Odds', 'turnInPlayEnabled': False, 'suspendTime': '2017-03-18T15:00:00.000Z', 'persistenceEnabled': True, 'runnersVoidable': False, 'status': 'SUSPENDED', 'complete': True, 'inPlay': False, 'betDelay': 0, 'bettingType': 'ODDS', 'runners': [{'status': 'ACTIVE', 'id': 1282854, 'sortPriority': 1, 'name': 'Blyth Spartans'}, {'status': 'ACTIVE', 'id': 3491517, 'sortPriority': 2, 'name': 'Skelmersdale Utd'}, {'status': 'ACTIVE', 'id': 58805, 'sortPriority': 3, 'name': 'The Draw'}], 'numberOfWinners': 1, 'discountAllowed': True, 'bspMarket': False, 'numberOfActiveRunners': 3, 'timezone': 'Europe/London', 'eventTypeId': '1', 'marketType': 'MATCH_ODDS', 'eventId': '28155500', 'bspReconciled': False, 'crossMatching': False, 'marketBaseRate': 5.0}, 'id': '1.130386888'}], 'pt': 1489700545114, 'clk': '4058701729', 'op': 'mcm'}\n",
      "{'mc': [{'marketDefinition': {'marketTime': '2017-03-18T15:00:00.000Z', 'settledTime': '2017-03-16T21:50:20.000Z', 'version': 1588640535, 'regulators': ['MR_INT'], 'countryCode': 'GB', 'openDate': '2017-03-18T15:00:00.000Z', 'eventName': 'Blyth Spartans v Skelmersdale Utd', 'name': 'Match Odds', 'turnInPlayEnabled': False, 'suspendTime': '2017-03-18T15:00:00.000Z', 'persistenceEnabled': True, 'runnersVoidable': False, 'status': 'CLOSED', 'complete': True, 'inPlay': False, 'betDelay': 0, 'bettingType': 'ODDS', 'runners': [{'status': 'REMOVED', 'id': 1282854, 'sortPriority': 1, 'name': 'Blyth Spartans'}, {'status': 'REMOVED', 'id': 3491517, 'sortPriority': 2, 'name': 'Skelmersdale Utd'}, {'status': 'REMOVED', 'id': 58805, 'sortPriority': 3, 'name': 'The Draw'}], 'numberOfWinners': 1, 'discountAllowed': True, 'bspMarket': False, 'numberOfActiveRunners': 0, 'timezone': 'Europe/London', 'eventTypeId': '1', 'marketType': 'MATCH_ODDS', 'eventId': '28155500', 'bspReconciled': False, 'crossMatching': False, 'marketBaseRate': 5.0}, 'id': '1.130386888'}], 'pt': 1489701022419, 'clk': '4058749139', 'op': 'mcm'}\n",
      "{'mc': [{'marketDefinition': {'marketTime': '2017-03-25T15:00:00.000Z', 'version': 1595180964, 'regulators': ['MR_INT'], 'countryCode': 'GB', 'openDate': '2017-03-25T15:00:00.000Z', 'eventName': 'Cinderford v Kettering', 'name': 'Match Odds', 'turnInPlayEnabled': False, 'suspendTime': '2017-03-25T15:00:00.000Z', 'persistenceEnabled': True, 'runnersVoidable': False, 'status': 'SUSPENDED', 'complete': True, 'inPlay': False, 'betDelay': 0, 'bettingType': 'ODDS', 'runners': [{'status': 'ACTIVE', 'id': 8716284, 'sortPriority': 1, 'name': 'Cinderford'}, {'status': 'ACTIVE', 'id': 18556, 'sortPriority': 2, 'name': 'Kettering'}, {'status': 'ACTIVE', 'id': 58805, 'sortPriority': 3, 'name': 'The Draw'}], 'numberOfWinners': 1, 'discountAllowed': True, 'bspMarket': False, 'numberOfActiveRunners': 3, 'timezone': 'Europe/London', 'eventTypeId': '1', 'marketType': 'MATCH_ODDS', 'eventId': '28164500', 'bspReconciled': False, 'crossMatching': False, 'marketBaseRate': 5.0}, 'id': '1.130506486'}], 'pt': 1490285957066, 'clk': '4100035434', 'op': 'mcm'}\n",
      "{'mc': [{'marketDefinition': {'marketTime': '2017-03-25T15:00:00.000Z', 'settledTime': '2017-03-23T16:56:21.000Z', 'version': 1595217537, 'regulators': ['MR_INT'], 'countryCode': 'GB', 'openDate': '2017-03-25T15:00:00.000Z', 'eventName': 'Cinderford v Kettering', 'name': 'Match Odds', 'turnInPlayEnabled': False, 'suspendTime': '2017-03-25T15:00:00.000Z', 'persistenceEnabled': True, 'runnersVoidable': False, 'status': 'CLOSED', 'complete': True, 'inPlay': False, 'betDelay': 0, 'bettingType': 'ODDS', 'runners': [{'status': 'REMOVED', 'id': 8716284, 'sortPriority': 1, 'name': 'Cinderford'}, {'status': 'REMOVED', 'id': 18556, 'sortPriority': 2, 'name': 'Kettering'}, {'status': 'REMOVED', 'id': 58805, 'sortPriority': 3, 'name': 'The Draw'}], 'numberOfWinners': 1, 'discountAllowed': True, 'bspMarket': False, 'numberOfActiveRunners': 0, 'timezone': 'Europe/London', 'eventTypeId': '1', 'marketType': 'MATCH_ODDS', 'eventId': '28164500', 'bspReconciled': False, 'crossMatching': False, 'marketBaseRate': 5.0}, 'id': '1.130506486'}], 'pt': 1490288183130, 'clk': '4100242519', 'op': 'mcm'}\n"
     ]
    }
   ],
   "source": [
    "arr = glob.glob(\"../datasets/betfair/Soccer/*.bz2\")\n",
    "for name in arr:\n",
    "    with bz2.BZ2File(name, 'rb') as bz:\n",
    "        ss = bz.read()\n",
    "        bz2_str = ss.decode('utf8').split(\"\\n\")[:-1]\n",
    "    for s in bz2_str:\n",
    "        read_data = json.loads(s)\n",
    "        print(read_data)"
   ]
  },
  {
   "cell_type": "code",
   "execution_count": 24,
   "metadata": {
    "collapsed": true
   },
   "outputs": [],
   "source": [
    "file_list = trading.historic.get_file_list(\n",
    "    \"Tennis\", \"Basic Plan\", 1, 3, 2017, 31, 3, 2017,  market_types_collection=['MATCH_ODDS','SET_WINNER'],\n",
    "    countries_collection=['US'], file_type_collection=['M'])\n",
    "for file in file_list[:3]:\n",
    "    download = trading.historic.download_file(file_path=file,store_directory=\"../datasets/betfair/Tennis\")"
   ]
  },
  {
   "cell_type": "code",
   "execution_count": 27,
   "metadata": {
    "collapsed": false
   },
   "outputs": [
    {
     "name": "stdout",
     "output_type": "stream",
     "text": [
      "{'mc': [{'marketDefinition': {'marketTime': '2017-03-09T21:00:00.000Z', 'version': 1581015038, 'regulators': ['MR_INT'], 'countryCode': 'US', 'openDate': '2017-03-09T21:00:00.000Z', 'eventName': 'Jor Thompson v Kukushkin', 'name': 'Match Odds', 'turnInPlayEnabled': True, 'suspendTime': '2017-03-09T21:00:00.000Z', 'persistenceEnabled': True, 'runnersVoidable': False, 'status': 'OPEN', 'complete': True, 'inPlay': False, 'betDelay': 0, 'bettingType': 'ODDS', 'runners': [{'status': 'ACTIVE', 'id': 8145584, 'sortPriority': 1, 'name': 'Jordan Thompson'}, {'status': 'ACTIVE', 'id': 2609424, 'sortPriority': 2, 'name': 'Mikhail Kukushkin'}], 'numberOfWinners': 1, 'discountAllowed': True, 'bspMarket': False, 'numberOfActiveRunners': 2, 'timezone': 'UTC', 'eventTypeId': '2', 'marketType': 'MATCH_ODDS', 'eventId': '28146220', 'bspReconciled': False, 'crossMatching': True, 'marketBaseRate': 5.0}, 'id': '1.130237046'}], 'pt': 1489084449480, 'clk': '3987227969', 'op': 'mcm'}\n",
      "{'mc': [{'marketDefinition': {'marketTime': '2017-03-09T20:49:00.000Z', 'version': 1581025739, 'regulators': ['MR_INT'], 'countryCode': 'US', 'openDate': '2017-03-09T20:49:00.000Z', 'eventName': 'Jor Thompson v Kukushkin', 'name': 'Match Odds', 'turnInPlayEnabled': True, 'suspendTime': '2017-03-09T20:49:00.000Z', 'persistenceEnabled': True, 'runnersVoidable': False, 'status': 'OPEN', 'complete': True, 'inPlay': False, 'betDelay': 0, 'bettingType': 'ODDS', 'runners': [{'status': 'ACTIVE', 'id': 8145584, 'sortPriority': 1, 'name': 'Jordan Thompson'}, {'status': 'ACTIVE', 'id': 2609424, 'sortPriority': 2, 'name': 'Mikhail Kukushkin'}], 'numberOfWinners': 1, 'discountAllowed': True, 'bspMarket': False, 'numberOfActiveRunners': 2, 'timezone': 'UTC', 'eventTypeId': '2', 'marketType': 'MATCH_ODDS', 'eventId': '28146220', 'bspReconciled': False, 'crossMatching': True, 'marketBaseRate': 5.0}, 'id': '1.130237046'}], 'pt': 1489085514764, 'clk': '3987298166', 'op': 'mcm'}\n",
      "{'mc': [{'id': '1.130237046', 'rc': [{'ltp': 1.25, 'id': 8145584}]}], 'pt': 1489090278260, 'clk': '3987736972', 'op': 'mcm'}\n",
      "{'mc': [{'id': '1.130237046', 'rc': [{'ltp': 1.6, 'id': 8145584}]}], 'pt': 1489090434207, 'clk': '3987766108', 'op': 'mcm'}\n",
      "{'mc': [{'id': '1.130237046', 'rc': [{'ltp': 2.44, 'id': 2609424}, {'ltp': 1.69, 'id': 8145584}]}], 'pt': 1489092845923, 'clk': '3987948400', 'op': 'mcm'}\n",
      "{'mc': [{'id': '1.130237046', 'rc': [{'ltp': 2.52, 'id': 2609424}, {'ltp': 1.65, 'id': 8145584}]}], 'pt': 1489093085358, 'clk': '3987973713', 'op': 'mcm'}\n",
      "{'mc': [{'id': '1.130237046', 'rc': [{'ltp': 1.64, 'id': 8145584}]}], 'pt': 1489093259190, 'clk': '3987983280', 'op': 'mcm'}\n",
      "{'mc': [{'id': '1.130237046', 'rc': [{'ltp': 1.62, 'id': 8145584}]}], 'pt': 1489093315865, 'clk': '3987986613', 'op': 'mcm'}\n",
      "{'mc': [{'id': '1.130237046', 'rc': [{'ltp': 2.56, 'id': 2609424}, {'ltp': 1.65, 'id': 8145584}]}], 'pt': 1489093443882, 'clk': '3987991825', 'op': 'mcm'}\n",
      "{'mc': [{'marketDefinition': {'marketTime': '2017-03-09T20:49:00.000Z', 'version': 1581131671, 'regulators': ['MR_INT'], 'countryCode': 'US', 'openDate': '2017-03-09T20:49:00.000Z', 'eventName': 'Jor Thompson v Kukushkin', 'name': 'Match Odds', 'turnInPlayEnabled': True, 'suspendTime': '2017-03-09T20:49:00.000Z', 'persistenceEnabled': True, 'runnersVoidable': False, 'status': 'OPEN', 'complete': True, 'inPlay': True, 'betDelay': 5, 'bettingType': 'ODDS', 'runners': [{'status': 'ACTIVE', 'id': 8145584, 'sortPriority': 1, 'name': 'Jordan Thompson'}, {'status': 'ACTIVE', 'id': 2609424, 'sortPriority': 2, 'name': 'Mikhail Kukushkin'}], 'numberOfWinners': 1, 'discountAllowed': True, 'bspMarket': False, 'numberOfActiveRunners': 2, 'timezone': 'UTC', 'eventTypeId': '2', 'marketType': 'MATCH_ODDS', 'eventId': '28146220', 'bspReconciled': False, 'crossMatching': True, 'marketBaseRate': 5.0}, 'id': '1.130237046'}], 'pt': 1489093504887, 'clk': '3987994449', 'op': 'mcm'}\n",
      "{'mc': [{'id': '1.130237046', 'rc': [{'ltp': 1.58, 'id': 8145584}]}], 'pt': 1489093565073, 'clk': '3987997302', 'op': 'mcm'}\n",
      "{'mc': [{'id': '1.130237046', 'rc': [{'ltp': 2.68, 'id': 2609424}, {'ltp': 1.54, 'id': 8145584}]}], 'pt': 1489093624434, 'clk': '3988000238', 'op': 'mcm'}\n",
      "{'mc': [{'id': '1.130237046', 'rc': [{'ltp': 1.65, 'id': 8145584}]}], 'pt': 1489093684430, 'clk': '3988002896', 'op': 'mcm'}\n",
      "{'mc': [{'id': '1.130237046', 'rc': [{'ltp': 2.8, 'id': 2609424}, {'ltp': 1.55, 'id': 8145584}]}], 'pt': 1489093744179, 'clk': '3988005601', 'op': 'mcm'}\n",
      "{'mc': [{'id': '1.130237046', 'rc': [{'ltp': 2.56, 'id': 2609424}, {'ltp': 1.53, 'id': 8145584}]}], 'pt': 1489093804851, 'clk': '3988008604', 'op': 'mcm'}\n",
      "{'mc': [{'id': '1.130237046', 'rc': [{'ltp': 1.55, 'id': 8145584}]}], 'pt': 1489093858265, 'clk': '3988011132', 'op': 'mcm'}\n",
      "{'mc': [{'id': '1.130237046', 'rc': [{'ltp': 3.0, 'id': 2609424}, {'ltp': 1.49, 'id': 8145584}]}], 'pt': 1489093925718, 'clk': '3988014728', 'op': 'mcm'}\n",
      "{'mc': [{'id': '1.130237046', 'rc': [{'ltp': 2.78, 'id': 2609424}, {'ltp': 1.6, 'id': 8145584}]}], 'pt': 1489093986337, 'clk': '3988033225', 'op': 'mcm'}\n",
      "{'mc': [{'id': '1.130237046', 'rc': [{'ltp': 1.55, 'id': 8145584}]}], 'pt': 1489094043483, 'clk': '3988036800', 'op': 'mcm'}\n",
      "{'mc': [{'id': '1.130237046', 'rc': [{'ltp': 3.9, 'id': 2609424}, {'ltp': 1.34, 'id': 8145584}]}], 'pt': 1489094105478, 'clk': '3988041381', 'op': 'mcm'}\n",
      "{'mc': [{'id': '1.130237046', 'rc': [{'ltp': 4.1, 'id': 2609424}, {'ltp': 1.33, 'id': 8145584}]}], 'pt': 1489094162739, 'clk': '3988045403', 'op': 'mcm'}\n",
      "{'mc': [{'id': '1.130237046', 'rc': [{'ltp': 3.6, 'id': 2609424}, {'ltp': 1.38, 'id': 8145584}]}], 'pt': 1489094226338, 'clk': '3988049983', 'op': 'mcm'}\n",
      "{'mc': [{'id': '1.130237046', 'rc': [{'ltp': 4.3, 'id': 2609424}, {'ltp': 1.29, 'id': 8145584}]}], 'pt': 1489094283504, 'clk': '3988052827', 'op': 'mcm'}\n",
      "{'mc': [{'id': '1.130237046', 'rc': [{'ltp': 3.6, 'id': 2609424}, {'ltp': 1.3, 'id': 8145584}]}], 'pt': 1489094344857, 'clk': '3988055987', 'op': 'mcm'}\n",
      "{'mc': [{'id': '1.130237046', 'rc': [{'ltp': 4.3, 'id': 2609424}, {'ltp': 1.29, 'id': 8145584}]}], 'pt': 1489094458642, 'clk': '3988062003', 'op': 'mcm'}\n",
      "{'mc': [{'id': '1.130237046', 'rc': [{'ltp': 4.7, 'id': 2609424}, {'ltp': 1.27, 'id': 8145584}]}], 'pt': 1489094515834, 'clk': '3988065179', 'op': 'mcm'}\n",
      "{'mc': [{'id': '1.130237046', 'rc': [{'ltp': 1.24, 'id': 8145584}]}], 'pt': 1489094646161, 'clk': '3988072114', 'op': 'mcm'}\n",
      "{'mc': [{'id': '1.130237046', 'rc': [{'ltp': 3.7, 'id': 2609424}, {'ltp': 1.37, 'id': 8145584}]}], 'pt': 1489094705921, 'clk': '3988074882', 'op': 'mcm'}\n",
      "{'mc': [{'id': '1.130237046', 'rc': [{'ltp': 3.3, 'id': 2609424}, {'ltp': 1.44, 'id': 8145584}]}], 'pt': 1489094765975, 'clk': '3988077692', 'op': 'mcm'}\n",
      "{'mc': [{'id': '1.130237046', 'rc': [{'ltp': 3.75, 'id': 2609424}, {'ltp': 1.35, 'id': 8145584}]}], 'pt': 1489094825373, 'clk': '3988080373', 'op': 'mcm'}\n",
      "{'mc': [{'id': '1.130237046', 'rc': [{'ltp': 1.37, 'id': 8145584}]}], 'pt': 1489094885037, 'clk': '3988098004', 'op': 'mcm'}\n",
      "{'mc': [{'id': '1.130237046', 'rc': [{'ltp': 3.05, 'id': 2609424}, {'ltp': 1.49, 'id': 8145584}]}], 'pt': 1489094938385, 'clk': '3988100163', 'op': 'mcm'}\n",
      "{'mc': [{'id': '1.130237046', 'rc': [{'ltp': 3.0, 'id': 2609424}, {'ltp': 1.5, 'id': 8145584}]}], 'pt': 1489094991720, 'clk': '3988102433', 'op': 'mcm'}\n",
      "{'mc': [{'id': '1.130237046', 'rc': [{'ltp': 2.66, 'id': 2609424}, {'ltp': 1.6, 'id': 8145584}]}], 'pt': 1489095066266, 'clk': '3988106005', 'op': 'mcm'}\n",
      "{'mc': [{'id': '1.130237046', 'rc': [{'ltp': 2.76, 'id': 2609424}, {'ltp': 1.62, 'id': 8145584}]}], 'pt': 1489095125874, 'clk': '3988109218', 'op': 'mcm'}\n",
      "{'mc': [{'id': '1.130237046', 'rc': [{'ltp': 3.6, 'id': 2609424}, {'ltp': 1.39, 'id': 8145584}]}], 'pt': 1489095246151, 'clk': '3988114593', 'op': 'mcm'}\n",
      "{'mc': [{'id': '1.130237046', 'rc': [{'ltp': 2.02, 'id': 2609424}, {'ltp': 1.97, 'id': 8145584}]}], 'pt': 1489095305700, 'clk': '3988117467', 'op': 'mcm'}\n",
      "{'mc': [{'id': '1.130237046', 'rc': [{'ltp': 2.94, 'id': 2609424}, {'ltp': 1.52, 'id': 8145584}]}], 'pt': 1489095366453, 'clk': '3988120173', 'op': 'mcm'}\n",
      "{'mc': [{'id': '1.130237046', 'rc': [{'ltp': 3.0, 'id': 2609424}, {'ltp': 1.5, 'id': 8145584}]}], 'pt': 1489095423458, 'clk': '3988122611', 'op': 'mcm'}\n",
      "{'mc': [{'id': '1.130237046', 'rc': [{'ltp': 3.35, 'id': 2609424}, {'ltp': 1.42, 'id': 8145584}]}], 'pt': 1489095486215, 'clk': '3988125360', 'op': 'mcm'}\n",
      "{'mc': [{'id': '1.130237046', 'rc': [{'ltp': 3.5, 'id': 2609424}, {'ltp': 1.41, 'id': 8145584}]}], 'pt': 1489095545592, 'clk': '3988128155', 'op': 'mcm'}\n",
      "{'mc': [{'id': '1.130237046', 'rc': [{'ltp': 3.35, 'id': 2609424}, {'ltp': 1.42, 'id': 8145584}]}], 'pt': 1489095602637, 'clk': '3988130727', 'op': 'mcm'}\n",
      "{'mc': [{'id': '1.130237046', 'rc': [{'ltp': 3.65, 'id': 2609424}, {'ltp': 1.38, 'id': 8145584}]}], 'pt': 1489095666353, 'clk': '3988133421', 'op': 'mcm'}\n",
      "{'mc': [{'id': '1.130237046', 'rc': [{'ltp': 4.2, 'id': 2609424}, {'ltp': 1.23, 'id': 8145584}]}], 'pt': 1489095725562, 'clk': '3988136464', 'op': 'mcm'}\n",
      "{'mc': [{'id': '1.130237046', 'rc': [{'ltp': 5.3, 'id': 2609424}]}], 'pt': 1489095785919, 'clk': '3988154613', 'op': 'mcm'}\n",
      "{'mc': [{'id': '1.130237046', 'rc': [{'ltp': 7.4, 'id': 2609424}, {'ltp': 1.16, 'id': 8145584}]}], 'pt': 1489095845244, 'clk': '3988157663', 'op': 'mcm'}\n",
      "{'mc': [{'id': '1.130237046', 'rc': [{'ltp': 6.4, 'id': 2609424}, {'ltp': 1.17, 'id': 8145584}]}], 'pt': 1489095904862, 'clk': '3988160812', 'op': 'mcm'}\n",
      "{'mc': [{'id': '1.130237046', 'rc': [{'ltp': 1.16, 'id': 8145584}]}], 'pt': 1489095965471, 'clk': '3988163927', 'op': 'mcm'}\n",
      "{'mc': [{'id': '1.130237046', 'rc': [{'ltp': 6.8, 'id': 2609424}, {'ltp': 1.17, 'id': 8145584}]}], 'pt': 1489096025573, 'clk': '3988167311', 'op': 'mcm'}\n",
      "{'mc': [{'id': '1.130237046', 'rc': [{'ltp': 1.16, 'id': 8145584}]}], 'pt': 1489096086251, 'clk': '3988170505', 'op': 'mcm'}\n",
      "{'mc': [{'id': '1.130237046', 'rc': [{'ltp': 5.3, 'id': 2609424}, {'ltp': 1.14, 'id': 8145584}]}], 'pt': 1489096145995, 'clk': '3988173416', 'op': 'mcm'}\n",
      "{'mc': [{'id': '1.130237046', 'rc': [{'ltp': 1.21, 'id': 8145584}]}], 'pt': 1489096205304, 'clk': '3988176070', 'op': 'mcm'}\n",
      "{'mc': [{'id': '1.130237046', 'rc': [{'ltp': 6.0, 'id': 2609424}, {'ltp': 1.2, 'id': 8145584}]}], 'pt': 1489096265561, 'clk': '3988178996', 'op': 'mcm'}\n",
      "{'mc': [{'id': '1.130237046', 'rc': [{'ltp': 1.18, 'id': 8145584}]}], 'pt': 1489096386216, 'clk': '3988184641', 'op': 'mcm'}\n",
      "{'mc': [{'id': '1.130237046', 'rc': [{'ltp': 1.17, 'id': 8145584}]}], 'pt': 1489096446394, 'clk': '3988187290', 'op': 'mcm'}\n",
      "{'mc': [{'id': '1.130237046', 'rc': [{'ltp': 6.4, 'id': 2609424}, {'ltp': 1.18, 'id': 8145584}]}], 'pt': 1489096506027, 'clk': '3988189195', 'op': 'mcm'}\n",
      "{'mc': [{'id': '1.130237046', 'rc': [{'ltp': 6.8, 'id': 2609424}, {'ltp': 1.21, 'id': 8145584}]}], 'pt': 1489096566005, 'clk': '3988191316', 'op': 'mcm'}\n",
      "{'mc': [{'id': '1.130237046', 'rc': [{'ltp': 5.0, 'id': 2609424}, {'ltp': 1.25, 'id': 8145584}]}], 'pt': 1489096625797, 'clk': '3988193453', 'op': 'mcm'}\n",
      "{'mc': [{'id': '1.130237046', 'rc': [{'ltp': 5.5, 'id': 2609424}, {'ltp': 1.22, 'id': 8145584}]}], 'pt': 1489096745100, 'clk': '3988212870', 'op': 'mcm'}\n",
      "{'mc': [{'id': '1.130237046', 'rc': [{'ltp': 1.2, 'id': 8145584}]}], 'pt': 1489096866442, 'clk': '3988218250', 'op': 'mcm'}\n",
      "{'mc': [{'id': '1.130237046', 'rc': [{'ltp': 4.1, 'id': 2609424}, {'ltp': 1.32, 'id': 8145584}]}], 'pt': 1489096926045, 'clk': '3988221004', 'op': 'mcm'}\n",
      "{'mc': [{'id': '1.130237046', 'rc': [{'ltp': 3.15, 'id': 2609424}, {'ltp': 1.49, 'id': 8145584}]}], 'pt': 1489096986391, 'clk': '3988223548', 'op': 'mcm'}\n",
      "{'mc': [{'id': '1.130237046', 'rc': [{'ltp': 2.88, 'id': 2609424}, {'ltp': 1.55, 'id': 8145584}]}], 'pt': 1489097045928, 'clk': '3988226153', 'op': 'mcm'}\n",
      "{'mc': [{'id': '1.130237046', 'rc': [{'ltp': 3.05, 'id': 2609424}, {'ltp': 1.5, 'id': 8145584}]}], 'pt': 1489097106149, 'clk': '3988228422', 'op': 'mcm'}\n",
      "{'mc': [{'id': '1.130237046', 'rc': [{'ltp': 2.66, 'id': 2609424}, {'ltp': 1.59, 'id': 8145584}]}], 'pt': 1489097166255, 'clk': '3988230624', 'op': 'mcm'}\n",
      "{'mc': [{'id': '1.130237046', 'rc': [{'ltp': 2.68, 'id': 2609424}, {'ltp': 1.61, 'id': 8145584}]}], 'pt': 1489097226379, 'clk': '3988232875', 'op': 'mcm'}\n",
      "{'mc': [{'id': '1.130237046', 'rc': [{'ltp': 2.56, 'id': 2609424}, {'ltp': 1.64, 'id': 8145584}]}], 'pt': 1489097285563, 'clk': '3988234929', 'op': 'mcm'}\n",
      "{'mc': [{'id': '1.130237046', 'rc': [{'ltp': 2.58, 'id': 2609424}, {'ltp': 1.66, 'id': 8145584}]}], 'pt': 1489097344861, 'clk': '3988236868', 'op': 'mcm'}\n",
      "{'mc': [{'id': '1.130237046', 'rc': [{'ltp': 2.34, 'id': 2609424}, {'ltp': 1.84, 'id': 8145584}]}], 'pt': 1489097405445, 'clk': '3988238998', 'op': 'mcm'}\n",
      "{'mc': [{'id': '1.130237046', 'rc': [{'ltp': 1.89, 'id': 2609424}, {'ltp': 2.08, 'id': 8145584}]}], 'pt': 1489097466307, 'clk': '3988241112', 'op': 'mcm'}\n",
      "{'mc': [{'id': '1.130237046', 'rc': [{'ltp': 1.75, 'id': 2609424}, {'ltp': 2.38, 'id': 8145584}]}], 'pt': 1489097525934, 'clk': '3988243339', 'op': 'mcm'}\n",
      "{'mc': [{'id': '1.130237046', 'rc': [{'ltp': 1.74, 'id': 2609424}]}], 'pt': 1489097585872, 'clk': '3988260876', 'op': 'mcm'}\n",
      "{'mc': [{'id': '1.130237046', 'rc': [{'ltp': 1.8, 'id': 2609424}, {'ltp': 2.26, 'id': 8145584}]}], 'pt': 1489097646322, 'clk': '3988263066', 'op': 'mcm'}\n",
      "{'mc': [{'id': '1.130237046', 'rc': [{'ltp': 1.78, 'id': 2609424}, {'ltp': 2.3, 'id': 8145584}]}], 'pt': 1489097704623, 'clk': '3988265030', 'op': 'mcm'}\n",
      "{'mc': [{'id': '1.130237046', 'rc': [{'ltp': 1.85, 'id': 2609424}, {'ltp': 2.18, 'id': 8145584}]}], 'pt': 1489097766222, 'clk': '3988267386', 'op': 'mcm'}\n",
      "{'mc': [{'id': '1.130237046', 'rc': [{'ltp': 2.02, 'id': 2609424}, {'ltp': 1.98, 'id': 8145584}]}], 'pt': 1489097826361, 'clk': '3988269828', 'op': 'mcm'}\n",
      "{'mc': [{'id': '1.130237046', 'rc': [{'ltp': 1.94, 'id': 2609424}, {'ltp': 2.06, 'id': 8145584}]}], 'pt': 1489097886366, 'clk': '3988272300', 'op': 'mcm'}\n",
      "{'mc': [{'id': '1.130237046', 'rc': [{'ltp': 1.8, 'id': 2609424}, {'ltp': 2.24, 'id': 8145584}]}], 'pt': 1489097945110, 'clk': '3988274567', 'op': 'mcm'}\n",
      "{'mc': [{'id': '1.130237046', 'rc': [{'ltp': 1.16, 'id': 2609424}, {'ltp': 2.8, 'id': 8145584}]}], 'pt': 1489098006260, 'clk': '3988276837', 'op': 'mcm'}\n",
      "{'mc': [{'id': '1.130237046', 'rc': [{'ltp': 1.31, 'id': 2609424}, {'ltp': 4.3, 'id': 8145584}]}], 'pt': 1489098065785, 'clk': '3988278998', 'op': 'mcm'}\n",
      "{'mc': [{'id': '1.130237046', 'rc': [{'ltp': 1.27, 'id': 2609424}, {'ltp': 5.1, 'id': 8145584}]}], 'pt': 1489098126217, 'clk': '3988281235', 'op': 'mcm'}\n",
      "{'mc': [{'id': '1.130237046', 'rc': [{'ltp': 1.36, 'id': 2609424}, {'ltp': 3.75, 'id': 8145584}]}], 'pt': 1489098186457, 'clk': '3988283702', 'op': 'mcm'}\n",
      "{'mc': [{'id': '1.130237046', 'rc': [{'ltp': 1.21, 'id': 2609424}, {'ltp': 5.5, 'id': 8145584}]}], 'pt': 1489098246207, 'clk': '3988286271', 'op': 'mcm'}\n",
      "{'mc': [{'id': '1.130237046', 'rc': [{'ltp': 1.16, 'id': 2609424}, {'ltp': 7.4, 'id': 8145584}]}], 'pt': 1489098305426, 'clk': '3988288791', 'op': 'mcm'}\n",
      "{'mc': [{'id': '1.130237046', 'rc': [{'ltp': 1.11, 'id': 2609424}, {'ltp': 10.5, 'id': 8145584}]}], 'pt': 1489098366136, 'clk': '3988291166', 'op': 'mcm'}\n",
      "{'mc': [{'id': '1.130237046', 'rc': [{'ltp': 1.1, 'id': 2609424}, {'ltp': 10.0, 'id': 8145584}]}], 'pt': 1489098425927, 'clk': '3988294247', 'op': 'mcm'}\n",
      "{'mc': [{'id': '1.130237046', 'rc': [{'ltp': 1.14, 'id': 2609424}, {'ltp': 11.0, 'id': 8145584}]}], 'pt': 1489098485702, 'clk': '3988312361', 'op': 'mcm'}\n",
      "{'mc': [{'id': '1.130237046', 'rc': [{'ltp': 1.11, 'id': 2609424}]}], 'pt': 1489098545180, 'clk': '3988314729', 'op': 'mcm'}\n",
      "{'mc': [{'id': '1.130237046', 'rc': [{'ltp': 1.06, 'id': 2609424}, {'ltp': 17.5, 'id': 8145584}]}], 'pt': 1489098606210, 'clk': '3988317231', 'op': 'mcm'}\n",
      "{'mc': [{'marketDefinition': {'marketTime': '2017-03-09T20:49:00.000Z', 'version': 1581181932, 'regulators': ['MR_INT'], 'countryCode': 'US', 'openDate': '2017-03-09T20:49:00.000Z', 'eventName': 'Jor Thompson v Kukushkin', 'name': 'Match Odds', 'turnInPlayEnabled': True, 'suspendTime': '2017-03-09T20:49:00.000Z', 'persistenceEnabled': True, 'runnersVoidable': False, 'status': 'SUSPENDED', 'complete': True, 'inPlay': True, 'betDelay': 5, 'bettingType': 'ODDS', 'runners': [{'status': 'ACTIVE', 'id': 8145584, 'sortPriority': 1, 'name': 'Jordan Thompson'}, {'status': 'ACTIVE', 'id': 2609424, 'sortPriority': 2, 'name': 'Mikhail Kukushkin'}], 'numberOfWinners': 1, 'discountAllowed': True, 'bspMarket': False, 'numberOfActiveRunners': 2, 'timezone': 'UTC', 'eventTypeId': '2', 'marketType': 'MATCH_ODDS', 'eventId': '28146220', 'bspReconciled': False, 'crossMatching': True, 'marketBaseRate': 5.0}, 'id': '1.130237046', 'rc': [{'ltp': 1.05, 'id': 2609424}, {'ltp': 21.0, 'id': 8145584}]}], 'pt': 1489098662461, 'clk': '3988319379', 'op': 'mcm'}\n",
      "{'mc': [{'marketDefinition': {'marketTime': '2017-03-09T20:49:00.000Z', 'settledTime': '2017-03-09T22:31:34.000Z', 'version': 1581182730, 'regulators': ['MR_INT'], 'countryCode': 'US', 'openDate': '2017-03-09T20:49:00.000Z', 'eventName': 'Jor Thompson v Kukushkin', 'name': 'Match Odds', 'turnInPlayEnabled': True, 'suspendTime': '2017-03-09T20:49:00.000Z', 'persistenceEnabled': True, 'runnersVoidable': False, 'status': 'CLOSED', 'complete': True, 'inPlay': True, 'betDelay': 5, 'bettingType': 'ODDS', 'runners': [{'status': 'LOSER', 'id': 8145584, 'sortPriority': 1, 'name': 'Jordan Thompson'}, {'status': 'WINNER', 'id': 2609424, 'sortPriority': 2, 'name': 'Mikhail Kukushkin'}], 'numberOfWinners': 1, 'discountAllowed': True, 'bspMarket': False, 'numberOfActiveRunners': 0, 'timezone': 'UTC', 'eventTypeId': '2', 'marketType': 'MATCH_ODDS', 'eventId': '28146220', 'bspReconciled': False, 'crossMatching': False, 'marketBaseRate': 5.0}, 'id': '1.130237046'}], 'pt': 1489098702369, 'clk': '3988320910', 'op': 'mcm'}\n",
      "{'mc': [{'marketDefinition': {'marketTime': '2017-03-09T21:00:00.000Z', 'version': 1581015088, 'regulators': ['MR_INT'], 'countryCode': 'US', 'openDate': '2017-03-09T21:00:00.000Z', 'eventName': 'Jor Thompson v Kukushkin', 'name': 'Set 1 Winner', 'turnInPlayEnabled': True, 'suspendTime': '2017-03-09T21:00:00.000Z', 'persistenceEnabled': True, 'runnersVoidable': False, 'status': 'OPEN', 'complete': True, 'inPlay': False, 'betDelay': 0, 'bettingType': 'ODDS', 'runners': [{'status': 'ACTIVE', 'id': 8145584, 'sortPriority': 1, 'name': 'Jordan Thompson'}, {'status': 'ACTIVE', 'id': 2609424, 'sortPriority': 2, 'name': 'Mikhail Kukushkin'}], 'numberOfWinners': 1, 'discountAllowed': True, 'bspMarket': False, 'numberOfActiveRunners': 2, 'timezone': 'UTC', 'eventTypeId': '2', 'marketType': 'SET_WINNER', 'eventId': '28146220', 'bspReconciled': False, 'crossMatching': True, 'marketBaseRate': 5.0}, 'id': '1.130237050'}], 'pt': 1489084449480, 'clk': '3987227969', 'op': 'mcm'}\n",
      "{'mc': [{'marketDefinition': {'marketTime': '2017-03-09T20:49:00.000Z', 'version': 1581025747, 'regulators': ['MR_INT'], 'countryCode': 'US', 'openDate': '2017-03-09T20:49:00.000Z', 'eventName': 'Jor Thompson v Kukushkin', 'name': 'Set 1 Winner', 'turnInPlayEnabled': True, 'suspendTime': '2017-03-09T20:49:00.000Z', 'persistenceEnabled': True, 'runnersVoidable': False, 'status': 'OPEN', 'complete': True, 'inPlay': False, 'betDelay': 0, 'bettingType': 'ODDS', 'runners': [{'status': 'ACTIVE', 'id': 8145584, 'sortPriority': 1, 'name': 'Jordan Thompson'}, {'status': 'ACTIVE', 'id': 2609424, 'sortPriority': 2, 'name': 'Mikhail Kukushkin'}], 'numberOfWinners': 1, 'discountAllowed': True, 'bspMarket': False, 'numberOfActiveRunners': 2, 'timezone': 'UTC', 'eventTypeId': '2', 'marketType': 'SET_WINNER', 'eventId': '28146220', 'bspReconciled': False, 'crossMatching': True, 'marketBaseRate': 5.0}, 'id': '1.130237050'}], 'pt': 1489085514764, 'clk': '3987298166', 'op': 'mcm'}\n",
      "{'mc': [{'marketDefinition': {'marketTime': '2017-03-09T20:49:00.000Z', 'version': 1581131627, 'regulators': ['MR_INT'], 'countryCode': 'US', 'openDate': '2017-03-09T20:49:00.000Z', 'eventName': 'Jor Thompson v Kukushkin', 'name': 'Set 1 Winner', 'turnInPlayEnabled': True, 'suspendTime': '2017-03-09T20:49:00.000Z', 'persistenceEnabled': True, 'runnersVoidable': False, 'status': 'OPEN', 'complete': True, 'inPlay': True, 'betDelay': 5, 'bettingType': 'ODDS', 'runners': [{'status': 'ACTIVE', 'id': 8145584, 'sortPriority': 1, 'name': 'Jordan Thompson'}, {'status': 'ACTIVE', 'id': 2609424, 'sortPriority': 2, 'name': 'Mikhail Kukushkin'}], 'numberOfWinners': 1, 'discountAllowed': True, 'bspMarket': False, 'numberOfActiveRunners': 2, 'timezone': 'UTC', 'eventTypeId': '2', 'marketType': 'SET_WINNER', 'eventId': '28146220', 'bspReconciled': False, 'crossMatching': True, 'marketBaseRate': 5.0}, 'id': '1.130237050'}], 'pt': 1489093504887, 'clk': '3987994449', 'op': 'mcm'}\n",
      "{'mc': [{'id': '1.130237050', 'rc': [{'ltp': 4.9, 'id': 2609424}, {'ltp': 1.25, 'id': 8145584}]}], 'pt': 1489094226338, 'clk': '3988049983', 'op': 'mcm'}\n",
      "{'mc': [{'id': '1.130237050', 'rc': [{'ltp': 1.08, 'id': 8145584}]}], 'pt': 1489095144025, 'clk': '3988110059', 'op': 'mcm'}\n",
      "{'mc': [{'id': '1.130237050', 'rc': [{'ltp': 1.9, 'id': 8145584}]}], 'pt': 1489095366453, 'clk': '3988120173', 'op': 'mcm'}\n",
      "{'mc': [{'id': '1.130237050', 'rc': [{'ltp': 1.03, 'id': 8145584}]}], 'pt': 1489095785919, 'clk': '3988154613', 'op': 'mcm'}\n",
      "{'mc': [{'id': '1.130237050', 'rc': [{'ltp': 1.01, 'id': 8145584}]}], 'pt': 1489095845244, 'clk': '3988157663', 'op': 'mcm'}\n",
      "{'mc': [{'marketDefinition': {'marketTime': '2017-03-09T20:49:00.000Z', 'version': 1581151261, 'regulators': ['MR_INT'], 'countryCode': 'US', 'openDate': '2017-03-09T20:49:00.000Z', 'eventName': 'Jor Thompson v Kukushkin', 'name': 'Set 1 Winner', 'turnInPlayEnabled': True, 'suspendTime': '2017-03-09T20:49:00.000Z', 'persistenceEnabled': True, 'runnersVoidable': False, 'status': 'SUSPENDED', 'complete': True, 'inPlay': True, 'betDelay': 5, 'bettingType': 'ODDS', 'runners': [{'status': 'ACTIVE', 'id': 8145584, 'sortPriority': 1, 'name': 'Jordan Thompson'}, {'status': 'ACTIVE', 'id': 2609424, 'sortPriority': 2, 'name': 'Mikhail Kukushkin'}], 'numberOfWinners': 1, 'discountAllowed': True, 'bspMarket': False, 'numberOfActiveRunners': 2, 'timezone': 'UTC', 'eventTypeId': '2', 'marketType': 'SET_WINNER', 'eventId': '28146220', 'bspReconciled': False, 'crossMatching': True, 'marketBaseRate': 5.0}, 'id': '1.130237050'}], 'pt': 1489095965471, 'clk': '3988163927', 'op': 'mcm'}\n",
      "{'mc': [{'marketDefinition': {'marketTime': '2017-03-09T20:49:00.000Z', 'settledTime': '2017-03-09T21:46:25.000Z', 'version': 1581151599, 'regulators': ['MR_INT'], 'countryCode': 'US', 'openDate': '2017-03-09T20:49:00.000Z', 'eventName': 'Jor Thompson v Kukushkin', 'name': 'Set 1 Winner', 'turnInPlayEnabled': True, 'suspendTime': '2017-03-09T20:49:00.000Z', 'persistenceEnabled': True, 'runnersVoidable': False, 'status': 'CLOSED', 'complete': True, 'inPlay': True, 'betDelay': 5, 'bettingType': 'ODDS', 'runners': [{'status': 'WINNER', 'id': 8145584, 'sortPriority': 1, 'name': 'Jordan Thompson'}, {'status': 'LOSER', 'id': 2609424, 'sortPriority': 2, 'name': 'Mikhail Kukushkin'}], 'numberOfWinners': 1, 'discountAllowed': True, 'bspMarket': False, 'numberOfActiveRunners': 0, 'timezone': 'UTC', 'eventTypeId': '2', 'marketType': 'SET_WINNER', 'eventId': '28146220', 'bspReconciled': False, 'crossMatching': False, 'marketBaseRate': 5.0}, 'id': '1.130237050'}], 'pt': 1489096025573, 'clk': '3988167311', 'op': 'mcm'}\n",
      "{'mc': [{'marketDefinition': {'marketTime': '2017-03-09T21:00:00.000Z', 'version': 1581015031, 'regulators': ['MR_INT'], 'countryCode': 'US', 'openDate': '2017-03-09T21:00:00.000Z', 'eventName': 'Jor Thompson v Kukushkin', 'name': 'Set 2 Winner', 'turnInPlayEnabled': True, 'suspendTime': '2017-03-09T21:00:00.000Z', 'persistenceEnabled': True, 'runnersVoidable': False, 'status': 'OPEN', 'complete': True, 'inPlay': False, 'betDelay': 0, 'bettingType': 'ODDS', 'runners': [{'status': 'ACTIVE', 'id': 8145584, 'sortPriority': 1, 'name': 'Jordan Thompson'}, {'status': 'ACTIVE', 'id': 2609424, 'sortPriority': 2, 'name': 'Mikhail Kukushkin'}], 'numberOfWinners': 1, 'discountAllowed': True, 'bspMarket': False, 'numberOfActiveRunners': 2, 'timezone': 'UTC', 'eventTypeId': '2', 'marketType': 'SET_WINNER', 'eventId': '28146220', 'bspReconciled': False, 'crossMatching': False, 'marketBaseRate': 5.0}, 'id': '1.130237051'}], 'pt': 1489084449480, 'clk': '3987227969', 'op': 'mcm'}\n",
      "{'mc': [{'marketDefinition': {'marketTime': '2017-03-09T20:49:00.000Z', 'version': 1581025749, 'regulators': ['MR_INT'], 'countryCode': 'US', 'openDate': '2017-03-09T20:49:00.000Z', 'eventName': 'Jor Thompson v Kukushkin', 'name': 'Set 2 Winner', 'turnInPlayEnabled': True, 'suspendTime': '2017-03-09T20:49:00.000Z', 'persistenceEnabled': True, 'runnersVoidable': False, 'status': 'OPEN', 'complete': True, 'inPlay': False, 'betDelay': 0, 'bettingType': 'ODDS', 'runners': [{'status': 'ACTIVE', 'id': 8145584, 'sortPriority': 1, 'name': 'Jordan Thompson'}, {'status': 'ACTIVE', 'id': 2609424, 'sortPriority': 2, 'name': 'Mikhail Kukushkin'}], 'numberOfWinners': 1, 'discountAllowed': True, 'bspMarket': False, 'numberOfActiveRunners': 2, 'timezone': 'UTC', 'eventTypeId': '2', 'marketType': 'SET_WINNER', 'eventId': '28146220', 'bspReconciled': False, 'crossMatching': False, 'marketBaseRate': 5.0}, 'id': '1.130237051'}], 'pt': 1489085514764, 'clk': '3987298166', 'op': 'mcm'}\n",
      "{'mc': [{'marketDefinition': {'marketTime': '2017-03-09T20:49:00.000Z', 'version': 1581124108, 'regulators': ['MR_INT'], 'countryCode': 'US', 'openDate': '2017-03-09T20:49:00.000Z', 'eventName': 'Jor Thompson v Kukushkin', 'name': 'Set 2 Winner', 'turnInPlayEnabled': True, 'suspendTime': '2017-03-09T20:49:00.000Z', 'persistenceEnabled': True, 'runnersVoidable': False, 'status': 'OPEN', 'complete': True, 'inPlay': False, 'betDelay': 0, 'bettingType': 'ODDS', 'runners': [{'status': 'ACTIVE', 'id': 8145584, 'sortPriority': 1, 'name': 'Jordan Thompson'}, {'status': 'ACTIVE', 'id': 2609424, 'sortPriority': 2, 'name': 'Mikhail Kukushkin'}], 'numberOfWinners': 1, 'discountAllowed': True, 'bspMarket': False, 'numberOfActiveRunners': 2, 'timezone': 'UTC', 'eventTypeId': '2', 'marketType': 'SET_WINNER', 'eventId': '28146220', 'bspReconciled': False, 'crossMatching': True, 'marketBaseRate': 5.0}, 'id': '1.130237051'}], 'pt': 1489093443882, 'clk': '3987991825', 'op': 'mcm'}\n",
      "{'mc': [{'marketDefinition': {'marketTime': '2017-03-09T20:49:00.000Z', 'version': 1581131635, 'regulators': ['MR_INT'], 'countryCode': 'US', 'openDate': '2017-03-09T20:49:00.000Z', 'eventName': 'Jor Thompson v Kukushkin', 'name': 'Set 2 Winner', 'turnInPlayEnabled': True, 'suspendTime': '2017-03-09T20:49:00.000Z', 'persistenceEnabled': True, 'runnersVoidable': False, 'status': 'OPEN', 'complete': True, 'inPlay': True, 'betDelay': 5, 'bettingType': 'ODDS', 'runners': [{'status': 'ACTIVE', 'id': 8145584, 'sortPriority': 1, 'name': 'Jordan Thompson'}, {'status': 'ACTIVE', 'id': 2609424, 'sortPriority': 2, 'name': 'Mikhail Kukushkin'}], 'numberOfWinners': 1, 'discountAllowed': True, 'bspMarket': False, 'numberOfActiveRunners': 2, 'timezone': 'UTC', 'eventTypeId': '2', 'marketType': 'SET_WINNER', 'eventId': '28146220', 'bspReconciled': False, 'crossMatching': True, 'marketBaseRate': 5.0}, 'id': '1.130237051'}], 'pt': 1489093504887, 'clk': '3987994449', 'op': 'mcm'}\n",
      "{'mc': [{'id': '1.130237051', 'rc': [{'ltp': 3.25, 'id': 2609424}]}], 'pt': 1489096025573, 'clk': '3988167311', 'op': 'mcm'}\n",
      "{'mc': [{'id': '1.130237051', 'rc': [{'ltp': 3.1, 'id': 2609424}]}], 'pt': 1489096145995, 'clk': '3988173416', 'op': 'mcm'}\n",
      "{'mc': [{'id': '1.130237051', 'rc': [{'ltp': 1.52, 'id': 8145584}]}], 'pt': 1489096446394, 'clk': '3988187290', 'op': 'mcm'}\n",
      "{'mc': [{'id': '1.130237051', 'rc': [{'ltp': 1.5, 'id': 8145584}]}], 'pt': 1489096506027, 'clk': '3988189195', 'op': 'mcm'}\n",
      "{'mc': [{'id': '1.130237051', 'rc': [{'ltp': 1.73, 'id': 8145584}]}], 'pt': 1489096685046, 'clk': '3988210380', 'op': 'mcm'}\n",
      "{'mc': [{'id': '1.130237051', 'rc': [{'ltp': 1.93, 'id': 8145584}]}], 'pt': 1489096926045, 'clk': '3988221004', 'op': 'mcm'}\n",
      "{'mc': [{'id': '1.130237051', 'rc': [{'ltp': 1.41, 'id': 2609424}, {'ltp': 3.4, 'id': 8145584}]}], 'pt': 1489096986391, 'clk': '3988223548', 'op': 'mcm'}\n",
      "{'mc': [{'id': '1.130237051', 'rc': [{'ltp': 1.45, 'id': 2609424}, {'ltp': 3.55, 'id': 8145584}]}], 'pt': 1489097166255, 'clk': '3988230624', 'op': 'mcm'}\n",
      "{'mc': [{'id': '1.130237051', 'rc': [{'ltp': 1.23, 'id': 2609424}, {'ltp': 5.3, 'id': 8145584}]}], 'pt': 1489097226379, 'clk': '3988232875', 'op': 'mcm'}\n",
      "{'mc': [{'id': '1.130237051', 'rc': [{'ltp': 1.19, 'id': 2609424}]}], 'pt': 1489097285563, 'clk': '3988234929', 'op': 'mcm'}\n",
      "{'mc': [{'id': '1.130237051', 'rc': [{'ltp': 1.04, 'id': 2609424}, {'ltp': 26.0, 'id': 8145584}]}], 'pt': 1489097466307, 'clk': '3988241112', 'op': 'mcm'}\n",
      "{'mc': [{'id': '1.130237051', 'rc': [{'ltp': 1.03, 'id': 2609424}]}], 'pt': 1489097525934, 'clk': '3988243339', 'op': 'mcm'}\n",
      "{'mc': [{'marketDefinition': {'marketTime': '2017-03-09T20:49:00.000Z', 'settledTime': '2017-03-09T22:13:00.000Z', 'version': 1581167944, 'regulators': ['MR_INT'], 'countryCode': 'US', 'openDate': '2017-03-09T20:49:00.000Z', 'eventName': 'Jor Thompson v Kukushkin', 'name': 'Set 2 Winner', 'turnInPlayEnabled': True, 'suspendTime': '2017-03-09T20:49:00.000Z', 'persistenceEnabled': True, 'runnersVoidable': False, 'status': 'CLOSED', 'complete': True, 'inPlay': True, 'betDelay': 5, 'bettingType': 'ODDS', 'runners': [{'status': 'LOSER', 'id': 8145584, 'sortPriority': 1, 'name': 'Jordan Thompson'}, {'status': 'WINNER', 'id': 2609424, 'sortPriority': 2, 'name': 'Mikhail Kukushkin'}], 'numberOfWinners': 1, 'discountAllowed': True, 'bspMarket': False, 'numberOfActiveRunners': 0, 'timezone': 'UTC', 'eventTypeId': '2', 'marketType': 'SET_WINNER', 'eventId': '28146220', 'bspReconciled': False, 'crossMatching': False, 'marketBaseRate': 5.0}, 'id': '1.130237051'}], 'pt': 1489097585872, 'clk': '3988260876', 'op': 'mcm'}\n"
     ]
    }
   ],
   "source": [
    "arr = glob.glob(\"../datasets/betfair/Tennis/*.bz2\")\n",
    "for name in arr:\n",
    "    with bz2.BZ2File(name, 'rb') as bz:\n",
    "        ss = bz.read()\n",
    "        bz2_str = ss.decode('utf8').split(\"\\n\")[:-1]\n",
    "    for s in bz2_str:\n",
    "        read_data = json.loads(s)\n",
    "        print(read_data)"
   ]
  },
  {
   "cell_type": "code",
   "execution_count": 30,
   "metadata": {
    "collapsed": false
   },
   "outputs": [
    {
     "data": {
      "text/plain": [
       "<LogoutResource>"
      ]
     },
     "execution_count": 30,
     "metadata": {},
     "output_type": "execute_result"
    }
   ],
   "source": [
    "trading.logout()"
   ]
  },
  {
   "cell_type": "code",
   "execution_count": null,
   "metadata": {
    "collapsed": true
   },
   "outputs": [],
   "source": []
  }
 ],
 "metadata": {
  "kernelspec": {
   "display_name": "Python 3",
   "language": "python",
   "name": "python3"
  },
  "language_info": {
   "codemirror_mode": {
    "name": "ipython",
    "version": 3
   },
   "file_extension": ".py",
   "mimetype": "text/x-python",
   "name": "python",
   "nbconvert_exporter": "python",
   "pygments_lexer": "ipython3",
   "version": "3.5.4"
  }
 },
 "nbformat": 4,
 "nbformat_minor": 0
}
