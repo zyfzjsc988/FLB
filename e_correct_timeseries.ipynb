{
 "cells": [
  {
   "cell_type": "markdown",
   "metadata": {},
   "source": [
    "## using fixed_checked_flb to correct raw time-series"
   ]
  },
  {
   "cell_type": "code",
   "execution_count": 77,
   "metadata": {
    "ExecuteTime": {
     "end_time": "2018-07-04T18:08:49.483311Z",
     "start_time": "2018-07-04T18:08:49.432313Z"
    },
    "collapsed": false
   },
   "outputs": [],
   "source": [
    "%matplotlib inline\n",
    "import pandas as pd\n",
    "import os\n",
    "import matplotlib.pyplot as plt\n",
    "import numpy as np\n",
    "from tqdm import tqdm\n",
    "prob_folder_path = '../../datasets/probability'\n",
    "FLB_folder_path = '../../datasets/FLB'\n",
    "\n",
    "# train data\n",
    "train_prob_folder_path = '../../datasets/train_data/probability'\n",
    "corrected_prob_folder_path = '../../datasets/train_data/corrected_probability'\n",
    "resample_prob_folder_path = '../../datasets/train_data/probability_resample'\n",
    "resample_corrected_prob_folder_path = '../../datasets/train_data/corrected_probability_resample'\n",
    "\n",
    "games = { 'baseball':'/baseball/mlb','basketball':'/basketball/nba','football':'/football/nfl',\n",
    "            'iceball': '/iceball/nhl','soccer_champion':'/soccer/champ_league','scoccer_england':'/soccer/epl',\n",
    "            'soccer_major':'/soccer/majorleague'}\n",
    "# folder name is games, result name is games_results.csv\n",
    "\n",
    "games_list = ['baseball','iceball']\n",
    "soccer_list = ['soccer_champion','scoccer_england','soccer_major']"
   ]
  },
  {
   "cell_type": "code",
   "execution_count": 78,
   "metadata": {
    "ExecuteTime": {
     "end_time": "2018-07-04T18:08:52.939039Z",
     "start_time": "2018-07-04T18:08:52.876033Z"
    },
    "collapsed": false
   },
   "outputs": [
    {
     "data": {
      "text/plain": [
       "\"\\nload FLB as maps\\n\\n{'game1':{price:true_percentage,...},\\n'game2':{price:true_percentage,...}}\\n\""
      ]
     },
     "execution_count": 78,
     "metadata": {},
     "output_type": "execute_result"
    },
    {
     "name": "stdout",
     "output_type": "stream",
     "text": [
      "baseball\n",
      "iceball\n",
      "soccer_home\n"
     ]
    }
   ],
   "source": [
    "\"\"\"\n",
    "load FLB as maps\n",
    "\n",
    "{'game1':{price:true_percentage,...},\n",
    "'game2':{price:true_percentage,...}}\n",
    "\"\"\" \n",
    "\n",
    "flb_maps = {}\n",
    "for game_name in games_list:\n",
    "    print(game_name)\n",
    "    df = pd.read_csv(FLB_folder_path+'/'+game_name+'_fixed_checked.csv')[['price','perc']]\n",
    "    flb_maps[game_name] = df.set_index('price').to_dict()['perc']\n",
    "    \n",
    "for game_name in ['soccer_home']:\n",
    "    print(game_name)\n",
    "    df = pd.read_csv(FLB_folder_path+'/'+game_name+'_fixed_checked.csv')[['price','perc']]\n",
    "    flb_maps[game_name] = df.set_index('price').to_dict()['perc']"
   ]
  },
  {
   "cell_type": "markdown",
   "metadata": {},
   "source": [
    "## correct using  flb maps"
   ]
  },
  {
   "cell_type": "code",
   "execution_count": null,
   "metadata": {
    "ExecuteTime": {
     "start_time": "2018-07-04T17:17:13.479Z"
    },
    "collapsed": false
   },
   "outputs": [],
   "source": [
    "#  other games\n",
    "for game_name in games_list:\n",
    "    print(game_name)\n",
    "    index_list = [int(i[:-4]) for i in os.listdir(prob_folder_path + games[game_name])]\n",
    "    for index in tqdm(index_list):\n",
    "        series_df = pd.read_csv(prob_folder_path + games[game_name]+'/'+str(index)+'.csv').set_index('time')\n",
    "        if len(series_df) < 2:\n",
    "            continue\n",
    "        series_df.index = pd.to_datetime(series_df.index)\n",
    "        copy_df = series_df.copy()\n",
    "        start = series_df.index[0]\n",
    "        end  = series_df.index[-1]\n",
    "        \n",
    "#       no_resample :before correct\n",
    "        copy_df['duration'] = [int((end - x).total_seconds()) for x in copy_df.index]\n",
    "        copy_df.to_csv(train_prob_folder_path + games[game_name]+'/'+str(index)+'.csv')\n",
    "#       no_resample :after correct\n",
    "        copy_df['home'] = copy_df['home'].apply(lambda x: round(flb_maps[game_name][round(x,2)],4))\n",
    "        copy_df.to_csv(corrected_prob_folder_path + games[game_name]+'/'+str(index)+'.csv')\n",
    "\n",
    "#       resample:before correct\n",
    "        series_df = series_df.reindex(pd.date_range(start, end, freq='10T'),method='nearest')\n",
    "        series_df['duration'] = [int((end - x).total_seconds()) for x in series_df.index]\n",
    "        series_df.to_csv(resample_prob_folder_path + games[game_name]+'/'+str(index)+'.csv')\n",
    "#       resample :after correct\n",
    "        series_df['home'] = series_df['home'].apply(lambda x: round(flb_maps[game_name][round(x,2)],4))\n",
    "        series_df.to_csv(resample_corrected_prob_folder_path + games[game_name]+'/'+str(index)+'.csv')\n"
   ]
  },
  {
   "cell_type": "code",
   "execution_count": null,
   "metadata": {
    "ExecuteTime": {
     "start_time": "2018-07-04T18:10:03.993Z"
    },
    "collapsed": false
   },
   "outputs": [
    {
     "name": "stdout",
     "output_type": "stream",
     "text": [
      "soccer_champion\n"
     ]
    },
    {
     "name": "stderr",
     "output_type": "stream",
     "text": [
      "\n",
      "  0%|                                                                                          | 0/604 [00:00<?, ?it/s]\n",
      "  0%|▍                                                                                 | 3/604 [00:00<00:25, 23.26it/s]\n",
      "  1%|▋                                                                                 | 5/604 [00:00<00:38, 15.53it/s]\n",
      "  1%|▊                                                                                 | 6/604 [00:00<00:45, 13.02it/s]\n",
      "  1%|▉                                                                                 | 7/604 [00:00<00:52, 11.48it/s]\n",
      "Exception in thread Thread-11:\n",
      "Traceback (most recent call last):\n",
      "  File \"C:\\Users\\surface\\Anaconda2\\envs\\tensorflow\\lib\\threading.py\", line 914, in _bootstrap_inner\n",
      "    self.run()\n",
      "  File \"C:\\Users\\surface\\Anaconda2\\envs\\tensorflow\\lib\\site-packages\\tqdm\\_tqdm.py\", line 144, in run\n",
      "    for instance in self.tqdm_cls._instances:\n",
      "  File \"C:\\Users\\surface\\Anaconda2\\envs\\tensorflow\\lib\\_weakrefset.py\", line 60, in __iter__\n",
      "    for itemref in self.data:\n",
      "RuntimeError: Set changed size during iteration\n",
      "\n",
      "100%|████████████████████████████████████████████████████████████████████████████████| 604/604 [02:16<00:00,  4.41it/s]\n"
     ]
    },
    {
     "name": "stdout",
     "output_type": "stream",
     "text": [
      "scoccer_england\n"
     ]
    },
    {
     "name": "stderr",
     "output_type": "stream",
     "text": [
      " 16%|█████████████                                                                  | 322/1953 [01:"
     ]
    },
    {
     "data": {
      "text/html": [
       "<b>limit_output extension: Maximum message size of 100000 exceeded with 100020 characters</b>"
      ]
     },
     "metadata": {},
     "output_type": "display_data"
    }
   ],
   "source": [
    "# soccer\n",
    "for game_name in soccer_list:\n",
    "#     odds_type = 'home'\n",
    "    print(game_name)\n",
    "    index_list = [int(i[:-4]) for i in os.listdir(prob_folder_path + games[game_name]+'_normalized')]\n",
    "\n",
    "    for index in tqdm(index_list):\n",
    "        series_df = pd.read_csv(prob_folder_path + games[game_name]+'/'+str(index)+'.csv').set_index('time')\n",
    "        if len(series_df) < 2:\n",
    "            continue\n",
    "        series_df.index = pd.to_datetime(series_df.index)\n",
    "        copy_df = series_df.copy()\n",
    "        start = series_df.index[0]\n",
    "        end  = series_df.index[-1]\n",
    "        \n",
    "#       no_resample :before correct\n",
    "        copy_df['duration'] = [int((end - x).total_seconds()) for x in copy_df.index]\n",
    "        copy_df[['home','duration']].to_csv(train_prob_folder_path + games[game_name]+'/'+str(index)+'.csv')\n",
    "#       no_resample :after correct\n",
    "        copy_df['home'] = copy_df['home'].apply(lambda x: round(flb_maps['soccer_home'][round(x,2)],4))\n",
    "        copy_df[['home','duration']].to_csv(corrected_prob_folder_path + games[game_name]+'/'+str(index)+'.csv')\n",
    "\n",
    "#       resample:before correct\n",
    "        series_df = series_df.reindex(pd.date_range(start, end, freq='10T'),method='nearest')\n",
    "        series_df['duration'] = [int((end - x).total_seconds()) for x in series_df.index]\n",
    "        series_df[['home','duration']].to_csv(resample_prob_folder_path + games[game_name]+'/'+str(index)+'.csv')\n",
    "#       resample :after correct\n",
    "        series_df['home'] = series_df['home'].apply(lambda x: round(flb_maps['soccer_home'][round(x,2)],4))\n",
    "        series_df[['home','duration']].to_csv(resample_corrected_prob_folder_path + games[game_name]+'/'+str(index)+'.csv')"
   ]
  },
  {
   "cell_type": "code",
   "execution_count": null,
   "metadata": {
    "collapsed": true
   },
   "outputs": [],
   "source": []
  }
 ],
 "metadata": {
  "kernelspec": {
   "display_name": "Python 3",
   "language": "python",
   "name": "python3"
  },
  "language_info": {
   "codemirror_mode": {
    "name": "ipython",
    "version": 3
   },
   "file_extension": ".py",
   "mimetype": "text/x-python",
   "name": "python",
   "nbconvert_exporter": "python",
   "pygments_lexer": "ipython3",
   "version": "3.5.4"
  },
  "varInspector": {
   "cols": {
    "lenName": 16,
    "lenType": 16,
    "lenVar": 40
   },
   "kernels_config": {
    "python": {
     "delete_cmd_postfix": "",
     "delete_cmd_prefix": "del ",
     "library": "var_list.py",
     "varRefreshCmd": "print(var_dic_list())"
    },
    "r": {
     "delete_cmd_postfix": ") ",
     "delete_cmd_prefix": "rm(",
     "library": "var_list.r",
     "varRefreshCmd": "cat(var_dic_list()) "
    }
   },
   "types_to_exclude": [
    "module",
    "function",
    "builtin_function_or_method",
    "instance",
    "_Feature"
   ],
   "window_display": false
  }
 },
 "nbformat": 4,
 "nbformat_minor": 2
}
