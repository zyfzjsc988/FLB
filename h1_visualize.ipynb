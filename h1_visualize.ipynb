{
 "cells": [
  {
   "cell_type": "markdown",
   "metadata": {},
   "source": [
    "# graphs for show results and conclusion"
   ]
  },
  {
   "cell_type": "markdown",
   "metadata": {},
   "source": [
    "## 1. home_win accuracy"
   ]
  },
  {
   "cell_type": "code",
   "execution_count": 1,
   "metadata": {
    "ExecuteTime": {
     "end_time": "2018-08-11T15:38:29.947200Z",
     "start_time": "2018-08-11T15:38:28.573580Z"
    },
    "collapsed": true
   },
   "outputs": [],
   "source": [
    "import pandas as pd\n",
    "import matplotlib.pyplot as plt\n",
    "import numpy as np"
   ]
  },
  {
   "cell_type": "code",
   "execution_count": 60,
   "metadata": {
    "ExecuteTime": {
     "end_time": "2018-08-11T20:12:57.692646Z",
     "start_time": "2018-08-11T20:12:56.352512Z"
    },
    "collapsed": false
   },
   "outputs": [
    {
     "data": {
      "text/plain": [
       "<BarContainer object of 5 artists>"
      ]
     },
     "execution_count": 60,
     "metadata": {},
     "output_type": "execute_result"
    },
    {
     "data": {
      "text/plain": [
       "<BarContainer object of 5 artists>"
      ]
     },
     "execution_count": 60,
     "metadata": {},
     "output_type": "execute_result"
    },
    {
     "data": {
      "text/plain": [
       "Text(0,0.5,'Normal')"
      ]
     },
     "execution_count": 60,
     "metadata": {},
     "output_type": "execute_result"
    },
    {
     "data": {
      "text/plain": [
       "<matplotlib.legend.Legend at 0x233f5aff518>"
      ]
     },
     "execution_count": 60,
     "metadata": {},
     "output_type": "execute_result"
    },
    {
     "data": {
      "text/plain": [
       "[None,\n",
       " None,\n",
       " None,\n",
       " None,\n",
       " None,\n",
       " None,\n",
       " None,\n",
       " None,\n",
       " None,\n",
       " None,\n",
       " None,\n",
       " None,\n",
       " None,\n",
       " None]"
      ]
     },
     "execution_count": 60,
     "metadata": {},
     "output_type": "execute_result"
    },
    {
     "data": {
      "text/plain": [
       "<BarContainer object of 5 artists>"
      ]
     },
     "execution_count": 60,
     "metadata": {},
     "output_type": "execute_result"
    },
    {
     "data": {
      "text/plain": [
       "<BarContainer object of 5 artists>"
      ]
     },
     "execution_count": 60,
     "metadata": {},
     "output_type": "execute_result"
    },
    {
     "data": {
      "text/plain": [
       "Text(0,0.5,'High Risk')"
      ]
     },
     "execution_count": 60,
     "metadata": {},
     "output_type": "execute_result"
    },
    {
     "data": {
      "text/plain": [
       "[None,\n",
       " None,\n",
       " None,\n",
       " None,\n",
       " None,\n",
       " None,\n",
       " None,\n",
       " None,\n",
       " None,\n",
       " None,\n",
       " None,\n",
       " None,\n",
       " None,\n",
       " None]"
      ]
     },
     "execution_count": 60,
     "metadata": {},
     "output_type": "execute_result"
    },
    {
     "data": {
      "text/plain": [
       "<BarContainer object of 5 artists>"
      ]
     },
     "execution_count": 60,
     "metadata": {},
     "output_type": "execute_result"
    },
    {
     "data": {
      "text/plain": [
       "<BarContainer object of 5 artists>"
      ]
     },
     "execution_count": 60,
     "metadata": {},
     "output_type": "execute_result"
    },
    {
     "data": {
      "text/plain": [
       "Text(0,0.5,'Low Risk')"
      ]
     },
     "execution_count": 60,
     "metadata": {},
     "output_type": "execute_result"
    },
    {
     "data": {
      "image/png": "[encoded data removed]",
      "text/plain": [
       "<Figure size 432x288 with 3 Axes>"
      ]
     },
     "metadata": {},
     "output_type": "display_data"
    }
   ],
   "source": [
    "plt.style.use('ggplot')\n",
    "plot_name = '1_home_win_accuracy'\n",
    "results_sources = \"../../datasets/results\"\n",
    "source_name = \"/\"+plot_name+\".xlsx\"\n",
    "\n",
    "size = 5\n",
    "x = np.arange(size)\n",
    "total_width, n = 0.8, 2\n",
    "width = total_width / n\n",
    "x = x - (total_width - width) / 2\n",
    "\n",
    "game_name = 'soccer'\n",
    "\n",
    "sheet = game_name + '_no_risk'\n",
    "data = pd.read_excel(results_sources+source_name,sheet_name = sheet,index_col=0).apply(lambda x: round(x,5))\n",
    "tag = data.columns.tolist()\n",
    "xt = data.index.tolist()\n",
    "xt.insert(0,'0')\n",
    "ax1 = plt.subplot(311,ylim=[0.55,0.8],xticklabels=xt)\n",
    "\n",
    "plt.bar(x, data[tag[0]],  width=width, label=tag[0],ec='k', ls='-', lw=1,color='k')\n",
    "plt.bar(x + width, data[tag[1]], width=width, label=tag[1],hatch='/',ec='k', ls='-', lw=1,color='w')\n",
    "plt.ylabel('Normal',color = 'k')\n",
    "plt.legend(bbox_to_anchor=(0,1.02,1,0.2), loc=\"lower left\",\n",
    "                mode=\"expand\", borderaxespad=0, ncol=2)\n",
    "plt.setp(ax1.get_xticklabels(), visible=False)\n",
    "\n",
    "# share x only\n",
    "\n",
    "sheet = game_name + '_high_risk'\n",
    "data = pd.read_excel(results_sources+source_name,sheet_name = sheet,index_col=0).apply(lambda x: round(x,5))\n",
    "# data.plot.bar(rot=0,ylim=[0.5,0.7])\n",
    "tag = data.columns.tolist()\n",
    "xt = data.index.tolist()\n",
    "xt.insert(0,'0')\n",
    "ax2 = plt.subplot(312, sharex=ax1,ylim=[0.55,0.8])\n",
    "plt.bar(x, data[tag[0]],  width=width, label=tag[0],ec='k', ls='-', lw=1,color='k')\n",
    "plt.bar(x + width, data[tag[1]], width=width, label=tag[1],hatch='/',ec='k', ls='-', lw=1,color='w')\n",
    "plt.ylabel('High Risk',color = 'k')\n",
    "plt.setp(ax2.get_xticklabels(), visible=False)\n",
    "\n",
    "# share x and y\n",
    "ax3 = plt.subplot(313, sharex=ax1,sharey=ax1)\n",
    "sheet = game_name + '_low_risk'\n",
    "data = pd.read_excel(results_sources+source_name,sheet_name = sheet,index_col=0).apply(lambda x: round(x,5))\n",
    "tag = data.columns.tolist()\n",
    "xt = data.index.tolist()\n",
    "xt.insert(0,'0')\n",
    "ax2 = plt.subplot(313, sharex=ax1,ylim=[0.55,0.8])\n",
    "plt.bar(x, data[tag[0]],  width=width, label=tag[0],ec='k', ls='-', lw=1,color='k')\n",
    "plt.bar(x + width, data[tag[1]], width=width, label=tag[1],hatch='/',ec='k', ls='-', lw=1,color='w')\n",
    "plt.ylabel('Low Risk',color = 'k')\n",
    "\n",
    "plt.savefig(\"../../Diser/Plot/\"+plot_name+'_' +game_name +\".png\", bbox_inches=\"tight\")\n",
    "plt.show()"
   ]
  },
  {
   "cell_type": "code",
   "execution_count": 29,
   "metadata": {
    "ExecuteTime": {
     "end_time": "2018-08-11T16:16:52.705742Z",
     "start_time": "2018-08-11T16:16:51.425747Z"
    },
    "collapsed": false
   },
   "outputs": [
    {
     "data": {
      "text/plain": [
       "<BarContainer object of 5 artists>"
      ]
     },
     "execution_count": 29,
     "metadata": {},
     "output_type": "execute_result"
    },
    {
     "data": {
      "text/plain": [
       "<BarContainer object of 5 artists>"
      ]
     },
     "execution_count": 29,
     "metadata": {},
     "output_type": "execute_result"
    },
    {
     "data": {
      "text/plain": [
       "Text(0,0.5,'Normal')"
      ]
     },
     "execution_count": 29,
     "metadata": {},
     "output_type": "execute_result"
    },
    {
     "data": {
      "text/plain": [
       "<matplotlib.legend.Legend at 0x233f13eed68>"
      ]
     },
     "execution_count": 29,
     "metadata": {},
     "output_type": "execute_result"
    },
    {
     "data": {
      "text/plain": [
       "[None,\n",
       " None,\n",
       " None,\n",
       " None,\n",
       " None,\n",
       " None,\n",
       " None,\n",
       " None,\n",
       " None,\n",
       " None,\n",
       " None,\n",
       " None,\n",
       " None,\n",
       " None]"
      ]
     },
     "execution_count": 29,
     "metadata": {},
     "output_type": "execute_result"
    },
    {
     "data": {
      "text/plain": [
       "<BarContainer object of 5 artists>"
      ]
     },
     "execution_count": 29,
     "metadata": {},
     "output_type": "execute_result"
    },
    {
     "data": {
      "text/plain": [
       "<BarContainer object of 5 artists>"
      ]
     },
     "execution_count": 29,
     "metadata": {},
     "output_type": "execute_result"
    },
    {
     "data": {
      "text/plain": [
       "Text(0,0.5,'High Risk')"
      ]
     },
     "execution_count": 29,
     "metadata": {},
     "output_type": "execute_result"
    },
    {
     "data": {
      "text/plain": [
       "[None,\n",
       " None,\n",
       " None,\n",
       " None,\n",
       " None,\n",
       " None,\n",
       " None,\n",
       " None,\n",
       " None,\n",
       " None,\n",
       " None,\n",
       " None,\n",
       " None,\n",
       " None]"
      ]
     },
     "execution_count": 29,
     "metadata": {},
     "output_type": "execute_result"
    },
    {
     "data": {
      "text/plain": [
       "<BarContainer object of 5 artists>"
      ]
     },
     "execution_count": 29,
     "metadata": {},
     "output_type": "execute_result"
    },
    {
     "data": {
      "text/plain": [
       "<BarContainer object of 5 artists>"
      ]
     },
     "execution_count": 29,
     "metadata": {},
     "output_type": "execute_result"
    },
    {
     "data": {
      "text/plain": [
       "Text(0,0.5,'Low Risk')"
      ]
     },
     "execution_count": 29,
     "metadata": {},
     "output_type": "execute_result"
    },
    {
     "data": {
      "image/png": "[encoded data removed]",
      "text/plain": [
       "<Figure size 432x288 with 3 Axes>"
      ]
     },
     "metadata": {},
     "output_type": "display_data"
    }
   ],
   "source": [
    "plt.cla()\n",
    "\n",
    "game_name = 'baseball'\n",
    "\n",
    "sheet = game_name + '_no_risk'\n",
    "data = pd.read_excel(results_sources+source_name,sheet_name = sheet,index_col=0).apply(lambda x: round(x,5))\n",
    "tag = data.columns.tolist()\n",
    "xt = data.index.tolist()\n",
    "xt.insert(0,'0')\n",
    "ax1 = plt.subplot(311,ylim=[0.55,0.8],xticklabels=xt)\n",
    "\n",
    "plt.bar(x, data[tag[0]],  width=width, label=tag[0],ec='k', ls='-', lw=1,color='k')\n",
    "plt.bar(x + width, data[tag[1]], width=width, label=tag[1],hatch='/',ec='k', ls='-', lw=1,color='w')\n",
    "plt.ylabel('Normal',color = 'k')\n",
    "plt.legend(bbox_to_anchor=(0,1.02,1,0.2), loc=\"lower left\",\n",
    "                mode=\"expand\", borderaxespad=0, ncol=2)\n",
    "plt.setp(ax1.get_xticklabels(), visible=False)\n",
    "\n",
    "# share x only\n",
    "\n",
    "sheet = game_name + '_high_risk'\n",
    "data = pd.read_excel(results_sources+source_name,sheet_name = sheet,index_col=0).apply(lambda x: round(x,5))\n",
    "# data.plot.bar(rot=0,ylim=[0.5,0.7])\n",
    "tag = data.columns.tolist()\n",
    "xt = data.index.tolist()\n",
    "xt.insert(0,'0')\n",
    "ax2 = plt.subplot(312, sharex=ax1,ylim=[0.55,0.8])\n",
    "plt.bar(x, data[tag[0]],  width=width, label=tag[0],ec='k', ls='-', lw=1,color='k')\n",
    "plt.bar(x + width, data[tag[1]], width=width, label=tag[1],hatch='/',ec='k', ls='-', lw=1,color='w')\n",
    "plt.ylabel('High Risk',color = 'k')\n",
    "plt.setp(ax2.get_xticklabels(), visible=False)\n",
    "\n",
    "# share x and y\n",
    "ax3 = plt.subplot(313, sharex=ax1,sharey=ax1)\n",
    "sheet = game_name + '_low_risk'\n",
    "data = pd.read_excel(results_sources+source_name,sheet_name = sheet,index_col=0).apply(lambda x: round(x,5))\n",
    "tag = data.columns.tolist()\n",
    "xt = data.index.tolist()\n",
    "xt.insert(0,'0')\n",
    "ax2 = plt.subplot(313, sharex=ax1,ylim=[0.55,0.8])\n",
    "plt.bar(x, data[tag[0]],  width=width, label=tag[0],ec='k', ls='-', lw=1,color='k')\n",
    "plt.bar(x + width, data[tag[1]], width=width, label=tag[1],hatch='/',ec='k', ls='-', lw=1,color='w')\n",
    "plt.ylabel('Low Risk',color = 'k')\n",
    "\n",
    "plt.savefig(\"../../Diser/Plot/\"+plot_name+'_' +game_name +\".png\", bbox_inches=\"tight\")\n",
    "plt.show()"
   ]
  },
  {
   "cell_type": "code",
   "execution_count": 30,
   "metadata": {
    "ExecuteTime": {
     "end_time": "2018-08-11T16:17:05.190639Z",
     "start_time": "2018-08-11T16:17:03.600627Z"
    },
    "collapsed": false
   },
   "outputs": [
    {
     "data": {
      "text/plain": [
       "<BarContainer object of 5 artists>"
      ]
     },
     "execution_count": 30,
     "metadata": {},
     "output_type": "execute_result"
    },
    {
     "data": {
      "text/plain": [
       "<BarContainer object of 5 artists>"
      ]
     },
     "execution_count": 30,
     "metadata": {},
     "output_type": "execute_result"
    },
    {
     "data": {
      "text/plain": [
       "Text(0,0.5,'Normal')"
      ]
     },
     "execution_count": 30,
     "metadata": {},
     "output_type": "execute_result"
    },
    {
     "data": {
      "text/plain": [
       "<matplotlib.legend.Legend at 0x233f14db6a0>"
      ]
     },
     "execution_count": 30,
     "metadata": {},
     "output_type": "execute_result"
    },
    {
     "data": {
      "text/plain": [
       "[None,\n",
       " None,\n",
       " None,\n",
       " None,\n",
       " None,\n",
       " None,\n",
       " None,\n",
       " None,\n",
       " None,\n",
       " None,\n",
       " None,\n",
       " None,\n",
       " None,\n",
       " None]"
      ]
     },
     "execution_count": 30,
     "metadata": {},
     "output_type": "execute_result"
    },
    {
     "data": {
      "text/plain": [
       "<BarContainer object of 5 artists>"
      ]
     },
     "execution_count": 30,
     "metadata": {},
     "output_type": "execute_result"
    },
    {
     "data": {
      "text/plain": [
       "<BarContainer object of 5 artists>"
      ]
     },
     "execution_count": 30,
     "metadata": {},
     "output_type": "execute_result"
    },
    {
     "data": {
      "text/plain": [
       "Text(0,0.5,'High Risk')"
      ]
     },
     "execution_count": 30,
     "metadata": {},
     "output_type": "execute_result"
    },
    {
     "data": {
      "text/plain": [
       "[None,\n",
       " None,\n",
       " None,\n",
       " None,\n",
       " None,\n",
       " None,\n",
       " None,\n",
       " None,\n",
       " None,\n",
       " None,\n",
       " None,\n",
       " None,\n",
       " None,\n",
       " None]"
      ]
     },
     "execution_count": 30,
     "metadata": {},
     "output_type": "execute_result"
    },
    {
     "data": {
      "text/plain": [
       "<BarContainer object of 5 artists>"
      ]
     },
     "execution_count": 30,
     "metadata": {},
     "output_type": "execute_result"
    },
    {
     "data": {
      "text/plain": [
       "<BarContainer object of 5 artists>"
      ]
     },
     "execution_count": 30,
     "metadata": {},
     "output_type": "execute_result"
    },
    {
     "data": {
      "text/plain": [
       "Text(0,0.5,'Low Risk')"
      ]
     },
     "execution_count": 30,
     "metadata": {},
     "output_type": "execute_result"
    },
    {
     "data": {
      "image/png": "[encoded data removed]",
      "text/plain": [
       "<Figure size 432x288 with 3 Axes>"
      ]
     },
     "metadata": {},
     "output_type": "display_data"
    }
   ],
   "source": [
    "plt.cla()\n",
    "game_name = 'iceball'\n",
    "\n",
    "sheet = game_name + '_no_risk'\n",
    "data = pd.read_excel(results_sources+source_name,sheet_name = sheet,index_col=0).apply(lambda x: round(x,5))\n",
    "tag = data.columns.tolist()\n",
    "xt = data.index.tolist()\n",
    "xt.insert(0,'0')\n",
    "ax1 = plt.subplot(311,ylim=[0.55,0.8],xticklabels=xt)\n",
    "\n",
    "plt.bar(x, data[tag[0]],  width=width, label=tag[0],ec='k', ls='-', lw=1,color='k')\n",
    "plt.bar(x + width, data[tag[1]], width=width, label=tag[1],hatch='/',ec='k', ls='-', lw=1,color='w')\n",
    "plt.ylabel('Normal',color = 'k')\n",
    "plt.legend(bbox_to_anchor=(0,1.02,1,0.2), loc=\"lower left\",\n",
    "                mode=\"expand\", borderaxespad=0, ncol=2)\n",
    "plt.setp(ax1.get_xticklabels(), visible=False)\n",
    "\n",
    "# share x only\n",
    "\n",
    "sheet = game_name + '_high_risk'\n",
    "data = pd.read_excel(results_sources+source_name,sheet_name = sheet,index_col=0).apply(lambda x: round(x,5))\n",
    "# data.plot.bar(rot=0,ylim=[0.5,0.7])\n",
    "tag = data.columns.tolist()\n",
    "xt = data.index.tolist()\n",
    "xt.insert(0,'0')\n",
    "ax2 = plt.subplot(312, sharex=ax1,ylim=[0.55,0.8])\n",
    "plt.bar(x, data[tag[0]],  width=width, label=tag[0],ec='k', ls='-', lw=1,color='k')\n",
    "plt.bar(x + width, data[tag[1]], width=width, label=tag[1],hatch='/',ec='k', ls='-', lw=1,color='w')\n",
    "plt.ylabel('High Risk',color = 'k')\n",
    "plt.setp(ax2.get_xticklabels(), visible=False)\n",
    "\n",
    "# share x and y\n",
    "ax3 = plt.subplot(313, sharex=ax1,sharey=ax1)\n",
    "sheet = game_name + '_low_risk'\n",
    "data = pd.read_excel(results_sources+source_name,sheet_name = sheet,index_col=0).apply(lambda x: round(x,5))\n",
    "tag = data.columns.tolist()\n",
    "xt = data.index.tolist()\n",
    "xt.insert(0,'0')\n",
    "ax2 = plt.subplot(313, sharex=ax1,ylim=[0.55,0.8])\n",
    "plt.bar(x, data[tag[0]],  width=width, label=tag[0],ec='k', ls='-', lw=1,color='k')\n",
    "plt.bar(x + width, data[tag[1]], width=width, label=tag[1],hatch='/',ec='k', ls='-', lw=1,color='w')\n",
    "plt.ylabel('Low Risk',color = 'k')\n",
    "\n",
    "plt.savefig(\"../../Diser/Plot/\"+plot_name+'_' +game_name +\".png\", bbox_inches=\"tight\")\n",
    "plt.show()"
   ]
  },
  {
   "cell_type": "markdown",
   "metadata": {},
   "source": [
    "## 2 home_win bias"
   ]
  },
  {
   "cell_type": "code",
   "execution_count": 27,
   "metadata": {
    "ExecuteTime": {
     "end_time": "2018-08-11T16:16:14.403180Z",
     "start_time": "2018-08-11T16:16:12.819179Z"
    },
    "collapsed": false
   },
   "outputs": [
    {
     "data": {
      "text/plain": [
       "<BarContainer object of 5 artists>"
      ]
     },
     "execution_count": 27,
     "metadata": {},
     "output_type": "execute_result"
    },
    {
     "data": {
      "text/plain": [
       "<BarContainer object of 5 artists>"
      ]
     },
     "execution_count": 27,
     "metadata": {},
     "output_type": "execute_result"
    },
    {
     "data": {
      "text/plain": [
       "<BarContainer object of 5 artists>"
      ]
     },
     "execution_count": 27,
     "metadata": {},
     "output_type": "execute_result"
    },
    {
     "data": {
      "text/plain": [
       "Text(0,0.5,'Normal')"
      ]
     },
     "execution_count": 27,
     "metadata": {},
     "output_type": "execute_result"
    },
    {
     "data": {
      "text/plain": [
       "<matplotlib.legend.Legend at 0x233f0283828>"
      ]
     },
     "execution_count": 27,
     "metadata": {},
     "output_type": "execute_result"
    },
    {
     "data": {
      "text/plain": [
       "[None,\n",
       " None,\n",
       " None,\n",
       " None,\n",
       " None,\n",
       " None,\n",
       " None,\n",
       " None,\n",
       " None,\n",
       " None,\n",
       " None,\n",
       " None,\n",
       " None,\n",
       " None]"
      ]
     },
     "execution_count": 27,
     "metadata": {},
     "output_type": "execute_result"
    },
    {
     "data": {
      "text/plain": [
       "<BarContainer object of 5 artists>"
      ]
     },
     "execution_count": 27,
     "metadata": {},
     "output_type": "execute_result"
    },
    {
     "data": {
      "text/plain": [
       "<BarContainer object of 5 artists>"
      ]
     },
     "execution_count": 27,
     "metadata": {},
     "output_type": "execute_result"
    },
    {
     "data": {
      "text/plain": [
       "<BarContainer object of 5 artists>"
      ]
     },
     "execution_count": 27,
     "metadata": {},
     "output_type": "execute_result"
    },
    {
     "data": {
      "text/plain": [
       "Text(0,0.5,'High Risk')"
      ]
     },
     "execution_count": 27,
     "metadata": {},
     "output_type": "execute_result"
    },
    {
     "data": {
      "text/plain": [
       "[None,\n",
       " None,\n",
       " None,\n",
       " None,\n",
       " None,\n",
       " None,\n",
       " None,\n",
       " None,\n",
       " None,\n",
       " None,\n",
       " None,\n",
       " None,\n",
       " None,\n",
       " None]"
      ]
     },
     "execution_count": 27,
     "metadata": {},
     "output_type": "execute_result"
    },
    {
     "data": {
      "text/plain": [
       "<BarContainer object of 5 artists>"
      ]
     },
     "execution_count": 27,
     "metadata": {},
     "output_type": "execute_result"
    },
    {
     "data": {
      "text/plain": [
       "<BarContainer object of 5 artists>"
      ]
     },
     "execution_count": 27,
     "metadata": {},
     "output_type": "execute_result"
    },
    {
     "data": {
      "text/plain": [
       "<BarContainer object of 5 artists>"
      ]
     },
     "execution_count": 27,
     "metadata": {},
     "output_type": "execute_result"
    },
    {
     "data": {
      "text/plain": [
       "Text(0,0.5,'Low Risk')"
      ]
     },
     "execution_count": 27,
     "metadata": {},
     "output_type": "execute_result"
    },
    {
     "data": {
      "image/png": "[encoded data removed]",
      "text/plain": [
       "<Figure size 432x288 with 3 Axes>"
      ]
     },
     "metadata": {},
     "output_type": "display_data"
    }
   ],
   "source": [
    "plt.style.use('ggplot')\n",
    "plot_name = '2_home_win_bias'\n",
    "results_sources = \"../../datasets/results\"\n",
    "source_name = \"/\"+plot_name+\".xlsx\"\n",
    "\n",
    "size = 5\n",
    "x = np.arange(size)\n",
    "total_width, n = 0.8, 3\n",
    "width = total_width / n\n",
    "x = x - (total_width - width) / 2\n",
    "\n",
    "game_name = 'soccer'\n",
    "\n",
    "sheet = game_name + '_no_risk'\n",
    "data = pd.read_excel(results_sources+source_name,sheet_name = sheet,index_col=0).apply(lambda x: round(x,5))\n",
    "tag = data.columns.tolist()\n",
    "xt = data.index.tolist()\n",
    "xt.insert(0,'0')\n",
    "ax1 = plt.subplot(311,ylim=(-0.03,0.03),xticklabels=xt)\n",
    "# ax = plt.gca()  # 获取当前图像的坐标轴信息\n",
    "# ax.yaxis.get_major_formatter().set_powerlimits((0,1)) # 将坐标轴的base number设置为一位。\n",
    "plt.bar(x, data[tag[0]],  width=width, label=tag[0],ec='k', ls='-', lw=1,color='k')\n",
    "plt.bar(x + width, data[tag[1]], width=width, label=tag[1],hatch='/',ec='k', ls='-', lw=1,color='w')\n",
    "plt.bar(x +2 * width, data[tag[2]], width=width, label=tag[2],hatch='.',ec='k', ls='-', lw=1,color=(0.5,0.5,0.5))\n",
    "plt.ylabel('Normal',color = 'k')\n",
    "plt.legend(bbox_to_anchor=(0,1.02,1,0.2), loc=\"lower left\",\n",
    "                mode=\"expand\", borderaxespad=0, ncol=3)\n",
    "plt.setp(ax1.get_xticklabels(), visible=False)\n",
    "\n",
    "# share x only\n",
    "\n",
    "sheet = game_name + '_high_risk'\n",
    "data = pd.read_excel(results_sources+source_name,sheet_name = sheet,index_col=0).apply(lambda x: round(x,5))\n",
    "tag = data.columns.tolist()\n",
    "xt = data.index.tolist()\n",
    "xt.insert(0,'0')\n",
    "ax2 = plt.subplot(312, sharex=ax1,ylim=(-0.03,0.03))\n",
    "plt.bar(x, data[tag[0]],  width=width, label=tag[0],ec='k', ls='-', lw=1,color='k')\n",
    "plt.bar(x + width, data[tag[1]], width=width, label=tag[1],hatch='/',ec='k', ls='-', lw=1,color='w')\n",
    "plt.bar(x +2 * width, data[tag[2]], width=width, label=tag[2],hatch='.',ec='k', ls='-', lw=1,color=(0.5,0.5,0.5))\n",
    "plt.ylabel('High Risk',color = 'k')\n",
    "plt.setp(ax2.get_xticklabels(), visible=False)\n",
    "\n",
    "# share x and y\n",
    "\n",
    "sheet = game_name + '_low_risk'\n",
    "data = pd.read_excel(results_sources+source_name,sheet_name = sheet,index_col=0).apply(lambda x: round(x,5))\n",
    "tag = data.columns.tolist()\n",
    "xt = data.index.tolist()\n",
    "xt.insert(0,'0')\n",
    "ax3 = plt.subplot(313, sharex=ax1,ylim=(-0.03,0.03))\n",
    "plt.bar(x, data[tag[0]],  width=width, label=tag[0],ec='k', ls='-', lw=1,color='k')\n",
    "plt.bar(x + width, data[tag[1]], width=width, label=tag[1],hatch='/',ec='k', ls='-', lw=1,color='w')\n",
    "plt.bar(x +2 * width, data[tag[2]], width=width, label=tag[2],hatch='.',ec='k', ls='-', lw=1,color=(0.5,0.5,0.5))\n",
    "plt.ylabel('Low Risk',color = 'k')\n",
    "\n",
    "plt.savefig(\"../../Diser/Plot/\"+plot_name+'_' +game_name +\".png\", bbox_inches=\"tight\")\n",
    "\n",
    "plt.show()"
   ]
  },
  {
   "cell_type": "code",
   "execution_count": 22,
   "metadata": {
    "ExecuteTime": {
     "end_time": "2018-08-11T15:50:04.651315Z",
     "start_time": "2018-08-11T15:50:02.736327Z"
    },
    "collapsed": false
   },
   "outputs": [
    {
     "data": {
      "text/plain": [
       "<BarContainer object of 5 artists>"
      ]
     },
     "execution_count": 22,
     "metadata": {},
     "output_type": "execute_result"
    },
    {
     "data": {
      "text/plain": [
       "<BarContainer object of 5 artists>"
      ]
     },
     "execution_count": 22,
     "metadata": {},
     "output_type": "execute_result"
    },
    {
     "data": {
      "text/plain": [
       "<BarContainer object of 5 artists>"
      ]
     },
     "execution_count": 22,
     "metadata": {},
     "output_type": "execute_result"
    },
    {
     "data": {
      "text/plain": [
       "Text(0,0.5,'Normal')"
      ]
     },
     "execution_count": 22,
     "metadata": {},
     "output_type": "execute_result"
    },
    {
     "data": {
      "text/plain": [
       "<matplotlib.legend.Legend at 0x233efe2dac8>"
      ]
     },
     "execution_count": 22,
     "metadata": {},
     "output_type": "execute_result"
    },
    {
     "data": {
      "text/plain": [
       "[None,\n",
       " None,\n",
       " None,\n",
       " None,\n",
       " None,\n",
       " None,\n",
       " None,\n",
       " None,\n",
       " None,\n",
       " None,\n",
       " None,\n",
       " None,\n",
       " None,\n",
       " None]"
      ]
     },
     "execution_count": 22,
     "metadata": {},
     "output_type": "execute_result"
    },
    {
     "data": {
      "text/plain": [
       "<BarContainer object of 5 artists>"
      ]
     },
     "execution_count": 22,
     "metadata": {},
     "output_type": "execute_result"
    },
    {
     "data": {
      "text/plain": [
       "<BarContainer object of 5 artists>"
      ]
     },
     "execution_count": 22,
     "metadata": {},
     "output_type": "execute_result"
    },
    {
     "data": {
      "text/plain": [
       "<BarContainer object of 5 artists>"
      ]
     },
     "execution_count": 22,
     "metadata": {},
     "output_type": "execute_result"
    },
    {
     "data": {
      "text/plain": [
       "Text(0,0.5,'High Risk')"
      ]
     },
     "execution_count": 22,
     "metadata": {},
     "output_type": "execute_result"
    },
    {
     "data": {
      "text/plain": [
       "[None,\n",
       " None,\n",
       " None,\n",
       " None,\n",
       " None,\n",
       " None,\n",
       " None,\n",
       " None,\n",
       " None,\n",
       " None,\n",
       " None,\n",
       " None,\n",
       " None,\n",
       " None]"
      ]
     },
     "execution_count": 22,
     "metadata": {},
     "output_type": "execute_result"
    },
    {
     "data": {
      "text/plain": [
       "<BarContainer object of 5 artists>"
      ]
     },
     "execution_count": 22,
     "metadata": {},
     "output_type": "execute_result"
    },
    {
     "data": {
      "text/plain": [
       "<BarContainer object of 5 artists>"
      ]
     },
     "execution_count": 22,
     "metadata": {},
     "output_type": "execute_result"
    },
    {
     "data": {
      "text/plain": [
       "<BarContainer object of 5 artists>"
      ]
     },
     "execution_count": 22,
     "metadata": {},
     "output_type": "execute_result"
    },
    {
     "data": {
      "text/plain": [
       "Text(0,0.5,'Low Risk')"
      ]
     },
     "execution_count": 22,
     "metadata": {},
     "output_type": "execute_result"
    },
    {
     "data": {
      "image/png": "[encoded data removed]",
      "text/plain": [
       "<Figure size 432x288 with 3 Axes>"
      ]
     },
     "metadata": {},
     "output_type": "display_data"
    }
   ],
   "source": [
    "plt.cla()\n",
    "plt.style.use('ggplot')\n",
    "plot_name = '2_home_win_bias'\n",
    "results_sources = \"../../datasets/results\"\n",
    "source_name = \"/\"+plot_name+\".xlsx\"\n",
    "\n",
    "game_name = 'baseball'\n",
    "\n",
    "sheet = game_name + '_no_risk'\n",
    "data = pd.read_excel(results_sources+source_name,sheet_name = sheet,index_col=0).apply(lambda x: round(x,5))\n",
    "tag = data.columns.tolist()\n",
    "xt = data.index.tolist()\n",
    "xt.insert(0,'0')\n",
    "ax1 = plt.subplot(311,ylim=(-0.03,0.03),xticklabels=xt)\n",
    "# ax = plt.gca()  # 获取当前图像的坐标轴信息\n",
    "# ax.yaxis.get_major_formatter().set_powerlimits((0,1)) # 将坐标轴的base number设置为一位。\n",
    "plt.bar(x, data[tag[0]],  width=width, label=tag[0],ec='k', ls='-', lw=1,color='k')\n",
    "plt.bar(x + width, data[tag[1]], width=width, label=tag[1],hatch='/',ec='k', ls='-', lw=1,color='w')\n",
    "plt.bar(x +2 * width, data[tag[2]], width=width, label=tag[2],hatch='.',ec='k', ls='-', lw=1,color=(0.5,0.5,0.5))\n",
    "plt.ylabel('Normal',color = 'k')\n",
    "plt.legend(bbox_to_anchor=(0,1.02,1,0.2), loc=\"lower left\",\n",
    "                mode=\"expand\", borderaxespad=0, ncol=3)\n",
    "plt.setp(ax1.get_xticklabels(), visible=False)\n",
    "\n",
    "# share x only\n",
    "\n",
    "sheet = game_name + '_high_risk'\n",
    "data = pd.read_excel(results_sources+source_name,sheet_name = sheet,index_col=0).apply(lambda x: round(x,5))\n",
    "tag = data.columns.tolist()\n",
    "xt = data.index.tolist()\n",
    "xt.insert(0,'0')\n",
    "ax2 = plt.subplot(312, sharex=ax1,ylim=(-0.03,0.03))\n",
    "plt.bar(x, data[tag[0]],  width=width, label=tag[0],ec='k', ls='-', lw=1,color='k')\n",
    "plt.bar(x + width, data[tag[1]], width=width, label=tag[1],hatch='/',ec='k', ls='-', lw=1,color='w')\n",
    "plt.bar(x +2 * width, data[tag[2]], width=width, label=tag[2],hatch='.',ec='k', ls='-', lw=1,color=(0.5,0.5,0.5))\n",
    "plt.ylabel('High Risk',color = 'k')\n",
    "plt.setp(ax2.get_xticklabels(), visible=False)\n",
    "\n",
    "# share x and y\n",
    "\n",
    "sheet = game_name + '_low_risk'\n",
    "data = pd.read_excel(results_sources+source_name,sheet_name = sheet,index_col=0).apply(lambda x: round(x,5))\n",
    "tag = data.columns.tolist()\n",
    "xt = data.index.tolist()\n",
    "xt.insert(0,'0')\n",
    "ax3 = plt.subplot(313, sharex=ax1,ylim=(-0.03,0.03))\n",
    "plt.bar(x, data[tag[0]],  width=width, label=tag[0],ec='k', ls='-', lw=1,color='k')\n",
    "plt.bar(x + width, data[tag[1]], width=width, label=tag[1],hatch='/',ec='k', ls='-', lw=1,color='w')\n",
    "plt.bar(x +2 * width, data[tag[2]], width=width, label=tag[2],hatch='.',ec='k', ls='-', lw=1,color=(0.5,0.5,0.5))\n",
    "plt.ylabel('Low Risk',color = 'k')\n",
    "\n",
    "plt.savefig(\"../../Diser/Plot/\"+plot_name+'_' +game_name +\".png\", bbox_inches=\"tight\")\n",
    "\n",
    "plt.show()"
   ]
  },
  {
   "cell_type": "code",
   "execution_count": 23,
   "metadata": {
    "ExecuteTime": {
     "end_time": "2018-08-11T15:50:23.264016Z",
     "start_time": "2018-08-11T15:50:21.644997Z"
    },
    "collapsed": false
   },
   "outputs": [
    {
     "data": {
      "text/plain": [
       "<BarContainer object of 5 artists>"
      ]
     },
     "execution_count": 23,
     "metadata": {},
     "output_type": "execute_result"
    },
    {
     "data": {
      "text/plain": [
       "<BarContainer object of 5 artists>"
      ]
     },
     "execution_count": 23,
     "metadata": {},
     "output_type": "execute_result"
    },
    {
     "data": {
      "text/plain": [
       "<BarContainer object of 5 artists>"
      ]
     },
     "execution_count": 23,
     "metadata": {},
     "output_type": "execute_result"
    },
    {
     "data": {
      "text/plain": [
       "Text(0,0.5,'Normal')"
      ]
     },
     "execution_count": 23,
     "metadata": {},
     "output_type": "execute_result"
    },
    {
     "data": {
      "text/plain": [
       "<matplotlib.legend.Legend at 0x233eff0eb38>"
      ]
     },
     "execution_count": 23,
     "metadata": {},
     "output_type": "execute_result"
    },
    {
     "data": {
      "text/plain": [
       "[None,\n",
       " None,\n",
       " None,\n",
       " None,\n",
       " None,\n",
       " None,\n",
       " None,\n",
       " None,\n",
       " None,\n",
       " None,\n",
       " None,\n",
       " None,\n",
       " None,\n",
       " None]"
      ]
     },
     "execution_count": 23,
     "metadata": {},
     "output_type": "execute_result"
    },
    {
     "data": {
      "text/plain": [
       "<BarContainer object of 5 artists>"
      ]
     },
     "execution_count": 23,
     "metadata": {},
     "output_type": "execute_result"
    },
    {
     "data": {
      "text/plain": [
       "<BarContainer object of 5 artists>"
      ]
     },
     "execution_count": 23,
     "metadata": {},
     "output_type": "execute_result"
    },
    {
     "data": {
      "text/plain": [
       "<BarContainer object of 5 artists>"
      ]
     },
     "execution_count": 23,
     "metadata": {},
     "output_type": "execute_result"
    },
    {
     "data": {
      "text/plain": [
       "Text(0,0.5,'High Risk')"
      ]
     },
     "execution_count": 23,
     "metadata": {},
     "output_type": "execute_result"
    },
    {
     "data": {
      "text/plain": [
       "[None,\n",
       " None,\n",
       " None,\n",
       " None,\n",
       " None,\n",
       " None,\n",
       " None,\n",
       " None,\n",
       " None,\n",
       " None,\n",
       " None,\n",
       " None,\n",
       " None,\n",
       " None]"
      ]
     },
     "execution_count": 23,
     "metadata": {},
     "output_type": "execute_result"
    },
    {
     "data": {
      "text/plain": [
       "<BarContainer object of 5 artists>"
      ]
     },
     "execution_count": 23,
     "metadata": {},
     "output_type": "execute_result"
    },
    {
     "data": {
      "text/plain": [
       "<BarContainer object of 5 artists>"
      ]
     },
     "execution_count": 23,
     "metadata": {},
     "output_type": "execute_result"
    },
    {
     "data": {
      "text/plain": [
       "<BarContainer object of 5 artists>"
      ]
     },
     "execution_count": 23,
     "metadata": {},
     "output_type": "execute_result"
    },
    {
     "data": {
      "text/plain": [
       "Text(0,0.5,'Low Risk')"
      ]
     },
     "execution_count": 23,
     "metadata": {},
     "output_type": "execute_result"
    },
    {
     "data": {
      "image/png": "[encoded data removed]",
      "text/plain": [
       "<Figure size 432x288 with 3 Axes>"
      ]
     },
     "metadata": {},
     "output_type": "display_data"
    }
   ],
   "source": [
    "plt.cla()\n",
    "plt.style.use('ggplot')\n",
    "plot_name = '2_home_win_bias'\n",
    "results_sources = \"../../datasets/results\"\n",
    "source_name = \"/\"+plot_name+\".xlsx\"\n",
    "\n",
    "game_name = 'iceball'\n",
    "\n",
    "sheet = game_name + '_no_risk'\n",
    "data = pd.read_excel(results_sources+source_name,sheet_name = sheet,index_col=0).apply(lambda x: round(x,5))\n",
    "tag = data.columns.tolist()\n",
    "xt = data.index.tolist()\n",
    "xt.insert(0,'0')\n",
    "ax1 = plt.subplot(311,ylim=(-0.03,0.03),xticklabels=xt)\n",
    "# ax = plt.gca()  # 获取当前图像的坐标轴信息\n",
    "# ax.yaxis.get_major_formatter().set_powerlimits((0,1)) # 将坐标轴的base number设置为一位。\n",
    "plt.bar(x, data[tag[0]],  width=width, label=tag[0],ec='k', ls='-', lw=1,color='k')\n",
    "plt.bar(x + width, data[tag[1]], width=width, label=tag[1],hatch='/',ec='k', ls='-', lw=1,color='w')\n",
    "plt.bar(x +2 * width, data[tag[2]], width=width, label=tag[2],hatch='.',ec='k', ls='-', lw=1,color=(0.5,0.5,0.5))\n",
    "plt.ylabel('Normal',color = 'k')\n",
    "plt.legend(bbox_to_anchor=(0,1.02,1,0.2), loc=\"lower left\",\n",
    "                mode=\"expand\", borderaxespad=0, ncol=3)\n",
    "plt.setp(ax1.get_xticklabels(), visible=False)\n",
    "\n",
    "# share x only\n",
    "\n",
    "sheet = game_name + '_high_risk'\n",
    "data = pd.read_excel(results_sources+source_name,sheet_name = sheet,index_col=0).apply(lambda x: round(x,5))\n",
    "tag = data.columns.tolist()\n",
    "xt = data.index.tolist()\n",
    "xt.insert(0,'0')\n",
    "ax2 = plt.subplot(312, sharex=ax1,ylim=(-0.03,0.03))\n",
    "plt.bar(x, data[tag[0]],  width=width, label=tag[0],ec='k', ls='-', lw=1,color='k')\n",
    "plt.bar(x + width, data[tag[1]], width=width, label=tag[1],hatch='/',ec='k', ls='-', lw=1,color='w')\n",
    "plt.bar(x +2 * width, data[tag[2]], width=width, label=tag[2],hatch='.',ec='k', ls='-', lw=1,color=(0.5,0.5,0.5))\n",
    "plt.ylabel('High Risk',color = 'k')\n",
    "plt.setp(ax2.get_xticklabels(), visible=False)\n",
    "\n",
    "# share x and y\n",
    "\n",
    "sheet = game_name + '_low_risk'\n",
    "data = pd.read_excel(results_sources+source_name,sheet_name = sheet,index_col=0).apply(lambda x: round(x,5))\n",
    "tag = data.columns.tolist()\n",
    "xt = data.index.tolist()\n",
    "xt.insert(0,'0')\n",
    "ax3 = plt.subplot(313, sharex=ax1,ylim=(-0.03,0.03))\n",
    "plt.bar(x, data[tag[0]],  width=width, label=tag[0],ec='k', ls='-', lw=1,color='k')\n",
    "plt.bar(x + width, data[tag[1]], width=width, label=tag[1],hatch='/',ec='k', ls='-', lw=1,color='w')\n",
    "plt.bar(x +2 * width, data[tag[2]], width=width, label=tag[2],hatch='.',ec='k', ls='-', lw=1,color=(0.5,0.5,0.5))\n",
    "plt.ylabel('Low Risk',color = 'k')\n",
    "\n",
    "plt.savefig(\"../../Diser/Plot/\"+plot_name+'_' +game_name +\".png\", bbox_inches=\"tight\")\n",
    "\n",
    "plt.show()"
   ]
  },
  {
   "cell_type": "markdown",
   "metadata": {},
   "source": [
    "## 3. summary of bias effect for home_win accuracy"
   ]
  },
  {
   "cell_type": "code",
   "execution_count": 124,
   "metadata": {
    "ExecuteTime": {
     "end_time": "2018-08-12T00:19:16.206494Z",
     "start_time": "2018-08-12T00:19:14.757492Z"
    },
    "collapsed": false
   },
   "outputs": [
    {
     "data": {
      "text/plain": [
       "array([-0.26666667,  0.73333333,  1.73333333])"
      ]
     },
     "execution_count": 124,
     "metadata": {},
     "output_type": "execute_result"
    },
    {
     "data": {
      "text/plain": [
       "<BarContainer object of 3 artists>"
      ]
     },
     "execution_count": 124,
     "metadata": {},
     "output_type": "execute_result"
    },
    {
     "data": {
      "text/plain": [
       "<BarContainer object of 3 artists>"
      ]
     },
     "execution_count": 124,
     "metadata": {},
     "output_type": "execute_result"
    },
    {
     "data": {
      "text/plain": [
       "<BarContainer object of 3 artists>"
      ]
     },
     "execution_count": 124,
     "metadata": {},
     "output_type": "execute_result"
    },
    {
     "data": {
      "text/plain": [
       "Text(0,0.5,'Normal')"
      ]
     },
     "execution_count": 124,
     "metadata": {},
     "output_type": "execute_result"
    },
    {
     "data": {
      "text/plain": [
       "<matplotlib.legend.Legend at 0x233f9e08a20>"
      ]
     },
     "execution_count": 124,
     "metadata": {},
     "output_type": "execute_result"
    },
    {
     "data": {
      "text/plain": [
       "[None, None, None, None, None, None, None, None]"
      ]
     },
     "execution_count": 124,
     "metadata": {},
     "output_type": "execute_result"
    },
    {
     "data": {
      "text/plain": [
       "<BarContainer object of 3 artists>"
      ]
     },
     "execution_count": 124,
     "metadata": {},
     "output_type": "execute_result"
    },
    {
     "data": {
      "text/plain": [
       "<BarContainer object of 3 artists>"
      ]
     },
     "execution_count": 124,
     "metadata": {},
     "output_type": "execute_result"
    },
    {
     "data": {
      "text/plain": [
       "<BarContainer object of 3 artists>"
      ]
     },
     "execution_count": 124,
     "metadata": {},
     "output_type": "execute_result"
    },
    {
     "data": {
      "text/plain": [
       "Text(0,0.5,'High Risk')"
      ]
     },
     "execution_count": 124,
     "metadata": {},
     "output_type": "execute_result"
    },
    {
     "data": {
      "text/plain": [
       "[None, None, None, None, None, None, None, None]"
      ]
     },
     "execution_count": 124,
     "metadata": {},
     "output_type": "execute_result"
    },
    {
     "data": {
      "text/plain": [
       "<BarContainer object of 3 artists>"
      ]
     },
     "execution_count": 124,
     "metadata": {},
     "output_type": "execute_result"
    },
    {
     "data": {
      "text/plain": [
       "<BarContainer object of 3 artists>"
      ]
     },
     "execution_count": 124,
     "metadata": {},
     "output_type": "execute_result"
    },
    {
     "data": {
      "text/plain": [
       "<BarContainer object of 3 artists>"
      ]
     },
     "execution_count": 124,
     "metadata": {},
     "output_type": "execute_result"
    },
    {
     "data": {
      "text/plain": [
       "Text(0,0.5,'Low Risk')"
      ]
     },
     "execution_count": 124,
     "metadata": {},
     "output_type": "execute_result"
    },
    {
     "data": {
      "image/png": "[encoded data removed]",
      "text/plain": [
       "<Figure size 432x288 with 3 Axes>"
      ]
     },
     "metadata": {},
     "output_type": "display_data"
    }
   ],
   "source": [
    "plt.style.use('ggplot')\n",
    "plot_name = '3_home_win_bias_summary'\n",
    "results_sources = \"../../datasets/results\"\n",
    "source_name = \"/\"+plot_name+\".xlsx\"\n",
    "\n",
    "size = 3\n",
    "x = np.arange(size)\n",
    "total_width, n = 0.8, 3\n",
    "width = total_width / n\n",
    "x = x - (total_width - width) / 2\n",
    "x\n",
    "game_name = ''\n",
    "\n",
    "sheet = game_name + '_no_risk'\n",
    "data = pd.read_excel(results_sources+source_name,sheet_name = sheet,index_col=0).apply(lambda x: round(x,5))\n",
    "tag = data.columns.tolist()\n",
    "xt = data.index.tolist()\n",
    "# xt.insert(0,'0')\n",
    "# ax1 = plt.subplot(311,ylim=(-0.02,0.02))\n",
    "ax1 = plt.subplot(311,ylim=(-0.02,0.02), xticks=[0,1, 2, 3],xticklabels=xt)\n",
    "# ax = plt.gca()  # 获取当前图像的坐标轴信息\n",
    "# ax.yaxis.get_major_formatter().set_powerlimits((0,1)) # 将坐标轴的base number设置为一位。\n",
    "plt.bar(x, data[tag[0]],  width=width, label=tag[0],ec='k', ls='-', lw=1,color='k')\n",
    "plt.bar(x + width, data[tag[1]], width=width, label=tag[1],hatch='/',ec='k', ls='-', lw=1,color='w')\n",
    "plt.bar(x +2 * width, data[tag[2]], width=width, label=tag[2],hatch='.',ec='k', ls='-', lw=1,color=(0.5,0.5,0.5))\n",
    "plt.ylabel('Normal',color = 'k')\n",
    "plt.legend(bbox_to_anchor=(0,1.02,1,0.2), loc=\"lower left\",\n",
    "                mode=\"expand\", borderaxespad=0, ncol=3)\n",
    "plt.setp(ax1.get_xticklabels(), visible=False)\n",
    "\n",
    "# share x only\n",
    "\n",
    "sheet = game_name + '_high_risk'\n",
    "data = pd.read_excel(results_sources+source_name,sheet_name = sheet,index_col=0).apply(lambda x: round(x,5))\n",
    "tag = data.columns.tolist()\n",
    "xt = data.index.tolist()\n",
    "xt.insert(0,'0')\n",
    "ax2 = plt.subplot(312, sharex=ax1,ylim=(-0.02,0.02))\n",
    "plt.bar(x, data[tag[0]],  width=width, label=tag[0],ec='k', ls='-', lw=1,color='k')\n",
    "plt.bar(x + width, data[tag[1]], width=width, label=tag[1],hatch='/',ec='k', ls='-', lw=1,color='w')\n",
    "plt.bar(x +2 * width, data[tag[2]], width=width, label=tag[2],hatch='.',ec='k', ls='-', lw=1,color=(0.5,0.5,0.5))\n",
    "plt.ylabel('High Risk',color = 'k')\n",
    "plt.setp(ax2.get_xticklabels(), visible=False)\n",
    "\n",
    "# share x and y\n",
    "\n",
    "sheet = game_name + '_low_risk'\n",
    "data = pd.read_excel(results_sources+source_name,sheet_name = sheet,index_col=0).apply(lambda x: round(x,5))\n",
    "tag = data.columns.tolist()\n",
    "xt = data.index.tolist()\n",
    "xt.insert(0,'0')\n",
    "ax3 = plt.subplot(313, sharex=ax1,ylim=(-0.02,0.02))\n",
    "plt.bar(x, data[tag[0]],  width=width, label=tag[0],ec='k', ls='-', lw=1,color='k')\n",
    "plt.bar(x + width, data[tag[1]], width=width, label=tag[1],hatch='/',ec='k', ls='-', lw=1,color='w')\n",
    "plt.bar(x +2 * width, data[tag[2]], width=width, label=tag[2],hatch='.',ec='k', ls='-', lw=1,color=(0.5,0.5,0.5))\n",
    "plt.ylabel('Low Risk',color = 'k')\n",
    "\n",
    "plt.savefig(\"../../Diser/Plot/\"+plot_name+'_' +game_name +\".png\", bbox_inches=\"tight\")\n",
    "\n",
    "plt.show()"
   ]
  },
  {
   "cell_type": "markdown",
   "metadata": {},
   "source": [
    "## 4. price direction accuracy"
   ]
  },
  {
   "cell_type": "code",
   "execution_count": 80,
   "metadata": {
    "ExecuteTime": {
     "end_time": "2018-08-11T23:19:11.788690Z",
     "start_time": "2018-08-11T23:19:11.073692Z"
    },
    "collapsed": false
   },
   "outputs": [
    {
     "data": {
      "text/plain": [
       "array([-0.2,  0.8,  1.8])"
      ]
     },
     "execution_count": 80,
     "metadata": {},
     "output_type": "execute_result"
    },
    {
     "data": {
      "text/plain": [
       "<BarContainer object of 3 artists>"
      ]
     },
     "execution_count": 80,
     "metadata": {},
     "output_type": "execute_result"
    },
    {
     "data": {
      "text/plain": [
       "<BarContainer object of 3 artists>"
      ]
     },
     "execution_count": 80,
     "metadata": {},
     "output_type": "execute_result"
    },
    {
     "data": {
      "text/plain": [
       "Text(0,0.5,'Accuracy of Predicting Direction')"
      ]
     },
     "execution_count": 80,
     "metadata": {},
     "output_type": "execute_result"
    },
    {
     "data": {
      "text/plain": [
       "<matplotlib.legend.Legend at 0x233f70e59e8>"
      ]
     },
     "execution_count": 80,
     "metadata": {},
     "output_type": "execute_result"
    },
    {
     "data": {
      "image/png": "[encoded data removed]",
      "text/plain": [
       "<Figure size 432x288 with 1 Axes>"
      ]
     },
     "metadata": {},
     "output_type": "display_data"
    }
   ],
   "source": [
    "plt.style.use('ggplot')\n",
    "plot_name = '4.price_direction_accuracy'\n",
    "results_sources = \"../../datasets/results\"\n",
    "source_name = \"/\"+plot_name+\".xlsx\"\n",
    "\n",
    "size = 3\n",
    "x = np.arange(size)\n",
    "total_width, n = 0.8, 2\n",
    "width = total_width / n\n",
    "x = x - (total_width - width) / 2\n",
    "x\n",
    "\n",
    "sheet = 'accuracy'\n",
    "data = pd.read_excel(results_sources+source_name,sheet_name = sheet,index_col=0).apply(lambda x: round(x,5))\n",
    "tag = data.columns.tolist()\n",
    "xt = data.index.tolist()\n",
    "# ax1 = plt.subplot(311,ylim=(-0.02,0.02))\n",
    "# plt.axis([-1, 3, 0.4, 0.6])\n",
    "ax1 = plt.subplot(111,ylim=(0.4,0.6), xticks=[0, 1, 2, 3],xticklabels=xt)\n",
    "# ax = plt.gca()  # 获取当前图像的坐标轴信息\n",
    "# ax.yaxis.get_major_formatter().set_powerlimits((0,1)) # 将坐标轴的base number设置为一位。\n",
    "plt.bar(x, data[tag[0]],  width=width, label=tag[0],ec='k', ls='-', lw=1,color='k')\n",
    "plt.bar(x + width, data[tag[1]], width=width, label=tag[1],hatch='/',ec='k', ls='-', lw=1,color='w')\n",
    "plt.ylabel('Accuracy of Predicting Direction',color = 'k')\n",
    "plt.legend(bbox_to_anchor=(0,1.02,1,0.2), loc=\"lower left\",\n",
    "                mode=\"expand\", borderaxespad=0, ncol=2)\n",
    "# plt.setp(ax1.get_xticklabels(), visible=False)\n",
    "\n",
    "# # share x only\n",
    "\n",
    "# sheet = game_name + '_high_risk'\n",
    "# data = pd.read_excel(results_sources+source_name,sheet_name = sheet,index_col=0).apply(lambda x: round(x,5))\n",
    "# tag = data.columns.tolist()\n",
    "# xt = data.index.tolist()\n",
    "# xt.insert(0,'0')\n",
    "# ax2 = plt.subplot(312, sharex=ax1,ylim=(-0.02,0.02))\n",
    "# plt.bar(x, data[tag[0]],  width=width, label=tag[0],ec='k', ls='-', lw=1,color='k')\n",
    "# plt.bar(x + width, data[tag[1]], width=width, label=tag[1],hatch='/',ec='k', ls='-', lw=1,color='w')\n",
    "# plt.ylabel('High Risk',color = 'k')\n",
    "# plt.setp(ax2.get_xticklabels(), visible=False)\n",
    "\n",
    "# # share x and y\n",
    "\n",
    "# sheet = game_name + '_low_risk'\n",
    "# data = pd.read_excel(results_sources+source_name,sheet_name = sheet,index_col=0).apply(lambda x: round(x,5))\n",
    "# tag = data.columns.tolist()\n",
    "# xt = data.index.tolist()\n",
    "# xt.insert(0,'0')\n",
    "# ax3 = plt.subplot(313, sharex=ax1,ylim=(-0.02,0.02))\n",
    "# plt.bar(x, data[tag[0]],  width=width, label=tag[0],ec='k', ls='-', lw=1,color='k')\n",
    "# plt.bar(x + width, data[tag[1]], width=width, label=tag[1],hatch='/',ec='k', ls='-', lw=1,color='w')\n",
    "# plt.ylabel('Low Risk',color = 'k')\n",
    "\n",
    "plt.savefig(\"../../Diser/Plot/\"+plot_name+\".png\", bbox_inches=\"tight\")\n",
    "\n",
    "plt.show()"
   ]
  },
  {
   "cell_type": "markdown",
   "metadata": {
    "collapsed": true
   },
   "source": [
    "## 5. price_regression_error"
   ]
  },
  {
   "cell_type": "code",
   "execution_count": 88,
   "metadata": {
    "ExecuteTime": {
     "end_time": "2018-08-11T23:27:21.586781Z",
     "start_time": "2018-08-11T23:27:20.789767Z"
    },
    "collapsed": false
   },
   "outputs": [
    {
     "data": {
      "text/plain": [
       "array([-0.2,  0.8,  1.8])"
      ]
     },
     "execution_count": 88,
     "metadata": {},
     "output_type": "execute_result"
    },
    {
     "data": {
      "text/plain": [
       "<BarContainer object of 3 artists>"
      ]
     },
     "execution_count": 88,
     "metadata": {},
     "output_type": "execute_result"
    },
    {
     "data": {
      "text/plain": [
       "<BarContainer object of 3 artists>"
      ]
     },
     "execution_count": 88,
     "metadata": {},
     "output_type": "execute_result"
    },
    {
     "data": {
      "text/plain": [
       "Text(0,0.5,'$r^2$')"
      ]
     },
     "execution_count": 88,
     "metadata": {},
     "output_type": "execute_result"
    },
    {
     "data": {
      "text/plain": [
       "<matplotlib.legend.Legend at 0x233f84247f0>"
      ]
     },
     "execution_count": 88,
     "metadata": {},
     "output_type": "execute_result"
    },
    {
     "data": {
      "text/plain": [
       "[None, None, None, None, None, None, None, None]"
      ]
     },
     "execution_count": 88,
     "metadata": {},
     "output_type": "execute_result"
    },
    {
     "data": {
      "text/plain": [
       "<BarContainer object of 3 artists>"
      ]
     },
     "execution_count": 88,
     "metadata": {},
     "output_type": "execute_result"
    },
    {
     "data": {
      "text/plain": [
       "<BarContainer object of 3 artists>"
      ]
     },
     "execution_count": 88,
     "metadata": {},
     "output_type": "execute_result"
    },
    {
     "data": {
      "text/plain": [
       "Text(0,0.5,'Mean Sum of Square')"
      ]
     },
     "execution_count": 88,
     "metadata": {},
     "output_type": "execute_result"
    },
    {
     "data": {
      "image/png": "[encoded data removed]",
      "text/plain": [
       "<Figure size 432x288 with 2 Axes>"
      ]
     },
     "metadata": {},
     "output_type": "display_data"
    }
   ],
   "source": [
    "plt.style.use('ggplot')\n",
    "plot_name = '4.price_direction_accuracy'\n",
    "results_sources = \"../../datasets/results\"\n",
    "source_name = \"/\"+plot_name+\".xlsx\"\n",
    "\n",
    "size = 3\n",
    "x = np.arange(size)\n",
    "total_width, n = 0.8, 2\n",
    "width = total_width / n\n",
    "x = x - (total_width - width) / 2\n",
    "x\n",
    "\n",
    "sheet = 'r2'\n",
    "data = pd.read_excel(results_sources+source_name,sheet_name = sheet,index_col=0).apply(lambda x: round(x,5))\n",
    "tag = data.columns.tolist()\n",
    "xt = data.index.tolist()\n",
    "# ax1 = plt.subplot(311,ylim=(-0.02,0.02))\n",
    "# plt.axis([-1, 3, 0.4, 0.6])\n",
    "ax1 = plt.subplot(211,ylim=(0,1.1), xticks=[0, 1, 2, 3],xticklabels=xt)\n",
    "# ax = plt.gca()  # 获取当前图像的坐标轴信息\n",
    "# ax.yaxis.get_major_formatter().set_powerlimits((0,1)) # 将坐标轴的base number设置为一位。\n",
    "plt.bar(x, data[tag[0]],  width=width, label=tag[0],ec='k', ls='-', lw=1,color='k')\n",
    "plt.bar(x + width, data[tag[1]], width=width, label=tag[1],hatch='/',ec='k', ls='-', lw=1,color='w')\n",
    "plt.ylabel(r\"$r^2$\",color = 'k')\n",
    "plt.legend(bbox_to_anchor=(0,1.02,1,0.2), loc=\"lower left\",\n",
    "                mode=\"expand\", borderaxespad=0, ncol=2)\n",
    "plt.setp(ax1.get_xticklabels(), visible=False)\n",
    "\n",
    "\n",
    "# # share x and y\n",
    "\n",
    "sheet = 'mse'\n",
    "data = pd.read_excel(results_sources+source_name,sheet_name = sheet,index_col=0).apply(lambda x: round(x,5))\n",
    "tag = data.columns.tolist()\n",
    "xt = data.index.tolist()\n",
    "ax3 = plt.subplot(212, sharex=ax1,ylim=(0,0.05))\n",
    "plt.bar(x, data[tag[0]],  width=width, label=tag[0],ec='k', ls='-', lw=1,color='k')\n",
    "plt.bar(x + width, data[tag[1]], width=width, label=tag[1],hatch='/',ec='k', ls='-', lw=1,color='w')\n",
    "plt.ylabel('Mean Sum of Square',color = 'k')\n",
    "plot_name = \"5.price_regression_error\"\n",
    "plt.savefig(\"../../Diser/Plot/\"+plot_name+\".png\", bbox_inches=\"tight\")\n",
    "\n",
    "plt.show()"
   ]
  },
  {
   "cell_type": "markdown",
   "metadata": {},
   "source": [
    "## 6. price_regression_bias\n"
   ]
  },
  {
   "cell_type": "code",
   "execution_count": 110,
   "metadata": {
    "ExecuteTime": {
     "end_time": "2018-08-12T00:05:23.792261Z",
     "start_time": "2018-08-12T00:05:22.689260Z"
    },
    "collapsed": false
   },
   "outputs": [
    {
     "data": {
      "text/plain": [
       "array([-0.26666667,  0.73333333,  1.73333333])"
      ]
     },
     "execution_count": 110,
     "metadata": {},
     "output_type": "execute_result"
    },
    {
     "data": {
      "text/plain": [
       "<BarContainer object of 3 artists>"
      ]
     },
     "execution_count": 110,
     "metadata": {},
     "output_type": "execute_result"
    },
    {
     "data": {
      "text/plain": [
       "<BarContainer object of 3 artists>"
      ]
     },
     "execution_count": 110,
     "metadata": {},
     "output_type": "execute_result"
    },
    {
     "data": {
      "text/plain": [
       "<BarContainer object of 3 artists>"
      ]
     },
     "execution_count": 110,
     "metadata": {},
     "output_type": "execute_result"
    },
    {
     "data": {
      "text/plain": [
       "Text(0,0.5,'Section_1')"
      ]
     },
     "execution_count": 110,
     "metadata": {},
     "output_type": "execute_result"
    },
    {
     "data": {
      "text/plain": [
       "<matplotlib.legend.Legend at 0x233f88305c0>"
      ]
     },
     "execution_count": 110,
     "metadata": {},
     "output_type": "execute_result"
    },
    {
     "data": {
      "text/plain": [
       "[None, None, None, None, None, None, None, None]"
      ]
     },
     "execution_count": 110,
     "metadata": {},
     "output_type": "execute_result"
    },
    {
     "data": {
      "text/plain": [
       "<BarContainer object of 3 artists>"
      ]
     },
     "execution_count": 110,
     "metadata": {},
     "output_type": "execute_result"
    },
    {
     "data": {
      "text/plain": [
       "<BarContainer object of 3 artists>"
      ]
     },
     "execution_count": 110,
     "metadata": {},
     "output_type": "execute_result"
    },
    {
     "data": {
      "text/plain": [
       "<BarContainer object of 3 artists>"
      ]
     },
     "execution_count": 110,
     "metadata": {},
     "output_type": "execute_result"
    },
    {
     "data": {
      "text/plain": [
       "Text(0,0.5,'Section_2')"
      ]
     },
     "execution_count": 110,
     "metadata": {},
     "output_type": "execute_result"
    },
    {
     "data": {
      "image/png": "[encoded data removed]",
      "text/plain": [
       "<Figure size 432x288 with 2 Axes>"
      ]
     },
     "metadata": {},
     "output_type": "display_data"
    }
   ],
   "source": [
    "plt.style.use('ggplot')\n",
    "plot_name = '6.price_regression_bias'\n",
    "results_sources = \"../../datasets/results\"\n",
    "source_name = \"/\"+plot_name+\".xlsx\"\n",
    "\n",
    "size = 3\n",
    "x = np.arange(size)\n",
    "total_width, n = 0.8, 3\n",
    "width = total_width / n\n",
    "x = x - (total_width - width) / 2\n",
    "x\n",
    "\n",
    "sheet = 'r2_sec1'\n",
    "data = pd.read_excel(results_sources+source_name,sheet_name = sheet,index_col=0).apply(lambda x: round(x,5))\n",
    "tag = data.columns.tolist()\n",
    "xt = data.index.tolist()\n",
    "# ax1 = plt.subplot(311,ylim=(-0.02,0.02))\n",
    "# plt.axis([-1, 3, 0.4, 0.6])\n",
    "ax1 = plt.subplot(211,ylim=(-.03,0.01), xticks=[0, 1, 2, 3],xticklabels=xt)\n",
    "# ax = plt.gca()  # 获取当前图像的坐标轴信息\n",
    "# ax.yaxis.get_major_formatter().set_powerlimits((0,1)) # 将坐标轴的base number设置为一位。\n",
    "plt.bar(x, data[tag[0]],  width=width, label=tag[0],ec='k', ls='-', lw=1,color='k')\n",
    "plt.bar(x + width, data[tag[1]], width=width, label=tag[1],hatch='/',ec='k', ls='-', lw=1,color='w')\n",
    "plt.bar(x +2 * width, data[tag[2]], width=width, label=tag[2],hatch='.',ec='k', ls='-', lw=1,color=(0.5,0.5,0.5))\n",
    "plt.ylabel(\"Section_1\",color = 'k')\n",
    "plt.legend(bbox_to_anchor=(0,1.02,1,0.2), loc=\"lower left\",\n",
    "                mode=\"expand\", borderaxespad=0, ncol=3)\n",
    "plt.setp(ax1.get_xticklabels(), visible=False)\n",
    "\n",
    "sheet = 'r2_sec2'\n",
    "data = pd.read_excel(results_sources+source_name,sheet_name = sheet,index_col=0).apply(lambda x: round(x,5))\n",
    "tag = data.columns.tolist()\n",
    "xt = data.index.tolist()\n",
    "# ax1 = plt.subplot(311,ylim=(-0.02,0.02))\n",
    "# plt.axis([-1, 3, 0.4, 0.6])\n",
    "ax1 = plt.subplot(212, sharey=ax1, xticks=[0, 1, 2, 3],xticklabels=xt)\n",
    "# ax = plt.gca()  # 获取当前图像的坐标轴信息\n",
    "# ax.yaxis.get_major_formatter().set_powerlimits((0,1)) # 将坐标轴的base number设置为一位。\n",
    "plt.bar(x, data[tag[0]],  width=width, label=tag[0],ec='k', ls='-', lw=1,color='k')\n",
    "plt.bar(x + width, data[tag[1]], width=width, label=tag[1],hatch='/',ec='k', ls='-', lw=1,color='w')\n",
    "plt.bar(x +2 * width, data[tag[2]], width=width, label=tag[2],hatch='.',ec='k', ls='-', lw=1,color=(0.5,0.5,0.5))\n",
    "plt.ylabel(\"Section_2\",color = 'k')\n",
    "# plt.legend(bbox_to_anchor=(0,1.02,1,0.2), loc=\"lower left\",\n",
    "#                 mode=\"expand\", borderaxespad=0, ncol=3)\n",
    "# plt.setp(ax1.get_xticklabels(), visible=False)\n",
    "\n",
    "plt.savefig(\"../../Diser/Plot/\"+plot_name+\"_r2.png\", bbox_inches=\"tight\")\n",
    "\n",
    "plt.show()"
   ]
  },
  {
   "cell_type": "code",
   "execution_count": 119,
   "metadata": {
    "ExecuteTime": {
     "end_time": "2018-08-12T00:10:58.224434Z",
     "start_time": "2018-08-12T00:10:57.361432Z"
    },
    "collapsed": false
   },
   "outputs": [
    {
     "data": {
      "text/plain": [
       "<BarContainer object of 3 artists>"
      ]
     },
     "execution_count": 119,
     "metadata": {},
     "output_type": "execute_result"
    },
    {
     "data": {
      "text/plain": [
       "<BarContainer object of 3 artists>"
      ]
     },
     "execution_count": 119,
     "metadata": {},
     "output_type": "execute_result"
    },
    {
     "data": {
      "text/plain": [
       "<BarContainer object of 3 artists>"
      ]
     },
     "execution_count": 119,
     "metadata": {},
     "output_type": "execute_result"
    },
    {
     "data": {
      "text/plain": [
       "Text(0,0.5,'Section_1')"
      ]
     },
     "execution_count": 119,
     "metadata": {},
     "output_type": "execute_result"
    },
    {
     "data": {
      "text/plain": [
       "<matplotlib.legend.Legend at 0x233f9c25b38>"
      ]
     },
     "execution_count": 119,
     "metadata": {},
     "output_type": "execute_result"
    },
    {
     "data": {
      "text/plain": [
       "<BarContainer object of 3 artists>"
      ]
     },
     "execution_count": 119,
     "metadata": {},
     "output_type": "execute_result"
    },
    {
     "data": {
      "text/plain": [
       "<BarContainer object of 3 artists>"
      ]
     },
     "execution_count": 119,
     "metadata": {},
     "output_type": "execute_result"
    },
    {
     "data": {
      "text/plain": [
       "<BarContainer object of 3 artists>"
      ]
     },
     "execution_count": 119,
     "metadata": {},
     "output_type": "execute_result"
    },
    {
     "data": {
      "text/plain": [
       "Text(0,0.5,'Section_2')"
      ]
     },
     "execution_count": 119,
     "metadata": {},
     "output_type": "execute_result"
    },
    {
     "data": {
      "image/png": "[encoded data removed]",
      "text/plain": [
       "<Figure size 432x288 with 2 Axes>"
      ]
     },
     "metadata": {},
     "output_type": "display_data"
    }
   ],
   "source": [
    "plt.style.use('ggplot')\n",
    "plot_name = '6.price_regression_bias'\n",
    "results_sources = \"../../datasets/results\"\n",
    "source_name = \"/\"+plot_name+\".xlsx\"\n",
    "\n",
    "size = 3\n",
    "x = np.arange(size)\n",
    "total_width, n = 0.8, 3\n",
    "width = total_width / n\n",
    "x = x - (total_width - width) / 2\n",
    "\n",
    "sheet = 'mse_sec1'\n",
    "data = pd.read_excel(results_sources+source_name,sheet_name = sheet,index_col=0).apply(lambda x: round(x,5))\n",
    "tag = data.columns.tolist()\n",
    "xt = data.index.tolist()\n",
    "# ax1 = plt.subplot(311,ylim=(-0.02,0.02))\n",
    "# plt.axis([-1, 3, 0.4, 0.6])\n",
    "ax1 = plt.subplot(211, ylim=(0,0.003),xticks=[0, 1, 2, 3],xticklabels=xt)\n",
    "# ax = plt.gca()  # 获取当前图像的坐标轴信息\n",
    "# ax.yaxis.get_major_formatter().set_powerlimits((0,1)) # 将坐标轴的base number设置为一位。\n",
    "plt.bar(x, data[tag[0]],  width=width, label=tag[0],ec='k', ls='-', lw=1,color='k')\n",
    "plt.bar(x + width, data[tag[1]], width=width, label=tag[1],hatch='/',ec='k', ls='-', lw=1,color='w')\n",
    "plt.bar(x +2 * width, data[tag[2]], width=width, label=tag[2],hatch='.',ec='k', ls='-', lw=1,color=(0.5,0.5,0.5))\n",
    "plt.ylabel(\"Section_1\",color = 'k')\n",
    "plt.legend(bbox_to_anchor=(0,1.02,1,0.2), loc=\"lower left\",\n",
    "                mode=\"expand\", borderaxespad=0, ncol=3)\n",
    "\n",
    "sheet = 'mse_sec2'\n",
    "data = pd.read_excel(results_sources+source_name,sheet_name = sheet,index_col=0).apply(lambda x: round(x,5))\n",
    "tag = data.columns.tolist()\n",
    "xt = data.index.tolist()\n",
    "# ax1 = plt.subplot(311,ylim=(-0.02,0.02))\n",
    "# plt.axis([-1, 3, 0.4, 0.6])\n",
    "ax1 = plt.subplot(212, ylim=(0,0.003),xticks=[0, 1, 2, 3],xticklabels=xt)\n",
    "# ax = plt.gca()  # 获取当前图像的坐标轴信息\n",
    "# ax.yaxis.get_major_formatter().set_powerlimits((0,1)) # 将坐标轴的base number设置为一位。\n",
    "plt.bar(x, data[tag[0]],  width=width, label=tag[0],ec='k', ls='-', lw=1,color='k')\n",
    "plt.bar(x + width, data[tag[1]], width=width, label=tag[1],hatch='/',ec='k', ls='-', lw=1,color='w')\n",
    "plt.bar(x +2 * width, data[tag[2]], width=width, label=tag[2],hatch='.',ec='k', ls='-', lw=1,color=(0.5,0.5,0.5))\n",
    "plt.ylabel(\"Section_2\",color = 'k')\n",
    "plt.savefig(\"../../Diser/Plot/\"+plot_name+\"_mse.png\", bbox_inches=\"tight\")\n",
    "\n",
    "plt.show()"
   ]
  },
  {
   "cell_type": "markdown",
   "metadata": {},
   "source": [
    "## 7. price_direction_bias"
   ]
  },
  {
   "cell_type": "code",
   "execution_count": 123,
   "metadata": {
    "ExecuteTime": {
     "end_time": "2018-08-12T00:17:49.969606Z",
     "start_time": "2018-08-12T00:17:49.009601Z"
    },
    "collapsed": false
   },
   "outputs": [
    {
     "data": {
      "text/plain": [
       "<BarContainer object of 3 artists>"
      ]
     },
     "execution_count": 123,
     "metadata": {},
     "output_type": "execute_result"
    },
    {
     "data": {
      "text/plain": [
       "<BarContainer object of 3 artists>"
      ]
     },
     "execution_count": 123,
     "metadata": {},
     "output_type": "execute_result"
    },
    {
     "data": {
      "text/plain": [
       "<BarContainer object of 3 artists>"
      ]
     },
     "execution_count": 123,
     "metadata": {},
     "output_type": "execute_result"
    },
    {
     "data": {
      "text/plain": [
       "Text(0,0.5,'Section_1')"
      ]
     },
     "execution_count": 123,
     "metadata": {},
     "output_type": "execute_result"
    },
    {
     "data": {
      "text/plain": [
       "<matplotlib.legend.Legend at 0x233f9e06630>"
      ]
     },
     "execution_count": 123,
     "metadata": {},
     "output_type": "execute_result"
    },
    {
     "data": {
      "text/plain": [
       "<BarContainer object of 3 artists>"
      ]
     },
     "execution_count": 123,
     "metadata": {},
     "output_type": "execute_result"
    },
    {
     "data": {
      "text/plain": [
       "<BarContainer object of 3 artists>"
      ]
     },
     "execution_count": 123,
     "metadata": {},
     "output_type": "execute_result"
    },
    {
     "data": {
      "text/plain": [
       "<BarContainer object of 3 artists>"
      ]
     },
     "execution_count": 123,
     "metadata": {},
     "output_type": "execute_result"
    },
    {
     "data": {
      "text/plain": [
       "Text(0,0.5,'Section_2')"
      ]
     },
     "execution_count": 123,
     "metadata": {},
     "output_type": "execute_result"
    },
    {
     "data": {
      "image/png": "[encoded data removed]",
      "text/plain": [
       "<Figure size 432x288 with 2 Axes>"
      ]
     },
     "metadata": {},
     "output_type": "display_data"
    }
   ],
   "source": [
    "plt.style.use('ggplot')\n",
    "plot_name = '7.price_direction_bias'\n",
    "results_sources = \"../../datasets/results\"\n",
    "source_name = \"/\"+plot_name+\".xlsx\"\n",
    "\n",
    "size = 3\n",
    "x = np.arange(size)\n",
    "total_width, n = 0.8, 3\n",
    "width = total_width / n\n",
    "x = x - (total_width - width) / 2\n",
    "\n",
    "sheet = 'sec1'\n",
    "data = pd.read_excel(results_sources+source_name,sheet_name = sheet,index_col=0).apply(lambda x: round(x,5))\n",
    "tag = data.columns.tolist()\n",
    "xt = data.index.tolist()\n",
    "# ax1 = plt.subplot(311,ylim=(-0.02,0.02))\n",
    "# plt.axis([-1, 3, 0.4, 0.6])\n",
    "ax1 = plt.subplot(211, ylim=(-.025,0.025),xticks=[0, 1, 2, 3],xticklabels=xt)\n",
    "# ax = plt.gca()  # 获取当前图像的坐标轴信息\n",
    "# ax.yaxis.get_major_formatter().set_powerlimits((0,1)) # 将坐标轴的base number设置为一位。\n",
    "plt.bar(x, data[tag[0]],  width=width, label=tag[0],ec='k', ls='-', lw=1,color='k')\n",
    "plt.bar(x + width, data[tag[1]], width=width, label=tag[1],hatch='/',ec='k', ls='-', lw=1,color='w')\n",
    "plt.bar(x +2 * width, data[tag[2]], width=width, label=tag[2],hatch='.',ec='k', ls='-', lw=1,color=(0.5,0.5,0.5))\n",
    "plt.ylabel(\"Section_1\",color = 'k')\n",
    "plt.legend(bbox_to_anchor=(0,1.02,1,0.2), loc=\"lower left\",\n",
    "                mode=\"expand\", borderaxespad=0, ncol=3)\n",
    "\n",
    "sheet = 'sec2'\n",
    "data = pd.read_excel(results_sources+source_name,sheet_name = sheet,index_col=0).apply(lambda x: round(x,5))\n",
    "tag = data.columns.tolist()\n",
    "xt = data.index.tolist()\n",
    "# ax1 = plt.subplot(311,ylim=(-0.02,0.02))\n",
    "# plt.axis([-1, 3, 0.4, 0.6])\n",
    "ax1 = plt.subplot(212,ylim=(-.025,0.025),xticks=[0, 1, 2, 3],xticklabels=xt)\n",
    "# ax = plt.gca()  # 获取当前图像的坐标轴信息\n",
    "# ax.yaxis.get_major_formatter().set_powerlimits((0,1)) # 将坐标轴的base number设置为一位。\n",
    "plt.bar(x, data[tag[0]],  width=width, label=tag[0],ec='k', ls='-', lw=1,color='k')\n",
    "plt.bar(x + width, data[tag[1]], width=width, label=tag[1],hatch='/',ec='k', ls='-', lw=1,color='w')\n",
    "plt.bar(x +2 * width, data[tag[2]], width=width, label=tag[2],hatch='.',ec='k', ls='-', lw=1,color=(0.5,0.5,0.5))\n",
    "plt.ylabel(\"Section_2\",color = 'k')\n",
    "plt.savefig(\"../../Diser/Plot/\"+plot_name+\".png\", bbox_inches=\"tight\")\n",
    "\n",
    "plt.show()"
   ]
  },
  {
   "cell_type": "code",
   "execution_count": null,
   "metadata": {
    "collapsed": true
   },
   "outputs": [],
   "source": []
  }
 ],
 "metadata": {
  "kernelspec": {
   "display_name": "Python 3",
   "language": "python",
   "name": "python3"
  },
  "language_info": {
   "codemirror_mode": {
    "name": "ipython",
    "version": 3
   },
   "file_extension": ".py",
   "mimetype": "text/x-python",
   "name": "python",
   "nbconvert_exporter": "python",
   "pygments_lexer": "ipython3",
   "version": "3.5.4"
  },
  "varInspector": {
   "cols": {
    "lenName": 16,
    "lenType": 16,
    "lenVar": 40
   },
   "kernels_config": {
    "python": {
     "delete_cmd_postfix": "",
     "delete_cmd_prefix": "del ",
     "library": "var_list.py",
     "varRefreshCmd": "print(var_dic_list())"
    },
    "r": {
     "delete_cmd_postfix": ") ",
     "delete_cmd_prefix": "rm(",
     "library": "var_list.r",
     "varRefreshCmd": "cat(var_dic_list()) "
    }
   },
   "types_to_exclude": [
    "module",
    "function",
    "builtin_function_or_method",
    "instance",
    "_Feature"
   ],
   "window_display": false
  }
 },
 "nbformat": 4,
 "nbformat_minor": 2
}
