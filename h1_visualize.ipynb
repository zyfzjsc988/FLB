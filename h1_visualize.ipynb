{
 "cells": [
  {
   "cell_type": "markdown",
   "metadata": {},
   "source": [
    "# graphs for show results and conclusion"
   ]
  },
  {
   "cell_type": "markdown",
   "metadata": {},
   "source": [
    "## 1. home_win accuracy"
   ]
  },
  {
   "cell_type": "code",
   "execution_count": 1,
   "metadata": {
    "ExecuteTime": {
     "end_time": "2018-08-18T10:27:36.685269Z",
     "start_time": "2018-08-18T10:27:35.474261Z"
    },
    "collapsed": true
   },
   "outputs": [],
   "source": [
    "import pandas as pd\n",
    "import matplotlib.pyplot as plt\n",
    "import numpy as np"
   ]
  },
  {
   "cell_type": "code",
   "execution_count": 60,
   "metadata": {
    "ExecuteTime": {
     "end_time": "2018-08-11T20:12:57.692646Z",
     "start_time": "2018-08-11T20:12:56.352512Z"
    },
    "collapsed": false
   },
   "outputs": [
    {
     "data": {
      "text/plain": [
       "<BarContainer object of 5 artists>"
      ]
     },
     "execution_count": 60,
     "metadata": {},
     "output_type": "execute_result"
    },
    {
     "data": {
      "text/plain": [
       "<BarContainer object of 5 artists>"
      ]
     },
     "execution_count": 60,
     "metadata": {},
     "output_type": "execute_result"
    },
    {
     "data": {
      "text/plain": [
       "Text(0,0.5,'Normal')"
      ]
     },
     "execution_count": 60,
     "metadata": {},
     "output_type": "execute_result"
    },
    {
     "data": {
      "text/plain": [
       "<matplotlib.legend.Legend at 0x233f5aff518>"
      ]
     },
     "execution_count": 60,
     "metadata": {},
     "output_type": "execute_result"
    },
    {
     "data": {
      "text/plain": [
       "[None,\n",
       " None,\n",
       " None,\n",
       " None,\n",
       " None,\n",
       " None,\n",
       " None,\n",
       " None,\n",
       " None,\n",
       " None,\n",
       " None,\n",
       " None,\n",
       " None,\n",
       " None]"
      ]
     },
     "execution_count": 60,
     "metadata": {},
     "output_type": "execute_result"
    },
    {
     "data": {
      "text/plain": [
       "<BarContainer object of 5 artists>"
      ]
     },
     "execution_count": 60,
     "metadata": {},
     "output_type": "execute_result"
    },
    {
     "data": {
      "text/plain": [
       "<BarContainer object of 5 artists>"
      ]
     },
     "execution_count": 60,
     "metadata": {},
     "output_type": "execute_result"
    },
    {
     "data": {
      "text/plain": [
       "Text(0,0.5,'High Risk')"
      ]
     },
     "execution_count": 60,
     "metadata": {},
     "output_type": "execute_result"
    },
    {
     "data": {
      "text/plain": [
       "[None,\n",
       " None,\n",
       " None,\n",
       " None,\n",
       " None,\n",
       " None,\n",
       " None,\n",
       " None,\n",
       " None,\n",
       " None,\n",
       " None,\n",
       " None,\n",
       " None,\n",
       " None]"
      ]
     },
     "execution_count": 60,
     "metadata": {},
     "output_type": "execute_result"
    },
    {
     "data": {
      "text/plain": [
       "<BarContainer object of 5 artists>"
      ]
     },
     "execution_count": 60,
     "metadata": {},
     "output_type": "execute_result"
    },
    {
     "data": {
      "text/plain": [
       "<BarContainer object of 5 artists>"
      ]
     },
     "execution_count": 60,
     "metadata": {},
     "output_type": "execute_result"
    },
    {
     "data": {
      "text/plain": [
       "Text(0,0.5,'Low Risk')"
      ]
     },
     "execution_count": 60,
     "metadata": {},
     "output_type": "execute_result"
    },
    {
     "data": {
      "image/png": "[encoded data removed]",
      "text/plain": [
       "<Figure size 432x288 with 3 Axes>"
      ]
     },
     "metadata": {},
     "output_type": "display_data"
    }
   ],
   "source": [
    "plt.style.use('ggplot')\n",
    "plot_name = '1_home_win_accuracy'\n",
    "results_sources = \"../../datasets/results\"\n",
    "source_name = \"/\"+plot_name+\".xlsx\"\n",
    "\n",
    "size = 5\n",
    "x = np.arange(size)\n",
    "total_width, n = 0.8, 2\n",
    "width = total_width / n\n",
    "x = x - (total_width - width) / 2\n",
    "\n",
    "game_name = 'soccer'\n",
    "\n",
    "sheet = game_name + '_no_risk'\n",
    "data = pd.read_excel(results_sources+source_name,sheet_name = sheet,index_col=0).apply(lambda x: round(x,5))\n",
    "tag = data.columns.tolist()\n",
    "xt = data.index.tolist()\n",
    "xt.insert(0,'0')\n",
    "ax1 = plt.subplot(311,ylim=[0.55,0.8],xticklabels=xt)\n",
    "\n",
    "plt.bar(x, data[tag[0]],  width=width, label=tag[0],ec='k', ls='-', lw=1,color='k')\n",
    "plt.bar(x + width, data[tag[1]], width=width, label=tag[1],hatch='/',ec='k', ls='-', lw=1,color='w')\n",
    "plt.ylabel('Normal',color = 'k')\n",
    "plt.legend(bbox_to_anchor=(0,1.02,1,0.2), loc=\"lower left\",\n",
    "                mode=\"expand\", borderaxespad=0, ncol=2)\n",
    "plt.setp(ax1.get_xticklabels(), visible=False)\n",
    "\n",
    "# share x only\n",
    "\n",
    "sheet = game_name + '_high_risk'\n",
    "data = pd.read_excel(results_sources+source_name,sheet_name = sheet,index_col=0).apply(lambda x: round(x,5))\n",
    "# data.plot.bar(rot=0,ylim=[0.5,0.7])\n",
    "tag = data.columns.tolist()\n",
    "xt = data.index.tolist()\n",
    "xt.insert(0,'0')\n",
    "ax2 = plt.subplot(312, sharex=ax1,ylim=[0.55,0.8])\n",
    "plt.bar(x, data[tag[0]],  width=width, label=tag[0],ec='k', ls='-', lw=1,color='k')\n",
    "plt.bar(x + width, data[tag[1]], width=width, label=tag[1],hatch='/',ec='k', ls='-', lw=1,color='w')\n",
    "plt.ylabel('High Risk',color = 'k')\n",
    "plt.setp(ax2.get_xticklabels(), visible=False)\n",
    "\n",
    "# share x and y\n",
    "ax3 = plt.subplot(313, sharex=ax1,sharey=ax1)\n",
    "sheet = game_name + '_low_risk'\n",
    "data = pd.read_excel(results_sources+source_name,sheet_name = sheet,index_col=0).apply(lambda x: round(x,5))\n",
    "tag = data.columns.tolist()\n",
    "xt = data.index.tolist()\n",
    "xt.insert(0,'0')\n",
    "ax2 = plt.subplot(313, sharex=ax1,ylim=[0.55,0.8])\n",
    "plt.bar(x, data[tag[0]],  width=width, label=tag[0],ec='k', ls='-', lw=1,color='k')\n",
    "plt.bar(x + width, data[tag[1]], width=width, label=tag[1],hatch='/',ec='k', ls='-', lw=1,color='w')\n",
    "plt.ylabel('Low Risk',color = 'k')\n",
    "\n",
    "plt.savefig(\"../../Diser/Plot/\"+plot_name+'_' +game_name +\".png\", bbox_inches=\"tight\")\n",
    "plt.show()"
   ]
  },
  {
   "cell_type": "code",
   "execution_count": 29,
   "metadata": {
    "ExecuteTime": {
     "end_time": "2018-08-11T16:16:52.705742Z",
     "start_time": "2018-08-11T16:16:51.425747Z"
    },
    "collapsed": false
   },
   "outputs": [
    {
     "data": {
      "text/plain": [
       "<BarContainer object of 5 artists>"
      ]
     },
     "execution_count": 29,
     "metadata": {},
     "output_type": "execute_result"
    },
    {
     "data": {
      "text/plain": [
       "<BarContainer object of 5 artists>"
      ]
     },
     "execution_count": 29,
     "metadata": {},
     "output_type": "execute_result"
    },
    {
     "data": {
      "text/plain": [
       "Text(0,0.5,'Normal')"
      ]
     },
     "execution_count": 29,
     "metadata": {},
     "output_type": "execute_result"
    },
    {
     "data": {
      "text/plain": [
       "<matplotlib.legend.Legend at 0x233f13eed68>"
      ]
     },
     "execution_count": 29,
     "metadata": {},
     "output_type": "execute_result"
    },
    {
     "data": {
      "text/plain": [
       "[None,\n",
       " None,\n",
       " None,\n",
       " None,\n",
       " None,\n",
       " None,\n",
       " None,\n",
       " None,\n",
       " None,\n",
       " None,\n",
       " None,\n",
       " None,\n",
       " None,\n",
       " None]"
      ]
     },
     "execution_count": 29,
     "metadata": {},
     "output_type": "execute_result"
    },
    {
     "data": {
      "text/plain": [
       "<BarContainer object of 5 artists>"
      ]
     },
     "execution_count": 29,
     "metadata": {},
     "output_type": "execute_result"
    },
    {
     "data": {
      "text/plain": [
       "<BarContainer object of 5 artists>"
      ]
     },
     "execution_count": 29,
     "metadata": {},
     "output_type": "execute_result"
    },
    {
     "data": {
      "text/plain": [
       "Text(0,0.5,'High Risk')"
      ]
     },
     "execution_count": 29,
     "metadata": {},
     "output_type": "execute_result"
    },
    {
     "data": {
      "text/plain": [
       "[None,\n",
       " None,\n",
       " None,\n",
       " None,\n",
       " None,\n",
       " None,\n",
       " None,\n",
       " None,\n",
       " None,\n",
       " None,\n",
       " None,\n",
       " None,\n",
       " None,\n",
       " None]"
      ]
     },
     "execution_count": 29,
     "metadata": {},
     "output_type": "execute_result"
    },
    {
     "data": {
      "text/plain": [
       "<BarContainer object of 5 artists>"
      ]
     },
     "execution_count": 29,
     "metadata": {},
     "output_type": "execute_result"
    },
    {
     "data": {
      "text/plain": [
       "<BarContainer object of 5 artists>"
      ]
     },
     "execution_count": 29,
     "metadata": {},
     "output_type": "execute_result"
    },
    {
     "data": {
      "text/plain": [
       "Text(0,0.5,'Low Risk')"
      ]
     },
     "execution_count": 29,
     "metadata": {},
     "output_type": "execute_result"
    },
    {
     "data": {
      "image/png": "[encoded data removed]",
      "text/plain": [
       "<Figure size 432x288 with 3 Axes>"
      ]
     },
     "metadata": {},
     "output_type": "display_data"
    }
   ],
   "source": [
    "plt.cla()\n",
    "\n",
    "game_name = 'baseball'\n",
    "\n",
    "sheet = game_name + '_no_risk'\n",
    "data = pd.read_excel(results_sources+source_name,sheet_name = sheet,index_col=0).apply(lambda x: round(x,5))\n",
    "tag = data.columns.tolist()\n",
    "xt = data.index.tolist()\n",
    "xt.insert(0,'0')\n",
    "ax1 = plt.subplot(311,ylim=[0.55,0.8],xticklabels=xt)\n",
    "\n",
    "plt.bar(x, data[tag[0]],  width=width, label=tag[0],ec='k', ls='-', lw=1,color='k')\n",
    "plt.bar(x + width, data[tag[1]], width=width, label=tag[1],hatch='/',ec='k', ls='-', lw=1,color='w')\n",
    "plt.ylabel('Normal',color = 'k')\n",
    "plt.legend(bbox_to_anchor=(0,1.02,1,0.2), loc=\"lower left\",\n",
    "                mode=\"expand\", borderaxespad=0, ncol=2)\n",
    "plt.setp(ax1.get_xticklabels(), visible=False)\n",
    "\n",
    "# share x only\n",
    "\n",
    "sheet = game_name + '_high_risk'\n",
    "data = pd.read_excel(results_sources+source_name,sheet_name = sheet,index_col=0).apply(lambda x: round(x,5))\n",
    "# data.plot.bar(rot=0,ylim=[0.5,0.7])\n",
    "tag = data.columns.tolist()\n",
    "xt = data.index.tolist()\n",
    "xt.insert(0,'0')\n",
    "ax2 = plt.subplot(312, sharex=ax1,ylim=[0.55,0.8])\n",
    "plt.bar(x, data[tag[0]],  width=width, label=tag[0],ec='k', ls='-', lw=1,color='k')\n",
    "plt.bar(x + width, data[tag[1]], width=width, label=tag[1],hatch='/',ec='k', ls='-', lw=1,color='w')\n",
    "plt.ylabel('High Risk',color = 'k')\n",
    "plt.setp(ax2.get_xticklabels(), visible=False)\n",
    "\n",
    "# share x and y\n",
    "ax3 = plt.subplot(313, sharex=ax1,sharey=ax1)\n",
    "sheet = game_name + '_low_risk'\n",
    "data = pd.read_excel(results_sources+source_name,sheet_name = sheet,index_col=0).apply(lambda x: round(x,5))\n",
    "tag = data.columns.tolist()\n",
    "xt = data.index.tolist()\n",
    "xt.insert(0,'0')\n",
    "ax2 = plt.subplot(313, sharex=ax1,ylim=[0.55,0.8])\n",
    "plt.bar(x, data[tag[0]],  width=width, label=tag[0],ec='k', ls='-', lw=1,color='k')\n",
    "plt.bar(x + width, data[tag[1]], width=width, label=tag[1],hatch='/',ec='k', ls='-', lw=1,color='w')\n",
    "plt.ylabel('Low Risk',color = 'k')\n",
    "\n",
    "plt.savefig(\"../../Diser/Plot/\"+plot_name+'_' +game_name +\".png\", bbox_inches=\"tight\")\n",
    "plt.show()"
   ]
  },
  {
   "cell_type": "code",
   "execution_count": 30,
   "metadata": {
    "ExecuteTime": {
     "end_time": "2018-08-11T16:17:05.190639Z",
     "start_time": "2018-08-11T16:17:03.600627Z"
    },
    "collapsed": false
   },
   "outputs": [
    {
     "data": {
      "text/plain": [
       "<BarContainer object of 5 artists>"
      ]
     },
     "execution_count": 30,
     "metadata": {},
     "output_type": "execute_result"
    },
    {
     "data": {
      "text/plain": [
       "<BarContainer object of 5 artists>"
      ]
     },
     "execution_count": 30,
     "metadata": {},
     "output_type": "execute_result"
    },
    {
     "data": {
      "text/plain": [
       "Text(0,0.5,'Normal')"
      ]
     },
     "execution_count": 30,
     "metadata": {},
     "output_type": "execute_result"
    },
    {
     "data": {
      "text/plain": [
       "<matplotlib.legend.Legend at 0x233f14db6a0>"
      ]
     },
     "execution_count": 30,
     "metadata": {},
     "output_type": "execute_result"
    },
    {
     "data": {
      "text/plain": [
       "[None,\n",
       " None,\n",
       " None,\n",
       " None,\n",
       " None,\n",
       " None,\n",
       " None,\n",
       " None,\n",
       " None,\n",
       " None,\n",
       " None,\n",
       " None,\n",
       " None,\n",
       " None]"
      ]
     },
     "execution_count": 30,
     "metadata": {},
     "output_type": "execute_result"
    },
    {
     "data": {
      "text/plain": [
       "<BarContainer object of 5 artists>"
      ]
     },
     "execution_count": 30,
     "metadata": {},
     "output_type": "execute_result"
    },
    {
     "data": {
      "text/plain": [
       "<BarContainer object of 5 artists>"
      ]
     },
     "execution_count": 30,
     "metadata": {},
     "output_type": "execute_result"
    },
    {
     "data": {
      "text/plain": [
       "Text(0,0.5,'High Risk')"
      ]
     },
     "execution_count": 30,
     "metadata": {},
     "output_type": "execute_result"
    },
    {
     "data": {
      "text/plain": [
       "[None,\n",
       " None,\n",
       " None,\n",
       " None,\n",
       " None,\n",
       " None,\n",
       " None,\n",
       " None,\n",
       " None,\n",
       " None,\n",
       " None,\n",
       " None,\n",
       " None,\n",
       " None]"
      ]
     },
     "execution_count": 30,
     "metadata": {},
     "output_type": "execute_result"
    },
    {
     "data": {
      "text/plain": [
       "<BarContainer object of 5 artists>"
      ]
     },
     "execution_count": 30,
     "metadata": {},
     "output_type": "execute_result"
    },
    {
     "data": {
      "text/plain": [
       "<BarContainer object of 5 artists>"
      ]
     },
     "execution_count": 30,
     "metadata": {},
     "output_type": "execute_result"
    },
    {
     "data": {
      "text/plain": [
       "Text(0,0.5,'Low Risk')"
      ]
     },
     "execution_count": 30,
     "metadata": {},
     "output_type": "execute_result"
    },
    {
     "data": {
      "image/png": "[encoded data removed]",
      "text/plain": [
       "<Figure size 432x288 with 3 Axes>"
      ]
     },
     "metadata": {},
     "output_type": "display_data"
    }
   ],
   "source": [
    "plt.cla()\n",
    "game_name = 'iceball'\n",
    "\n",
    "sheet = game_name + '_no_risk'\n",
    "data = pd.read_excel(results_sources+source_name,sheet_name = sheet,index_col=0).apply(lambda x: round(x,5))\n",
    "tag = data.columns.tolist()\n",
    "xt = data.index.tolist()\n",
    "xt.insert(0,'0')\n",
    "ax1 = plt.subplot(311,ylim=[0.55,0.8],xticklabels=xt)\n",
    "\n",
    "plt.bar(x, data[tag[0]],  width=width, label=tag[0],ec='k', ls='-', lw=1,color='k')\n",
    "plt.bar(x + width, data[tag[1]], width=width, label=tag[1],hatch='/',ec='k', ls='-', lw=1,color='w')\n",
    "plt.ylabel('Normal',color = 'k')\n",
    "plt.legend(bbox_to_anchor=(0,1.02,1,0.2), loc=\"lower left\",\n",
    "                mode=\"expand\", borderaxespad=0, ncol=2)\n",
    "plt.setp(ax1.get_xticklabels(), visible=False)\n",
    "\n",
    "# share x only\n",
    "\n",
    "sheet = game_name + '_high_risk'\n",
    "data = pd.read_excel(results_sources+source_name,sheet_name = sheet,index_col=0).apply(lambda x: round(x,5))\n",
    "# data.plot.bar(rot=0,ylim=[0.5,0.7])\n",
    "tag = data.columns.tolist()\n",
    "xt = data.index.tolist()\n",
    "xt.insert(0,'0')\n",
    "ax2 = plt.subplot(312, sharex=ax1,ylim=[0.55,0.8])\n",
    "plt.bar(x, data[tag[0]],  width=width, label=tag[0],ec='k', ls='-', lw=1,color='k')\n",
    "plt.bar(x + width, data[tag[1]], width=width, label=tag[1],hatch='/',ec='k', ls='-', lw=1,color='w')\n",
    "plt.ylabel('High Risk',color = 'k')\n",
    "plt.setp(ax2.get_xticklabels(), visible=False)\n",
    "\n",
    "# share x and y\n",
    "ax3 = plt.subplot(313, sharex=ax1,sharey=ax1)\n",
    "sheet = game_name + '_low_risk'\n",
    "data = pd.read_excel(results_sources+source_name,sheet_name = sheet,index_col=0).apply(lambda x: round(x,5))\n",
    "tag = data.columns.tolist()\n",
    "xt = data.index.tolist()\n",
    "xt.insert(0,'0')\n",
    "ax2 = plt.subplot(313, sharex=ax1,ylim=[0.55,0.8])\n",
    "plt.bar(x, data[tag[0]],  width=width, label=tag[0],ec='k', ls='-', lw=1,color='k')\n",
    "plt.bar(x + width, data[tag[1]], width=width, label=tag[1],hatch='/',ec='k', ls='-', lw=1,color='w')\n",
    "plt.ylabel('Low Risk',color = 'k')\n",
    "\n",
    "plt.savefig(\"../../Diser/Plot/\"+plot_name+'_' +game_name +\".png\", bbox_inches=\"tight\")\n",
    "plt.show()"
   ]
  },
  {
   "cell_type": "markdown",
   "metadata": {},
   "source": [
    "## 2 home_win bias"
   ]
  },
  {
   "cell_type": "code",
   "execution_count": 7,
   "metadata": {
    "ExecuteTime": {
     "end_time": "2018-08-18T10:34:57.004173Z",
     "start_time": "2018-08-18T10:34:55.358169Z"
    },
    "collapsed": false
   },
   "outputs": [
    {
     "data": {
      "text/plain": [
       "<BarContainer object of 5 artists>"
      ]
     },
     "execution_count": 7,
     "metadata": {},
     "output_type": "execute_result"
    },
    {
     "data": {
      "text/plain": [
       "<BarContainer object of 5 artists>"
      ]
     },
     "execution_count": 7,
     "metadata": {},
     "output_type": "execute_result"
    },
    {
     "data": {
      "text/plain": [
       "<BarContainer object of 5 artists>"
      ]
     },
     "execution_count": 7,
     "metadata": {},
     "output_type": "execute_result"
    },
    {
     "data": {
      "text/plain": [
       "Text(0,0.5,'Normal')"
      ]
     },
     "execution_count": 7,
     "metadata": {},
     "output_type": "execute_result"
    },
    {
     "data": {
      "text/plain": [
       "<matplotlib.legend.Legend at 0x20a7e56dcc0>"
      ]
     },
     "execution_count": 7,
     "metadata": {},
     "output_type": "execute_result"
    },
    {
     "data": {
      "text/plain": [
       "[None,\n",
       " None,\n",
       " None,\n",
       " None,\n",
       " None,\n",
       " None,\n",
       " None,\n",
       " None,\n",
       " None,\n",
       " None,\n",
       " None,\n",
       " None,\n",
       " None,\n",
       " None]"
      ]
     },
     "execution_count": 7,
     "metadata": {},
     "output_type": "execute_result"
    },
    {
     "data": {
      "text/plain": [
       "<BarContainer object of 5 artists>"
      ]
     },
     "execution_count": 7,
     "metadata": {},
     "output_type": "execute_result"
    },
    {
     "data": {
      "text/plain": [
       "<BarContainer object of 5 artists>"
      ]
     },
     "execution_count": 7,
     "metadata": {},
     "output_type": "execute_result"
    },
    {
     "data": {
      "text/plain": [
       "<BarContainer object of 5 artists>"
      ]
     },
     "execution_count": 7,
     "metadata": {},
     "output_type": "execute_result"
    },
    {
     "data": {
      "text/plain": [
       "Text(0,0.5,'High Risk')"
      ]
     },
     "execution_count": 7,
     "metadata": {},
     "output_type": "execute_result"
    },
    {
     "data": {
      "text/plain": [
       "[None,\n",
       " None,\n",
       " None,\n",
       " None,\n",
       " None,\n",
       " None,\n",
       " None,\n",
       " None,\n",
       " None,\n",
       " None,\n",
       " None,\n",
       " None,\n",
       " None,\n",
       " None]"
      ]
     },
     "execution_count": 7,
     "metadata": {},
     "output_type": "execute_result"
    },
    {
     "data": {
      "text/plain": [
       "<BarContainer object of 5 artists>"
      ]
     },
     "execution_count": 7,
     "metadata": {},
     "output_type": "execute_result"
    },
    {
     "data": {
      "text/plain": [
       "<BarContainer object of 5 artists>"
      ]
     },
     "execution_count": 7,
     "metadata": {},
     "output_type": "execute_result"
    },
    {
     "data": {
      "text/plain": [
       "<BarContainer object of 5 artists>"
      ]
     },
     "execution_count": 7,
     "metadata": {},
     "output_type": "execute_result"
    },
    {
     "data": {
      "text/plain": [
       "Text(0,0.5,'Low Risk')"
      ]
     },
     "execution_count": 7,
     "metadata": {},
     "output_type": "execute_result"
    },
    {
     "data": {
      "image/png": "[encoded data removed]",
      "text/plain": [
       "<Figure size 432x288 with 3 Axes>"
      ]
     },
     "metadata": {},
     "output_type": "display_data"
    }
   ],
   "source": [
    "plt.style.use('ggplot')\n",
    "plot_name = '2_home_win_bias'\n",
    "results_sources = \"../../datasets/results\"\n",
    "source_name = \"/\"+plot_name+\".xlsx\"\n",
    "\n",
    "yrange = (-0.065,0.065)\n",
    "\n",
    "size = 5\n",
    "x = np.arange(size)\n",
    "total_width, n = 0.8, 3\n",
    "width = total_width / n\n",
    "x = x - (total_width - width) / 2\n",
    "\n",
    "game_name = 'soccer'\n",
    "\n",
    "sheet = game_name + '_no_risk'\n",
    "data = pd.read_excel(results_sources+source_name,sheet_name = sheet,index_col=0).apply(lambda x: round(x,5))\n",
    "tag = data.columns.tolist()\n",
    "xt = data.index.tolist()\n",
    "xt.insert(0,'0')\n",
    "ax1 = plt.subplot(311,ylim=yrange,xticklabels=xt)\n",
    "# ax = plt.gca()  # 获取当前图像的坐标轴信息\n",
    "# ax.yaxis.get_major_formatter().set_powerlimits((0,1)) # 将坐标轴的base number设置为一位。\n",
    "plt.bar(x, data[tag[0]],  width=width, label=tag[0],ec='k', ls='-', lw=1,color='k')\n",
    "plt.bar(x + width, data[tag[1]], width=width, label=tag[1],hatch='/',ec='k', ls='-', lw=1,color='w')\n",
    "plt.bar(x +2 * width, data[tag[2]], width=width, label=tag[2],hatch='.',ec='k', ls='-', lw=1,color=(0.5,0.5,0.5))\n",
    "plt.ylabel('Normal',color = 'k')\n",
    "plt.legend(bbox_to_anchor=(0,1.02,1,0.2), loc=\"lower left\",\n",
    "                mode=\"expand\", borderaxespad=0, ncol=3)\n",
    "plt.setp(ax1.get_xticklabels(), visible=False)\n",
    "\n",
    "# share x only\n",
    "\n",
    "sheet = game_name + '_high_risk'\n",
    "data = pd.read_excel(results_sources+source_name,sheet_name = sheet,index_col=0).apply(lambda x: round(x,5))\n",
    "tag = data.columns.tolist()\n",
    "xt = data.index.tolist()\n",
    "xt.insert(0,'0')\n",
    "ax2 = plt.subplot(312, sharex=ax1,ylim=yrange)\n",
    "plt.bar(x, data[tag[0]],  width=width, label=tag[0],ec='k', ls='-', lw=1,color='k')\n",
    "plt.bar(x + width, data[tag[1]], width=width, label=tag[1],hatch='/',ec='k', ls='-', lw=1,color='w')\n",
    "plt.bar(x +2 * width, data[tag[2]], width=width, label=tag[2],hatch='.',ec='k', ls='-', lw=1,color=(0.5,0.5,0.5))\n",
    "plt.ylabel('High Risk',color = 'k')\n",
    "plt.setp(ax2.get_xticklabels(), visible=False)\n",
    "\n",
    "# share x and y\n",
    "\n",
    "sheet = game_name + '_low_risk'\n",
    "data = pd.read_excel(results_sources+source_name,sheet_name = sheet,index_col=0).apply(lambda x: round(x,5))\n",
    "tag = data.columns.tolist()\n",
    "xt = data.index.tolist()\n",
    "xt.insert(0,'0')\n",
    "ax3 = plt.subplot(313, sharex=ax1,ylim=yrange)\n",
    "plt.bar(x, data[tag[0]],  width=width, label=tag[0],ec='k', ls='-', lw=1,color='k')\n",
    "plt.bar(x + width, data[tag[1]], width=width, label=tag[1],hatch='/',ec='k', ls='-', lw=1,color='w')\n",
    "plt.bar(x +2 * width, data[tag[2]], width=width, label=tag[2],hatch='.',ec='k', ls='-', lw=1,color=(0.5,0.5,0.5))\n",
    "plt.ylabel('Low Risk',color = 'k')\n",
    "\n",
    "plt.savefig(\"../../Diser/Plot/\"+plot_name+'_' +game_name +\".png\", bbox_inches=\"tight\")\n",
    "\n",
    "plt.show()"
   ]
  },
  {
   "cell_type": "code",
   "execution_count": 8,
   "metadata": {
    "ExecuteTime": {
     "end_time": "2018-08-18T10:45:30.669703Z",
     "start_time": "2018-08-18T10:45:28.941704Z"
    },
    "collapsed": false
   },
   "outputs": [
    {
     "data": {
      "text/plain": [
       "<BarContainer object of 5 artists>"
      ]
     },
     "execution_count": 8,
     "metadata": {},
     "output_type": "execute_result"
    },
    {
     "data": {
      "text/plain": [
       "<BarContainer object of 5 artists>"
      ]
     },
     "execution_count": 8,
     "metadata": {},
     "output_type": "execute_result"
    },
    {
     "data": {
      "text/plain": [
       "<BarContainer object of 5 artists>"
      ]
     },
     "execution_count": 8,
     "metadata": {},
     "output_type": "execute_result"
    },
    {
     "data": {
      "text/plain": [
       "Text(0,0.5,'Normal')"
      ]
     },
     "execution_count": 8,
     "metadata": {},
     "output_type": "execute_result"
    },
    {
     "data": {
      "text/plain": [
       "<matplotlib.legend.Legend at 0x20a7e6660b8>"
      ]
     },
     "execution_count": 8,
     "metadata": {},
     "output_type": "execute_result"
    },
    {
     "data": {
      "text/plain": [
       "[None,\n",
       " None,\n",
       " None,\n",
       " None,\n",
       " None,\n",
       " None,\n",
       " None,\n",
       " None,\n",
       " None,\n",
       " None,\n",
       " None,\n",
       " None,\n",
       " None,\n",
       " None]"
      ]
     },
     "execution_count": 8,
     "metadata": {},
     "output_type": "execute_result"
    },
    {
     "data": {
      "text/plain": [
       "<BarContainer object of 5 artists>"
      ]
     },
     "execution_count": 8,
     "metadata": {},
     "output_type": "execute_result"
    },
    {
     "data": {
      "text/plain": [
       "<BarContainer object of 5 artists>"
      ]
     },
     "execution_count": 8,
     "metadata": {},
     "output_type": "execute_result"
    },
    {
     "data": {
      "text/plain": [
       "<BarContainer object of 5 artists>"
      ]
     },
     "execution_count": 8,
     "metadata": {},
     "output_type": "execute_result"
    },
    {
     "data": {
      "text/plain": [
       "Text(0,0.5,'High Risk')"
      ]
     },
     "execution_count": 8,
     "metadata": {},
     "output_type": "execute_result"
    },
    {
     "data": {
      "text/plain": [
       "[None,\n",
       " None,\n",
       " None,\n",
       " None,\n",
       " None,\n",
       " None,\n",
       " None,\n",
       " None,\n",
       " None,\n",
       " None,\n",
       " None,\n",
       " None,\n",
       " None,\n",
       " None]"
      ]
     },
     "execution_count": 8,
     "metadata": {},
     "output_type": "execute_result"
    },
    {
     "data": {
      "text/plain": [
       "<BarContainer object of 5 artists>"
      ]
     },
     "execution_count": 8,
     "metadata": {},
     "output_type": "execute_result"
    },
    {
     "data": {
      "text/plain": [
       "<BarContainer object of 5 artists>"
      ]
     },
     "execution_count": 8,
     "metadata": {},
     "output_type": "execute_result"
    },
    {
     "data": {
      "text/plain": [
       "<BarContainer object of 5 artists>"
      ]
     },
     "execution_count": 8,
     "metadata": {},
     "output_type": "execute_result"
    },
    {
     "data": {
      "text/plain": [
       "Text(0,0.5,'Low Risk')"
      ]
     },
     "execution_count": 8,
     "metadata": {},
     "output_type": "execute_result"
    },
    {
     "data": {
      "image/png": "[encoded data removed]",
      "text/plain": [
       "<Figure size 432x288 with 3 Axes>"
      ]
     },
     "metadata": {},
     "output_type": "display_data"
    }
   ],
   "source": [
    "plt.cla()\n",
    "plt.style.use('ggplot')\n",
    "plot_name = '2_home_win_bias'\n",
    "results_sources = \"../../datasets/results\"\n",
    "source_name = \"/\"+plot_name+\".xlsx\"\n",
    "\n",
    "game_name = 'baseball'\n",
    "\n",
    "sheet = game_name + '_no_risk'\n",
    "data = pd.read_excel(results_sources+source_name,sheet_name = sheet,index_col=0).apply(lambda x: round(x,5))\n",
    "tag = data.columns.tolist()\n",
    "xt = data.index.tolist()\n",
    "xt.insert(0,'0')\n",
    "ax1 = plt.subplot(311,ylim=yrange,xticklabels=xt)\n",
    "# ax = plt.gca()  # 获取当前图像的坐标轴信息\n",
    "# ax.yaxis.get_major_formatter().set_powerlimits((0,1)) # 将坐标轴的base number设置为一位。\n",
    "plt.bar(x, data[tag[0]],  width=width, label=tag[0],ec='k', ls='-', lw=1,color='k')\n",
    "plt.bar(x + width, data[tag[1]], width=width, label=tag[1],hatch='/',ec='k', ls='-', lw=1,color='w')\n",
    "plt.bar(x +2 * width, data[tag[2]], width=width, label=tag[2],hatch='.',ec='k', ls='-', lw=1,color=(0.5,0.5,0.5))\n",
    "plt.ylabel('Normal',color = 'k')\n",
    "plt.legend(bbox_to_anchor=(0,1.02,1,0.2), loc=\"lower left\",\n",
    "                mode=\"expand\", borderaxespad=0, ncol=3)\n",
    "plt.setp(ax1.get_xticklabels(), visible=False)\n",
    "\n",
    "# share x only\n",
    "\n",
    "sheet = game_name + '_high_risk'\n",
    "data = pd.read_excel(results_sources+source_name,sheet_name = sheet,index_col=0).apply(lambda x: round(x,5))\n",
    "tag = data.columns.tolist()\n",
    "xt = data.index.tolist()\n",
    "xt.insert(0,'0')\n",
    "ax2 = plt.subplot(312, sharex=ax1,ylim=yrange)\n",
    "plt.bar(x, data[tag[0]],  width=width, label=tag[0],ec='k', ls='-', lw=1,color='k')\n",
    "plt.bar(x + width, data[tag[1]], width=width, label=tag[1],hatch='/',ec='k', ls='-', lw=1,color='w')\n",
    "plt.bar(x +2 * width, data[tag[2]], width=width, label=tag[2],hatch='.',ec='k', ls='-', lw=1,color=(0.5,0.5,0.5))\n",
    "plt.ylabel('High Risk',color = 'k')\n",
    "plt.setp(ax2.get_xticklabels(), visible=False)\n",
    "\n",
    "# share x and y\n",
    "\n",
    "sheet = game_name + '_low_risk'\n",
    "data = pd.read_excel(results_sources+source_name,sheet_name = sheet,index_col=0).apply(lambda x: round(x,5))\n",
    "tag = data.columns.tolist()\n",
    "xt = data.index.tolist()\n",
    "xt.insert(0,'0')\n",
    "ax3 = plt.subplot(313, sharex=ax1,ylim=yrange)\n",
    "plt.bar(x, data[tag[0]],  width=width, label=tag[0],ec='k', ls='-', lw=1,color='k')\n",
    "plt.bar(x + width, data[tag[1]], width=width, label=tag[1],hatch='/',ec='k', ls='-', lw=1,color='w')\n",
    "plt.bar(x +2 * width, data[tag[2]], width=width, label=tag[2],hatch='.',ec='k', ls='-', lw=1,color=(0.5,0.5,0.5))\n",
    "plt.ylabel('Low Risk',color = 'k')\n",
    "\n",
    "plt.savefig(\"../../Diser/Plot/\"+plot_name+'_' +game_name +\".png\", bbox_inches=\"tight\")\n",
    "\n",
    "plt.show()"
   ]
  },
  {
   "cell_type": "code",
   "execution_count": 10,
   "metadata": {
    "ExecuteTime": {
     "end_time": "2018-08-18T10:45:55.557255Z",
     "start_time": "2018-08-18T10:45:53.853255Z"
    },
    "collapsed": false
   },
   "outputs": [
    {
     "data": {
      "text/plain": [
       "<BarContainer object of 5 artists>"
      ]
     },
     "execution_count": 10,
     "metadata": {},
     "output_type": "execute_result"
    },
    {
     "data": {
      "text/plain": [
       "<BarContainer object of 5 artists>"
      ]
     },
     "execution_count": 10,
     "metadata": {},
     "output_type": "execute_result"
    },
    {
     "data": {
      "text/plain": [
       "<BarContainer object of 5 artists>"
      ]
     },
     "execution_count": 10,
     "metadata": {},
     "output_type": "execute_result"
    },
    {
     "data": {
      "text/plain": [
       "Text(0,0.5,'Normal')"
      ]
     },
     "execution_count": 10,
     "metadata": {},
     "output_type": "execute_result"
    },
    {
     "data": {
      "text/plain": [
       "<matplotlib.legend.Legend at 0x20a7f7eb518>"
      ]
     },
     "execution_count": 10,
     "metadata": {},
     "output_type": "execute_result"
    },
    {
     "data": {
      "text/plain": [
       "[None,\n",
       " None,\n",
       " None,\n",
       " None,\n",
       " None,\n",
       " None,\n",
       " None,\n",
       " None,\n",
       " None,\n",
       " None,\n",
       " None,\n",
       " None,\n",
       " None,\n",
       " None]"
      ]
     },
     "execution_count": 10,
     "metadata": {},
     "output_type": "execute_result"
    },
    {
     "data": {
      "text/plain": [
       "<BarContainer object of 5 artists>"
      ]
     },
     "execution_count": 10,
     "metadata": {},
     "output_type": "execute_result"
    },
    {
     "data": {
      "text/plain": [
       "<BarContainer object of 5 artists>"
      ]
     },
     "execution_count": 10,
     "metadata": {},
     "output_type": "execute_result"
    },
    {
     "data": {
      "text/plain": [
       "<BarContainer object of 5 artists>"
      ]
     },
     "execution_count": 10,
     "metadata": {},
     "output_type": "execute_result"
    },
    {
     "data": {
      "text/plain": [
       "Text(0,0.5,'High Risk')"
      ]
     },
     "execution_count": 10,
     "metadata": {},
     "output_type": "execute_result"
    },
    {
     "data": {
      "text/plain": [
       "[None,\n",
       " None,\n",
       " None,\n",
       " None,\n",
       " None,\n",
       " None,\n",
       " None,\n",
       " None,\n",
       " None,\n",
       " None,\n",
       " None,\n",
       " None,\n",
       " None,\n",
       " None]"
      ]
     },
     "execution_count": 10,
     "metadata": {},
     "output_type": "execute_result"
    },
    {
     "data": {
      "text/plain": [
       "<BarContainer object of 5 artists>"
      ]
     },
     "execution_count": 10,
     "metadata": {},
     "output_type": "execute_result"
    },
    {
     "data": {
      "text/plain": [
       "<BarContainer object of 5 artists>"
      ]
     },
     "execution_count": 10,
     "metadata": {},
     "output_type": "execute_result"
    },
    {
     "data": {
      "text/plain": [
       "<BarContainer object of 5 artists>"
      ]
     },
     "execution_count": 10,
     "metadata": {},
     "output_type": "execute_result"
    },
    {
     "data": {
      "text/plain": [
       "Text(0,0.5,'Low Risk')"
      ]
     },
     "execution_count": 10,
     "metadata": {},
     "output_type": "execute_result"
    },
    {
     "data": {
      "image/png": "[encoded data removed]",
      "text/plain": [
       "<Figure size 432x288 with 3 Axes>"
      ]
     },
     "metadata": {},
     "output_type": "display_data"
    }
   ],
   "source": [
    "plt.cla()\n",
    "plt.style.use('ggplot')\n",
    "plot_name = '2_home_win_bias'\n",
    "results_sources = \"../../datasets/results\"\n",
    "source_name = \"/\"+plot_name+\".xlsx\"\n",
    "\n",
    "game_name = 'iceball'\n",
    "\n",
    "sheet = game_name + '_no_risk'\n",
    "data = pd.read_excel(results_sources+source_name,sheet_name = sheet,index_col=0).apply(lambda x: round(x,5))\n",
    "tag = data.columns.tolist()\n",
    "xt = data.index.tolist()\n",
    "xt.insert(0,'0')\n",
    "ax1 = plt.subplot(311,ylim=yrange,xticklabels=xt)\n",
    "# ax = plt.gca()  # 获取当前图像的坐标轴信息\n",
    "# ax.yaxis.get_major_formatter().set_powerlimits((0,1)) # 将坐标轴的base number设置为一位。\n",
    "plt.bar(x, data[tag[0]],  width=width, label=tag[0],ec='k', ls='-', lw=1,color='k')\n",
    "plt.bar(x + width, data[tag[1]], width=width, label=tag[1],hatch='/',ec='k', ls='-', lw=1,color='w')\n",
    "plt.bar(x +2 * width, data[tag[2]], width=width, label=tag[2],hatch='.',ec='k', ls='-', lw=1,color=(0.5,0.5,0.5))\n",
    "plt.ylabel('Normal',color = 'k')\n",
    "plt.legend(bbox_to_anchor=(0,1.02,1,0.2), loc=\"lower left\",\n",
    "                mode=\"expand\", borderaxespad=0, ncol=3)\n",
    "plt.setp(ax1.get_xticklabels(), visible=False)\n",
    "\n",
    "# share x only\n",
    "\n",
    "sheet = game_name + '_high_risk'\n",
    "data = pd.read_excel(results_sources+source_name,sheet_name = sheet,index_col=0).apply(lambda x: round(x,5))\n",
    "tag = data.columns.tolist()\n",
    "xt = data.index.tolist()\n",
    "xt.insert(0,'0')\n",
    "ax2 = plt.subplot(312, sharex=ax1,ylim=yrange)\n",
    "plt.bar(x, data[tag[0]],  width=width, label=tag[0],ec='k', ls='-', lw=1,color='k')\n",
    "plt.bar(x + width, data[tag[1]], width=width, label=tag[1],hatch='/',ec='k', ls='-', lw=1,color='w')\n",
    "plt.bar(x +2 * width, data[tag[2]], width=width, label=tag[2],hatch='.',ec='k', ls='-', lw=1,color=(0.5,0.5,0.5))\n",
    "plt.ylabel('High Risk',color = 'k')\n",
    "plt.setp(ax2.get_xticklabels(), visible=False)\n",
    "\n",
    "# share x and y\n",
    "\n",
    "sheet = game_name + '_low_risk'\n",
    "data = pd.read_excel(results_sources+source_name,sheet_name = sheet,index_col=0).apply(lambda x: round(x,5))\n",
    "tag = data.columns.tolist()\n",
    "xt = data.index.tolist()\n",
    "xt.insert(0,'0')\n",
    "ax3 = plt.subplot(313, sharex=ax1,ylim=yrange)\n",
    "plt.bar(x, data[tag[0]],  width=width, label=tag[0],ec='k', ls='-', lw=1,color='k')\n",
    "plt.bar(x + width, data[tag[1]], width=width, label=tag[1],hatch='/',ec='k', ls='-', lw=1,color='w')\n",
    "plt.bar(x +2 * width, data[tag[2]], width=width, label=tag[2],hatch='.',ec='k', ls='-', lw=1,color=(0.5,0.5,0.5))\n",
    "plt.ylabel('Low Risk',color = 'k')\n",
    "\n",
    "plt.savefig(\"../../Diser/Plot/\"+plot_name+'_' +game_name +\".png\", bbox_inches=\"tight\")\n",
    "\n",
    "plt.show()"
   ]
  },
  {
   "cell_type": "markdown",
   "metadata": {},
   "source": [
    "## 3. summary of bias effect for home_win accuracy"
   ]
  },
  {
   "cell_type": "code",
   "execution_count": 8,
   "metadata": {
    "ExecuteTime": {
     "end_time": "2018-08-12T14:30:16.023311Z",
     "start_time": "2018-08-12T14:30:15.005255Z"
    },
    "collapsed": false
   },
   "outputs": [
    {
     "data": {
      "text/plain": [
       "array([-0.26666667,  0.73333333,  1.73333333])"
      ]
     },
     "execution_count": 8,
     "metadata": {},
     "output_type": "execute_result"
    },
    {
     "data": {
      "text/plain": [
       "<BarContainer object of 3 artists>"
      ]
     },
     "execution_count": 8,
     "metadata": {},
     "output_type": "execute_result"
    },
    {
     "data": {
      "text/plain": [
       "<BarContainer object of 3 artists>"
      ]
     },
     "execution_count": 8,
     "metadata": {},
     "output_type": "execute_result"
    },
    {
     "data": {
      "text/plain": [
       "<BarContainer object of 3 artists>"
      ]
     },
     "execution_count": 8,
     "metadata": {},
     "output_type": "execute_result"
    },
    {
     "data": {
      "text/plain": [
       "Text(0,0.5,'Accuracy Increase')"
      ]
     },
     "execution_count": 8,
     "metadata": {},
     "output_type": "execute_result"
    },
    {
     "data": {
      "text/plain": [
       "<matplotlib.legend.Legend at 0x184be84a7f0>"
      ]
     },
     "execution_count": 8,
     "metadata": {},
     "output_type": "execute_result"
    },
    {
     "data": {
      "image/png": "[encoded data removed]",
      "text/plain": [
       "<Figure size 432x288 with 1 Axes>"
      ]
     },
     "metadata": {},
     "output_type": "display_data"
    }
   ],
   "source": [
    "plt.style.use('ggplot')\n",
    "plot_name = '3_home_win_bias_summary'\n",
    "results_sources = \"../../datasets/results\"\n",
    "source_name = \"/\"+plot_name+\".xlsx\"\n",
    "\n",
    "size = 3\n",
    "x = np.arange(size)\n",
    "total_width, n = 0.8, 3\n",
    "width = total_width / n\n",
    "x = x - (total_width - width) / 2\n",
    "x\n",
    "game_name = ''\n",
    "\n",
    "sheet = game_name + '_no_risk'\n",
    "data = pd.read_excel(results_sources+source_name,sheet_name = sheet,index_col=0).apply(lambda x: round(x,5))\n",
    "tag = data.columns.tolist()\n",
    "xt = data.index.tolist()\n",
    "# xt.insert(0,'0')\n",
    "# ax1 = plt.subplot(311,ylim=(-0.02,0.02))\n",
    "ax1 = plt.subplot(111,ylim=(-0.006,0.006), xticks=[0,1, 2, 3],xticklabels=xt)\n",
    "# ax = plt.gca()  # 获取当前图像的坐标轴信息\n",
    "# ax.yaxis.get_major_formatter().set_powerlimits((0,1)) # 将坐标轴的base number设置为一位。\n",
    "plt.bar(x, data[tag[0]],  width=width, label=tag[0],ec='k', ls='-', lw=1,color='k')\n",
    "plt.bar(x + width, data[tag[1]], width=width, label=tag[1],hatch='/',ec='k', ls='-', lw=1,color='w')\n",
    "plt.bar(x +2 * width, data[tag[2]], width=width, label=tag[2],hatch='.',ec='k', ls='-', lw=1,color=(0.5,0.5,0.5))\n",
    "plt.ylabel('Accuracy Increase',color = 'k')\n",
    "plt.legend(bbox_to_anchor=(0,1.02,1,0.2), loc=\"lower left\",\n",
    "                mode=\"expand\", borderaxespad=0, ncol=3)\n",
    "# plt.setp(ax1.get_xticklabels(), visible=False)\n",
    "\n",
    "# # share x only\n",
    "\n",
    "# sheet = game_name + '_high_risk'\n",
    "# data = pd.read_excel(results_sources+source_name,sheet_name = sheet,index_col=0).apply(lambda x: round(x,5))\n",
    "# tag = data.columns.tolist()\n",
    "# xt = data.index.tolist()\n",
    "# xt.insert(0,'0')\n",
    "# ax2 = plt.subplot(312, sharex=ax1,ylim=(-0.02,0.02))\n",
    "# plt.bar(x, data[tag[0]],  width=width, label=tag[0],ec='k', ls='-', lw=1,color='k')\n",
    "# plt.bar(x + width, data[tag[1]], width=width, label=tag[1],hatch='/',ec='k', ls='-', lw=1,color='w')\n",
    "# plt.bar(x +2 * width, data[tag[2]], width=width, label=tag[2],hatch='.',ec='k', ls='-', lw=1,color=(0.5,0.5,0.5))\n",
    "# plt.ylabel('High Risk',color = 'k')\n",
    "# plt.setp(ax2.get_xticklabels(), visible=False)\n",
    "\n",
    "# # share x and y\n",
    "\n",
    "# sheet = game_name + '_low_risk'\n",
    "# data = pd.read_excel(results_sources+source_name,sheet_name = sheet,index_col=0).apply(lambda x: round(x,5))\n",
    "# tag = data.columns.tolist()\n",
    "# xt = data.index.tolist()\n",
    "# xt.insert(0,'0')\n",
    "# ax3 = plt.subplot(313, sharex=ax1,ylim=(-0.02,0.02))\n",
    "# plt.bar(x, data[tag[0]],  width=width, label=tag[0],ec='k', ls='-', lw=1,color='k')\n",
    "# plt.bar(x + width, data[tag[1]], width=width, label=tag[1],hatch='/',ec='k', ls='-', lw=1,color='w')\n",
    "# plt.bar(x +2 * width, data[tag[2]], width=width, label=tag[2],hatch='.',ec='k', ls='-', lw=1,color=(0.5,0.5,0.5))\n",
    "# plt.ylabel('Low Risk',color = 'k')\n",
    "\n",
    "plt.savefig(\"../../Diser/Plot/\"+plot_name+'_' +game_name +\".png\", bbox_inches=\"tight\")\n",
    "\n",
    "plt.show()"
   ]
  },
  {
   "cell_type": "markdown",
   "metadata": {},
   "source": [
    "## 4. price direction accuracy"
   ]
  },
  {
   "cell_type": "code",
   "execution_count": 11,
   "metadata": {
    "ExecuteTime": {
     "end_time": "2018-08-12T15:04:56.497888Z",
     "start_time": "2018-08-12T15:04:55.587886Z"
    },
    "collapsed": false
   },
   "outputs": [
    {
     "data": {
      "text/plain": [
       "array([-0.2,  0.8,  1.8])"
      ]
     },
     "execution_count": 11,
     "metadata": {},
     "output_type": "execute_result"
    },
    {
     "data": {
      "text/plain": [
       "<BarContainer object of 3 artists>"
      ]
     },
     "execution_count": 11,
     "metadata": {},
     "output_type": "execute_result"
    },
    {
     "data": {
      "text/plain": [
       "<BarContainer object of 3 artists>"
      ]
     },
     "execution_count": 11,
     "metadata": {},
     "output_type": "execute_result"
    },
    {
     "data": {
      "text/plain": [
       "Text(0,0.5,'Accuracy of Predicting Direction')"
      ]
     },
     "execution_count": 11,
     "metadata": {},
     "output_type": "execute_result"
    },
    {
     "data": {
      "text/plain": [
       "<matplotlib.legend.Legend at 0x184be9cbd30>"
      ]
     },
     "execution_count": 11,
     "metadata": {},
     "output_type": "execute_result"
    },
    {
     "data": {
      "image/png": "[encoded data removed]",
      "text/plain": [
       "<Figure size 432x288 with 1 Axes>"
      ]
     },
     "metadata": {},
     "output_type": "display_data"
    }
   ],
   "source": [
    "plt.style.use('ggplot')\n",
    "plot_name = '4.price_direction_accuracy'\n",
    "results_sources = \"../../datasets/results\"\n",
    "source_name = \"/\"+plot_name+\".xlsx\"\n",
    "\n",
    "size = 3\n",
    "x = np.arange(size)\n",
    "total_width, n = 0.8, 2\n",
    "width = total_width / n\n",
    "x = x - (total_width - width) / 2\n",
    "x\n",
    "\n",
    "sheet = 'accuracy'\n",
    "data = pd.read_excel(results_sources+source_name,sheet_name = sheet,index_col=0).apply(lambda x: round(x,5))\n",
    "tag = data.columns.tolist()\n",
    "xt = data.index.tolist()\n",
    "# ax1 = plt.subplot(311,ylim=(-0.02,0.02))\n",
    "# plt.axis([-1, 3, 0.4, 0.6])\n",
    "ax1 = plt.subplot(111,ylim=(0.4,0.6), xticks=[0, 1, 2, 3],xticklabels=xt)\n",
    "# ax = plt.gca()  # 获取当前图像的坐标轴信息\n",
    "# ax.yaxis.get_major_formatter().set_powerlimits((0,1)) # 将坐标轴的base number设置为一位。\n",
    "plt.bar(x, data[tag[0]],  width=width, label=tag[0],ec='k', ls='-', lw=1,color='k')\n",
    "plt.bar(x + width, data[tag[1]], width=width, label=tag[1],hatch='/',ec='k', ls='-', lw=1,color='w')\n",
    "plt.ylabel('Accuracy of Predicting Direction',color = 'k')\n",
    "plt.legend(bbox_to_anchor=(0,1.02,1,0.2), loc=\"lower left\",\n",
    "                mode=\"expand\", borderaxespad=0, ncol=2)\n",
    "# plt.setp(ax1.get_xticklabels(), visible=False)\n",
    "\n",
    "# # share x only\n",
    "\n",
    "# sheet = game_name + '_high_risk'\n",
    "# data = pd.read_excel(results_sources+source_name,sheet_name = sheet,index_col=0).apply(lambda x: round(x,5))\n",
    "# tag = data.columns.tolist()\n",
    "# xt = data.index.tolist()\n",
    "# xt.insert(0,'0')\n",
    "# ax2 = plt.subplot(312, sharex=ax1,ylim=(-0.02,0.02))\n",
    "# plt.bar(x, data[tag[0]],  width=width, label=tag[0],ec='k', ls='-', lw=1,color='k')\n",
    "# plt.bar(x + width, data[tag[1]], width=width, label=tag[1],hatch='/',ec='k', ls='-', lw=1,color='w')\n",
    "# plt.ylabel('High Risk',color = 'k')\n",
    "# plt.setp(ax2.get_xticklabels(), visible=False)\n",
    "\n",
    "# # share x and y\n",
    "\n",
    "# sheet = game_name + '_low_risk'\n",
    "# data = pd.read_excel(results_sources+source_name,sheet_name = sheet,index_col=0).apply(lambda x: round(x,5))\n",
    "# tag = data.columns.tolist()\n",
    "# xt = data.index.tolist()\n",
    "# xt.insert(0,'0')\n",
    "# ax3 = plt.subplot(313, sharex=ax1,ylim=(-0.02,0.02))\n",
    "# plt.bar(x, data[tag[0]],  width=width, label=tag[0],ec='k', ls='-', lw=1,color='k')\n",
    "# plt.bar(x + width, data[tag[1]], width=width, label=tag[1],hatch='/',ec='k', ls='-', lw=1,color='w')\n",
    "# plt.ylabel('Low Risk',color = 'k')\n",
    "\n",
    "plt.savefig(\"../../Diser/Plot/\"+plot_name+\".png\", bbox_inches=\"tight\")\n",
    "\n",
    "plt.show()"
   ]
  },
  {
   "cell_type": "markdown",
   "metadata": {
    "collapsed": true
   },
   "source": [
    "## 5. price_regression_error"
   ]
  },
  {
   "cell_type": "code",
   "execution_count": 16,
   "metadata": {
    "ExecuteTime": {
     "end_time": "2018-08-12T15:19:23.444059Z",
     "start_time": "2018-08-12T15:19:22.503069Z"
    },
    "collapsed": false
   },
   "outputs": [
    {
     "data": {
      "text/plain": [
       "array([-0.2,  0.8,  1.8])"
      ]
     },
     "execution_count": 16,
     "metadata": {},
     "output_type": "execute_result"
    },
    {
     "data": {
      "text/plain": [
       "<BarContainer object of 3 artists>"
      ]
     },
     "execution_count": 16,
     "metadata": {},
     "output_type": "execute_result"
    },
    {
     "data": {
      "text/plain": [
       "<BarContainer object of 3 artists>"
      ]
     },
     "execution_count": 16,
     "metadata": {},
     "output_type": "execute_result"
    },
    {
     "data": {
      "text/plain": [
       "Text(0,0.5,'Mean Sum of Square')"
      ]
     },
     "execution_count": 16,
     "metadata": {},
     "output_type": "execute_result"
    },
    {
     "data": {
      "text/plain": [
       "<matplotlib.legend.Legend at 0x184be8f1128>"
      ]
     },
     "execution_count": 16,
     "metadata": {},
     "output_type": "execute_result"
    },
    {
     "data": {
      "image/png": "[encoded data removed]",
      "text/plain": [
       "<Figure size 432x288 with 1 Axes>"
      ]
     },
     "metadata": {},
     "output_type": "display_data"
    }
   ],
   "source": [
    "plt.style.use('ggplot')\n",
    "plot_name = '4.price_direction_accuracy'\n",
    "results_sources = \"../../datasets/results\"\n",
    "source_name = \"/\"+plot_name+\".xlsx\"\n",
    "\n",
    "size = 3\n",
    "x = np.arange(size)\n",
    "total_width, n = 0.8, 2\n",
    "width = total_width / n\n",
    "x = x - (total_width - width) / 2\n",
    "x\n",
    "\n",
    "# sheet = 'r2'\n",
    "# data = pd.read_excel(results_sources+source_name,sheet_name = sheet,index_col=0).apply(lambda x: round(x,5))\n",
    "# tag = data.columns.tolist()\n",
    "# xt = data.index.tolist()\n",
    "# # ax1 = plt.subplot(311,ylim=(-0.02,0.02))\n",
    "# # plt.axis([-1, 3, 0.4, 0.6])\n",
    "# ax1 = plt.subplot(211,ylim=(0,1.1), xticks=[0, 1, 2, 3],xticklabels=xt)\n",
    "# # ax = plt.gca()  # 获取当前图像的坐标轴信息\n",
    "# # ax.yaxis.get_major_formatter().set_powerlimits((0,1)) # 将坐标轴的base number设置为一位。\n",
    "# plt.bar(x, data[tag[0]],  width=width, label=tag[0],ec='k', ls='-', lw=1,color='k')\n",
    "# plt.bar(x + width, data[tag[1]], width=width, label=tag[1],hatch='/',ec='k', ls='-', lw=1,color='w')\n",
    "# plt.ylabel(r\"$r^2$\",color = 'k')\n",
    "# plt.legend(bbox_to_anchor=(0,1.02,1,0.2), loc=\"lower left\",\n",
    "#                 mode=\"expand\", borderaxespad=0, ncol=2)\n",
    "# plt.setp(ax1.get_xticklabels(), visible=False)\n",
    "\n",
    "\n",
    "# # share x and y\n",
    "\n",
    "sheet = 'mse'\n",
    "data = pd.read_excel(results_sources+source_name,sheet_name = sheet,index_col=0).apply(lambda x: round(x,5))\n",
    "tag = data.columns.tolist()\n",
    "xt = data.index.tolist()\n",
    "# ax3 = plt.subplot(212, sharex=ax1,ylim=(0,0.05))\n",
    "ax1 = plt.subplot(111,ylim=(0,0.05), xticks=[0, 1, 2, 3],xticklabels=xt)\n",
    "plt.bar(x, data[tag[0]],  width=width, label=tag[0],ec='k', ls='-', lw=1,color='k')\n",
    "plt.bar(x + width, data[tag[1]], width=width, label=tag[1],hatch='/',ec='k', ls='-', lw=1,color='w')\n",
    "plt.ylabel('Mean Sum of Square',color = 'k')\n",
    "plot_name = \"5.price_regression_error\"\n",
    "plt.legend(bbox_to_anchor=(0,1.02,1,0.2), loc=\"lower left\",\n",
    "                mode=\"expand\", borderaxespad=0, ncol=2)\n",
    "plt.savefig(\"../../Diser/Plot/\"+plot_name+\".png\", bbox_inches=\"tight\")\n",
    "\n",
    "plt.show()"
   ]
  },
  {
   "cell_type": "markdown",
   "metadata": {},
   "source": [
    "## 6. price_regression_bias\n"
   ]
  },
  {
   "cell_type": "code",
   "execution_count": 12,
   "metadata": {
    "ExecuteTime": {
     "end_time": "2018-08-12T15:12:22.388644Z",
     "start_time": "2018-08-12T15:12:21.094643Z"
    },
    "collapsed": false
   },
   "outputs": [
    {
     "data": {
      "text/plain": [
       "array([-0.26666667,  0.73333333,  1.73333333])"
      ]
     },
     "execution_count": 12,
     "metadata": {},
     "output_type": "execute_result"
    },
    {
     "data": {
      "text/plain": [
       "<BarContainer object of 3 artists>"
      ]
     },
     "execution_count": 12,
     "metadata": {},
     "output_type": "execute_result"
    },
    {
     "data": {
      "text/plain": [
       "<BarContainer object of 3 artists>"
      ]
     },
     "execution_count": 12,
     "metadata": {},
     "output_type": "execute_result"
    },
    {
     "data": {
      "text/plain": [
       "<BarContainer object of 3 artists>"
      ]
     },
     "execution_count": 12,
     "metadata": {},
     "output_type": "execute_result"
    },
    {
     "data": {
      "text/plain": [
       "Text(0,0.5,'2nd period')"
      ]
     },
     "execution_count": 12,
     "metadata": {},
     "output_type": "execute_result"
    },
    {
     "data": {
      "text/plain": [
       "<matplotlib.legend.Legend at 0x184bea223c8>"
      ]
     },
     "execution_count": 12,
     "metadata": {},
     "output_type": "execute_result"
    },
    {
     "data": {
      "text/plain": [
       "[None, None, None, None, None, None, None, None]"
      ]
     },
     "execution_count": 12,
     "metadata": {},
     "output_type": "execute_result"
    },
    {
     "data": {
      "text/plain": [
       "<BarContainer object of 3 artists>"
      ]
     },
     "execution_count": 12,
     "metadata": {},
     "output_type": "execute_result"
    },
    {
     "data": {
      "text/plain": [
       "<BarContainer object of 3 artists>"
      ]
     },
     "execution_count": 12,
     "metadata": {},
     "output_type": "execute_result"
    },
    {
     "data": {
      "text/plain": [
       "<BarContainer object of 3 artists>"
      ]
     },
     "execution_count": 12,
     "metadata": {},
     "output_type": "execute_result"
    },
    {
     "data": {
      "text/plain": [
       "Text(0,0.5,'3rd period')"
      ]
     },
     "execution_count": 12,
     "metadata": {},
     "output_type": "execute_result"
    },
    {
     "data": {
      "image/png": "[encoded data removed]",
      "text/plain": [
       "<Figure size 432x288 with 2 Axes>"
      ]
     },
     "metadata": {},
     "output_type": "display_data"
    }
   ],
   "source": [
    "plt.style.use('ggplot')\n",
    "plot_name = '6.price_regression_bias'\n",
    "results_sources = \"../../datasets/results\"\n",
    "source_name = \"/\"+plot_name+\".xlsx\"\n",
    "\n",
    "size = 3\n",
    "x = np.arange(size)\n",
    "total_width, n = 0.8, 3\n",
    "width = total_width / n\n",
    "x = x - (total_width - width) / 2\n",
    "x\n",
    "\n",
    "sheet = 'r2_sec1'\n",
    "data = pd.read_excel(results_sources+source_name,sheet_name = sheet,index_col=0).apply(lambda x: round(x,5))\n",
    "tag = data.columns.tolist()\n",
    "xt = data.index.tolist()\n",
    "# ax1 = plt.subplot(311,ylim=(-0.02,0.02))\n",
    "# plt.axis([-1, 3, 0.4, 0.6])\n",
    "ax1 = plt.subplot(211,ylim=(-.03,0.01), xticks=[0, 1, 2, 3],xticklabels=xt)\n",
    "# ax = plt.gca()  # 获取当前图像的坐标轴信息\n",
    "# ax.yaxis.get_major_formatter().set_powerlimits((0,1)) # 将坐标轴的base number设置为一位。\n",
    "plt.bar(x, data[tag[0]],  width=width, label=tag[0],ec='k', ls='-', lw=1,color='k')\n",
    "plt.bar(x + width, data[tag[1]], width=width, label=tag[1],hatch='/',ec='k', ls='-', lw=1,color='w')\n",
    "plt.bar(x +2 * width, data[tag[2]], width=width, label=tag[2],hatch='.',ec='k', ls='-', lw=1,color=(0.5,0.5,0.5))\n",
    "plt.ylabel(\"2nd period\",color = 'k')\n",
    "plt.legend(bbox_to_anchor=(0,1.02,1,0.2), loc=\"lower left\",\n",
    "                mode=\"expand\", borderaxespad=0, ncol=3)\n",
    "plt.setp(ax1.get_xticklabels(), visible=False)\n",
    "\n",
    "sheet = 'r2_sec2'\n",
    "data = pd.read_excel(results_sources+source_name,sheet_name = sheet,index_col=0).apply(lambda x: round(x,5))\n",
    "tag = data.columns.tolist()\n",
    "xt = data.index.tolist()\n",
    "# ax1 = plt.subplot(311,ylim=(-0.02,0.02))\n",
    "# plt.axis([-1, 3, 0.4, 0.6])\n",
    "ax1 = plt.subplot(212, sharey=ax1, xticks=[0, 1, 2, 3],xticklabels=xt)\n",
    "# ax = plt.gca()  # 获取当前图像的坐标轴信息\n",
    "# ax.yaxis.get_major_formatter().set_powerlimits((0,1)) # 将坐标轴的base number设置为一位。\n",
    "plt.bar(x, data[tag[0]],  width=width, label=tag[0],ec='k', ls='-', lw=1,color='k')\n",
    "plt.bar(x + width, data[tag[1]], width=width, label=tag[1],hatch='/',ec='k', ls='-', lw=1,color='w')\n",
    "plt.bar(x +2 * width, data[tag[2]], width=width, label=tag[2],hatch='.',ec='k', ls='-', lw=1,color=(0.5,0.5,0.5))\n",
    "plt.ylabel(\"3rd period\",color = 'k')\n",
    "# plt.legend(bbox_to_anchor=(0,1.02,1,0.2), loc=\"lower left\",\n",
    "#                 mode=\"expand\", borderaxespad=0, ncol=3)\n",
    "# plt.setp(ax1.get_xticklabels(), visible=False)\n",
    "\n",
    "plt.savefig(\"../../Diser/Plot/\"+plot_name+\"_r2.png\", bbox_inches=\"tight\")\n",
    "\n",
    "plt.show()"
   ]
  },
  {
   "cell_type": "code",
   "execution_count": 13,
   "metadata": {
    "ExecuteTime": {
     "end_time": "2018-08-12T15:12:56.182107Z",
     "start_time": "2018-08-12T15:12:54.966580Z"
    },
    "collapsed": false
   },
   "outputs": [
    {
     "data": {
      "text/plain": [
       "<BarContainer object of 3 artists>"
      ]
     },
     "execution_count": 13,
     "metadata": {},
     "output_type": "execute_result"
    },
    {
     "data": {
      "text/plain": [
       "<BarContainer object of 3 artists>"
      ]
     },
     "execution_count": 13,
     "metadata": {},
     "output_type": "execute_result"
    },
    {
     "data": {
      "text/plain": [
       "<BarContainer object of 3 artists>"
      ]
     },
     "execution_count": 13,
     "metadata": {},
     "output_type": "execute_result"
    },
    {
     "data": {
      "text/plain": [
       "Text(0,0.5,'2nd period')"
      ]
     },
     "execution_count": 13,
     "metadata": {},
     "output_type": "execute_result"
    },
    {
     "data": {
      "text/plain": [
       "<matplotlib.legend.Legend at 0x184bea9c6a0>"
      ]
     },
     "execution_count": 13,
     "metadata": {},
     "output_type": "execute_result"
    },
    {
     "data": {
      "text/plain": [
       "<BarContainer object of 3 artists>"
      ]
     },
     "execution_count": 13,
     "metadata": {},
     "output_type": "execute_result"
    },
    {
     "data": {
      "text/plain": [
       "<BarContainer object of 3 artists>"
      ]
     },
     "execution_count": 13,
     "metadata": {},
     "output_type": "execute_result"
    },
    {
     "data": {
      "text/plain": [
       "<BarContainer object of 3 artists>"
      ]
     },
     "execution_count": 13,
     "metadata": {},
     "output_type": "execute_result"
    },
    {
     "data": {
      "text/plain": [
       "Text(0,0.5,'3rd period')"
      ]
     },
     "execution_count": 13,
     "metadata": {},
     "output_type": "execute_result"
    },
    {
     "data": {
      "image/png": "[encoded data removed]",
      "text/plain": [
       "<Figure size 432x288 with 2 Axes>"
      ]
     },
     "metadata": {},
     "output_type": "display_data"
    }
   ],
   "source": [
    "plt.style.use('ggplot')\n",
    "plot_name = '6.price_regression_bias'\n",
    "results_sources = \"../../datasets/results\"\n",
    "source_name = \"/\"+plot_name+\".xlsx\"\n",
    "\n",
    "size = 3\n",
    "x = np.arange(size)\n",
    "total_width, n = 0.8, 3\n",
    "width = total_width / n\n",
    "x = x - (total_width - width) / 2\n",
    "\n",
    "sheet = 'mse_sec1'\n",
    "data = pd.read_excel(results_sources+source_name,sheet_name = sheet,index_col=0).apply(lambda x: round(x,5))\n",
    "tag = data.columns.tolist()\n",
    "xt = data.index.tolist()\n",
    "# ax1 = plt.subplot(311,ylim=(-0.02,0.02))\n",
    "# plt.axis([-1, 3, 0.4, 0.6])\n",
    "ax1 = plt.subplot(211, ylim=(0,0.003),xticks=[0, 1, 2, 3],xticklabels=xt)\n",
    "# ax = plt.gca()  # 获取当前图像的坐标轴信息\n",
    "# ax.yaxis.get_major_formatter().set_powerlimits((0,1)) # 将坐标轴的base number设置为一位。\n",
    "plt.bar(x, data[tag[0]],  width=width, label=tag[0],ec='k', ls='-', lw=1,color='k')\n",
    "plt.bar(x + width, data[tag[1]], width=width, label=tag[1],hatch='/',ec='k', ls='-', lw=1,color='w')\n",
    "plt.bar(x +2 * width, data[tag[2]], width=width, label=tag[2],hatch='.',ec='k', ls='-', lw=1,color=(0.5,0.5,0.5))\n",
    "plt.ylabel(\"2nd period\",color = 'k')\n",
    "plt.legend(bbox_to_anchor=(0,1.02,1,0.2), loc=\"lower left\",\n",
    "                mode=\"expand\", borderaxespad=0, ncol=3)\n",
    "\n",
    "sheet = 'mse_sec2'\n",
    "data = pd.read_excel(results_sources+source_name,sheet_name = sheet,index_col=0).apply(lambda x: round(x,5))\n",
    "tag = data.columns.tolist()\n",
    "xt = data.index.tolist()\n",
    "# ax1 = plt.subplot(311,ylim=(-0.02,0.02))\n",
    "# plt.axis([-1, 3, 0.4, 0.6])\n",
    "ax1 = plt.subplot(212, ylim=(0,0.003),xticks=[0, 1, 2, 3],xticklabels=xt)\n",
    "# ax = plt.gca()  # 获取当前图像的坐标轴信息\n",
    "# ax.yaxis.get_major_formatter().set_powerlimits((0,1)) # 将坐标轴的base number设置为一位。\n",
    "plt.bar(x, data[tag[0]],  width=width, label=tag[0],ec='k', ls='-', lw=1,color='k')\n",
    "plt.bar(x + width, data[tag[1]], width=width, label=tag[1],hatch='/',ec='k', ls='-', lw=1,color='w')\n",
    "plt.bar(x +2 * width, data[tag[2]], width=width, label=tag[2],hatch='.',ec='k', ls='-', lw=1,color=(0.5,0.5,0.5))\n",
    "plt.ylabel(\"3rd period\",color = 'k')\n",
    "plt.savefig(\"../../Diser/Plot/\"+plot_name+\"_mse.png\", bbox_inches=\"tight\")\n",
    "\n",
    "plt.show()"
   ]
  },
  {
   "cell_type": "markdown",
   "metadata": {},
   "source": [
    "## 7. price_direction_bias"
   ]
  },
  {
   "cell_type": "code",
   "execution_count": 18,
   "metadata": {
    "ExecuteTime": {
     "end_time": "2018-08-17T11:24:13.196563Z",
     "start_time": "2018-08-17T11:24:11.936526Z"
    },
    "collapsed": false
   },
   "outputs": [
    {
     "data": {
      "text/plain": [
       "<BarContainer object of 3 artists>"
      ]
     },
     "execution_count": 18,
     "metadata": {},
     "output_type": "execute_result"
    },
    {
     "data": {
      "text/plain": [
       "<BarContainer object of 3 artists>"
      ]
     },
     "execution_count": 18,
     "metadata": {},
     "output_type": "execute_result"
    },
    {
     "data": {
      "text/plain": [
       "<BarContainer object of 3 artists>"
      ]
     },
     "execution_count": 18,
     "metadata": {},
     "output_type": "execute_result"
    },
    {
     "data": {
      "text/plain": [
       "Text(0,0.5,'2nd period')"
      ]
     },
     "execution_count": 18,
     "metadata": {},
     "output_type": "execute_result"
    },
    {
     "data": {
      "text/plain": [
       "<matplotlib.legend.Legend at 0x1a3164c6cc0>"
      ]
     },
     "execution_count": 18,
     "metadata": {},
     "output_type": "execute_result"
    },
    {
     "data": {
      "text/plain": [
       "<BarContainer object of 3 artists>"
      ]
     },
     "execution_count": 18,
     "metadata": {},
     "output_type": "execute_result"
    },
    {
     "data": {
      "text/plain": [
       "<BarContainer object of 3 artists>"
      ]
     },
     "execution_count": 18,
     "metadata": {},
     "output_type": "execute_result"
    },
    {
     "data": {
      "text/plain": [
       "<BarContainer object of 3 artists>"
      ]
     },
     "execution_count": 18,
     "metadata": {},
     "output_type": "execute_result"
    },
    {
     "data": {
      "text/plain": [
       "Text(0,0.5,'3rd period')"
      ]
     },
     "execution_count": 18,
     "metadata": {},
     "output_type": "execute_result"
    },
    {
     "data": {
      "text/plain": [
       "Text(0.5,0,'Markets types')"
      ]
     },
     "execution_count": 18,
     "metadata": {},
     "output_type": "execute_result"
    },
    {
     "data": {
      "image/png": "[encoded data removed]",
      "text/plain": [
       "<Figure size 460.8x316.8 with 2 Axes>"
      ]
     },
     "metadata": {},
     "output_type": "display_data"
    }
   ],
   "source": [
    "plt.style.use('ggplot')\n",
    "plot_name = '7.price_direction_bias'\n",
    "results_sources = \"../../datasets/results\"\n",
    "source_name = \"/\"+plot_name+\".xlsx\"\n",
    "\n",
    "size = 3\n",
    "x = np.arange(size)\n",
    "total_width, n = 0.8, 3\n",
    "width = total_width / n\n",
    "x = x - (total_width - width) / 2\n",
    "\n",
    "sheet = 'sec1'\n",
    "data = pd.read_excel(results_sources+source_name,sheet_name = sheet,index_col=0).apply(lambda x: round(x,5))\n",
    "tag = data.columns.tolist()\n",
    "xt = data.index.tolist()\n",
    "# ax1 = plt.subplot(311,ylim=(-0.02,0.02))\n",
    "# plt.axis([-1, 3, 0.4, 0.6])\n",
    "ax1 = plt.subplot(211, ylim=(-.025,0.025),xticks=[0, 1, 2, 3],xticklabels=xt)\n",
    "# ax = plt.gca()  # 获取当前图像的坐标轴信息\n",
    "# ax.yaxis.get_major_formatter().set_powerlimits((0,1)) # 将坐标轴的base number设置为一位。\n",
    "plt.bar(x, data[tag[0]],  width=width, label=tag[0],ec='k', ls='-', lw=1,color='k')\n",
    "plt.bar(x + width, data[tag[1]], width=width, label=tag[1],hatch='/',ec='k', ls='-', lw=1,color='w')\n",
    "plt.bar(x +2 * width, data[tag[2]], width=width, label=tag[2],hatch='.',ec='k', ls='-', lw=1,color=(0.5,0.5,0.5))\n",
    "plt.ylabel(\"2nd period\",color = 'k')\n",
    "plt.legend(bbox_to_anchor=(0,1.02,1,0.2), loc=\"lower left\",\n",
    "                mode=\"expand\", borderaxespad=0, ncol=3)\n",
    "\n",
    "sheet = 'sec2'\n",
    "data = pd.read_excel(results_sources+source_name,sheet_name = sheet,index_col=0).apply(lambda x: round(x,5))\n",
    "tag = data.columns.tolist()\n",
    "xt = data.index.tolist()\n",
    "# ax1 = plt.subplot(311,ylim=(-0.02,0.02))\n",
    "# plt.axis([-1, 3, 0.4, 0.6])\n",
    "ax1 = plt.subplot(212,ylim=(-.025,0.025),xticks=[0, 1, 2, 3],xticklabels=xt)\n",
    "# ax = plt.gca()  # 获取当前图像的坐标轴信息\n",
    "# ax.yaxis.get_major_formatter().set_powerlimits((0,1)) # 将坐标轴的base number设置为一位。\n",
    "plt.bar(x, data[tag[0]],  width=width, label=tag[0],ec='k', ls='-', lw=1,color='k')\n",
    "plt.bar(x + width, data[tag[1]], width=width, label=tag[1],hatch='/',ec='k', ls='-', lw=1,color='w')\n",
    "plt.bar(x +2 * width, data[tag[2]], width=width, label=tag[2],hatch='.',ec='k', ls='-', lw=1,color=(0.5,0.5,0.5))\n",
    "plt.ylabel(\"3rd period\",color = 'k')\n",
    "plt.xlabel(\"Markets types\",color = 'k')\n",
    "plt.savefig(\"../../Diser/Plot/\"+plot_name+\".png\", bbox_inches=\"tight\")\n",
    "\n",
    "plt.show()"
   ]
  },
  {
   "cell_type": "code",
   "execution_count": null,
   "metadata": {
    "collapsed": true
   },
   "outputs": [],
   "source": []
  },
  {
   "cell_type": "code",
   "execution_count": null,
   "metadata": {
    "collapsed": true
   },
   "outputs": [],
   "source": []
  },
  {
   "cell_type": "code",
   "execution_count": null,
   "metadata": {
    "collapsed": true
   },
   "outputs": [],
   "source": []
  },
  {
   "cell_type": "code",
   "execution_count": null,
   "metadata": {
    "collapsed": true
   },
   "outputs": [],
   "source": []
  },
  {
   "cell_type": "code",
   "execution_count": null,
   "metadata": {
    "collapsed": true
   },
   "outputs": [],
   "source": []
  },
  {
   "cell_type": "code",
   "execution_count": null,
   "metadata": {
    "collapsed": true
   },
   "outputs": [],
   "source": []
  },
  {
   "cell_type": "code",
   "execution_count": null,
   "metadata": {
    "collapsed": true
   },
   "outputs": [],
   "source": []
  },
  {
   "cell_type": "markdown",
   "metadata": {
    "collapsed": true
   },
   "source": [
    "## model check"
   ]
  },
  {
   "cell_type": "code",
   "execution_count": 30,
   "metadata": {
    "ExecuteTime": {
     "end_time": "2018-08-18T11:34:30.151857Z",
     "start_time": "2018-08-18T11:34:28.909852Z"
    },
    "collapsed": false
   },
   "outputs": [
    {
     "name": "stdout",
     "output_type": "stream",
     "text": [
      "['fivethirtyeight', 'seaborn-bright', 'seaborn-whitegrid', 'seaborn-deep', 'ggplot', 'seaborn-paper', 'seaborn-dark-palette', 'seaborn-muted', 'grayscale', 'seaborn-talk', 'seaborn-dark', 'tableau-colorblind10', '_classic_test', 'seaborn', 'seaborn-poster', 'seaborn-notebook', 'fast', 'seaborn-colorblind', 'seaborn-ticks', 'dark_background', 'classic', 'seaborn-white', 'seaborn-darkgrid', 'seaborn-pastel', 'Solarize_Light2', 'bmh']\n"
     ]
    },
    {
     "data": {
      "text/plain": [
       "<matplotlib.axes._subplots.AxesSubplot at 0x20a7ffbb1d0>"
      ]
     },
     "execution_count": 30,
     "metadata": {},
     "output_type": "execute_result"
    },
    {
     "data": {
      "text/plain": [
       "(array([ 1,  2,  3,  4,  5,  6,  7,  8,  9, 10, 11]),\n",
       " <a list of 11 Text xticklabel objects>)"
      ]
     },
     "execution_count": 30,
     "metadata": {},
     "output_type": "execute_result"
    },
    {
     "data": {
      "text/plain": [
       "(array([0.0225, 0.025 , 0.0275, 0.03  , 0.0325, 0.035 , 0.0375, 0.04  ,\n",
       "        0.0425, 0.045 , 0.0475]), <a list of 11 Text yticklabel objects>)"
      ]
     },
     "execution_count": 30,
     "metadata": {},
     "output_type": "execute_result"
    },
    {
     "data": {
      "text/plain": [
       "Text(0,0.5,'Mean Sum of Square')"
      ]
     },
     "execution_count": 30,
     "metadata": {},
     "output_type": "execute_result"
    },
    {
     "data": {
      "text/plain": [
       "Text(0.5,0,'Machine Learning Models')"
      ]
     },
     "execution_count": 30,
     "metadata": {},
     "output_type": "execute_result"
    },
    {
     "data": {
      "image/png": "[encoded data removed]",
      "text/plain": [
       "<Figure size 460.8x316.8 with 1 Axes>"
      ]
     },
     "metadata": {},
     "output_type": "display_data"
    }
   ],
   "source": [
    "print(plt.style.available)\n",
    "plt.style.use('seaborn-paper')\n",
    "plot_name = '8.model_check'\n",
    "results_sources = \"../../datasets/results\"\n",
    "source_name = \"/\"+plot_name+\".xlsx\"\n",
    "\n",
    "# sheet = 'home-win'\n",
    "# sheet = 'direction'\n",
    "sheet = 'price-soccer'\n",
    "sheet = 'price'\n",
    "data = pd.read_excel(results_sources+source_name,sheet_name = sheet).apply(lambda x: round(x,5))\n",
    "data.plot.box()\n",
    "plt.xticks(rotation=20,fontsize=10)\n",
    "plt.yticks(fontsize=10)\n",
    "# plt.ylabel(\"Accuracy\",color = 'k',fontsize=15)\n",
    "plt.ylabel(\"Mean Sum of Square\",color = 'k')\n",
    "plt.xlabel(\"Machine Learning Models\",color = 'k',fontsize=15)\n",
    "plt.savefig(\"../../Diser/Plot/\"+plot_name+'_'+sheet+\".png\", bbox_inches=\"tight\")\n",
    "plt.savefig(\"../../Diser/Plot/\"+plot_name+'_'+sheet+\".pdf\", bbox_inches=\"tight\")\n",
    "\n",
    "# plt.show()"
   ]
  },
  {
   "cell_type": "code",
   "execution_count": 103,
   "metadata": {
    "ExecuteTime": {
     "end_time": "2018-08-18T00:32:49.503390Z",
     "start_time": "2018-08-18T00:32:48.584390Z"
    },
    "collapsed": false
   },
   "outputs": [
    {
     "name": "stdout",
     "output_type": "stream",
     "text": [
      "['ggplot', 'seaborn-talk', 'seaborn-notebook', 'seaborn-colorblind', 'dark_background', 'seaborn-deep', 'Solarize_Light2', '_classic_test', 'seaborn-dark-palette', 'fast', 'seaborn-ticks', 'classic', 'seaborn', 'seaborn-paper', 'grayscale', 'seaborn-muted', 'seaborn-poster', 'seaborn-white', 'seaborn-darkgrid', 'seaborn-whitegrid', 'seaborn-pastel', 'tableau-colorblind10', 'fivethirtyeight', 'bmh', 'seaborn-bright', 'seaborn-dark']\n"
     ]
    },
    {
     "data": {
      "text/plain": [
       "<matplotlib.axes._subplots.AxesSubplot at 0x1a321ec82e8>"
      ]
     },
     "execution_count": 103,
     "metadata": {},
     "output_type": "execute_result"
    },
    {
     "data": {
      "text/plain": [
       "(array([1, 2, 3]), <a list of 3 Text xticklabel objects>)"
      ]
     },
     "execution_count": 103,
     "metadata": {},
     "output_type": "execute_result"
    },
    {
     "data": {
      "text/plain": [
       "(array([0.55 , 0.575, 0.6  , 0.625, 0.65 , 0.675, 0.7  , 0.725, 0.75 ,\n",
       "        0.775]), <a list of 10 Text yticklabel objects>)"
      ]
     },
     "execution_count": 103,
     "metadata": {},
     "output_type": "execute_result"
    },
    {
     "data": {
      "text/plain": [
       "(0.55, 0.8)"
      ]
     },
     "execution_count": 103,
     "metadata": {},
     "output_type": "execute_result"
    },
    {
     "data": {
      "text/plain": [
       "Text(0,0.5,'Accuracy')"
      ]
     },
     "execution_count": 103,
     "metadata": {},
     "output_type": "execute_result"
    },
    {
     "data": {
      "text/plain": [
       "Text(0.5,0,'Markets Type')"
      ]
     },
     "execution_count": 103,
     "metadata": {},
     "output_type": "execute_result"
    },
    {
     "data": {
      "image/png": "[encoded data removed]",
      "text/plain": [
       "<Figure size 460.8x316.8 with 1 Axes>"
      ]
     },
     "metadata": {},
     "output_type": "display_data"
    }
   ],
   "source": [
    "print(plt.style.available)\n",
    "plt.style.use('seaborn-paper')\n",
    "plot_name = '9.home_win_risk'\n",
    "results_sources = \"../../datasets/results\"\n",
    "source_name = \"/\"+plot_name+\".xlsx\"\n",
    "\n",
    "sheet = 'soccer'\n",
    "sheet = 'baseball'\n",
    "sheet = 'iceball'\n",
    "data = pd.read_excel(results_sources+source_name,sheet_name = sheet).apply(lambda x: round(x,5))\n",
    "data.plot.box()\n",
    "plt.xticks(fontsize=10)\n",
    "plt.yticks(fontsize=10)\n",
    "plt.ylim(0.55,0.8)\n",
    "plt.ylabel(\"Accuracy\",color = 'k',fontsize=15)\n",
    "# plt.ylabel(\"Mean Sum of Square\",color = 'k')\n",
    "plt.xlabel(\"Markets Type\",color = 'k',fontsize=15)\n",
    "plt.savefig(\"../../Diser/Plot/\"+plot_name+'_'+sheet+\".png\", bbox_inches=\"tight\")\n",
    "plt.savefig(\"../../Diser/Plot/\"+plot_name+'_'+sheet+\".pdf\", bbox_inches=\"tight\")\n",
    "\n",
    "# plt.show()"
   ]
  },
  {
   "cell_type": "code",
   "execution_count": 75,
   "metadata": {
    "ExecuteTime": {
     "end_time": "2018-08-18T13:06:55.876732Z",
     "start_time": "2018-08-18T13:06:54.497723Z"
    },
    "collapsed": false
   },
   "outputs": [
    {
     "data": {
      "text/plain": [
       "Text(0.5,0.98,'')"
      ]
     },
     "execution_count": 75,
     "metadata": {},
     "output_type": "execute_result"
    },
    {
     "data": {
      "image/png": "[encoded data removed]",
      "text/plain": [
       "<Figure size 460.8x316.8 with 3 Axes>"
      ]
     },
     "metadata": {},
     "output_type": "display_data"
    }
   ],
   "source": [
    "plt.style.use('seaborn-paper')\n",
    "plot_name = '9.home_win_risk'\n",
    "results_sources = \"../../datasets/results\"\n",
    "source_name = \"/\"+plot_name+\".xlsx\"\n",
    "\n",
    "sheet = 'games'\n",
    "# sheet = 'events'\n",
    "data = pd.read_excel(results_sources+source_name,sheet_name = sheet)\n",
    "\n",
    "axes  = data.boxplot(by='Markets Type',layout=(1,3),fontsize = 10,rot =20)\n",
    "fig = axes[0].get_figure()\n",
    "fig.suptitle('')\n",
    "\n",
    "plt.savefig(\"../../Diser/Plot/\"+plot_name+'_'+sheet+\".png\", bbox_inches=\"tight\")\n",
    "plt.savefig(\"../../Diser/Plot/\"+plot_name+'_'+sheet+\".pdf\", bbox_inches=\"tight\")\n",
    "\n",
    "# plt.show()"
   ]
  },
  {
   "cell_type": "code",
   "execution_count": 106,
   "metadata": {
    "ExecuteTime": {
     "end_time": "2018-08-18T00:35:22.522833Z",
     "start_time": "2018-08-18T00:35:21.144850Z"
    },
    "collapsed": false,
    "scrolled": true
   },
   "outputs": [
    {
     "name": "stdout",
     "output_type": "stream",
     "text": [
      "['ggplot', 'seaborn-talk', 'seaborn-notebook', 'seaborn-colorblind', 'dark_background', 'seaborn-deep', 'Solarize_Light2', '_classic_test', 'seaborn-dark-palette', 'fast', 'seaborn-ticks', 'classic', 'seaborn', 'seaborn-paper', 'grayscale', 'seaborn-muted', 'seaborn-poster', 'seaborn-white', 'seaborn-darkgrid', 'seaborn-whitegrid', 'seaborn-pastel', 'tableau-colorblind10', 'fivethirtyeight', 'bmh', 'seaborn-bright', 'seaborn-dark']\n"
     ]
    },
    {
     "data": {
      "text/plain": [
       "<BarContainer object of 3 artists>"
      ]
     },
     "execution_count": 106,
     "metadata": {},
     "output_type": "execute_result"
    },
    {
     "data": {
      "text/plain": [
       "<BarContainer object of 3 artists>"
      ]
     },
     "execution_count": 106,
     "metadata": {},
     "output_type": "execute_result"
    },
    {
     "data": {
      "text/plain": [
       "<BarContainer object of 3 artists>"
      ]
     },
     "execution_count": 106,
     "metadata": {},
     "output_type": "execute_result"
    },
    {
     "data": {
      "text/plain": [
       "<BarContainer object of 3 artists>"
      ]
     },
     "execution_count": 106,
     "metadata": {},
     "output_type": "execute_result"
    },
    {
     "data": {
      "text/plain": [
       "<BarContainer object of 3 artists>"
      ]
     },
     "execution_count": 106,
     "metadata": {},
     "output_type": "execute_result"
    },
    {
     "data": {
      "text/plain": [
       "<matplotlib.legend.Legend at 0x1a323082c50>"
      ]
     },
     "execution_count": 106,
     "metadata": {},
     "output_type": "execute_result"
    },
    {
     "data": {
      "text/plain": [
       "(array([0, 1, 2]), <a list of 3 Text xticklabel objects>)"
      ]
     },
     "execution_count": 106,
     "metadata": {},
     "output_type": "execute_result"
    },
    {
     "data": {
      "text/plain": [
       "(array([0. , 0.1, 0.2, 0.3, 0.4, 0.5, 0.6, 0.7, 0.8]),\n",
       " <a list of 9 Text yticklabel objects>)"
      ]
     },
     "execution_count": 106,
     "metadata": {},
     "output_type": "execute_result"
    },
    {
     "data": {
      "text/plain": [
       "(0.55, 0.7)"
      ]
     },
     "execution_count": 106,
     "metadata": {},
     "output_type": "execute_result"
    },
    {
     "data": {
      "text/plain": [
       "Text(0,0.5,'Accuracy')"
      ]
     },
     "execution_count": 106,
     "metadata": {},
     "output_type": "execute_result"
    },
    {
     "data": {
      "text/plain": [
       "Text(0.5,0,'Games Type')"
      ]
     },
     "execution_count": 106,
     "metadata": {},
     "output_type": "execute_result"
    },
    {
     "data": {
      "image/png": "[encoded data removed]",
      "text/plain": [
       "<Figure size 460.8x316.8 with 1 Axes>"
      ]
     },
     "metadata": {},
     "output_type": "display_data"
    }
   ],
   "source": [
    "print(plt.style.available)\n",
    "plt.style.use('seaborn-paper')\n",
    "plot_name = '10.home_win_accuracy'\n",
    "results_sources = \"../../datasets/results\"\n",
    "source_name = \"/\"+plot_name+\".xlsx\"\n",
    "\n",
    "\n",
    "size = 3\n",
    "x = np.arange(size)\n",
    "total_width, n = 0.8, 5\n",
    "width = total_width / n\n",
    "x = x - (total_width - width) / 2\n",
    "\n",
    "sheet = 'soccer_no_risk'\n",
    "data = pd.read_excel(results_sources+source_name,sheet_name = sheet).apply(lambda x: round(x,5))\n",
    "tag = data.columns.tolist()\n",
    "xt = data.index.tolist()\n",
    "# ax1 = plt.subplot(311,ylim=(-0.02,0.02))\n",
    "# plt.axis([-1, 3, 0.4, 0.6])\n",
    "ax1 = plt.subplot(111,xticks=[0, 1, 2],xticklabels=xt)\n",
    "# ax = plt.gca()  # 获取当前图像的坐标轴信息\n",
    "# ax.yaxis.get_major_formatter().set_powerlimits((0,1)) # 将坐标轴的base number设置为一位。\n",
    "plt.bar(x, data[tag[0]],  width=width, label=tag[0],ec='k', ls='-', lw=1,color='k')\n",
    "plt.bar(x + width, data[tag[1]], width=width, label=tag[1],hatch='/',ec='k', ls='-', lw=1,color=(0.75,0.75,0.75))\n",
    "plt.bar(x +2 * width, data[tag[2]], width=width, label=tag[2],hatch='-',ec='k', ls='-', lw=1,color=(0.5,0.5,0.5))\n",
    "plt.bar(x +3 * width, data[tag[3]], width=width, label=tag[3],hatch='\\\\',ec='k', ls='-', lw=1,color=(0.25,0.25,0.25))\n",
    "plt.bar(x +4 * width, data[tag[4]], width=width, label=tag[4],ec='k', ls='-', lw=1,color='w')\n",
    "plt.legend(bbox_to_anchor=(0,1.02,1,0.2), loc=\"lower left\",\n",
    "                mode=\"expand\", borderaxespad=0, ncol=5)\n",
    "\n",
    "\n",
    "plt.xticks(fontsize=10)\n",
    "plt.yticks(fontsize=10)\n",
    "plt.ylim(0.55,0.7)\n",
    "plt.ylabel(\"Accuracy\",color = 'k',fontsize=15)\n",
    "# plt.ylabel(\"Mean Sum of Square\",color = 'k')\n",
    "plt.xlabel(\"Games Type\",color = 'k',fontsize=15)\n",
    "plt.savefig(\"../../Diser/Plot/\"+plot_name+\".png\", bbox_inches=\"tight\")\n",
    "plt.savefig(\"../../Diser/Plot/\"+plot_name+\".pdf\", bbox_inches=\"tight\")\n",
    "\n",
    "# plt.show()"
   ]
  },
  {
   "cell_type": "code",
   "execution_count": 28,
   "metadata": {
    "ExecuteTime": {
     "end_time": "2018-08-18T11:11:26.953010Z",
     "start_time": "2018-08-18T11:11:26.113456Z"
    },
    "collapsed": false
   },
   "outputs": [
    {
     "name": "stdout",
     "output_type": "stream",
     "text": [
      "['fivethirtyeight', 'seaborn-bright', 'seaborn-whitegrid', 'seaborn-deep', 'ggplot', 'seaborn-paper', 'seaborn-dark-palette', 'seaborn-muted', 'grayscale', 'seaborn-talk', 'seaborn-dark', 'tableau-colorblind10', '_classic_test', 'seaborn', 'seaborn-poster', 'seaborn-notebook', 'fast', 'seaborn-colorblind', 'seaborn-ticks', 'dark_background', 'classic', 'seaborn-white', 'seaborn-darkgrid', 'seaborn-pastel', 'Solarize_Light2', 'bmh']\n"
     ]
    },
    {
     "data": {
      "text/plain": [
       "<matplotlib.axes._subplots.AxesSubplot at 0x20a7fe4f160>"
      ]
     },
     "execution_count": 28,
     "metadata": {},
     "output_type": "execute_result"
    },
    {
     "data": {
      "text/plain": [
       "(array([1, 2, 3]), <a list of 3 Text xticklabel objects>)"
      ]
     },
     "execution_count": 28,
     "metadata": {},
     "output_type": "execute_result"
    },
    {
     "data": {
      "text/plain": [
       "(array([-0.03 , -0.025, -0.02 , -0.015, -0.01 , -0.005,  0.   ,  0.005,\n",
       "         0.01 ,  0.015]), <a list of 10 Text yticklabel objects>)"
      ]
     },
     "execution_count": 28,
     "metadata": {},
     "output_type": "execute_result"
    },
    {
     "data": {
      "text/plain": [
       "(-0.08, 0.08)"
      ]
     },
     "execution_count": 28,
     "metadata": {},
     "output_type": "execute_result"
    },
    {
     "data": {
      "text/plain": [
       "Text(0,0.5,'Accuracy Error')"
      ]
     },
     "execution_count": 28,
     "metadata": {},
     "output_type": "execute_result"
    },
    {
     "data": {
      "text/plain": [
       "Text(0.5,0,'Markets Type')"
      ]
     },
     "execution_count": 28,
     "metadata": {},
     "output_type": "execute_result"
    },
    {
     "data": {
      "image/png": "[encoded data removed]",
      "text/plain": [
       "<Figure size 460.8x316.8 with 1 Axes>"
      ]
     },
     "metadata": {},
     "output_type": "display_data"
    }
   ],
   "source": [
    "print(plt.style.available)\n",
    "plt.style.use('seaborn-paper')\n",
    "plot_name = '11.home_win_bias'\n",
    "results_sources = \"../../datasets/results\"\n",
    "source_name = \"/\"+plot_name+\".xlsx\"\n",
    "\n",
    "# sheet = 'soccer_bias'\n",
    "# sheet = 'baseball_bias'\n",
    "# sheet = 'iceball_bias'\n",
    "sheet = 'soccer_markets'\n",
    "# sheet = 'baseball_markets'\n",
    "# sheet = 'iceball_markets'\n",
    "\n",
    "yrange = (-0.08,0.08)\n",
    "data = pd.read_excel(results_sources+source_name,sheet_name = sheet).apply(lambda x: round(x,5))\n",
    "data.plot.box()\n",
    "plt.xticks(fontsize=10)\n",
    "plt.yticks(fontsize=10)\n",
    "plt.ylim(yrange)\n",
    "plt.ylabel(\"Accuracy Error\",color = 'k',fontsize=15)\n",
    "# plt.ylabel(\"Mean Sum of Square\",color = 'k')\n",
    "plt.xlabel(\"Markets Type\",color = 'k',fontsize=15)\n",
    "plt.savefig(\"../../Diser/Plot/\"+plot_name+'_'+sheet+\".png\", bbox_inches=\"tight\")\n",
    "plt.savefig(\"../../Diser/Plot/\"+plot_name+'_'+sheet+\".pdf\", bbox_inches=\"tight\")\n",
    "\n",
    "# plt.show()"
   ]
  },
  {
   "cell_type": "code",
   "execution_count": 79,
   "metadata": {
    "ExecuteTime": {
     "end_time": "2018-08-18T13:27:46.189220Z",
     "start_time": "2018-08-18T13:27:44.335222Z"
    },
    "collapsed": false
   },
   "outputs": [
    {
     "data": {
      "text/plain": [
       "Text(0.5,0.98,'')"
      ]
     },
     "execution_count": 79,
     "metadata": {},
     "output_type": "execute_result"
    },
    {
     "data": {
      "image/png": "[encoded data removed]",
      "text/plain": [
       "<Figure size 460.8x316.8 with 3 Axes>"
      ]
     },
     "metadata": {},
     "output_type": "display_data"
    }
   ],
   "source": [
    "plt.style.use('seaborn-paper')\n",
    "plot_name = '11.home_win_bias'\n",
    "results_sources = \"../../datasets/results\"\n",
    "source_name = \"/\"+plot_name+\".xlsx\"\n",
    "\n",
    "# sheet = 'bias'\n",
    "# sheet = 'markets'\n",
    "sheet = 'markets-bias'\n",
    "data = pd.read_excel(results_sources+source_name,sheet_name = sheet)\n",
    "\n",
    "axes  = data.boxplot(by='Bias Type',layout=(1,3),fontsize = 10)\n",
    "fig = axes[0].get_figure()\n",
    "fig.suptitle('')\n",
    "\n",
    "plt.savefig(\"../../Diser/Plot/\"+plot_name+'_'+sheet+\".png\", bbox_inches=\"tight\")\n",
    "plt.savefig(\"../../Diser/Plot/\"+plot_name+'_'+sheet+\".pdf\", bbox_inches=\"tight\")\n"
   ]
  },
  {
   "cell_type": "code",
   "execution_count": 41,
   "metadata": {
    "ExecuteTime": {
     "end_time": "2018-08-18T12:02:08.392256Z",
     "start_time": "2018-08-18T12:02:07.684255Z"
    },
    "collapsed": false
   },
   "outputs": [
    {
     "name": "stdout",
     "output_type": "stream",
     "text": [
      "['fivethirtyeight', 'seaborn-bright', 'seaborn-whitegrid', 'seaborn-deep', 'ggplot', 'seaborn-paper', 'seaborn-dark-palette', 'seaborn-muted', 'grayscale', 'seaborn-talk', 'seaborn-dark', 'tableau-colorblind10', '_classic_test', 'seaborn', 'seaborn-poster', 'seaborn-notebook', 'fast', 'seaborn-colorblind', 'seaborn-ticks', 'dark_background', 'classic', 'seaborn-white', 'seaborn-darkgrid', 'seaborn-pastel', 'Solarize_Light2', 'bmh']\n"
     ]
    },
    {
     "data": {
      "text/plain": [
       "<matplotlib.axes._subplots.AxesSubplot at 0x20a0147e630>"
      ]
     },
     "execution_count": 41,
     "metadata": {},
     "output_type": "execute_result"
    },
    {
     "data": {
      "text/plain": [
       "(array([1, 2, 3]), <a list of 3 Text xticklabel objects>)"
      ]
     },
     "execution_count": 41,
     "metadata": {},
     "output_type": "execute_result"
    },
    {
     "data": {
      "text/plain": [
       "(array([0.02 , 0.025, 0.03 , 0.035, 0.04 , 0.045, 0.05 , 0.055]),\n",
       " <a list of 8 Text yticklabel objects>)"
      ]
     },
     "execution_count": 41,
     "metadata": {},
     "output_type": "execute_result"
    },
    {
     "data": {
      "text/plain": [
       "Text(0,0.5,'Mean Sum of Square')"
      ]
     },
     "execution_count": 41,
     "metadata": {},
     "output_type": "execute_result"
    },
    {
     "data": {
      "text/plain": [
       "Text(0.5,0,'Games Type')"
      ]
     },
     "execution_count": 41,
     "metadata": {},
     "output_type": "execute_result"
    },
    {
     "data": {
      "image/png": "[encoded data removed]",
      "text/plain": [
       "<Figure size 460.8x316.8 with 1 Axes>"
      ]
     },
     "metadata": {},
     "output_type": "display_data"
    }
   ],
   "source": [
    "print(plt.style.available)\n",
    "plt.style.use('seaborn-paper')\n",
    "plot_name = '12.price_regression'\n",
    "results_sources = \"../../datasets/results\"\n",
    "source_name = \"/\"+plot_name+\".xlsx\"\n",
    "\n",
    "sheet = '2nd period'\n",
    "sheet = '3rd period'\n",
    "yrange = (-0.08,0.08)\n",
    "data = pd.read_excel(results_sources+source_name,sheet_name = sheet).apply(lambda x: round(x,5))\n",
    "data.plot.box()\n",
    "plt.xticks(fontsize=10)\n",
    "plt.yticks(fontsize=10)\n",
    "# plt.ylim(yrange)\n",
    "plt.ylabel(\"Mean Sum of Square\",color = 'k',fontsize=15)\n",
    "plt.xlabel(\"Games Type\",color = 'k',fontsize=15)\n",
    "plt.savefig(\"../../Diser/Plot/\"+plot_name+'_'+sheet+\".png\", bbox_inches=\"tight\")\n",
    "plt.savefig(\"../../Diser/Plot/\"+plot_name+'_'+sheet+\".pdf\", bbox_inches=\"tight\")\n",
    "\n",
    "# plt.show()"
   ]
  },
  {
   "cell_type": "code",
   "execution_count": 67,
   "metadata": {
    "ExecuteTime": {
     "end_time": "2018-08-18T12:43:24.075415Z",
     "start_time": "2018-08-18T12:43:22.508400Z"
    },
    "collapsed": false
   },
   "outputs": [
    {
     "name": "stdout",
     "output_type": "stream",
     "text": [
      "['fivethirtyeight', 'seaborn-bright', 'seaborn-whitegrid', 'seaborn-deep', 'ggplot', 'seaborn-paper', 'seaborn-dark-palette', 'seaborn-muted', 'grayscale', 'seaborn-talk', 'seaborn-dark', 'tableau-colorblind10', '_classic_test', 'seaborn', 'seaborn-poster', 'seaborn-notebook', 'fast', 'seaborn-colorblind', 'seaborn-ticks', 'dark_background', 'classic', 'seaborn-white', 'seaborn-darkgrid', 'seaborn-pastel', 'Solarize_Light2', 'bmh']\n"
     ]
    },
    {
     "data": {
      "text/plain": [
       "Text(0.5,0.98,'')"
      ]
     },
     "execution_count": 67,
     "metadata": {},
     "output_type": "execute_result"
    },
    {
     "data": {
      "image/png": "[encoded data removed]",
      "text/plain": [
       "<Figure size 460.8x316.8 with 3 Axes>"
      ]
     },
     "metadata": {},
     "output_type": "display_data"
    }
   ],
   "source": [
    "print(plt.style.available)\n",
    "plt.style.use('seaborn-paper')\n",
    "plot_name = '13.price_regression_bias'\n",
    "results_sources = \"../../datasets/results\"\n",
    "source_name = \"/\"+plot_name+\".xlsx\"\n",
    "\n",
    "sheet = 'games'\n",
    "# sheet = 'events'\n",
    "data = pd.read_excel(results_sources+source_name,sheet_name = sheet)\n",
    "\n",
    "axes  = data.boxplot(by='Bias Type',layout=(1,3),fontsize = 10)\n",
    "fig = axes[0].get_figure()\n",
    "fig.suptitle('')\n",
    "\n",
    "plt.savefig(\"../../Diser/Plot/\"+plot_name+'_'+sheet+\".png\", bbox_inches=\"tight\")\n",
    "plt.savefig(\"../../Diser/Plot/\"+plot_name+'_'+sheet+\".pdf\", bbox_inches=\"tight\")\n",
    "\n",
    "# plt.show()"
   ]
  },
  {
   "cell_type": "code",
   "execution_count": 69,
   "metadata": {
    "ExecuteTime": {
     "end_time": "2018-08-18T12:51:45.713094Z",
     "start_time": "2018-08-18T12:51:44.496505Z"
    },
    "collapsed": false
   },
   "outputs": [
    {
     "data": {
      "text/plain": [
       "Text(0.5,0.98,'')"
      ]
     },
     "execution_count": 69,
     "metadata": {},
     "output_type": "execute_result"
    },
    {
     "data": {
      "image/png": "[encoded data removed]",
      "text/plain": [
       "<Figure size 460.8x316.8 with 3 Axes>"
      ]
     },
     "metadata": {},
     "output_type": "display_data"
    }
   ],
   "source": [
    "plt.style.use('seaborn-paper')\n",
    "plot_name = '14.price_direction_accuracy'\n",
    "results_sources = \"../../datasets/results\"\n",
    "source_name = \"/\"+plot_name+\".xlsx\"\n",
    "\n",
    "sheet = 'acc'\n",
    "# sheet = 'events'\n",
    "data = pd.read_excel(results_sources+source_name,sheet_name = sheet)\n",
    "\n",
    "axes  = data.boxplot(by='Events Type',layout=(1,3),fontsize = 10)\n",
    "fig = axes[0].get_figure()\n",
    "fig.suptitle('')\n",
    "\n",
    "plt.savefig(\"../../Diser/Plot/\"+plot_name+'_'+sheet+\".png\", bbox_inches=\"tight\")\n",
    "plt.savefig(\"../../Diser/Plot/\"+plot_name+'_'+sheet+\".pdf\", bbox_inches=\"tight\")\n"
   ]
  },
  {
   "cell_type": "code",
   "execution_count": 72,
   "metadata": {
    "ExecuteTime": {
     "end_time": "2018-08-18T12:59:01.193609Z",
     "start_time": "2018-08-18T12:59:00.048587Z"
    },
    "collapsed": false
   },
   "outputs": [
    {
     "data": {
      "text/plain": [
       "Text(0.5,0.98,'')"
      ]
     },
     "execution_count": 72,
     "metadata": {},
     "output_type": "execute_result"
    },
    {
     "data": {
      "image/png": "[encoded data removed]",
      "text/plain": [
       "<Figure size 460.8x316.8 with 2 Axes>"
      ]
     },
     "metadata": {},
     "output_type": "display_data"
    }
   ],
   "source": [
    "plt.style.use('seaborn-paper')\n",
    "plot_name = '14.price_direction_accuracy'\n",
    "results_sources = \"../../datasets/results\"\n",
    "source_name = \"/\"+plot_name+\".xlsx\"\n",
    "\n",
    "# sheet = 'games'\n",
    "sheet = 'events'\n",
    "data = pd.read_excel(results_sources+source_name,sheet_name = sheet)\n",
    "\n",
    "axes  = data.boxplot(by='Bias Type',layout=(1,2),fontsize = 10)\n",
    "fig = axes[0].get_figure()\n",
    "fig.suptitle('')\n",
    "\n",
    "plt.savefig(\"../../Diser/Plot/\"+plot_name+'_'+sheet+\".png\", bbox_inches=\"tight\")\n",
    "plt.savefig(\"../../Diser/Plot/\"+plot_name+'_'+sheet+\".pdf\", bbox_inches=\"tight\")\n",
    "\n",
    "# plt.show()"
   ]
  }
 ],
 "metadata": {
  "kernelspec": {
   "display_name": "Python 3",
   "language": "python",
   "name": "python3"
  },
  "language_info": {
   "codemirror_mode": {
    "name": "ipython",
    "version": 3
   },
   "file_extension": ".py",
   "mimetype": "text/x-python",
   "name": "python",
   "nbconvert_exporter": "python",
   "pygments_lexer": "ipython3",
   "version": "3.5.4"
  },
  "varInspector": {
   "cols": {
    "lenName": 16,
    "lenType": 16,
    "lenVar": 40
   },
   "kernels_config": {
    "python": {
     "delete_cmd_postfix": "",
     "delete_cmd_prefix": "del ",
     "library": "var_list.py",
     "varRefreshCmd": "print(var_dic_list())"
    },
    "r": {
     "delete_cmd_postfix": ") ",
     "delete_cmd_prefix": "rm(",
     "library": "var_list.r",
     "varRefreshCmd": "cat(var_dic_list()) "
    }
   },
   "types_to_exclude": [
    "module",
    "function",
    "builtin_function_or_method",
    "instance",
    "_Feature"
   ],
   "window_display": false
  }
 },
 "nbformat": 4,
 "nbformat_minor": 2
}
